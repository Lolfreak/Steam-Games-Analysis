{
 "cells": [
  {
   "cell_type": "markdown",
   "id": "33d5a61c",
   "metadata": {},
   "source": [
    "### Essential Libraries\n",
    "Import the essential Python libraries.\n",
    "\n",
    "NumPy : Library for Numeric Computations in Python\n",
    "\n",
    "Pandas : Library for Data Acquisition and Preparation\n",
    "\n",
    "Matplotlib : Low-level library for Data Visualization\n",
    "\n",
    "Seaborn : Higher-level library for Data Visualization"
   ]
  },
  {
   "cell_type": "code",
   "execution_count": 157,
   "id": "0ddecab5",
   "metadata": {},
   "outputs": [],
   "source": [
    "# Basic Libraries\n",
    "import numpy as np\n",
    "import pandas as pd\n",
    "import seaborn as sb\n",
    "import matplotlib.pyplot as plt # we only need pyplot\n",
    "sb.set() # set the default Seaborn style for graphics\n",
    "\n",
    "\n",
    "import re\n",
    "import plotly.figure_factory as ff\n",
    "import plotly.express as px"
   ]
  },
  {
   "cell_type": "code",
   "execution_count": 158,
   "id": "0ac81b2e",
   "metadata": {},
   "outputs": [
    {
     "data": {
      "text/html": [
       "<div>\n",
       "<style scoped>\n",
       "    .dataframe tbody tr th:only-of-type {\n",
       "        vertical-align: middle;\n",
       "    }\n",
       "\n",
       "    .dataframe tbody tr th {\n",
       "        vertical-align: top;\n",
       "    }\n",
       "\n",
       "    .dataframe thead th {\n",
       "        text-align: right;\n",
       "    }\n",
       "</style>\n",
       "<table border=\"1\" class=\"dataframe\">\n",
       "  <thead>\n",
       "    <tr style=\"text-align: right;\">\n",
       "      <th></th>\n",
       "      <th>Unnamed: 0</th>\n",
       "      <th>name</th>\n",
       "      <th>genres</th>\n",
       "      <th>achievements</th>\n",
       "      <th>positive_ratings</th>\n",
       "      <th>negative_ratings</th>\n",
       "      <th>average_playtime</th>\n",
       "      <th>median_playtime</th>\n",
       "      <th>owners</th>\n",
       "      <th>price</th>\n",
       "      <th>...</th>\n",
       "      <th>SteamVR Collectibles</th>\n",
       "      <th>Online Co-op</th>\n",
       "      <th>Shared/Split Screen</th>\n",
       "      <th>Local Co-op</th>\n",
       "      <th>MMO</th>\n",
       "      <th>VR Support</th>\n",
       "      <th>Mods</th>\n",
       "      <th>Mods (require HL2)</th>\n",
       "      <th>Steam Turn Notifications</th>\n",
       "      <th>age</th>\n",
       "    </tr>\n",
       "  </thead>\n",
       "  <tbody>\n",
       "    <tr>\n",
       "      <th>0</th>\n",
       "      <td>0</td>\n",
       "      <td>Counter-Strike</td>\n",
       "      <td>Action</td>\n",
       "      <td>0</td>\n",
       "      <td>124534</td>\n",
       "      <td>3339</td>\n",
       "      <td>17612</td>\n",
       "      <td>317</td>\n",
       "      <td>15000000</td>\n",
       "      <td>7.19</td>\n",
       "      <td>...</td>\n",
       "      <td>0</td>\n",
       "      <td>0</td>\n",
       "      <td>0</td>\n",
       "      <td>0</td>\n",
       "      <td>0</td>\n",
       "      <td>0</td>\n",
       "      <td>0</td>\n",
       "      <td>0</td>\n",
       "      <td>0</td>\n",
       "      <td>8461</td>\n",
       "    </tr>\n",
       "    <tr>\n",
       "      <th>1</th>\n",
       "      <td>1</td>\n",
       "      <td>Team Fortress Classic</td>\n",
       "      <td>Action</td>\n",
       "      <td>0</td>\n",
       "      <td>3318</td>\n",
       "      <td>633</td>\n",
       "      <td>277</td>\n",
       "      <td>62</td>\n",
       "      <td>7500000</td>\n",
       "      <td>3.99</td>\n",
       "      <td>...</td>\n",
       "      <td>0</td>\n",
       "      <td>0</td>\n",
       "      <td>0</td>\n",
       "      <td>0</td>\n",
       "      <td>0</td>\n",
       "      <td>0</td>\n",
       "      <td>0</td>\n",
       "      <td>0</td>\n",
       "      <td>0</td>\n",
       "      <td>9041</td>\n",
       "    </tr>\n",
       "    <tr>\n",
       "      <th>2</th>\n",
       "      <td>2</td>\n",
       "      <td>Day of Defeat</td>\n",
       "      <td>Action</td>\n",
       "      <td>0</td>\n",
       "      <td>3416</td>\n",
       "      <td>398</td>\n",
       "      <td>187</td>\n",
       "      <td>34</td>\n",
       "      <td>7500000</td>\n",
       "      <td>3.99</td>\n",
       "      <td>...</td>\n",
       "      <td>0</td>\n",
       "      <td>0</td>\n",
       "      <td>0</td>\n",
       "      <td>0</td>\n",
       "      <td>0</td>\n",
       "      <td>0</td>\n",
       "      <td>0</td>\n",
       "      <td>0</td>\n",
       "      <td>0</td>\n",
       "      <td>7550</td>\n",
       "    </tr>\n",
       "    <tr>\n",
       "      <th>3</th>\n",
       "      <td>3</td>\n",
       "      <td>Deathmatch Classic</td>\n",
       "      <td>Action</td>\n",
       "      <td>0</td>\n",
       "      <td>1273</td>\n",
       "      <td>267</td>\n",
       "      <td>258</td>\n",
       "      <td>184</td>\n",
       "      <td>7500000</td>\n",
       "      <td>3.99</td>\n",
       "      <td>...</td>\n",
       "      <td>0</td>\n",
       "      <td>0</td>\n",
       "      <td>0</td>\n",
       "      <td>0</td>\n",
       "      <td>0</td>\n",
       "      <td>0</td>\n",
       "      <td>0</td>\n",
       "      <td>0</td>\n",
       "      <td>0</td>\n",
       "      <td>8249</td>\n",
       "    </tr>\n",
       "    <tr>\n",
       "      <th>4</th>\n",
       "      <td>4</td>\n",
       "      <td>Half-Life: Opposing Force</td>\n",
       "      <td>Action</td>\n",
       "      <td>0</td>\n",
       "      <td>5250</td>\n",
       "      <td>288</td>\n",
       "      <td>624</td>\n",
       "      <td>415</td>\n",
       "      <td>7500000</td>\n",
       "      <td>3.99</td>\n",
       "      <td>...</td>\n",
       "      <td>0</td>\n",
       "      <td>0</td>\n",
       "      <td>0</td>\n",
       "      <td>0</td>\n",
       "      <td>0</td>\n",
       "      <td>0</td>\n",
       "      <td>0</td>\n",
       "      <td>0</td>\n",
       "      <td>0</td>\n",
       "      <td>8827</td>\n",
       "    </tr>\n",
       "    <tr>\n",
       "      <th>...</th>\n",
       "      <td>...</td>\n",
       "      <td>...</td>\n",
       "      <td>...</td>\n",
       "      <td>...</td>\n",
       "      <td>...</td>\n",
       "      <td>...</td>\n",
       "      <td>...</td>\n",
       "      <td>...</td>\n",
       "      <td>...</td>\n",
       "      <td>...</td>\n",
       "      <td>...</td>\n",
       "      <td>...</td>\n",
       "      <td>...</td>\n",
       "      <td>...</td>\n",
       "      <td>...</td>\n",
       "      <td>...</td>\n",
       "      <td>...</td>\n",
       "      <td>...</td>\n",
       "      <td>...</td>\n",
       "      <td>...</td>\n",
       "      <td>...</td>\n",
       "    </tr>\n",
       "    <tr>\n",
       "      <th>26559</th>\n",
       "      <td>27070</td>\n",
       "      <td>Room of Pandora</td>\n",
       "      <td>Adventure;Casual;Indie</td>\n",
       "      <td>7</td>\n",
       "      <td>3</td>\n",
       "      <td>0</td>\n",
       "      <td>0</td>\n",
       "      <td>0</td>\n",
       "      <td>10000</td>\n",
       "      <td>2.09</td>\n",
       "      <td>...</td>\n",
       "      <td>0</td>\n",
       "      <td>0</td>\n",
       "      <td>0</td>\n",
       "      <td>0</td>\n",
       "      <td>0</td>\n",
       "      <td>0</td>\n",
       "      <td>0</td>\n",
       "      <td>0</td>\n",
       "      <td>0</td>\n",
       "      <td>1713</td>\n",
       "    </tr>\n",
       "    <tr>\n",
       "      <th>26560</th>\n",
       "      <td>27071</td>\n",
       "      <td>Cyber Gun</td>\n",
       "      <td>Action;Adventure;Indie</td>\n",
       "      <td>0</td>\n",
       "      <td>8</td>\n",
       "      <td>1</td>\n",
       "      <td>0</td>\n",
       "      <td>0</td>\n",
       "      <td>10000</td>\n",
       "      <td>1.69</td>\n",
       "      <td>...</td>\n",
       "      <td>0</td>\n",
       "      <td>0</td>\n",
       "      <td>0</td>\n",
       "      <td>0</td>\n",
       "      <td>0</td>\n",
       "      <td>0</td>\n",
       "      <td>0</td>\n",
       "      <td>0</td>\n",
       "      <td>0</td>\n",
       "      <td>1714</td>\n",
       "    </tr>\n",
       "    <tr>\n",
       "      <th>26561</th>\n",
       "      <td>27072</td>\n",
       "      <td>Super Star Blast</td>\n",
       "      <td>Action;Casual;Indie</td>\n",
       "      <td>24</td>\n",
       "      <td>0</td>\n",
       "      <td>1</td>\n",
       "      <td>0</td>\n",
       "      <td>0</td>\n",
       "      <td>10000</td>\n",
       "      <td>3.99</td>\n",
       "      <td>...</td>\n",
       "      <td>0</td>\n",
       "      <td>0</td>\n",
       "      <td>1</td>\n",
       "      <td>0</td>\n",
       "      <td>0</td>\n",
       "      <td>0</td>\n",
       "      <td>0</td>\n",
       "      <td>0</td>\n",
       "      <td>0</td>\n",
       "      <td>1713</td>\n",
       "    </tr>\n",
       "    <tr>\n",
       "      <th>26562</th>\n",
       "      <td>27073</td>\n",
       "      <td>New Yankee 7: Deer Hunters</td>\n",
       "      <td>Adventure;Casual;Indie</td>\n",
       "      <td>0</td>\n",
       "      <td>2</td>\n",
       "      <td>0</td>\n",
       "      <td>0</td>\n",
       "      <td>0</td>\n",
       "      <td>10000</td>\n",
       "      <td>5.19</td>\n",
       "      <td>...</td>\n",
       "      <td>0</td>\n",
       "      <td>0</td>\n",
       "      <td>0</td>\n",
       "      <td>0</td>\n",
       "      <td>0</td>\n",
       "      <td>0</td>\n",
       "      <td>0</td>\n",
       "      <td>0</td>\n",
       "      <td>0</td>\n",
       "      <td>1720</td>\n",
       "    </tr>\n",
       "    <tr>\n",
       "      <th>26563</th>\n",
       "      <td>27074</td>\n",
       "      <td>Rune Lord</td>\n",
       "      <td>Adventure;Casual;Indie</td>\n",
       "      <td>0</td>\n",
       "      <td>4</td>\n",
       "      <td>0</td>\n",
       "      <td>0</td>\n",
       "      <td>0</td>\n",
       "      <td>10000</td>\n",
       "      <td>5.19</td>\n",
       "      <td>...</td>\n",
       "      <td>0</td>\n",
       "      <td>0</td>\n",
       "      <td>0</td>\n",
       "      <td>0</td>\n",
       "      <td>0</td>\n",
       "      <td>0</td>\n",
       "      <td>0</td>\n",
       "      <td>0</td>\n",
       "      <td>0</td>\n",
       "      <td>1713</td>\n",
       "    </tr>\n",
       "  </tbody>\n",
       "</table>\n",
       "<p>26564 rows × 40 columns</p>\n",
       "</div>"
      ],
      "text/plain": [
       "       Unnamed: 0                        name                  genres  \\\n",
       "0               0              Counter-Strike                  Action   \n",
       "1               1       Team Fortress Classic                  Action   \n",
       "2               2               Day of Defeat                  Action   \n",
       "3               3          Deathmatch Classic                  Action   \n",
       "4               4   Half-Life: Opposing Force                  Action   \n",
       "...           ...                         ...                     ...   \n",
       "26559       27070             Room of Pandora  Adventure;Casual;Indie   \n",
       "26560       27071                   Cyber Gun  Action;Adventure;Indie   \n",
       "26561       27072            Super Star Blast     Action;Casual;Indie   \n",
       "26562       27073  New Yankee 7: Deer Hunters  Adventure;Casual;Indie   \n",
       "26563       27074                   Rune Lord  Adventure;Casual;Indie   \n",
       "\n",
       "       achievements  positive_ratings  negative_ratings  average_playtime  \\\n",
       "0                 0            124534              3339             17612   \n",
       "1                 0              3318               633               277   \n",
       "2                 0              3416               398               187   \n",
       "3                 0              1273               267               258   \n",
       "4                 0              5250               288               624   \n",
       "...             ...               ...               ...               ...   \n",
       "26559             7                 3                 0                 0   \n",
       "26560             0                 8                 1                 0   \n",
       "26561            24                 0                 1                 0   \n",
       "26562             0                 2                 0                 0   \n",
       "26563             0                 4                 0                 0   \n",
       "\n",
       "       median_playtime    owners  price  ...  SteamVR Collectibles  \\\n",
       "0                  317  15000000   7.19  ...                     0   \n",
       "1                   62   7500000   3.99  ...                     0   \n",
       "2                   34   7500000   3.99  ...                     0   \n",
       "3                  184   7500000   3.99  ...                     0   \n",
       "4                  415   7500000   3.99  ...                     0   \n",
       "...                ...       ...    ...  ...                   ...   \n",
       "26559                0     10000   2.09  ...                     0   \n",
       "26560                0     10000   1.69  ...                     0   \n",
       "26561                0     10000   3.99  ...                     0   \n",
       "26562                0     10000   5.19  ...                     0   \n",
       "26563                0     10000   5.19  ...                     0   \n",
       "\n",
       "       Online Co-op  Shared/Split Screen  Local Co-op  MMO  VR Support  Mods  \\\n",
       "0                 0                    0            0    0           0     0   \n",
       "1                 0                    0            0    0           0     0   \n",
       "2                 0                    0            0    0           0     0   \n",
       "3                 0                    0            0    0           0     0   \n",
       "4                 0                    0            0    0           0     0   \n",
       "...             ...                  ...          ...  ...         ...   ...   \n",
       "26559             0                    0            0    0           0     0   \n",
       "26560             0                    0            0    0           0     0   \n",
       "26561             0                    1            0    0           0     0   \n",
       "26562             0                    0            0    0           0     0   \n",
       "26563             0                    0            0    0           0     0   \n",
       "\n",
       "       Mods (require HL2)  Steam Turn Notifications   age  \n",
       "0                       0                         0  8461  \n",
       "1                       0                         0  9041  \n",
       "2                       0                         0  7550  \n",
       "3                       0                         0  8249  \n",
       "4                       0                         0  8827  \n",
       "...                   ...                       ...   ...  \n",
       "26559                   0                         0  1713  \n",
       "26560                   0                         0  1714  \n",
       "26561                   0                         0  1713  \n",
       "26562                   0                         0  1720  \n",
       "26563                   0                         0  1713  \n",
       "\n",
       "[26564 rows x 40 columns]"
      ]
     },
     "execution_count": 158,
     "metadata": {},
     "output_type": "execute_result"
    }
   ],
   "source": [
    "df = pd.read_csv('steam_cleaned.csv')\n",
    "df"
   ]
  },
  {
   "cell_type": "markdown",
   "id": "f504d129",
   "metadata": {},
   "source": [
    "Our question is : is single or multiplayer game more popular ?\n",
    "\n",
    "For the response variable, we will use average_playtime."
   ]
  },
  {
   "cell_type": "code",
   "execution_count": 159,
   "id": "f884d1a9",
   "metadata": {},
   "outputs": [
    {
     "name": "stdout",
     "output_type": "stream",
     "text": [
      "<class 'pandas.core.frame.DataFrame'>\n",
      "RangeIndex: 26564 entries, 0 to 26563\n",
      "Data columns (total 40 columns):\n",
      " #   Column                      Non-Null Count  Dtype  \n",
      "---  ------                      --------------  -----  \n",
      " 0   Unnamed: 0                  26564 non-null  int64  \n",
      " 1   name                        26564 non-null  object \n",
      " 2   genres                      26564 non-null  object \n",
      " 3   achievements                26564 non-null  int64  \n",
      " 4   positive_ratings            26564 non-null  int64  \n",
      " 5   negative_ratings            26564 non-null  int64  \n",
      " 6   average_playtime            26564 non-null  int64  \n",
      " 7   median_playtime             26564 non-null  int64  \n",
      " 8   owners                      26564 non-null  int64  \n",
      " 9   price                       26564 non-null  float64\n",
      " 10  Multi-player                26564 non-null  int64  \n",
      " 11  Online Multi-Player         26564 non-null  int64  \n",
      " 12  Local Multi-Player          26564 non-null  int64  \n",
      " 13  Valve Anti-Cheat enabled    26564 non-null  int64  \n",
      " 14  Single-player               26564 non-null  int64  \n",
      " 15  Steam Cloud                 26564 non-null  int64  \n",
      " 16  Steam Achievements          26564 non-null  int64  \n",
      " 17  Steam Trading Cards         26564 non-null  int64  \n",
      " 18  Captions available          26564 non-null  int64  \n",
      " 19  Partial Controller Support  26564 non-null  int64  \n",
      " 20  Includes Source SDK         26564 non-null  int64  \n",
      " 21  Cross-Platform Multiplayer  26564 non-null  int64  \n",
      " 22  Stats                       26564 non-null  int64  \n",
      " 23  Commentary available        26564 non-null  int64  \n",
      " 24  Includes level editor       26564 non-null  int64  \n",
      " 25  Steam Workshop              26564 non-null  int64  \n",
      " 26  In-App Purchases            26564 non-null  int64  \n",
      " 27  Co-op                       26564 non-null  int64  \n",
      " 28  Full controller support     26564 non-null  int64  \n",
      " 29  Steam Leaderboards          26564 non-null  int64  \n",
      " 30  SteamVR Collectibles        26564 non-null  int64  \n",
      " 31  Online Co-op                26564 non-null  int64  \n",
      " 32  Shared/Split Screen         26564 non-null  int64  \n",
      " 33  Local Co-op                 26564 non-null  int64  \n",
      " 34  MMO                         26564 non-null  int64  \n",
      " 35  VR Support                  26564 non-null  int64  \n",
      " 36  Mods                        26564 non-null  int64  \n",
      " 37  Mods (require HL2)          26564 non-null  int64  \n",
      " 38  Steam Turn Notifications    26564 non-null  int64  \n",
      " 39  age                         26564 non-null  int64  \n",
      "dtypes: float64(1), int64(37), object(2)\n",
      "memory usage: 8.1+ MB\n"
     ]
    }
   ],
   "source": [
    "df.info()"
   ]
  },
  {
   "cell_type": "markdown",
   "id": "b0940e01",
   "metadata": {},
   "source": [
    "Drop the unnamed first column which was added automatically during export of cleaned data file."
   ]
  },
  {
   "cell_type": "code",
   "execution_count": 160,
   "id": "3d375e6e",
   "metadata": {},
   "outputs": [],
   "source": [
    "df = df.drop(df.columns[0], axis=1)"
   ]
  },
  {
   "cell_type": "code",
   "execution_count": 161,
   "id": "36f1d297",
   "metadata": {},
   "outputs": [
    {
     "name": "stdout",
     "output_type": "stream",
     "text": [
      "<class 'pandas.core.frame.DataFrame'>\n",
      "RangeIndex: 26564 entries, 0 to 26563\n",
      "Data columns (total 39 columns):\n",
      " #   Column                      Non-Null Count  Dtype  \n",
      "---  ------                      --------------  -----  \n",
      " 0   name                        26564 non-null  object \n",
      " 1   genres                      26564 non-null  object \n",
      " 2   achievements                26564 non-null  int64  \n",
      " 3   positive_ratings            26564 non-null  int64  \n",
      " 4   negative_ratings            26564 non-null  int64  \n",
      " 5   average_playtime            26564 non-null  int64  \n",
      " 6   median_playtime             26564 non-null  int64  \n",
      " 7   owners                      26564 non-null  int64  \n",
      " 8   price                       26564 non-null  float64\n",
      " 9   Multi-player                26564 non-null  int64  \n",
      " 10  Online Multi-Player         26564 non-null  int64  \n",
      " 11  Local Multi-Player          26564 non-null  int64  \n",
      " 12  Valve Anti-Cheat enabled    26564 non-null  int64  \n",
      " 13  Single-player               26564 non-null  int64  \n",
      " 14  Steam Cloud                 26564 non-null  int64  \n",
      " 15  Steam Achievements          26564 non-null  int64  \n",
      " 16  Steam Trading Cards         26564 non-null  int64  \n",
      " 17  Captions available          26564 non-null  int64  \n",
      " 18  Partial Controller Support  26564 non-null  int64  \n",
      " 19  Includes Source SDK         26564 non-null  int64  \n",
      " 20  Cross-Platform Multiplayer  26564 non-null  int64  \n",
      " 21  Stats                       26564 non-null  int64  \n",
      " 22  Commentary available        26564 non-null  int64  \n",
      " 23  Includes level editor       26564 non-null  int64  \n",
      " 24  Steam Workshop              26564 non-null  int64  \n",
      " 25  In-App Purchases            26564 non-null  int64  \n",
      " 26  Co-op                       26564 non-null  int64  \n",
      " 27  Full controller support     26564 non-null  int64  \n",
      " 28  Steam Leaderboards          26564 non-null  int64  \n",
      " 29  SteamVR Collectibles        26564 non-null  int64  \n",
      " 30  Online Co-op                26564 non-null  int64  \n",
      " 31  Shared/Split Screen         26564 non-null  int64  \n",
      " 32  Local Co-op                 26564 non-null  int64  \n",
      " 33  MMO                         26564 non-null  int64  \n",
      " 34  VR Support                  26564 non-null  int64  \n",
      " 35  Mods                        26564 non-null  int64  \n",
      " 36  Mods (require HL2)          26564 non-null  int64  \n",
      " 37  Steam Turn Notifications    26564 non-null  int64  \n",
      " 38  age                         26564 non-null  int64  \n",
      "dtypes: float64(1), int64(36), object(2)\n",
      "memory usage: 7.9+ MB\n"
     ]
    }
   ],
   "source": [
    "df.info()"
   ]
  },
  {
   "cell_type": "markdown",
   "id": "02ad5319",
   "metadata": {},
   "source": []
  },
  {
   "cell_type": "code",
   "execution_count": 162,
   "id": "7d6c2653",
   "metadata": {},
   "outputs": [
    {
     "name": "stdout",
     "output_type": "stream",
     "text": [
      "name : 26523\n",
      "genres : 1528\n",
      "achievements : 409\n",
      "positive_ratings : 2789\n",
      "negative_ratings : 1489\n",
      "average_playtime : 1337\n",
      "median_playtime : 1302\n",
      "owners : 13\n",
      "price : 278\n",
      "Multi-player : 2\n",
      "Online Multi-Player : 2\n",
      "Local Multi-Player : 2\n",
      "Valve Anti-Cheat enabled : 2\n",
      "Single-player : 2\n",
      "Steam Cloud : 2\n",
      "Steam Achievements : 2\n",
      "Steam Trading Cards : 2\n",
      "Captions available : 2\n",
      "Partial Controller Support : 2\n",
      "Includes Source SDK : 2\n",
      "Cross-Platform Multiplayer : 2\n",
      "Stats : 2\n",
      "Commentary available : 2\n",
      "Includes level editor : 2\n",
      "Steam Workshop : 2\n",
      "In-App Purchases : 2\n",
      "Co-op : 2\n",
      "Full controller support : 2\n",
      "Steam Leaderboards : 2\n",
      "SteamVR Collectibles : 2\n",
      "Online Co-op : 2\n",
      "Shared/Split Screen : 2\n",
      "Local Co-op : 2\n",
      "MMO : 2\n",
      "VR Support : 2\n",
      "Mods : 2\n",
      "Mods (require HL2) : 2\n",
      "Steam Turn Notifications : 2\n",
      "age : 2619\n"
     ]
    }
   ],
   "source": [
    "for col in df:\n",
    "    print(col, \":\", df[col].nunique())"
   ]
  },
  {
   "cell_type": "markdown",
   "id": "1a66e4d0",
   "metadata": {},
   "source": [
    "### Categories"
   ]
  },
  {
   "cell_type": "code",
   "execution_count": 163,
   "id": "9121670e",
   "metadata": {},
   "outputs": [],
   "source": [
    "category_columns = ['categories_Multi-player', 'categories_Online Multi-Player', 'categories_Local Multi-Player', 'categories_Valve Anti-Cheat enabled',\n",
    "                        'categories_Single-player', 'categories_Steam Cloud', 'categories_Steam Achievements', 'categories_Steam Trading Cards',\n",
    "                        'categories_Captions available', 'categories_Partial Controller Support', 'categories_Includes Source SDK',\n",
    "                        'categories_Cross-Platform Multiplayer', 'categories_Stats', 'categories_Commentary available',\n",
    "                        'categories_Includes level editor', 'categories_Steam Workshop', 'categories_In-App Purchases',\n",
    "                        'categories_Co-op', 'categories_Full controller support', 'categories_Steam Leaderboards',\n",
    "                        'categories_SteamVR Collectibles', 'categories_Online Co-op', 'categories_Shared/Split Screen',\n",
    "                        'categories_Local Co-op', 'categories_MMO', 'categories_VR Support',\n",
    "                        'categories_Mods', 'categories_Mods (require HL2)', 'categories_Steam Turn Notifications']\n",
    "\n",
    "cat_col_names = []\n",
    "\n",
    "for col in sorted(category_columns):\n",
    "    #col_name = re.sub(r'[\\s\\-\\/]', '_', col.lower())\n",
    "    #col_name = re.sub(r'[()]', '', col_name)\n",
    "    cat_col_names.append(col_name)\n",
    "\n",
    "#cat_counts = df[cat_col_names].sum()"
   ]
  },
  {
   "cell_type": "code",
   "execution_count": 164,
   "id": "6611d150",
   "metadata": {},
   "outputs": [],
   "source": [
    "eda_df = pd.DataFrame(zip(df['Multi-player'], df['Online Multi-Player'], df['Local Multi-Player'], df['Valve Anti-Cheat enabled'],\n",
    "                        df['Single-player'], df['Steam Cloud'], df['Steam Achievements'], df['Steam Trading Cards'],\n",
    "                        df['Captions available'], df['Partial Controller Support'], df['Includes Source SDK'],\n",
    "                        df['Cross-Platform Multiplayer'], df['Stats'], df['Commentary available'],\n",
    "                        df['Includes level editor'], df['Steam Workshop'], df['In-App Purchases'],\n",
    "                        df['Co-op'], df['Full controller support'], df['Steam Leaderboards'],\n",
    "                        df['SteamVR Collectibles'], df['Online Co-op'], df['Shared/Split Screen'],\n",
    "                        df['Local Co-op'], df['MMO'], df['VR Support'],\n",
    "                        df['Mods'], df['Mods (require HL2)'], df['Steam Turn Notifications']\n",
    "                         ),\n",
    "                      columns=['Multi-player', 'Online Multi-Player', 'Local Multi-Player', 'Valve Anti-Cheat enabled',\n",
    "                        'Single-player', 'Steam Cloud', 'Steam Achievements', 'Steam Trading Cards',\n",
    "                        'Captions available', 'Partial Controller Support', 'Includes Source SDK',\n",
    "                        'Cross-Platform Multiplayer', 'Stats', 'Commentary available',\n",
    "                        'Includes level editor', 'Steam Workshop', 'In-App Purchases',\n",
    "                        'Co-op', 'Full controller support', 'Steam Leaderboards',\n",
    "                        'SteamVR Collectibles', 'Online Co-op', 'Shared/Split Screen',\n",
    "                        'Local Co-op', 'MMO', 'VR Support',\n",
    "                        'Mods', 'Mods (require HL2)', 'Steam Turn Notifications'])"
   ]
  },
  {
   "cell_type": "code",
   "execution_count": 165,
   "id": "2c060c85",
   "metadata": {},
   "outputs": [
    {
     "data": {
      "text/html": [
       "<div>\n",
       "<style scoped>\n",
       "    .dataframe tbody tr th:only-of-type {\n",
       "        vertical-align: middle;\n",
       "    }\n",
       "\n",
       "    .dataframe tbody tr th {\n",
       "        vertical-align: top;\n",
       "    }\n",
       "\n",
       "    .dataframe thead th {\n",
       "        text-align: right;\n",
       "    }\n",
       "</style>\n",
       "<table border=\"1\" class=\"dataframe\">\n",
       "  <thead>\n",
       "    <tr style=\"text-align: right;\">\n",
       "      <th></th>\n",
       "      <th>Multi-player</th>\n",
       "      <th>Online Multi-Player</th>\n",
       "      <th>Local Multi-Player</th>\n",
       "      <th>Valve Anti-Cheat enabled</th>\n",
       "      <th>Single-player</th>\n",
       "      <th>Steam Cloud</th>\n",
       "      <th>Steam Achievements</th>\n",
       "      <th>Steam Trading Cards</th>\n",
       "      <th>Captions available</th>\n",
       "      <th>Partial Controller Support</th>\n",
       "      <th>...</th>\n",
       "      <th>Steam Leaderboards</th>\n",
       "      <th>SteamVR Collectibles</th>\n",
       "      <th>Online Co-op</th>\n",
       "      <th>Shared/Split Screen</th>\n",
       "      <th>Local Co-op</th>\n",
       "      <th>MMO</th>\n",
       "      <th>VR Support</th>\n",
       "      <th>Mods</th>\n",
       "      <th>Mods (require HL2)</th>\n",
       "      <th>Steam Turn Notifications</th>\n",
       "    </tr>\n",
       "  </thead>\n",
       "  <tbody>\n",
       "    <tr>\n",
       "      <th>0</th>\n",
       "      <td>1</td>\n",
       "      <td>1</td>\n",
       "      <td>1</td>\n",
       "      <td>1</td>\n",
       "      <td>0</td>\n",
       "      <td>0</td>\n",
       "      <td>0</td>\n",
       "      <td>0</td>\n",
       "      <td>0</td>\n",
       "      <td>0</td>\n",
       "      <td>...</td>\n",
       "      <td>0</td>\n",
       "      <td>0</td>\n",
       "      <td>0</td>\n",
       "      <td>0</td>\n",
       "      <td>0</td>\n",
       "      <td>0</td>\n",
       "      <td>0</td>\n",
       "      <td>0</td>\n",
       "      <td>0</td>\n",
       "      <td>0</td>\n",
       "    </tr>\n",
       "    <tr>\n",
       "      <th>1</th>\n",
       "      <td>1</td>\n",
       "      <td>1</td>\n",
       "      <td>1</td>\n",
       "      <td>1</td>\n",
       "      <td>0</td>\n",
       "      <td>0</td>\n",
       "      <td>0</td>\n",
       "      <td>0</td>\n",
       "      <td>0</td>\n",
       "      <td>0</td>\n",
       "      <td>...</td>\n",
       "      <td>0</td>\n",
       "      <td>0</td>\n",
       "      <td>0</td>\n",
       "      <td>0</td>\n",
       "      <td>0</td>\n",
       "      <td>0</td>\n",
       "      <td>0</td>\n",
       "      <td>0</td>\n",
       "      <td>0</td>\n",
       "      <td>0</td>\n",
       "    </tr>\n",
       "    <tr>\n",
       "      <th>2</th>\n",
       "      <td>1</td>\n",
       "      <td>0</td>\n",
       "      <td>0</td>\n",
       "      <td>1</td>\n",
       "      <td>0</td>\n",
       "      <td>0</td>\n",
       "      <td>0</td>\n",
       "      <td>0</td>\n",
       "      <td>0</td>\n",
       "      <td>0</td>\n",
       "      <td>...</td>\n",
       "      <td>0</td>\n",
       "      <td>0</td>\n",
       "      <td>0</td>\n",
       "      <td>0</td>\n",
       "      <td>0</td>\n",
       "      <td>0</td>\n",
       "      <td>0</td>\n",
       "      <td>0</td>\n",
       "      <td>0</td>\n",
       "      <td>0</td>\n",
       "    </tr>\n",
       "    <tr>\n",
       "      <th>3</th>\n",
       "      <td>1</td>\n",
       "      <td>1</td>\n",
       "      <td>1</td>\n",
       "      <td>1</td>\n",
       "      <td>0</td>\n",
       "      <td>0</td>\n",
       "      <td>0</td>\n",
       "      <td>0</td>\n",
       "      <td>0</td>\n",
       "      <td>0</td>\n",
       "      <td>...</td>\n",
       "      <td>0</td>\n",
       "      <td>0</td>\n",
       "      <td>0</td>\n",
       "      <td>0</td>\n",
       "      <td>0</td>\n",
       "      <td>0</td>\n",
       "      <td>0</td>\n",
       "      <td>0</td>\n",
       "      <td>0</td>\n",
       "      <td>0</td>\n",
       "    </tr>\n",
       "    <tr>\n",
       "      <th>4</th>\n",
       "      <td>1</td>\n",
       "      <td>0</td>\n",
       "      <td>0</td>\n",
       "      <td>1</td>\n",
       "      <td>1</td>\n",
       "      <td>0</td>\n",
       "      <td>0</td>\n",
       "      <td>0</td>\n",
       "      <td>0</td>\n",
       "      <td>0</td>\n",
       "      <td>...</td>\n",
       "      <td>0</td>\n",
       "      <td>0</td>\n",
       "      <td>0</td>\n",
       "      <td>0</td>\n",
       "      <td>0</td>\n",
       "      <td>0</td>\n",
       "      <td>0</td>\n",
       "      <td>0</td>\n",
       "      <td>0</td>\n",
       "      <td>0</td>\n",
       "    </tr>\n",
       "  </tbody>\n",
       "</table>\n",
       "<p>5 rows × 29 columns</p>\n",
       "</div>"
      ],
      "text/plain": [
       "   Multi-player  Online Multi-Player  Local Multi-Player  \\\n",
       "0             1                    1                   1   \n",
       "1             1                    1                   1   \n",
       "2             1                    0                   0   \n",
       "3             1                    1                   1   \n",
       "4             1                    0                   0   \n",
       "\n",
       "   Valve Anti-Cheat enabled  Single-player  Steam Cloud  Steam Achievements  \\\n",
       "0                         1              0            0                   0   \n",
       "1                         1              0            0                   0   \n",
       "2                         1              0            0                   0   \n",
       "3                         1              0            0                   0   \n",
       "4                         1              1            0                   0   \n",
       "\n",
       "   Steam Trading Cards  Captions available  Partial Controller Support  ...  \\\n",
       "0                    0                   0                           0  ...   \n",
       "1                    0                   0                           0  ...   \n",
       "2                    0                   0                           0  ...   \n",
       "3                    0                   0                           0  ...   \n",
       "4                    0                   0                           0  ...   \n",
       "\n",
       "   Steam Leaderboards  SteamVR Collectibles  Online Co-op  \\\n",
       "0                   0                     0             0   \n",
       "1                   0                     0             0   \n",
       "2                   0                     0             0   \n",
       "3                   0                     0             0   \n",
       "4                   0                     0             0   \n",
       "\n",
       "   Shared/Split Screen  Local Co-op  MMO  VR Support  Mods  \\\n",
       "0                    0            0    0           0     0   \n",
       "1                    0            0    0           0     0   \n",
       "2                    0            0    0           0     0   \n",
       "3                    0            0    0           0     0   \n",
       "4                    0            0    0           0     0   \n",
       "\n",
       "   Mods (require HL2)  Steam Turn Notifications  \n",
       "0                   0                         0  \n",
       "1                   0                         0  \n",
       "2                   0                         0  \n",
       "3                   0                         0  \n",
       "4                   0                         0  \n",
       "\n",
       "[5 rows x 29 columns]"
      ]
     },
     "execution_count": 165,
     "metadata": {},
     "output_type": "execute_result"
    }
   ],
   "source": [
    "eda_df.head()"
   ]
  },
  {
   "cell_type": "code",
   "execution_count": 166,
   "id": "5d7f75f1",
   "metadata": {},
   "outputs": [
    {
     "data": {
      "application/vnd.plotly.v1+json": {
       "config": {
        "plotlyServerURL": "https://plot.ly"
       },
       "data": [
        {
         "colorscale": [
          [
           0,
           "rgb(103,0,31)"
          ],
          [
           0.1,
           "rgb(178,24,43)"
          ],
          [
           0.2,
           "rgb(214,96,77)"
          ],
          [
           0.3,
           "rgb(244,165,130)"
          ],
          [
           0.4,
           "rgb(253,219,199)"
          ],
          [
           0.5,
           "rgb(247,247,247)"
          ],
          [
           0.6,
           "rgb(209,229,240)"
          ],
          [
           0.7,
           "rgb(146,197,222)"
          ],
          [
           0.8,
           "rgb(67,147,195)"
          ],
          [
           0.9,
           "rgb(33,102,172)"
          ],
          [
           1,
           "rgb(5,48,97)"
          ]
         ],
         "reversescale": true,
         "showscale": true,
         "type": "heatmap",
         "x": [
          "Multi-player",
          "Online Multi-Player",
          "Local Multi-Player",
          "Valve Anti-Cheat enabled",
          "Single-player",
          "Steam Cloud",
          "Steam Achievements",
          "Steam Trading Cards",
          "Captions available",
          "Partial Controller Support",
          "Includes Source SDK",
          "Cross-Platform Multiplayer",
          "Stats",
          "Commentary available",
          "Includes level editor",
          "Steam Workshop",
          "In-App Purchases",
          "Co-op",
          "Full controller support",
          "Steam Leaderboards",
          "SteamVR Collectibles",
          "Online Co-op",
          "Shared/Split Screen",
          "Local Co-op",
          "MMO",
          "VR Support",
          "Mods",
          "Mods (require HL2)",
          "Steam Turn Notifications"
         ],
         "y": [
          "Multi-player",
          "Online Multi-Player",
          "Local Multi-Player",
          "Valve Anti-Cheat enabled",
          "Single-player",
          "Steam Cloud",
          "Steam Achievements",
          "Steam Trading Cards",
          "Captions available",
          "Partial Controller Support",
          "Includes Source SDK",
          "Cross-Platform Multiplayer",
          "Stats",
          "Commentary available",
          "Includes level editor",
          "Steam Workshop",
          "In-App Purchases",
          "Co-op",
          "Full controller support",
          "Steam Leaderboards",
          "SteamVR Collectibles",
          "Online Co-op",
          "Shared/Split Screen",
          "Local Co-op",
          "MMO",
          "VR Support",
          "Mods",
          "Mods (require HL2)",
          "Steam Turn Notifications"
         ],
         "z": [
          [
           1,
           0.5040730704091141,
           0.3210224795146127,
           0.1229859832267952,
           -0.2679055800599019,
           0.027370590698140712,
           0.00722610789967186,
           0.03648277223218339,
           -0.023334745638832692,
           0.049864514011126126,
           0.051906782636209806,
           0.37461794267009535,
           0.10981606505599564,
           -0.007040086445383878,
           0.11337267321048627,
           0.10417275354697716,
           0.14310284041829374,
           0.42678154118154793,
           0.05932067980041998,
           0.08890988535907045,
           0.011056990643196641,
           0.32710465524512694,
           0.2734188047483632,
           0.15649375938479723,
           0.1711196956360219,
           0.022394021643881094,
           0.020762266332719426,
           0.01468086296841022,
           0.08185831455598429
          ],
          [
           0.5040730704091141,
           1,
           0.24700788264294446,
           0.048958466617759745,
           -0.3573545496189404,
           -0.006823392607114617,
           -0.004110781525851566,
           0.00015887941516754786,
           -0.022605756304582184,
           0.02426581618248428,
           0.03148234755404816,
           0.37157559121652634,
           0.09228853049611645,
           -0.008810813847019797,
           0.07046049020853223,
           0.0793262581395957,
           0.2862914253143894,
           0.32164635312305073,
           0.004570569164849049,
           0.043392654434696185,
           0.03126172298230572,
           0.5445335414749422,
           0.10859514293727875,
           0.08905250393388871,
           0.22840105464982904,
           0.006605513214379211,
           0.012235313415584027,
           -0.001954854813497746,
           0.056708966213134405
          ],
          [
           0.3210224795146127,
           0.24700788264294446,
           1,
           0.0034718167879218753,
           -0.10887758041158165,
           0.043218225901257575,
           0.0355831391694969,
           -0.0013175870026039848,
           -0.01993951791577057,
           0.056725562296069114,
           0.01688016903445299,
           0.10072396094461841,
           0.05587141471259776,
           -0.00758472483091501,
           0.03865035127780451,
           0.02537972672637518,
           -0.009698254633164368,
           0.3229046712425744,
           0.18775185762251528,
           0.05702275788671085,
           -0.009860744839955676,
           0.1261014849521839,
           0.5752299624345001,
           0.532324583989863,
           -0.019949554014221167,
           -0.008484775992702134,
           -0.0022033518097507956,
           -0.0015579756791373994,
           0.06224084290468779
          ],
          [
           0.1229859832267952,
           0.048958466617759745,
           0.0034718167879218753,
           1,
           -0.08662968175764944,
           0.03012375073690915,
           0.02736227830456962,
           0.027965775765355562,
           0.017432403662090142,
           0.017780850842692132,
           0.1551253075074674,
           0.039207506060475884,
           0.05542402720086034,
           0.021929381514239305,
           0.06011618360230672,
           0.10150535886629361,
           0.04292921199907382,
           0.07015318952613311,
           0.012272428551337549,
           0.03186820375376591,
           0.0140352654081887,
           0.026647254991902264,
           -0.006027442481567169,
           0.0008540638874947909,
           0.03921584891851035,
           0.014902741658731646,
           0.14561216378574052,
           0.10296141032076656,
           -0.0029055349231972643
          ],
          [
           -0.2679055800599019,
           -0.3573545496189404,
           -0.10887758041158165,
           -0.08662968175764944,
           1,
           0.07759637866373847,
           0.08299909193786525,
           0.03752789673752856,
           0.021969091928363892,
           -0.01698074872750823,
           -0.057352813716873625,
           -0.15196949727597378,
           -0.035845978121911225,
           0.0051665217969066165,
           -0.030737704884806292,
           -0.0408552374999397,
           -0.24288477530651487,
           -0.1275031100467774,
           0.024719360624825836,
           0.045910467459726705,
           -0.008550928778312034,
           -0.1560479100084101,
           -0.06682539863949215,
           -0.024206176209353166,
           -0.3361056751244023,
           -0.011257422198004494,
           -0.03728292173844288,
           -0.02636251054353717,
           -0.009684374718694275
          ],
          [
           0.027370590698140712,
           -0.006823392607114617,
           0.043218225901257575,
           0.03012375073690915,
           0.07759637866373847,
           1,
           0.38662026424253526,
           0.29777557825021433,
           0.11400864328297494,
           0.021852252953073102,
           0.015712501440091817,
           0.012007361136791614,
           0.14981007926274997,
           0.0232508076882738,
           0.09248177738513448,
           0.13134703382206822,
           -0.0404417829717018,
           0.06828446174878651,
           0.2533458214544411,
           0.22236710529859854,
           0.007382544359831411,
           0.016623324696448148,
           0.09425910288125361,
           0.06807037522542461,
           -0.060887703249359305,
           -0.005914686115946064,
           0.01441427582050849,
           0.010192240322833631,
           0.01793896577366395
          ],
          [
           0.00722610789967186,
           -0.004110781525851566,
           0.0355831391694969,
           0.02736227830456962,
           0.08299909193786525,
           0.38662026424253526,
           1,
           0.3372902118449861,
           0.09125833684841975,
           0.053347214932925845,
           0.009536123690020331,
           0.038230978226072625,
           0.21333789242716855,
           0.015986339284981863,
           0.06356128111973867,
           0.0911364954227662,
           -0.015845834341561428,
           0.06607008234851408,
           0.262140668675432,
           0.2929400761779312,
           0.0018626485398561324,
           0.017620629890952404,
           0.08069806373742698,
           0.06578869193655375,
           -0.04652619113343463,
           -0.004480388706158914,
           0.008236393880300593,
           0.005823900337892831,
           0.03388018503996689
          ],
          [
           0.03648277223218339,
           0.00015887941516754786,
           -0.0013175870026039848,
           0.027965775765355562,
           0.03752789673752856,
           0.29777557825021433,
           0.3372902118449861,
           1,
           0.06264275051699618,
           0.03658696240368675,
           -0.009935780141500605,
           0.057764312362625976,
           0.09767704809844616,
           0.0324632184136871,
           0.06247732728779252,
           0.10555781829603332,
           0.020571244814511436,
           0.06590334860985371,
           0.20147556619200388,
           0.13279904759713262,
           0.00031117616351020833,
           0.025652734187403325,
           0.0672790940665636,
           0.032938488040792684,
           0.01568065560752936,
           0.006699470385232869,
           -0.00563117816464824,
           -0.003981769314635143,
           0.031066797142479046
          ],
          [
           -0.023334745638832692,
           -0.022605756304582184,
           -0.01993951791577057,
           0.017432403662090142,
           0.021969091928363892,
           0.11400864328297494,
           0.09125833684841975,
           0.06264275051699618,
           1,
           0.0019417156500786993,
           0.06433958521927197,
           -0.01305054056695311,
           0.0438998672292103,
           0.1000800648321563,
           0.03726814537970681,
           0.020476149716725664,
           -0.007598877978042967,
           -0.003937369275270529,
           0.041761781551021934,
           -0.0032785752839889636,
           -0.0004858926829906106,
           -0.010341838137234985,
           -0.018725441939185218,
           -0.01133796736353081,
           -0.01502228531824091,
           0.014391989605698124,
           -0.0014462726177014188,
           -0.0010226499253589646,
           0.0014181978549727358
          ],
          [
           0.049864514011126126,
           0.02426581618248428,
           0.056725562296069114,
           0.017780850842692132,
           -0.01698074872750823,
           0.021852252953073102,
           0.053347214932925845,
           0.03658696240368675,
           0.0019417156500786993,
           1,
           0.024209709109337986,
           0.0082473258549999,
           0.03413550435893977,
           -3.504851023177855e-05,
           0.040804252960645715,
           0.028508853174553015,
           -0.005640598524908634,
           0.06878692939306572,
           -0.22132122075974847,
           0.03645203240111808,
           -0.016779079132863257,
           0.027309780343607055,
           0.07307189087647668,
           0.04491310152205443,
           -0.003849502692267361,
           0.01632457117629201,
           -0.0037492314194708413,
           -0.0026510570582253105,
           -0.018941133663898404
          ],
          [
           0.051906782636209806,
           0.03148234755404816,
           0.01688016903445299,
           0.1551253075074674,
           -0.057352813716873625,
           0.015712501440091817,
           0.009536123690020331,
           -0.009935780141500605,
           0.06433958521927197,
           0.024209709109337986,
           1,
           0.05570635319009785,
           0.04676589210944812,
           0.09768681980962304,
           0.07853876976837373,
           0.05659878936528251,
           0.013994052472667657,
           0.02653546106982097,
           -0.011325728912280295,
           0.004577840947690059,
           -0.0014105356543045885,
           0.01905839524764949,
           0.0006620454830105264,
           0.0032328955631943414,
           0.012445918219587198,
           0.018952944312933293,
           0.23889718334438506,
           0.16892263859899723,
           0.01956426729037931
          ],
          [
           0.37461794267009535,
           0.37157559121652634,
           0.10072396094461841,
           0.039207506060475884,
           -0.15196949727597378,
           0.012007361136791614,
           0.038230978226072625,
           0.057764312362625976,
           -0.01305054056695311,
           0.0082473258549999,
           0.05570635319009785,
           1,
           0.08891310615748341,
           0.0008681061558466679,
           0.09489281030702419,
           0.08360106873387912,
           0.20179260868373647,
           0.22722685245183322,
           0.004329531609084095,
           0.043855060080789786,
           0.02156852623052079,
           0.2425340408477833,
           0.08698918039266917,
           0.03540513931669822,
           0.1570223713573542,
           0.032172650530475876,
           0.020224787274692332,
           -0.0012606649990458323,
           0.12345617346534825
          ],
          [
           0.10981606505599564,
           0.09228853049611645,
           0.05587141471259776,
           0.05542402720086034,
           -0.035845978121911225,
           0.14981007926274997,
           0.21333789242716855,
           0.09767704809844616,
           0.0438998672292103,
           0.03413550435893977,
           0.04676589210944812,
           0.08891310615748341,
           1,
           0.038869168389589766,
           0.11721182122014846,
           0.11523886694024967,
           0.02316586825663104,
           0.08695988422451158,
           0.08125057719913906,
           0.32375592040479817,
           0.004480402332881302,
           0.06310391835562008,
           0.07063535727093473,
           0.050877430214998964,
           -0.004170938482190795,
           0.007479143705743597,
           0.014562609358036677,
           -0.0016894145372198628,
           0.05612368380357603
          ],
          [
           -0.007040086445383878,
           -0.008810813847019797,
           -0.00758472483091501,
           0.021929381514239305,
           0.0051665217969066165,
           0.0232508076882738,
           0.015986339284981863,
           0.0324632184136871,
           0.1000800648321563,
           -3.504851023177855e-05,
           0.09768681980962304,
           0.0008681061558466679,
           0.038869168389589766,
           1,
           0.025672696831485407,
           0.015293387078785827,
           0.004849651291897975,
           -0.0046532097607775375,
           0.0077552574233925075,
           0.006073339685507601,
           -0.0028266707411071378,
           -0.00425044008293286,
           -0.00821491134451877,
           -0.009487931621440994,
           0.007947830261422532,
           0.0043822106548135195,
           -0.0006316105115864766,
           -0.00044660766899978527,
           0.028517403769645996
          ],
          [
           0.11337267321048627,
           0.07046049020853223,
           0.03865035127780451,
           0.06011618360230672,
           -0.030737704884806292,
           0.09248177738513448,
           0.06356128111973867,
           0.06247732728779252,
           0.03726814537970681,
           0.040804252960645715,
           0.07853876976837373,
           0.09489281030702419,
           0.11721182122014846,
           0.025672696831485407,
           1,
           0.4843328581625494,
           0.0010932953261325825,
           0.09587356914875773,
           0.02434623033216019,
           0.07106176669869145,
           0.002223655359908196,
           0.07211672284100933,
           0.05536897792376852,
           0.03974292976993548,
           -0.0011540421959024933,
           0.03775076276356776,
           0.04311712051084871,
           0.030487834404409664,
           0.026199765372377965
          ],
          [
           0.10417275354697716,
           0.0793262581395957,
           0.02537972672637518,
           0.10150535886629361,
           -0.0408552374999397,
           0.13134703382206822,
           0.0911364954227662,
           0.10555781829603332,
           0.020476149716725664,
           0.028508853174553015,
           0.05659878936528251,
           0.08360106873387912,
           0.11523886694024967,
           0.015293387078785827,
           0.4843328581625494,
           1,
           0.007282513776145523,
           0.09156227315417363,
           0.03344019078349004,
           0.09457940005495459,
           0.003539841920339977,
           0.08348850740695679,
           0.03679556283296484,
           0.029456380536811908,
           -0.0060891480918552395,
           0.0433113794957031,
           0.04655132388517406,
           0.03291613718870975,
           0.02098458456255219
          ],
          [
           0.14310284041829374,
           0.2862914253143894,
           -0.009698254633164368,
           0.04292921199907382,
           -0.24288477530651487,
           -0.0404417829717018,
           -0.015845834341561428,
           0.020571244814511436,
           -0.007598877978042967,
           -0.005640598524908634,
           0.013994052472667657,
           0.20179260868373647,
           0.02316586825663104,
           0.004849651291897975,
           0.0010932953261325825,
           0.007282513776145523,
           1,
           0.09667249506737689,
           -0.04815444373631293,
           -0.019075496851763924,
           -6.428462739973261e-05,
           0.15441134525193256,
           -0.026577480750849453,
           -0.016790972116395294,
           0.30933202100230506,
           -0.009909471441073561,
           -0.0013968658051064118,
           -0.0009877146907468284,
           0.03160859617200864
          ],
          [
           0.42678154118154793,
           0.32164635312305073,
           0.3229046712425744,
           0.07015318952613311,
           -0.1275031100467774,
           0.06828446174878651,
           0.06607008234851408,
           0.06590334860985371,
           -0.003937369275270529,
           0.06878692939306572,
           0.02653546106982097,
           0.22722685245183322,
           0.08695988422451158,
           -0.0046532097607775375,
           0.09587356914875773,
           0.09156227315417363,
           0.09667249506737689,
           1,
           0.15447160759790968,
           0.0962274410805276,
           0.02650040646497914,
           0.6210341937776128,
           0.3831820984265592,
           0.6189010808433123,
           0.15198723330882136,
           0.008840169018684167,
           0.01177085587161248,
           0.018663320969255656,
           0.007447648962151703
          ],
          [
           0.05932067980041998,
           0.004570569164849049,
           0.18775185762251528,
           0.012272428551337549,
           0.024719360624825836,
           0.2533458214544411,
           0.262140668675432,
           0.20147556619200388,
           0.041761781551021934,
           -0.22132122075974847,
           -0.011325728912280295,
           0.004329531609084095,
           0.08125057719913906,
           0.0077552574233925075,
           0.02434623033216019,
           0.03344019078349004,
           -0.04815444373631293,
           0.15447160759790968,
           1,
           0.19710099423544017,
           -0.008385723062727685,
           0.024404661015181028,
           0.2772027870607225,
           0.20574588151020504,
           -0.05048137228671905,
           0.043225539439381636,
           -0.004520786872268649,
           -0.0031966188814644162,
           0.016149252677522572
          ],
          [
           0.08890988535907045,
           0.043392654434696185,
           0.05702275788671085,
           0.03186820375376591,
           0.045910467459726705,
           0.22236710529859854,
           0.2929400761779312,
           0.13279904759713262,
           -0.0032785752839889636,
           0.03645203240111808,
           0.004577840947690059,
           0.043855060080789786,
           0.32375592040479817,
           0.006073339685507601,
           0.07106176669869145,
           0.09457940005495459,
           -0.019075496851763924,
           0.0962274410805276,
           0.19710099423544017,
           1,
           0.019781889862923334,
           0.03247350993284174,
           0.12852207992707443,
           0.07790763146133313,
           -0.034101488332587235,
           0.020750657636011995,
           -0.0033417887431081337,
           -0.002362957001935368,
           0.041221001664319204
          ],
          [
           0.011056990643196641,
           0.03126172298230572,
           -0.009860744839955676,
           0.0140352654081887,
           -0.008550928778312034,
           0.007382544359831411,
           0.0018626485398561324,
           0.00031117616351020833,
           -0.0004858926829906106,
           -0.016779079132863257,
           -0.0014105356543045885,
           0.02156852623052079,
           0.004480402332881302,
           -0.0028266707411071378,
           0.002223655359908196,
           0.003539841920339977,
           -6.428462739973261e-05,
           0.02650040646497914,
           -0.008385723062727685,
           0.019781889862923334,
           1,
           0.041604830602544024,
           -0.011509599106192678,
           -0.007901403510183216,
           0.003107000233249605,
           0.17412390696474364,
           -0.0003369729948201881,
           -0.00023827140456308897,
           -0.001893431638452245
          ],
          [
           0.32710465524512694,
           0.5445335414749422,
           0.1261014849521839,
           0.026647254991902264,
           -0.1560479100084101,
           0.016623324696448148,
           0.017620629890952404,
           0.025652734187403325,
           -0.010341838137234985,
           0.027309780343607055,
           0.01905839524764949,
           0.2425340408477833,
           0.06310391835562008,
           -0.00425044008293286,
           0.07211672284100933,
           0.08348850740695679,
           0.15441134525193256,
           0.6210341937776128,
           0.024404661015181028,
           0.03247350993284174,
           0.041604830602544024,
           1,
           0.06285827865496621,
           0.1953749311081427,
           0.19120740982934858,
           0.011907647511198757,
           -0.0017716284190909552,
           -0.0012527068882951231,
           0.009788490660583987
          ],
          [
           0.2734188047483632,
           0.10859514293727875,
           0.5752299624345001,
           -0.006027442481567169,
           -0.06682539863949215,
           0.09425910288125361,
           0.08069806373742698,
           0.0672790940665636,
           -0.018725441939185218,
           0.07307189087647668,
           0.0006620454830105264,
           0.08698918039266917,
           0.07063535727093473,
           -0.00821491134451877,
           0.05536897792376852,
           0.03679556283296484,
           -0.026577480750849453,
           0.3831820984265592,
           0.2772027870607225,
           0.12852207992707443,
           -0.011509599106192678,
           0.06285827865496621,
           1,
           0.5082897123928461,
           -0.031186518491247445,
           -0.0128771635059023,
           -0.0025717830074437386,
           -0.0018184909735632989,
           0.03668061873706041
          ],
          [
           0.15649375938479723,
           0.08905250393388871,
           0.532324583989863,
           0.0008540638874947909,
           -0.024206176209353166,
           0.06807037522542461,
           0.06578869193655375,
           0.032938488040792684,
           -0.01133796736353081,
           0.04491310152205443,
           0.0032328955631943414,
           0.03540513931669822,
           0.050877430214998964,
           -0.009487931621440994,
           0.03974292976993548,
           0.029456380536811908,
           -0.016790972116395294,
           0.6189010808433123,
           0.20574588151020504,
           0.07790763146133313,
           -0.007901403510183216,
           0.1953749311081427,
           0.5082897123928461,
           1,
           -0.01898757115533124,
           -0.008680610630155208,
           -0.0017655432734848058,
           -0.001248404121566526,
           0.009885293144029922
          ],
          [
           0.1711196956360219,
           0.22840105464982904,
           -0.019949554014221167,
           0.03921584891851035,
           -0.3361056751244023,
           -0.060887703249359305,
           -0.04652619113343463,
           0.01568065560752936,
           -0.01502228531824091,
           -0.003849502692267361,
           0.012445918219587198,
           0.1570223713573542,
           -0.004170938482190795,
           0.007947830261422532,
           -0.0011540421959024933,
           -0.0060891480918552395,
           0.30933202100230506,
           0.15198723330882136,
           -0.05048137228671905,
           -0.034101488332587235,
           0.003107000233249605,
           0.19120740982934858,
           -0.031186518491247445,
           -0.01898757115533124,
           1,
           0.008238968785206142,
           -0.0010783417607485952,
           -0.0007624884186037126,
           0.012912452077063428
          ],
          [
           0.022394021643881094,
           0.006605513214379211,
           -0.008484775992702134,
           0.014902741658731646,
           -0.011257422198004494,
           -0.005914686115946064,
           -0.004480388706158914,
           0.006699470385232869,
           0.014391989605698124,
           0.01632457117629201,
           0.018952944312933293,
           0.032172650530475876,
           0.007479143705743597,
           0.0043822106548135195,
           0.03775076276356776,
           0.0433113794957031,
           -0.009909471441073561,
           0.008840169018684167,
           0.043225539439381636,
           0.020750657636011995,
           0.17412390696474364,
           0.011907647511198757,
           -0.0128771635059023,
           -0.008680610630155208,
           0.008238968785206142,
           1,
           -0.0008127190357125405,
           -0.0005746683239638192,
           0.003768960636779869
          ],
          [
           0.020762266332719426,
           0.012235313415584027,
           -0.0022033518097507956,
           0.14561216378574052,
           -0.03728292173844288,
           0.01441427582050849,
           0.008236393880300593,
           -0.00563117816464824,
           -0.0014462726177014188,
           -0.0037492314194708413,
           0.23889718334438506,
           0.020224787274692332,
           0.014562609358036677,
           -0.0006316105115864766,
           0.04311712051084871,
           0.04655132388517406,
           -0.0013968658051064118,
           0.01177085587161248,
           -0.004520786872268649,
           -0.0033417887431081337,
           -0.0003369729948201881,
           -0.0017716284190909552,
           -0.0025717830074437386,
           -0.0017655432734848058,
           -0.0010783417607485952,
           -0.0008127190357125405,
           1,
           0.7070934710665248,
           -0.0004230812271217876
          ],
          [
           0.01468086296841022,
           -0.001954854813497746,
           -0.0015579756791373994,
           0.10296141032076656,
           -0.02636251054353717,
           0.010192240322833631,
           0.005823900337892831,
           -0.003981769314635143,
           -0.0010226499253589646,
           -0.0026510570582253105,
           0.16892263859899723,
           -0.0012606649990458323,
           -0.0016894145372198628,
           -0.00044660766899978527,
           0.030487834404409664,
           0.03291613718870975,
           -0.0009877146907468284,
           0.018663320969255656,
           -0.0031966188814644162,
           -0.002362957001935368,
           -0.00023827140456308897,
           -0.0012527068882951231,
           -0.0018184909735632989,
           -0.001248404121566526,
           -0.0007624884186037126,
           -0.0005746683239638192,
           0.7070934710665248,
           1,
           -0.0002991579734286294
          ],
          [
           0.08185831455598429,
           0.056708966213134405,
           0.06224084290468779,
           -0.0029055349231972643,
           -0.009684374718694275,
           0.01793896577366395,
           0.03388018503996689,
           0.031066797142479046,
           0.0014181978549727358,
           -0.018941133663898404,
           0.01956426729037931,
           0.12345617346534825,
           0.05612368380357603,
           0.028517403769645996,
           0.026199765372377965,
           0.02098458456255219,
           0.03160859617200864,
           0.007447648962151703,
           0.016149252677522572,
           0.041221001664319204,
           -0.001893431638452245,
           0.009788490660583987,
           0.03668061873706041,
           0.009885293144029922,
           0.012912452077063428,
           0.003768960636779869,
           -0.0004230812271217876,
           -0.0002991579734286294,
           1
          ]
         ]
        }
       ],
       "layout": {
        "annotations": [
         {
          "font": {
           "color": "#FFFFFF",
           "size": 8
          },
          "showarrow": false,
          "text": "1.0",
          "x": "Multi-player",
          "xref": "x",
          "y": "Multi-player",
          "yref": "y"
         },
         {
          "font": {
           "color": "#FFFFFF",
           "size": 8
          },
          "showarrow": false,
          "text": "0.5",
          "x": "Online Multi-Player",
          "xref": "x",
          "y": "Multi-player",
          "yref": "y"
         },
         {
          "font": {
           "color": "#FFFFFF",
           "size": 8
          },
          "showarrow": false,
          "text": "0.32",
          "x": "Local Multi-Player",
          "xref": "x",
          "y": "Multi-player",
          "yref": "y"
         },
         {
          "font": {
           "color": "#FFFFFF",
           "size": 8
          },
          "showarrow": false,
          "text": "0.12",
          "x": "Valve Anti-Cheat enabled",
          "xref": "x",
          "y": "Multi-player",
          "yref": "y"
         },
         {
          "font": {
           "color": "#FFFFFF",
           "size": 8
          },
          "showarrow": false,
          "text": "-0.27",
          "x": "Single-player",
          "xref": "x",
          "y": "Multi-player",
          "yref": "y"
         },
         {
          "font": {
           "color": "#FFFFFF",
           "size": 8
          },
          "showarrow": false,
          "text": "0.03",
          "x": "Steam Cloud",
          "xref": "x",
          "y": "Multi-player",
          "yref": "y"
         },
         {
          "font": {
           "color": "#FFFFFF",
           "size": 8
          },
          "showarrow": false,
          "text": "0.01",
          "x": "Steam Achievements",
          "xref": "x",
          "y": "Multi-player",
          "yref": "y"
         },
         {
          "font": {
           "color": "#FFFFFF",
           "size": 8
          },
          "showarrow": false,
          "text": "0.04",
          "x": "Steam Trading Cards",
          "xref": "x",
          "y": "Multi-player",
          "yref": "y"
         },
         {
          "font": {
           "color": "#FFFFFF",
           "size": 8
          },
          "showarrow": false,
          "text": "-0.02",
          "x": "Captions available",
          "xref": "x",
          "y": "Multi-player",
          "yref": "y"
         },
         {
          "font": {
           "color": "#FFFFFF",
           "size": 8
          },
          "showarrow": false,
          "text": "0.05",
          "x": "Partial Controller Support",
          "xref": "x",
          "y": "Multi-player",
          "yref": "y"
         },
         {
          "font": {
           "color": "#FFFFFF",
           "size": 8
          },
          "showarrow": false,
          "text": "0.05",
          "x": "Includes Source SDK",
          "xref": "x",
          "y": "Multi-player",
          "yref": "y"
         },
         {
          "font": {
           "color": "#FFFFFF",
           "size": 8
          },
          "showarrow": false,
          "text": "0.37",
          "x": "Cross-Platform Multiplayer",
          "xref": "x",
          "y": "Multi-player",
          "yref": "y"
         },
         {
          "font": {
           "color": "#FFFFFF",
           "size": 8
          },
          "showarrow": false,
          "text": "0.11",
          "x": "Stats",
          "xref": "x",
          "y": "Multi-player",
          "yref": "y"
         },
         {
          "font": {
           "color": "#FFFFFF",
           "size": 8
          },
          "showarrow": false,
          "text": "-0.01",
          "x": "Commentary available",
          "xref": "x",
          "y": "Multi-player",
          "yref": "y"
         },
         {
          "font": {
           "color": "#FFFFFF",
           "size": 8
          },
          "showarrow": false,
          "text": "0.11",
          "x": "Includes level editor",
          "xref": "x",
          "y": "Multi-player",
          "yref": "y"
         },
         {
          "font": {
           "color": "#FFFFFF",
           "size": 8
          },
          "showarrow": false,
          "text": "0.1",
          "x": "Steam Workshop",
          "xref": "x",
          "y": "Multi-player",
          "yref": "y"
         },
         {
          "font": {
           "color": "#FFFFFF",
           "size": 8
          },
          "showarrow": false,
          "text": "0.14",
          "x": "In-App Purchases",
          "xref": "x",
          "y": "Multi-player",
          "yref": "y"
         },
         {
          "font": {
           "color": "#FFFFFF",
           "size": 8
          },
          "showarrow": false,
          "text": "0.43",
          "x": "Co-op",
          "xref": "x",
          "y": "Multi-player",
          "yref": "y"
         },
         {
          "font": {
           "color": "#FFFFFF",
           "size": 8
          },
          "showarrow": false,
          "text": "0.06",
          "x": "Full controller support",
          "xref": "x",
          "y": "Multi-player",
          "yref": "y"
         },
         {
          "font": {
           "color": "#FFFFFF",
           "size": 8
          },
          "showarrow": false,
          "text": "0.09",
          "x": "Steam Leaderboards",
          "xref": "x",
          "y": "Multi-player",
          "yref": "y"
         },
         {
          "font": {
           "color": "#FFFFFF",
           "size": 8
          },
          "showarrow": false,
          "text": "0.01",
          "x": "SteamVR Collectibles",
          "xref": "x",
          "y": "Multi-player",
          "yref": "y"
         },
         {
          "font": {
           "color": "#FFFFFF",
           "size": 8
          },
          "showarrow": false,
          "text": "0.33",
          "x": "Online Co-op",
          "xref": "x",
          "y": "Multi-player",
          "yref": "y"
         },
         {
          "font": {
           "color": "#FFFFFF",
           "size": 8
          },
          "showarrow": false,
          "text": "0.27",
          "x": "Shared/Split Screen",
          "xref": "x",
          "y": "Multi-player",
          "yref": "y"
         },
         {
          "font": {
           "color": "#FFFFFF",
           "size": 8
          },
          "showarrow": false,
          "text": "0.16",
          "x": "Local Co-op",
          "xref": "x",
          "y": "Multi-player",
          "yref": "y"
         },
         {
          "font": {
           "color": "#FFFFFF",
           "size": 8
          },
          "showarrow": false,
          "text": "0.17",
          "x": "MMO",
          "xref": "x",
          "y": "Multi-player",
          "yref": "y"
         },
         {
          "font": {
           "color": "#FFFFFF",
           "size": 8
          },
          "showarrow": false,
          "text": "0.02",
          "x": "VR Support",
          "xref": "x",
          "y": "Multi-player",
          "yref": "y"
         },
         {
          "font": {
           "color": "#FFFFFF",
           "size": 8
          },
          "showarrow": false,
          "text": "0.02",
          "x": "Mods",
          "xref": "x",
          "y": "Multi-player",
          "yref": "y"
         },
         {
          "font": {
           "color": "#FFFFFF",
           "size": 8
          },
          "showarrow": false,
          "text": "0.01",
          "x": "Mods (require HL2)",
          "xref": "x",
          "y": "Multi-player",
          "yref": "y"
         },
         {
          "font": {
           "color": "#FFFFFF",
           "size": 8
          },
          "showarrow": false,
          "text": "0.08",
          "x": "Steam Turn Notifications",
          "xref": "x",
          "y": "Multi-player",
          "yref": "y"
         },
         {
          "font": {
           "color": "#FFFFFF",
           "size": 8
          },
          "showarrow": false,
          "text": "0.5",
          "x": "Multi-player",
          "xref": "x",
          "y": "Online Multi-Player",
          "yref": "y"
         },
         {
          "font": {
           "color": "#FFFFFF",
           "size": 8
          },
          "showarrow": false,
          "text": "1.0",
          "x": "Online Multi-Player",
          "xref": "x",
          "y": "Online Multi-Player",
          "yref": "y"
         },
         {
          "font": {
           "color": "#FFFFFF",
           "size": 8
          },
          "showarrow": false,
          "text": "0.25",
          "x": "Local Multi-Player",
          "xref": "x",
          "y": "Online Multi-Player",
          "yref": "y"
         },
         {
          "font": {
           "color": "#FFFFFF",
           "size": 8
          },
          "showarrow": false,
          "text": "0.05",
          "x": "Valve Anti-Cheat enabled",
          "xref": "x",
          "y": "Online Multi-Player",
          "yref": "y"
         },
         {
          "font": {
           "color": "#FFFFFF",
           "size": 8
          },
          "showarrow": false,
          "text": "-0.36",
          "x": "Single-player",
          "xref": "x",
          "y": "Online Multi-Player",
          "yref": "y"
         },
         {
          "font": {
           "color": "#FFFFFF",
           "size": 8
          },
          "showarrow": false,
          "text": "-0.01",
          "x": "Steam Cloud",
          "xref": "x",
          "y": "Online Multi-Player",
          "yref": "y"
         },
         {
          "font": {
           "color": "#FFFFFF",
           "size": 8
          },
          "showarrow": false,
          "text": "-0.0",
          "x": "Steam Achievements",
          "xref": "x",
          "y": "Online Multi-Player",
          "yref": "y"
         },
         {
          "font": {
           "color": "#FFFFFF",
           "size": 8
          },
          "showarrow": false,
          "text": "0.0",
          "x": "Steam Trading Cards",
          "xref": "x",
          "y": "Online Multi-Player",
          "yref": "y"
         },
         {
          "font": {
           "color": "#FFFFFF",
           "size": 8
          },
          "showarrow": false,
          "text": "-0.02",
          "x": "Captions available",
          "xref": "x",
          "y": "Online Multi-Player",
          "yref": "y"
         },
         {
          "font": {
           "color": "#FFFFFF",
           "size": 8
          },
          "showarrow": false,
          "text": "0.02",
          "x": "Partial Controller Support",
          "xref": "x",
          "y": "Online Multi-Player",
          "yref": "y"
         },
         {
          "font": {
           "color": "#FFFFFF",
           "size": 8
          },
          "showarrow": false,
          "text": "0.03",
          "x": "Includes Source SDK",
          "xref": "x",
          "y": "Online Multi-Player",
          "yref": "y"
         },
         {
          "font": {
           "color": "#FFFFFF",
           "size": 8
          },
          "showarrow": false,
          "text": "0.37",
          "x": "Cross-Platform Multiplayer",
          "xref": "x",
          "y": "Online Multi-Player",
          "yref": "y"
         },
         {
          "font": {
           "color": "#FFFFFF",
           "size": 8
          },
          "showarrow": false,
          "text": "0.09",
          "x": "Stats",
          "xref": "x",
          "y": "Online Multi-Player",
          "yref": "y"
         },
         {
          "font": {
           "color": "#FFFFFF",
           "size": 8
          },
          "showarrow": false,
          "text": "-0.01",
          "x": "Commentary available",
          "xref": "x",
          "y": "Online Multi-Player",
          "yref": "y"
         },
         {
          "font": {
           "color": "#FFFFFF",
           "size": 8
          },
          "showarrow": false,
          "text": "0.07",
          "x": "Includes level editor",
          "xref": "x",
          "y": "Online Multi-Player",
          "yref": "y"
         },
         {
          "font": {
           "color": "#FFFFFF",
           "size": 8
          },
          "showarrow": false,
          "text": "0.08",
          "x": "Steam Workshop",
          "xref": "x",
          "y": "Online Multi-Player",
          "yref": "y"
         },
         {
          "font": {
           "color": "#FFFFFF",
           "size": 8
          },
          "showarrow": false,
          "text": "0.29",
          "x": "In-App Purchases",
          "xref": "x",
          "y": "Online Multi-Player",
          "yref": "y"
         },
         {
          "font": {
           "color": "#FFFFFF",
           "size": 8
          },
          "showarrow": false,
          "text": "0.32",
          "x": "Co-op",
          "xref": "x",
          "y": "Online Multi-Player",
          "yref": "y"
         },
         {
          "font": {
           "color": "#FFFFFF",
           "size": 8
          },
          "showarrow": false,
          "text": "0.0",
          "x": "Full controller support",
          "xref": "x",
          "y": "Online Multi-Player",
          "yref": "y"
         },
         {
          "font": {
           "color": "#FFFFFF",
           "size": 8
          },
          "showarrow": false,
          "text": "0.04",
          "x": "Steam Leaderboards",
          "xref": "x",
          "y": "Online Multi-Player",
          "yref": "y"
         },
         {
          "font": {
           "color": "#FFFFFF",
           "size": 8
          },
          "showarrow": false,
          "text": "0.03",
          "x": "SteamVR Collectibles",
          "xref": "x",
          "y": "Online Multi-Player",
          "yref": "y"
         },
         {
          "font": {
           "color": "#FFFFFF",
           "size": 8
          },
          "showarrow": false,
          "text": "0.54",
          "x": "Online Co-op",
          "xref": "x",
          "y": "Online Multi-Player",
          "yref": "y"
         },
         {
          "font": {
           "color": "#FFFFFF",
           "size": 8
          },
          "showarrow": false,
          "text": "0.11",
          "x": "Shared/Split Screen",
          "xref": "x",
          "y": "Online Multi-Player",
          "yref": "y"
         },
         {
          "font": {
           "color": "#FFFFFF",
           "size": 8
          },
          "showarrow": false,
          "text": "0.09",
          "x": "Local Co-op",
          "xref": "x",
          "y": "Online Multi-Player",
          "yref": "y"
         },
         {
          "font": {
           "color": "#FFFFFF",
           "size": 8
          },
          "showarrow": false,
          "text": "0.23",
          "x": "MMO",
          "xref": "x",
          "y": "Online Multi-Player",
          "yref": "y"
         },
         {
          "font": {
           "color": "#FFFFFF",
           "size": 8
          },
          "showarrow": false,
          "text": "0.01",
          "x": "VR Support",
          "xref": "x",
          "y": "Online Multi-Player",
          "yref": "y"
         },
         {
          "font": {
           "color": "#FFFFFF",
           "size": 8
          },
          "showarrow": false,
          "text": "0.01",
          "x": "Mods",
          "xref": "x",
          "y": "Online Multi-Player",
          "yref": "y"
         },
         {
          "font": {
           "color": "#FFFFFF",
           "size": 8
          },
          "showarrow": false,
          "text": "-0.0",
          "x": "Mods (require HL2)",
          "xref": "x",
          "y": "Online Multi-Player",
          "yref": "y"
         },
         {
          "font": {
           "color": "#FFFFFF",
           "size": 8
          },
          "showarrow": false,
          "text": "0.06",
          "x": "Steam Turn Notifications",
          "xref": "x",
          "y": "Online Multi-Player",
          "yref": "y"
         },
         {
          "font": {
           "color": "#FFFFFF",
           "size": 8
          },
          "showarrow": false,
          "text": "0.32",
          "x": "Multi-player",
          "xref": "x",
          "y": "Local Multi-Player",
          "yref": "y"
         },
         {
          "font": {
           "color": "#FFFFFF",
           "size": 8
          },
          "showarrow": false,
          "text": "0.25",
          "x": "Online Multi-Player",
          "xref": "x",
          "y": "Local Multi-Player",
          "yref": "y"
         },
         {
          "font": {
           "color": "#FFFFFF",
           "size": 8
          },
          "showarrow": false,
          "text": "1.0",
          "x": "Local Multi-Player",
          "xref": "x",
          "y": "Local Multi-Player",
          "yref": "y"
         },
         {
          "font": {
           "color": "#FFFFFF",
           "size": 8
          },
          "showarrow": false,
          "text": "0.0",
          "x": "Valve Anti-Cheat enabled",
          "xref": "x",
          "y": "Local Multi-Player",
          "yref": "y"
         },
         {
          "font": {
           "color": "#FFFFFF",
           "size": 8
          },
          "showarrow": false,
          "text": "-0.11",
          "x": "Single-player",
          "xref": "x",
          "y": "Local Multi-Player",
          "yref": "y"
         },
         {
          "font": {
           "color": "#FFFFFF",
           "size": 8
          },
          "showarrow": false,
          "text": "0.04",
          "x": "Steam Cloud",
          "xref": "x",
          "y": "Local Multi-Player",
          "yref": "y"
         },
         {
          "font": {
           "color": "#FFFFFF",
           "size": 8
          },
          "showarrow": false,
          "text": "0.04",
          "x": "Steam Achievements",
          "xref": "x",
          "y": "Local Multi-Player",
          "yref": "y"
         },
         {
          "font": {
           "color": "#FFFFFF",
           "size": 8
          },
          "showarrow": false,
          "text": "-0.0",
          "x": "Steam Trading Cards",
          "xref": "x",
          "y": "Local Multi-Player",
          "yref": "y"
         },
         {
          "font": {
           "color": "#FFFFFF",
           "size": 8
          },
          "showarrow": false,
          "text": "-0.02",
          "x": "Captions available",
          "xref": "x",
          "y": "Local Multi-Player",
          "yref": "y"
         },
         {
          "font": {
           "color": "#FFFFFF",
           "size": 8
          },
          "showarrow": false,
          "text": "0.06",
          "x": "Partial Controller Support",
          "xref": "x",
          "y": "Local Multi-Player",
          "yref": "y"
         },
         {
          "font": {
           "color": "#FFFFFF",
           "size": 8
          },
          "showarrow": false,
          "text": "0.02",
          "x": "Includes Source SDK",
          "xref": "x",
          "y": "Local Multi-Player",
          "yref": "y"
         },
         {
          "font": {
           "color": "#FFFFFF",
           "size": 8
          },
          "showarrow": false,
          "text": "0.1",
          "x": "Cross-Platform Multiplayer",
          "xref": "x",
          "y": "Local Multi-Player",
          "yref": "y"
         },
         {
          "font": {
           "color": "#FFFFFF",
           "size": 8
          },
          "showarrow": false,
          "text": "0.06",
          "x": "Stats",
          "xref": "x",
          "y": "Local Multi-Player",
          "yref": "y"
         },
         {
          "font": {
           "color": "#FFFFFF",
           "size": 8
          },
          "showarrow": false,
          "text": "-0.01",
          "x": "Commentary available",
          "xref": "x",
          "y": "Local Multi-Player",
          "yref": "y"
         },
         {
          "font": {
           "color": "#FFFFFF",
           "size": 8
          },
          "showarrow": false,
          "text": "0.04",
          "x": "Includes level editor",
          "xref": "x",
          "y": "Local Multi-Player",
          "yref": "y"
         },
         {
          "font": {
           "color": "#FFFFFF",
           "size": 8
          },
          "showarrow": false,
          "text": "0.03",
          "x": "Steam Workshop",
          "xref": "x",
          "y": "Local Multi-Player",
          "yref": "y"
         },
         {
          "font": {
           "color": "#FFFFFF",
           "size": 8
          },
          "showarrow": false,
          "text": "-0.01",
          "x": "In-App Purchases",
          "xref": "x",
          "y": "Local Multi-Player",
          "yref": "y"
         },
         {
          "font": {
           "color": "#FFFFFF",
           "size": 8
          },
          "showarrow": false,
          "text": "0.32",
          "x": "Co-op",
          "xref": "x",
          "y": "Local Multi-Player",
          "yref": "y"
         },
         {
          "font": {
           "color": "#FFFFFF",
           "size": 8
          },
          "showarrow": false,
          "text": "0.19",
          "x": "Full controller support",
          "xref": "x",
          "y": "Local Multi-Player",
          "yref": "y"
         },
         {
          "font": {
           "color": "#FFFFFF",
           "size": 8
          },
          "showarrow": false,
          "text": "0.06",
          "x": "Steam Leaderboards",
          "xref": "x",
          "y": "Local Multi-Player",
          "yref": "y"
         },
         {
          "font": {
           "color": "#FFFFFF",
           "size": 8
          },
          "showarrow": false,
          "text": "-0.01",
          "x": "SteamVR Collectibles",
          "xref": "x",
          "y": "Local Multi-Player",
          "yref": "y"
         },
         {
          "font": {
           "color": "#FFFFFF",
           "size": 8
          },
          "showarrow": false,
          "text": "0.13",
          "x": "Online Co-op",
          "xref": "x",
          "y": "Local Multi-Player",
          "yref": "y"
         },
         {
          "font": {
           "color": "#FFFFFF",
           "size": 8
          },
          "showarrow": false,
          "text": "0.58",
          "x": "Shared/Split Screen",
          "xref": "x",
          "y": "Local Multi-Player",
          "yref": "y"
         },
         {
          "font": {
           "color": "#FFFFFF",
           "size": 8
          },
          "showarrow": false,
          "text": "0.53",
          "x": "Local Co-op",
          "xref": "x",
          "y": "Local Multi-Player",
          "yref": "y"
         },
         {
          "font": {
           "color": "#FFFFFF",
           "size": 8
          },
          "showarrow": false,
          "text": "-0.02",
          "x": "MMO",
          "xref": "x",
          "y": "Local Multi-Player",
          "yref": "y"
         },
         {
          "font": {
           "color": "#FFFFFF",
           "size": 8
          },
          "showarrow": false,
          "text": "-0.01",
          "x": "VR Support",
          "xref": "x",
          "y": "Local Multi-Player",
          "yref": "y"
         },
         {
          "font": {
           "color": "#FFFFFF",
           "size": 8
          },
          "showarrow": false,
          "text": "-0.0",
          "x": "Mods",
          "xref": "x",
          "y": "Local Multi-Player",
          "yref": "y"
         },
         {
          "font": {
           "color": "#FFFFFF",
           "size": 8
          },
          "showarrow": false,
          "text": "-0.0",
          "x": "Mods (require HL2)",
          "xref": "x",
          "y": "Local Multi-Player",
          "yref": "y"
         },
         {
          "font": {
           "color": "#FFFFFF",
           "size": 8
          },
          "showarrow": false,
          "text": "0.06",
          "x": "Steam Turn Notifications",
          "xref": "x",
          "y": "Local Multi-Player",
          "yref": "y"
         },
         {
          "font": {
           "color": "#FFFFFF",
           "size": 8
          },
          "showarrow": false,
          "text": "0.12",
          "x": "Multi-player",
          "xref": "x",
          "y": "Valve Anti-Cheat enabled",
          "yref": "y"
         },
         {
          "font": {
           "color": "#FFFFFF",
           "size": 8
          },
          "showarrow": false,
          "text": "0.05",
          "x": "Online Multi-Player",
          "xref": "x",
          "y": "Valve Anti-Cheat enabled",
          "yref": "y"
         },
         {
          "font": {
           "color": "#FFFFFF",
           "size": 8
          },
          "showarrow": false,
          "text": "0.0",
          "x": "Local Multi-Player",
          "xref": "x",
          "y": "Valve Anti-Cheat enabled",
          "yref": "y"
         },
         {
          "font": {
           "color": "#FFFFFF",
           "size": 8
          },
          "showarrow": false,
          "text": "1.0",
          "x": "Valve Anti-Cheat enabled",
          "xref": "x",
          "y": "Valve Anti-Cheat enabled",
          "yref": "y"
         },
         {
          "font": {
           "color": "#FFFFFF",
           "size": 8
          },
          "showarrow": false,
          "text": "-0.09",
          "x": "Single-player",
          "xref": "x",
          "y": "Valve Anti-Cheat enabled",
          "yref": "y"
         },
         {
          "font": {
           "color": "#FFFFFF",
           "size": 8
          },
          "showarrow": false,
          "text": "0.03",
          "x": "Steam Cloud",
          "xref": "x",
          "y": "Valve Anti-Cheat enabled",
          "yref": "y"
         },
         {
          "font": {
           "color": "#FFFFFF",
           "size": 8
          },
          "showarrow": false,
          "text": "0.03",
          "x": "Steam Achievements",
          "xref": "x",
          "y": "Valve Anti-Cheat enabled",
          "yref": "y"
         },
         {
          "font": {
           "color": "#FFFFFF",
           "size": 8
          },
          "showarrow": false,
          "text": "0.03",
          "x": "Steam Trading Cards",
          "xref": "x",
          "y": "Valve Anti-Cheat enabled",
          "yref": "y"
         },
         {
          "font": {
           "color": "#FFFFFF",
           "size": 8
          },
          "showarrow": false,
          "text": "0.02",
          "x": "Captions available",
          "xref": "x",
          "y": "Valve Anti-Cheat enabled",
          "yref": "y"
         },
         {
          "font": {
           "color": "#FFFFFF",
           "size": 8
          },
          "showarrow": false,
          "text": "0.02",
          "x": "Partial Controller Support",
          "xref": "x",
          "y": "Valve Anti-Cheat enabled",
          "yref": "y"
         },
         {
          "font": {
           "color": "#FFFFFF",
           "size": 8
          },
          "showarrow": false,
          "text": "0.16",
          "x": "Includes Source SDK",
          "xref": "x",
          "y": "Valve Anti-Cheat enabled",
          "yref": "y"
         },
         {
          "font": {
           "color": "#FFFFFF",
           "size": 8
          },
          "showarrow": false,
          "text": "0.04",
          "x": "Cross-Platform Multiplayer",
          "xref": "x",
          "y": "Valve Anti-Cheat enabled",
          "yref": "y"
         },
         {
          "font": {
           "color": "#FFFFFF",
           "size": 8
          },
          "showarrow": false,
          "text": "0.06",
          "x": "Stats",
          "xref": "x",
          "y": "Valve Anti-Cheat enabled",
          "yref": "y"
         },
         {
          "font": {
           "color": "#FFFFFF",
           "size": 8
          },
          "showarrow": false,
          "text": "0.02",
          "x": "Commentary available",
          "xref": "x",
          "y": "Valve Anti-Cheat enabled",
          "yref": "y"
         },
         {
          "font": {
           "color": "#FFFFFF",
           "size": 8
          },
          "showarrow": false,
          "text": "0.06",
          "x": "Includes level editor",
          "xref": "x",
          "y": "Valve Anti-Cheat enabled",
          "yref": "y"
         },
         {
          "font": {
           "color": "#FFFFFF",
           "size": 8
          },
          "showarrow": false,
          "text": "0.1",
          "x": "Steam Workshop",
          "xref": "x",
          "y": "Valve Anti-Cheat enabled",
          "yref": "y"
         },
         {
          "font": {
           "color": "#FFFFFF",
           "size": 8
          },
          "showarrow": false,
          "text": "0.04",
          "x": "In-App Purchases",
          "xref": "x",
          "y": "Valve Anti-Cheat enabled",
          "yref": "y"
         },
         {
          "font": {
           "color": "#FFFFFF",
           "size": 8
          },
          "showarrow": false,
          "text": "0.07",
          "x": "Co-op",
          "xref": "x",
          "y": "Valve Anti-Cheat enabled",
          "yref": "y"
         },
         {
          "font": {
           "color": "#FFFFFF",
           "size": 8
          },
          "showarrow": false,
          "text": "0.01",
          "x": "Full controller support",
          "xref": "x",
          "y": "Valve Anti-Cheat enabled",
          "yref": "y"
         },
         {
          "font": {
           "color": "#FFFFFF",
           "size": 8
          },
          "showarrow": false,
          "text": "0.03",
          "x": "Steam Leaderboards",
          "xref": "x",
          "y": "Valve Anti-Cheat enabled",
          "yref": "y"
         },
         {
          "font": {
           "color": "#FFFFFF",
           "size": 8
          },
          "showarrow": false,
          "text": "0.01",
          "x": "SteamVR Collectibles",
          "xref": "x",
          "y": "Valve Anti-Cheat enabled",
          "yref": "y"
         },
         {
          "font": {
           "color": "#FFFFFF",
           "size": 8
          },
          "showarrow": false,
          "text": "0.03",
          "x": "Online Co-op",
          "xref": "x",
          "y": "Valve Anti-Cheat enabled",
          "yref": "y"
         },
         {
          "font": {
           "color": "#FFFFFF",
           "size": 8
          },
          "showarrow": false,
          "text": "-0.01",
          "x": "Shared/Split Screen",
          "xref": "x",
          "y": "Valve Anti-Cheat enabled",
          "yref": "y"
         },
         {
          "font": {
           "color": "#FFFFFF",
           "size": 8
          },
          "showarrow": false,
          "text": "0.0",
          "x": "Local Co-op",
          "xref": "x",
          "y": "Valve Anti-Cheat enabled",
          "yref": "y"
         },
         {
          "font": {
           "color": "#FFFFFF",
           "size": 8
          },
          "showarrow": false,
          "text": "0.04",
          "x": "MMO",
          "xref": "x",
          "y": "Valve Anti-Cheat enabled",
          "yref": "y"
         },
         {
          "font": {
           "color": "#FFFFFF",
           "size": 8
          },
          "showarrow": false,
          "text": "0.01",
          "x": "VR Support",
          "xref": "x",
          "y": "Valve Anti-Cheat enabled",
          "yref": "y"
         },
         {
          "font": {
           "color": "#FFFFFF",
           "size": 8
          },
          "showarrow": false,
          "text": "0.15",
          "x": "Mods",
          "xref": "x",
          "y": "Valve Anti-Cheat enabled",
          "yref": "y"
         },
         {
          "font": {
           "color": "#FFFFFF",
           "size": 8
          },
          "showarrow": false,
          "text": "0.1",
          "x": "Mods (require HL2)",
          "xref": "x",
          "y": "Valve Anti-Cheat enabled",
          "yref": "y"
         },
         {
          "font": {
           "color": "#FFFFFF",
           "size": 8
          },
          "showarrow": false,
          "text": "-0.0",
          "x": "Steam Turn Notifications",
          "xref": "x",
          "y": "Valve Anti-Cheat enabled",
          "yref": "y"
         },
         {
          "font": {
           "color": "#FFFFFF",
           "size": 8
          },
          "showarrow": false,
          "text": "-0.27",
          "x": "Multi-player",
          "xref": "x",
          "y": "Single-player",
          "yref": "y"
         },
         {
          "font": {
           "color": "#FFFFFF",
           "size": 8
          },
          "showarrow": false,
          "text": "-0.36",
          "x": "Online Multi-Player",
          "xref": "x",
          "y": "Single-player",
          "yref": "y"
         },
         {
          "font": {
           "color": "#FFFFFF",
           "size": 8
          },
          "showarrow": false,
          "text": "-0.11",
          "x": "Local Multi-Player",
          "xref": "x",
          "y": "Single-player",
          "yref": "y"
         },
         {
          "font": {
           "color": "#FFFFFF",
           "size": 8
          },
          "showarrow": false,
          "text": "-0.09",
          "x": "Valve Anti-Cheat enabled",
          "xref": "x",
          "y": "Single-player",
          "yref": "y"
         },
         {
          "font": {
           "color": "#FFFFFF",
           "size": 8
          },
          "showarrow": false,
          "text": "1.0",
          "x": "Single-player",
          "xref": "x",
          "y": "Single-player",
          "yref": "y"
         },
         {
          "font": {
           "color": "#FFFFFF",
           "size": 8
          },
          "showarrow": false,
          "text": "0.08",
          "x": "Steam Cloud",
          "xref": "x",
          "y": "Single-player",
          "yref": "y"
         },
         {
          "font": {
           "color": "#FFFFFF",
           "size": 8
          },
          "showarrow": false,
          "text": "0.08",
          "x": "Steam Achievements",
          "xref": "x",
          "y": "Single-player",
          "yref": "y"
         },
         {
          "font": {
           "color": "#FFFFFF",
           "size": 8
          },
          "showarrow": false,
          "text": "0.04",
          "x": "Steam Trading Cards",
          "xref": "x",
          "y": "Single-player",
          "yref": "y"
         },
         {
          "font": {
           "color": "#FFFFFF",
           "size": 8
          },
          "showarrow": false,
          "text": "0.02",
          "x": "Captions available",
          "xref": "x",
          "y": "Single-player",
          "yref": "y"
         },
         {
          "font": {
           "color": "#FFFFFF",
           "size": 8
          },
          "showarrow": false,
          "text": "-0.02",
          "x": "Partial Controller Support",
          "xref": "x",
          "y": "Single-player",
          "yref": "y"
         },
         {
          "font": {
           "color": "#FFFFFF",
           "size": 8
          },
          "showarrow": false,
          "text": "-0.06",
          "x": "Includes Source SDK",
          "xref": "x",
          "y": "Single-player",
          "yref": "y"
         },
         {
          "font": {
           "color": "#FFFFFF",
           "size": 8
          },
          "showarrow": false,
          "text": "-0.15",
          "x": "Cross-Platform Multiplayer",
          "xref": "x",
          "y": "Single-player",
          "yref": "y"
         },
         {
          "font": {
           "color": "#FFFFFF",
           "size": 8
          },
          "showarrow": false,
          "text": "-0.04",
          "x": "Stats",
          "xref": "x",
          "y": "Single-player",
          "yref": "y"
         },
         {
          "font": {
           "color": "#FFFFFF",
           "size": 8
          },
          "showarrow": false,
          "text": "0.01",
          "x": "Commentary available",
          "xref": "x",
          "y": "Single-player",
          "yref": "y"
         },
         {
          "font": {
           "color": "#FFFFFF",
           "size": 8
          },
          "showarrow": false,
          "text": "-0.03",
          "x": "Includes level editor",
          "xref": "x",
          "y": "Single-player",
          "yref": "y"
         },
         {
          "font": {
           "color": "#FFFFFF",
           "size": 8
          },
          "showarrow": false,
          "text": "-0.04",
          "x": "Steam Workshop",
          "xref": "x",
          "y": "Single-player",
          "yref": "y"
         },
         {
          "font": {
           "color": "#FFFFFF",
           "size": 8
          },
          "showarrow": false,
          "text": "-0.24",
          "x": "In-App Purchases",
          "xref": "x",
          "y": "Single-player",
          "yref": "y"
         },
         {
          "font": {
           "color": "#FFFFFF",
           "size": 8
          },
          "showarrow": false,
          "text": "-0.13",
          "x": "Co-op",
          "xref": "x",
          "y": "Single-player",
          "yref": "y"
         },
         {
          "font": {
           "color": "#FFFFFF",
           "size": 8
          },
          "showarrow": false,
          "text": "0.02",
          "x": "Full controller support",
          "xref": "x",
          "y": "Single-player",
          "yref": "y"
         },
         {
          "font": {
           "color": "#FFFFFF",
           "size": 8
          },
          "showarrow": false,
          "text": "0.05",
          "x": "Steam Leaderboards",
          "xref": "x",
          "y": "Single-player",
          "yref": "y"
         },
         {
          "font": {
           "color": "#FFFFFF",
           "size": 8
          },
          "showarrow": false,
          "text": "-0.01",
          "x": "SteamVR Collectibles",
          "xref": "x",
          "y": "Single-player",
          "yref": "y"
         },
         {
          "font": {
           "color": "#FFFFFF",
           "size": 8
          },
          "showarrow": false,
          "text": "-0.16",
          "x": "Online Co-op",
          "xref": "x",
          "y": "Single-player",
          "yref": "y"
         },
         {
          "font": {
           "color": "#FFFFFF",
           "size": 8
          },
          "showarrow": false,
          "text": "-0.07",
          "x": "Shared/Split Screen",
          "xref": "x",
          "y": "Single-player",
          "yref": "y"
         },
         {
          "font": {
           "color": "#FFFFFF",
           "size": 8
          },
          "showarrow": false,
          "text": "-0.02",
          "x": "Local Co-op",
          "xref": "x",
          "y": "Single-player",
          "yref": "y"
         },
         {
          "font": {
           "color": "#FFFFFF",
           "size": 8
          },
          "showarrow": false,
          "text": "-0.34",
          "x": "MMO",
          "xref": "x",
          "y": "Single-player",
          "yref": "y"
         },
         {
          "font": {
           "color": "#FFFFFF",
           "size": 8
          },
          "showarrow": false,
          "text": "-0.01",
          "x": "VR Support",
          "xref": "x",
          "y": "Single-player",
          "yref": "y"
         },
         {
          "font": {
           "color": "#FFFFFF",
           "size": 8
          },
          "showarrow": false,
          "text": "-0.04",
          "x": "Mods",
          "xref": "x",
          "y": "Single-player",
          "yref": "y"
         },
         {
          "font": {
           "color": "#FFFFFF",
           "size": 8
          },
          "showarrow": false,
          "text": "-0.03",
          "x": "Mods (require HL2)",
          "xref": "x",
          "y": "Single-player",
          "yref": "y"
         },
         {
          "font": {
           "color": "#FFFFFF",
           "size": 8
          },
          "showarrow": false,
          "text": "-0.01",
          "x": "Steam Turn Notifications",
          "xref": "x",
          "y": "Single-player",
          "yref": "y"
         },
         {
          "font": {
           "color": "#FFFFFF",
           "size": 8
          },
          "showarrow": false,
          "text": "0.03",
          "x": "Multi-player",
          "xref": "x",
          "y": "Steam Cloud",
          "yref": "y"
         },
         {
          "font": {
           "color": "#FFFFFF",
           "size": 8
          },
          "showarrow": false,
          "text": "-0.01",
          "x": "Online Multi-Player",
          "xref": "x",
          "y": "Steam Cloud",
          "yref": "y"
         },
         {
          "font": {
           "color": "#FFFFFF",
           "size": 8
          },
          "showarrow": false,
          "text": "0.04",
          "x": "Local Multi-Player",
          "xref": "x",
          "y": "Steam Cloud",
          "yref": "y"
         },
         {
          "font": {
           "color": "#FFFFFF",
           "size": 8
          },
          "showarrow": false,
          "text": "0.03",
          "x": "Valve Anti-Cheat enabled",
          "xref": "x",
          "y": "Steam Cloud",
          "yref": "y"
         },
         {
          "font": {
           "color": "#FFFFFF",
           "size": 8
          },
          "showarrow": false,
          "text": "0.08",
          "x": "Single-player",
          "xref": "x",
          "y": "Steam Cloud",
          "yref": "y"
         },
         {
          "font": {
           "color": "#FFFFFF",
           "size": 8
          },
          "showarrow": false,
          "text": "1.0",
          "x": "Steam Cloud",
          "xref": "x",
          "y": "Steam Cloud",
          "yref": "y"
         },
         {
          "font": {
           "color": "#FFFFFF",
           "size": 8
          },
          "showarrow": false,
          "text": "0.39",
          "x": "Steam Achievements",
          "xref": "x",
          "y": "Steam Cloud",
          "yref": "y"
         },
         {
          "font": {
           "color": "#FFFFFF",
           "size": 8
          },
          "showarrow": false,
          "text": "0.3",
          "x": "Steam Trading Cards",
          "xref": "x",
          "y": "Steam Cloud",
          "yref": "y"
         },
         {
          "font": {
           "color": "#FFFFFF",
           "size": 8
          },
          "showarrow": false,
          "text": "0.11",
          "x": "Captions available",
          "xref": "x",
          "y": "Steam Cloud",
          "yref": "y"
         },
         {
          "font": {
           "color": "#FFFFFF",
           "size": 8
          },
          "showarrow": false,
          "text": "0.02",
          "x": "Partial Controller Support",
          "xref": "x",
          "y": "Steam Cloud",
          "yref": "y"
         },
         {
          "font": {
           "color": "#FFFFFF",
           "size": 8
          },
          "showarrow": false,
          "text": "0.02",
          "x": "Includes Source SDK",
          "xref": "x",
          "y": "Steam Cloud",
          "yref": "y"
         },
         {
          "font": {
           "color": "#FFFFFF",
           "size": 8
          },
          "showarrow": false,
          "text": "0.01",
          "x": "Cross-Platform Multiplayer",
          "xref": "x",
          "y": "Steam Cloud",
          "yref": "y"
         },
         {
          "font": {
           "color": "#FFFFFF",
           "size": 8
          },
          "showarrow": false,
          "text": "0.15",
          "x": "Stats",
          "xref": "x",
          "y": "Steam Cloud",
          "yref": "y"
         },
         {
          "font": {
           "color": "#FFFFFF",
           "size": 8
          },
          "showarrow": false,
          "text": "0.02",
          "x": "Commentary available",
          "xref": "x",
          "y": "Steam Cloud",
          "yref": "y"
         },
         {
          "font": {
           "color": "#FFFFFF",
           "size": 8
          },
          "showarrow": false,
          "text": "0.09",
          "x": "Includes level editor",
          "xref": "x",
          "y": "Steam Cloud",
          "yref": "y"
         },
         {
          "font": {
           "color": "#FFFFFF",
           "size": 8
          },
          "showarrow": false,
          "text": "0.13",
          "x": "Steam Workshop",
          "xref": "x",
          "y": "Steam Cloud",
          "yref": "y"
         },
         {
          "font": {
           "color": "#FFFFFF",
           "size": 8
          },
          "showarrow": false,
          "text": "-0.04",
          "x": "In-App Purchases",
          "xref": "x",
          "y": "Steam Cloud",
          "yref": "y"
         },
         {
          "font": {
           "color": "#FFFFFF",
           "size": 8
          },
          "showarrow": false,
          "text": "0.07",
          "x": "Co-op",
          "xref": "x",
          "y": "Steam Cloud",
          "yref": "y"
         },
         {
          "font": {
           "color": "#FFFFFF",
           "size": 8
          },
          "showarrow": false,
          "text": "0.25",
          "x": "Full controller support",
          "xref": "x",
          "y": "Steam Cloud",
          "yref": "y"
         },
         {
          "font": {
           "color": "#FFFFFF",
           "size": 8
          },
          "showarrow": false,
          "text": "0.22",
          "x": "Steam Leaderboards",
          "xref": "x",
          "y": "Steam Cloud",
          "yref": "y"
         },
         {
          "font": {
           "color": "#FFFFFF",
           "size": 8
          },
          "showarrow": false,
          "text": "0.01",
          "x": "SteamVR Collectibles",
          "xref": "x",
          "y": "Steam Cloud",
          "yref": "y"
         },
         {
          "font": {
           "color": "#FFFFFF",
           "size": 8
          },
          "showarrow": false,
          "text": "0.02",
          "x": "Online Co-op",
          "xref": "x",
          "y": "Steam Cloud",
          "yref": "y"
         },
         {
          "font": {
           "color": "#FFFFFF",
           "size": 8
          },
          "showarrow": false,
          "text": "0.09",
          "x": "Shared/Split Screen",
          "xref": "x",
          "y": "Steam Cloud",
          "yref": "y"
         },
         {
          "font": {
           "color": "#FFFFFF",
           "size": 8
          },
          "showarrow": false,
          "text": "0.07",
          "x": "Local Co-op",
          "xref": "x",
          "y": "Steam Cloud",
          "yref": "y"
         },
         {
          "font": {
           "color": "#FFFFFF",
           "size": 8
          },
          "showarrow": false,
          "text": "-0.06",
          "x": "MMO",
          "xref": "x",
          "y": "Steam Cloud",
          "yref": "y"
         },
         {
          "font": {
           "color": "#FFFFFF",
           "size": 8
          },
          "showarrow": false,
          "text": "-0.01",
          "x": "VR Support",
          "xref": "x",
          "y": "Steam Cloud",
          "yref": "y"
         },
         {
          "font": {
           "color": "#FFFFFF",
           "size": 8
          },
          "showarrow": false,
          "text": "0.01",
          "x": "Mods",
          "xref": "x",
          "y": "Steam Cloud",
          "yref": "y"
         },
         {
          "font": {
           "color": "#FFFFFF",
           "size": 8
          },
          "showarrow": false,
          "text": "0.01",
          "x": "Mods (require HL2)",
          "xref": "x",
          "y": "Steam Cloud",
          "yref": "y"
         },
         {
          "font": {
           "color": "#FFFFFF",
           "size": 8
          },
          "showarrow": false,
          "text": "0.02",
          "x": "Steam Turn Notifications",
          "xref": "x",
          "y": "Steam Cloud",
          "yref": "y"
         },
         {
          "font": {
           "color": "#FFFFFF",
           "size": 8
          },
          "showarrow": false,
          "text": "0.01",
          "x": "Multi-player",
          "xref": "x",
          "y": "Steam Achievements",
          "yref": "y"
         },
         {
          "font": {
           "color": "#FFFFFF",
           "size": 8
          },
          "showarrow": false,
          "text": "-0.0",
          "x": "Online Multi-Player",
          "xref": "x",
          "y": "Steam Achievements",
          "yref": "y"
         },
         {
          "font": {
           "color": "#FFFFFF",
           "size": 8
          },
          "showarrow": false,
          "text": "0.04",
          "x": "Local Multi-Player",
          "xref": "x",
          "y": "Steam Achievements",
          "yref": "y"
         },
         {
          "font": {
           "color": "#FFFFFF",
           "size": 8
          },
          "showarrow": false,
          "text": "0.03",
          "x": "Valve Anti-Cheat enabled",
          "xref": "x",
          "y": "Steam Achievements",
          "yref": "y"
         },
         {
          "font": {
           "color": "#FFFFFF",
           "size": 8
          },
          "showarrow": false,
          "text": "0.08",
          "x": "Single-player",
          "xref": "x",
          "y": "Steam Achievements",
          "yref": "y"
         },
         {
          "font": {
           "color": "#FFFFFF",
           "size": 8
          },
          "showarrow": false,
          "text": "0.39",
          "x": "Steam Cloud",
          "xref": "x",
          "y": "Steam Achievements",
          "yref": "y"
         },
         {
          "font": {
           "color": "#FFFFFF",
           "size": 8
          },
          "showarrow": false,
          "text": "1.0",
          "x": "Steam Achievements",
          "xref": "x",
          "y": "Steam Achievements",
          "yref": "y"
         },
         {
          "font": {
           "color": "#FFFFFF",
           "size": 8
          },
          "showarrow": false,
          "text": "0.34",
          "x": "Steam Trading Cards",
          "xref": "x",
          "y": "Steam Achievements",
          "yref": "y"
         },
         {
          "font": {
           "color": "#FFFFFF",
           "size": 8
          },
          "showarrow": false,
          "text": "0.09",
          "x": "Captions available",
          "xref": "x",
          "y": "Steam Achievements",
          "yref": "y"
         },
         {
          "font": {
           "color": "#FFFFFF",
           "size": 8
          },
          "showarrow": false,
          "text": "0.05",
          "x": "Partial Controller Support",
          "xref": "x",
          "y": "Steam Achievements",
          "yref": "y"
         },
         {
          "font": {
           "color": "#FFFFFF",
           "size": 8
          },
          "showarrow": false,
          "text": "0.01",
          "x": "Includes Source SDK",
          "xref": "x",
          "y": "Steam Achievements",
          "yref": "y"
         },
         {
          "font": {
           "color": "#FFFFFF",
           "size": 8
          },
          "showarrow": false,
          "text": "0.04",
          "x": "Cross-Platform Multiplayer",
          "xref": "x",
          "y": "Steam Achievements",
          "yref": "y"
         },
         {
          "font": {
           "color": "#FFFFFF",
           "size": 8
          },
          "showarrow": false,
          "text": "0.21",
          "x": "Stats",
          "xref": "x",
          "y": "Steam Achievements",
          "yref": "y"
         },
         {
          "font": {
           "color": "#FFFFFF",
           "size": 8
          },
          "showarrow": false,
          "text": "0.02",
          "x": "Commentary available",
          "xref": "x",
          "y": "Steam Achievements",
          "yref": "y"
         },
         {
          "font": {
           "color": "#FFFFFF",
           "size": 8
          },
          "showarrow": false,
          "text": "0.06",
          "x": "Includes level editor",
          "xref": "x",
          "y": "Steam Achievements",
          "yref": "y"
         },
         {
          "font": {
           "color": "#FFFFFF",
           "size": 8
          },
          "showarrow": false,
          "text": "0.09",
          "x": "Steam Workshop",
          "xref": "x",
          "y": "Steam Achievements",
          "yref": "y"
         },
         {
          "font": {
           "color": "#FFFFFF",
           "size": 8
          },
          "showarrow": false,
          "text": "-0.02",
          "x": "In-App Purchases",
          "xref": "x",
          "y": "Steam Achievements",
          "yref": "y"
         },
         {
          "font": {
           "color": "#FFFFFF",
           "size": 8
          },
          "showarrow": false,
          "text": "0.07",
          "x": "Co-op",
          "xref": "x",
          "y": "Steam Achievements",
          "yref": "y"
         },
         {
          "font": {
           "color": "#FFFFFF",
           "size": 8
          },
          "showarrow": false,
          "text": "0.26",
          "x": "Full controller support",
          "xref": "x",
          "y": "Steam Achievements",
          "yref": "y"
         },
         {
          "font": {
           "color": "#FFFFFF",
           "size": 8
          },
          "showarrow": false,
          "text": "0.29",
          "x": "Steam Leaderboards",
          "xref": "x",
          "y": "Steam Achievements",
          "yref": "y"
         },
         {
          "font": {
           "color": "#FFFFFF",
           "size": 8
          },
          "showarrow": false,
          "text": "0.0",
          "x": "SteamVR Collectibles",
          "xref": "x",
          "y": "Steam Achievements",
          "yref": "y"
         },
         {
          "font": {
           "color": "#FFFFFF",
           "size": 8
          },
          "showarrow": false,
          "text": "0.02",
          "x": "Online Co-op",
          "xref": "x",
          "y": "Steam Achievements",
          "yref": "y"
         },
         {
          "font": {
           "color": "#FFFFFF",
           "size": 8
          },
          "showarrow": false,
          "text": "0.08",
          "x": "Shared/Split Screen",
          "xref": "x",
          "y": "Steam Achievements",
          "yref": "y"
         },
         {
          "font": {
           "color": "#FFFFFF",
           "size": 8
          },
          "showarrow": false,
          "text": "0.07",
          "x": "Local Co-op",
          "xref": "x",
          "y": "Steam Achievements",
          "yref": "y"
         },
         {
          "font": {
           "color": "#FFFFFF",
           "size": 8
          },
          "showarrow": false,
          "text": "-0.05",
          "x": "MMO",
          "xref": "x",
          "y": "Steam Achievements",
          "yref": "y"
         },
         {
          "font": {
           "color": "#FFFFFF",
           "size": 8
          },
          "showarrow": false,
          "text": "-0.0",
          "x": "VR Support",
          "xref": "x",
          "y": "Steam Achievements",
          "yref": "y"
         },
         {
          "font": {
           "color": "#FFFFFF",
           "size": 8
          },
          "showarrow": false,
          "text": "0.01",
          "x": "Mods",
          "xref": "x",
          "y": "Steam Achievements",
          "yref": "y"
         },
         {
          "font": {
           "color": "#FFFFFF",
           "size": 8
          },
          "showarrow": false,
          "text": "0.01",
          "x": "Mods (require HL2)",
          "xref": "x",
          "y": "Steam Achievements",
          "yref": "y"
         },
         {
          "font": {
           "color": "#FFFFFF",
           "size": 8
          },
          "showarrow": false,
          "text": "0.03",
          "x": "Steam Turn Notifications",
          "xref": "x",
          "y": "Steam Achievements",
          "yref": "y"
         },
         {
          "font": {
           "color": "#FFFFFF",
           "size": 8
          },
          "showarrow": false,
          "text": "0.04",
          "x": "Multi-player",
          "xref": "x",
          "y": "Steam Trading Cards",
          "yref": "y"
         },
         {
          "font": {
           "color": "#FFFFFF",
           "size": 8
          },
          "showarrow": false,
          "text": "0.0",
          "x": "Online Multi-Player",
          "xref": "x",
          "y": "Steam Trading Cards",
          "yref": "y"
         },
         {
          "font": {
           "color": "#FFFFFF",
           "size": 8
          },
          "showarrow": false,
          "text": "-0.0",
          "x": "Local Multi-Player",
          "xref": "x",
          "y": "Steam Trading Cards",
          "yref": "y"
         },
         {
          "font": {
           "color": "#FFFFFF",
           "size": 8
          },
          "showarrow": false,
          "text": "0.03",
          "x": "Valve Anti-Cheat enabled",
          "xref": "x",
          "y": "Steam Trading Cards",
          "yref": "y"
         },
         {
          "font": {
           "color": "#FFFFFF",
           "size": 8
          },
          "showarrow": false,
          "text": "0.04",
          "x": "Single-player",
          "xref": "x",
          "y": "Steam Trading Cards",
          "yref": "y"
         },
         {
          "font": {
           "color": "#FFFFFF",
           "size": 8
          },
          "showarrow": false,
          "text": "0.3",
          "x": "Steam Cloud",
          "xref": "x",
          "y": "Steam Trading Cards",
          "yref": "y"
         },
         {
          "font": {
           "color": "#FFFFFF",
           "size": 8
          },
          "showarrow": false,
          "text": "0.34",
          "x": "Steam Achievements",
          "xref": "x",
          "y": "Steam Trading Cards",
          "yref": "y"
         },
         {
          "font": {
           "color": "#FFFFFF",
           "size": 8
          },
          "showarrow": false,
          "text": "1.0",
          "x": "Steam Trading Cards",
          "xref": "x",
          "y": "Steam Trading Cards",
          "yref": "y"
         },
         {
          "font": {
           "color": "#FFFFFF",
           "size": 8
          },
          "showarrow": false,
          "text": "0.06",
          "x": "Captions available",
          "xref": "x",
          "y": "Steam Trading Cards",
          "yref": "y"
         },
         {
          "font": {
           "color": "#FFFFFF",
           "size": 8
          },
          "showarrow": false,
          "text": "0.04",
          "x": "Partial Controller Support",
          "xref": "x",
          "y": "Steam Trading Cards",
          "yref": "y"
         },
         {
          "font": {
           "color": "#FFFFFF",
           "size": 8
          },
          "showarrow": false,
          "text": "-0.01",
          "x": "Includes Source SDK",
          "xref": "x",
          "y": "Steam Trading Cards",
          "yref": "y"
         },
         {
          "font": {
           "color": "#FFFFFF",
           "size": 8
          },
          "showarrow": false,
          "text": "0.06",
          "x": "Cross-Platform Multiplayer",
          "xref": "x",
          "y": "Steam Trading Cards",
          "yref": "y"
         },
         {
          "font": {
           "color": "#FFFFFF",
           "size": 8
          },
          "showarrow": false,
          "text": "0.1",
          "x": "Stats",
          "xref": "x",
          "y": "Steam Trading Cards",
          "yref": "y"
         },
         {
          "font": {
           "color": "#FFFFFF",
           "size": 8
          },
          "showarrow": false,
          "text": "0.03",
          "x": "Commentary available",
          "xref": "x",
          "y": "Steam Trading Cards",
          "yref": "y"
         },
         {
          "font": {
           "color": "#FFFFFF",
           "size": 8
          },
          "showarrow": false,
          "text": "0.06",
          "x": "Includes level editor",
          "xref": "x",
          "y": "Steam Trading Cards",
          "yref": "y"
         },
         {
          "font": {
           "color": "#FFFFFF",
           "size": 8
          },
          "showarrow": false,
          "text": "0.11",
          "x": "Steam Workshop",
          "xref": "x",
          "y": "Steam Trading Cards",
          "yref": "y"
         },
         {
          "font": {
           "color": "#FFFFFF",
           "size": 8
          },
          "showarrow": false,
          "text": "0.02",
          "x": "In-App Purchases",
          "xref": "x",
          "y": "Steam Trading Cards",
          "yref": "y"
         },
         {
          "font": {
           "color": "#FFFFFF",
           "size": 8
          },
          "showarrow": false,
          "text": "0.07",
          "x": "Co-op",
          "xref": "x",
          "y": "Steam Trading Cards",
          "yref": "y"
         },
         {
          "font": {
           "color": "#FFFFFF",
           "size": 8
          },
          "showarrow": false,
          "text": "0.2",
          "x": "Full controller support",
          "xref": "x",
          "y": "Steam Trading Cards",
          "yref": "y"
         },
         {
          "font": {
           "color": "#FFFFFF",
           "size": 8
          },
          "showarrow": false,
          "text": "0.13",
          "x": "Steam Leaderboards",
          "xref": "x",
          "y": "Steam Trading Cards",
          "yref": "y"
         },
         {
          "font": {
           "color": "#FFFFFF",
           "size": 8
          },
          "showarrow": false,
          "text": "0.0",
          "x": "SteamVR Collectibles",
          "xref": "x",
          "y": "Steam Trading Cards",
          "yref": "y"
         },
         {
          "font": {
           "color": "#FFFFFF",
           "size": 8
          },
          "showarrow": false,
          "text": "0.03",
          "x": "Online Co-op",
          "xref": "x",
          "y": "Steam Trading Cards",
          "yref": "y"
         },
         {
          "font": {
           "color": "#FFFFFF",
           "size": 8
          },
          "showarrow": false,
          "text": "0.07",
          "x": "Shared/Split Screen",
          "xref": "x",
          "y": "Steam Trading Cards",
          "yref": "y"
         },
         {
          "font": {
           "color": "#FFFFFF",
           "size": 8
          },
          "showarrow": false,
          "text": "0.03",
          "x": "Local Co-op",
          "xref": "x",
          "y": "Steam Trading Cards",
          "yref": "y"
         },
         {
          "font": {
           "color": "#FFFFFF",
           "size": 8
          },
          "showarrow": false,
          "text": "0.02",
          "x": "MMO",
          "xref": "x",
          "y": "Steam Trading Cards",
          "yref": "y"
         },
         {
          "font": {
           "color": "#FFFFFF",
           "size": 8
          },
          "showarrow": false,
          "text": "0.01",
          "x": "VR Support",
          "xref": "x",
          "y": "Steam Trading Cards",
          "yref": "y"
         },
         {
          "font": {
           "color": "#FFFFFF",
           "size": 8
          },
          "showarrow": false,
          "text": "-0.01",
          "x": "Mods",
          "xref": "x",
          "y": "Steam Trading Cards",
          "yref": "y"
         },
         {
          "font": {
           "color": "#FFFFFF",
           "size": 8
          },
          "showarrow": false,
          "text": "-0.0",
          "x": "Mods (require HL2)",
          "xref": "x",
          "y": "Steam Trading Cards",
          "yref": "y"
         },
         {
          "font": {
           "color": "#FFFFFF",
           "size": 8
          },
          "showarrow": false,
          "text": "0.03",
          "x": "Steam Turn Notifications",
          "xref": "x",
          "y": "Steam Trading Cards",
          "yref": "y"
         },
         {
          "font": {
           "color": "#FFFFFF",
           "size": 8
          },
          "showarrow": false,
          "text": "-0.02",
          "x": "Multi-player",
          "xref": "x",
          "y": "Captions available",
          "yref": "y"
         },
         {
          "font": {
           "color": "#FFFFFF",
           "size": 8
          },
          "showarrow": false,
          "text": "-0.02",
          "x": "Online Multi-Player",
          "xref": "x",
          "y": "Captions available",
          "yref": "y"
         },
         {
          "font": {
           "color": "#FFFFFF",
           "size": 8
          },
          "showarrow": false,
          "text": "-0.02",
          "x": "Local Multi-Player",
          "xref": "x",
          "y": "Captions available",
          "yref": "y"
         },
         {
          "font": {
           "color": "#FFFFFF",
           "size": 8
          },
          "showarrow": false,
          "text": "0.02",
          "x": "Valve Anti-Cheat enabled",
          "xref": "x",
          "y": "Captions available",
          "yref": "y"
         },
         {
          "font": {
           "color": "#FFFFFF",
           "size": 8
          },
          "showarrow": false,
          "text": "0.02",
          "x": "Single-player",
          "xref": "x",
          "y": "Captions available",
          "yref": "y"
         },
         {
          "font": {
           "color": "#FFFFFF",
           "size": 8
          },
          "showarrow": false,
          "text": "0.11",
          "x": "Steam Cloud",
          "xref": "x",
          "y": "Captions available",
          "yref": "y"
         },
         {
          "font": {
           "color": "#FFFFFF",
           "size": 8
          },
          "showarrow": false,
          "text": "0.09",
          "x": "Steam Achievements",
          "xref": "x",
          "y": "Captions available",
          "yref": "y"
         },
         {
          "font": {
           "color": "#FFFFFF",
           "size": 8
          },
          "showarrow": false,
          "text": "0.06",
          "x": "Steam Trading Cards",
          "xref": "x",
          "y": "Captions available",
          "yref": "y"
         },
         {
          "font": {
           "color": "#FFFFFF",
           "size": 8
          },
          "showarrow": false,
          "text": "1.0",
          "x": "Captions available",
          "xref": "x",
          "y": "Captions available",
          "yref": "y"
         },
         {
          "font": {
           "color": "#FFFFFF",
           "size": 8
          },
          "showarrow": false,
          "text": "0.0",
          "x": "Partial Controller Support",
          "xref": "x",
          "y": "Captions available",
          "yref": "y"
         },
         {
          "font": {
           "color": "#FFFFFF",
           "size": 8
          },
          "showarrow": false,
          "text": "0.06",
          "x": "Includes Source SDK",
          "xref": "x",
          "y": "Captions available",
          "yref": "y"
         },
         {
          "font": {
           "color": "#FFFFFF",
           "size": 8
          },
          "showarrow": false,
          "text": "-0.01",
          "x": "Cross-Platform Multiplayer",
          "xref": "x",
          "y": "Captions available",
          "yref": "y"
         },
         {
          "font": {
           "color": "#FFFFFF",
           "size": 8
          },
          "showarrow": false,
          "text": "0.04",
          "x": "Stats",
          "xref": "x",
          "y": "Captions available",
          "yref": "y"
         },
         {
          "font": {
           "color": "#FFFFFF",
           "size": 8
          },
          "showarrow": false,
          "text": "0.1",
          "x": "Commentary available",
          "xref": "x",
          "y": "Captions available",
          "yref": "y"
         },
         {
          "font": {
           "color": "#FFFFFF",
           "size": 8
          },
          "showarrow": false,
          "text": "0.04",
          "x": "Includes level editor",
          "xref": "x",
          "y": "Captions available",
          "yref": "y"
         },
         {
          "font": {
           "color": "#FFFFFF",
           "size": 8
          },
          "showarrow": false,
          "text": "0.02",
          "x": "Steam Workshop",
          "xref": "x",
          "y": "Captions available",
          "yref": "y"
         },
         {
          "font": {
           "color": "#FFFFFF",
           "size": 8
          },
          "showarrow": false,
          "text": "-0.01",
          "x": "In-App Purchases",
          "xref": "x",
          "y": "Captions available",
          "yref": "y"
         },
         {
          "font": {
           "color": "#FFFFFF",
           "size": 8
          },
          "showarrow": false,
          "text": "-0.0",
          "x": "Co-op",
          "xref": "x",
          "y": "Captions available",
          "yref": "y"
         },
         {
          "font": {
           "color": "#FFFFFF",
           "size": 8
          },
          "showarrow": false,
          "text": "0.04",
          "x": "Full controller support",
          "xref": "x",
          "y": "Captions available",
          "yref": "y"
         },
         {
          "font": {
           "color": "#FFFFFF",
           "size": 8
          },
          "showarrow": false,
          "text": "-0.0",
          "x": "Steam Leaderboards",
          "xref": "x",
          "y": "Captions available",
          "yref": "y"
         },
         {
          "font": {
           "color": "#FFFFFF",
           "size": 8
          },
          "showarrow": false,
          "text": "-0.0",
          "x": "SteamVR Collectibles",
          "xref": "x",
          "y": "Captions available",
          "yref": "y"
         },
         {
          "font": {
           "color": "#FFFFFF",
           "size": 8
          },
          "showarrow": false,
          "text": "-0.01",
          "x": "Online Co-op",
          "xref": "x",
          "y": "Captions available",
          "yref": "y"
         },
         {
          "font": {
           "color": "#FFFFFF",
           "size": 8
          },
          "showarrow": false,
          "text": "-0.02",
          "x": "Shared/Split Screen",
          "xref": "x",
          "y": "Captions available",
          "yref": "y"
         },
         {
          "font": {
           "color": "#FFFFFF",
           "size": 8
          },
          "showarrow": false,
          "text": "-0.01",
          "x": "Local Co-op",
          "xref": "x",
          "y": "Captions available",
          "yref": "y"
         },
         {
          "font": {
           "color": "#FFFFFF",
           "size": 8
          },
          "showarrow": false,
          "text": "-0.02",
          "x": "MMO",
          "xref": "x",
          "y": "Captions available",
          "yref": "y"
         },
         {
          "font": {
           "color": "#FFFFFF",
           "size": 8
          },
          "showarrow": false,
          "text": "0.01",
          "x": "VR Support",
          "xref": "x",
          "y": "Captions available",
          "yref": "y"
         },
         {
          "font": {
           "color": "#FFFFFF",
           "size": 8
          },
          "showarrow": false,
          "text": "-0.0",
          "x": "Mods",
          "xref": "x",
          "y": "Captions available",
          "yref": "y"
         },
         {
          "font": {
           "color": "#FFFFFF",
           "size": 8
          },
          "showarrow": false,
          "text": "-0.0",
          "x": "Mods (require HL2)",
          "xref": "x",
          "y": "Captions available",
          "yref": "y"
         },
         {
          "font": {
           "color": "#FFFFFF",
           "size": 8
          },
          "showarrow": false,
          "text": "0.0",
          "x": "Steam Turn Notifications",
          "xref": "x",
          "y": "Captions available",
          "yref": "y"
         },
         {
          "font": {
           "color": "#FFFFFF",
           "size": 8
          },
          "showarrow": false,
          "text": "0.05",
          "x": "Multi-player",
          "xref": "x",
          "y": "Partial Controller Support",
          "yref": "y"
         },
         {
          "font": {
           "color": "#FFFFFF",
           "size": 8
          },
          "showarrow": false,
          "text": "0.02",
          "x": "Online Multi-Player",
          "xref": "x",
          "y": "Partial Controller Support",
          "yref": "y"
         },
         {
          "font": {
           "color": "#FFFFFF",
           "size": 8
          },
          "showarrow": false,
          "text": "0.06",
          "x": "Local Multi-Player",
          "xref": "x",
          "y": "Partial Controller Support",
          "yref": "y"
         },
         {
          "font": {
           "color": "#FFFFFF",
           "size": 8
          },
          "showarrow": false,
          "text": "0.02",
          "x": "Valve Anti-Cheat enabled",
          "xref": "x",
          "y": "Partial Controller Support",
          "yref": "y"
         },
         {
          "font": {
           "color": "#FFFFFF",
           "size": 8
          },
          "showarrow": false,
          "text": "-0.02",
          "x": "Single-player",
          "xref": "x",
          "y": "Partial Controller Support",
          "yref": "y"
         },
         {
          "font": {
           "color": "#FFFFFF",
           "size": 8
          },
          "showarrow": false,
          "text": "0.02",
          "x": "Steam Cloud",
          "xref": "x",
          "y": "Partial Controller Support",
          "yref": "y"
         },
         {
          "font": {
           "color": "#FFFFFF",
           "size": 8
          },
          "showarrow": false,
          "text": "0.05",
          "x": "Steam Achievements",
          "xref": "x",
          "y": "Partial Controller Support",
          "yref": "y"
         },
         {
          "font": {
           "color": "#FFFFFF",
           "size": 8
          },
          "showarrow": false,
          "text": "0.04",
          "x": "Steam Trading Cards",
          "xref": "x",
          "y": "Partial Controller Support",
          "yref": "y"
         },
         {
          "font": {
           "color": "#FFFFFF",
           "size": 8
          },
          "showarrow": false,
          "text": "0.0",
          "x": "Captions available",
          "xref": "x",
          "y": "Partial Controller Support",
          "yref": "y"
         },
         {
          "font": {
           "color": "#FFFFFF",
           "size": 8
          },
          "showarrow": false,
          "text": "1.0",
          "x": "Partial Controller Support",
          "xref": "x",
          "y": "Partial Controller Support",
          "yref": "y"
         },
         {
          "font": {
           "color": "#FFFFFF",
           "size": 8
          },
          "showarrow": false,
          "text": "0.02",
          "x": "Includes Source SDK",
          "xref": "x",
          "y": "Partial Controller Support",
          "yref": "y"
         },
         {
          "font": {
           "color": "#FFFFFF",
           "size": 8
          },
          "showarrow": false,
          "text": "0.01",
          "x": "Cross-Platform Multiplayer",
          "xref": "x",
          "y": "Partial Controller Support",
          "yref": "y"
         },
         {
          "font": {
           "color": "#FFFFFF",
           "size": 8
          },
          "showarrow": false,
          "text": "0.03",
          "x": "Stats",
          "xref": "x",
          "y": "Partial Controller Support",
          "yref": "y"
         },
         {
          "font": {
           "color": "#FFFFFF",
           "size": 8
          },
          "showarrow": false,
          "text": "-0.0",
          "x": "Commentary available",
          "xref": "x",
          "y": "Partial Controller Support",
          "yref": "y"
         },
         {
          "font": {
           "color": "#FFFFFF",
           "size": 8
          },
          "showarrow": false,
          "text": "0.04",
          "x": "Includes level editor",
          "xref": "x",
          "y": "Partial Controller Support",
          "yref": "y"
         },
         {
          "font": {
           "color": "#FFFFFF",
           "size": 8
          },
          "showarrow": false,
          "text": "0.03",
          "x": "Steam Workshop",
          "xref": "x",
          "y": "Partial Controller Support",
          "yref": "y"
         },
         {
          "font": {
           "color": "#FFFFFF",
           "size": 8
          },
          "showarrow": false,
          "text": "-0.01",
          "x": "In-App Purchases",
          "xref": "x",
          "y": "Partial Controller Support",
          "yref": "y"
         },
         {
          "font": {
           "color": "#FFFFFF",
           "size": 8
          },
          "showarrow": false,
          "text": "0.07",
          "x": "Co-op",
          "xref": "x",
          "y": "Partial Controller Support",
          "yref": "y"
         },
         {
          "font": {
           "color": "#FFFFFF",
           "size": 8
          },
          "showarrow": false,
          "text": "-0.22",
          "x": "Full controller support",
          "xref": "x",
          "y": "Partial Controller Support",
          "yref": "y"
         },
         {
          "font": {
           "color": "#FFFFFF",
           "size": 8
          },
          "showarrow": false,
          "text": "0.04",
          "x": "Steam Leaderboards",
          "xref": "x",
          "y": "Partial Controller Support",
          "yref": "y"
         },
         {
          "font": {
           "color": "#FFFFFF",
           "size": 8
          },
          "showarrow": false,
          "text": "-0.02",
          "x": "SteamVR Collectibles",
          "xref": "x",
          "y": "Partial Controller Support",
          "yref": "y"
         },
         {
          "font": {
           "color": "#FFFFFF",
           "size": 8
          },
          "showarrow": false,
          "text": "0.03",
          "x": "Online Co-op",
          "xref": "x",
          "y": "Partial Controller Support",
          "yref": "y"
         },
         {
          "font": {
           "color": "#FFFFFF",
           "size": 8
          },
          "showarrow": false,
          "text": "0.07",
          "x": "Shared/Split Screen",
          "xref": "x",
          "y": "Partial Controller Support",
          "yref": "y"
         },
         {
          "font": {
           "color": "#FFFFFF",
           "size": 8
          },
          "showarrow": false,
          "text": "0.04",
          "x": "Local Co-op",
          "xref": "x",
          "y": "Partial Controller Support",
          "yref": "y"
         },
         {
          "font": {
           "color": "#FFFFFF",
           "size": 8
          },
          "showarrow": false,
          "text": "-0.0",
          "x": "MMO",
          "xref": "x",
          "y": "Partial Controller Support",
          "yref": "y"
         },
         {
          "font": {
           "color": "#FFFFFF",
           "size": 8
          },
          "showarrow": false,
          "text": "0.02",
          "x": "VR Support",
          "xref": "x",
          "y": "Partial Controller Support",
          "yref": "y"
         },
         {
          "font": {
           "color": "#FFFFFF",
           "size": 8
          },
          "showarrow": false,
          "text": "-0.0",
          "x": "Mods",
          "xref": "x",
          "y": "Partial Controller Support",
          "yref": "y"
         },
         {
          "font": {
           "color": "#FFFFFF",
           "size": 8
          },
          "showarrow": false,
          "text": "-0.0",
          "x": "Mods (require HL2)",
          "xref": "x",
          "y": "Partial Controller Support",
          "yref": "y"
         },
         {
          "font": {
           "color": "#FFFFFF",
           "size": 8
          },
          "showarrow": false,
          "text": "-0.02",
          "x": "Steam Turn Notifications",
          "xref": "x",
          "y": "Partial Controller Support",
          "yref": "y"
         },
         {
          "font": {
           "color": "#FFFFFF",
           "size": 8
          },
          "showarrow": false,
          "text": "0.05",
          "x": "Multi-player",
          "xref": "x",
          "y": "Includes Source SDK",
          "yref": "y"
         },
         {
          "font": {
           "color": "#FFFFFF",
           "size": 8
          },
          "showarrow": false,
          "text": "0.03",
          "x": "Online Multi-Player",
          "xref": "x",
          "y": "Includes Source SDK",
          "yref": "y"
         },
         {
          "font": {
           "color": "#FFFFFF",
           "size": 8
          },
          "showarrow": false,
          "text": "0.02",
          "x": "Local Multi-Player",
          "xref": "x",
          "y": "Includes Source SDK",
          "yref": "y"
         },
         {
          "font": {
           "color": "#FFFFFF",
           "size": 8
          },
          "showarrow": false,
          "text": "0.16",
          "x": "Valve Anti-Cheat enabled",
          "xref": "x",
          "y": "Includes Source SDK",
          "yref": "y"
         },
         {
          "font": {
           "color": "#FFFFFF",
           "size": 8
          },
          "showarrow": false,
          "text": "-0.06",
          "x": "Single-player",
          "xref": "x",
          "y": "Includes Source SDK",
          "yref": "y"
         },
         {
          "font": {
           "color": "#FFFFFF",
           "size": 8
          },
          "showarrow": false,
          "text": "0.02",
          "x": "Steam Cloud",
          "xref": "x",
          "y": "Includes Source SDK",
          "yref": "y"
         },
         {
          "font": {
           "color": "#FFFFFF",
           "size": 8
          },
          "showarrow": false,
          "text": "0.01",
          "x": "Steam Achievements",
          "xref": "x",
          "y": "Includes Source SDK",
          "yref": "y"
         },
         {
          "font": {
           "color": "#FFFFFF",
           "size": 8
          },
          "showarrow": false,
          "text": "-0.01",
          "x": "Steam Trading Cards",
          "xref": "x",
          "y": "Includes Source SDK",
          "yref": "y"
         },
         {
          "font": {
           "color": "#FFFFFF",
           "size": 8
          },
          "showarrow": false,
          "text": "0.06",
          "x": "Captions available",
          "xref": "x",
          "y": "Includes Source SDK",
          "yref": "y"
         },
         {
          "font": {
           "color": "#FFFFFF",
           "size": 8
          },
          "showarrow": false,
          "text": "0.02",
          "x": "Partial Controller Support",
          "xref": "x",
          "y": "Includes Source SDK",
          "yref": "y"
         },
         {
          "font": {
           "color": "#FFFFFF",
           "size": 8
          },
          "showarrow": false,
          "text": "1.0",
          "x": "Includes Source SDK",
          "xref": "x",
          "y": "Includes Source SDK",
          "yref": "y"
         },
         {
          "font": {
           "color": "#FFFFFF",
           "size": 8
          },
          "showarrow": false,
          "text": "0.06",
          "x": "Cross-Platform Multiplayer",
          "xref": "x",
          "y": "Includes Source SDK",
          "yref": "y"
         },
         {
          "font": {
           "color": "#FFFFFF",
           "size": 8
          },
          "showarrow": false,
          "text": "0.05",
          "x": "Stats",
          "xref": "x",
          "y": "Includes Source SDK",
          "yref": "y"
         },
         {
          "font": {
           "color": "#FFFFFF",
           "size": 8
          },
          "showarrow": false,
          "text": "0.1",
          "x": "Commentary available",
          "xref": "x",
          "y": "Includes Source SDK",
          "yref": "y"
         },
         {
          "font": {
           "color": "#FFFFFF",
           "size": 8
          },
          "showarrow": false,
          "text": "0.08",
          "x": "Includes level editor",
          "xref": "x",
          "y": "Includes Source SDK",
          "yref": "y"
         },
         {
          "font": {
           "color": "#FFFFFF",
           "size": 8
          },
          "showarrow": false,
          "text": "0.06",
          "x": "Steam Workshop",
          "xref": "x",
          "y": "Includes Source SDK",
          "yref": "y"
         },
         {
          "font": {
           "color": "#FFFFFF",
           "size": 8
          },
          "showarrow": false,
          "text": "0.01",
          "x": "In-App Purchases",
          "xref": "x",
          "y": "Includes Source SDK",
          "yref": "y"
         },
         {
          "font": {
           "color": "#FFFFFF",
           "size": 8
          },
          "showarrow": false,
          "text": "0.03",
          "x": "Co-op",
          "xref": "x",
          "y": "Includes Source SDK",
          "yref": "y"
         },
         {
          "font": {
           "color": "#FFFFFF",
           "size": 8
          },
          "showarrow": false,
          "text": "-0.01",
          "x": "Full controller support",
          "xref": "x",
          "y": "Includes Source SDK",
          "yref": "y"
         },
         {
          "font": {
           "color": "#FFFFFF",
           "size": 8
          },
          "showarrow": false,
          "text": "0.0",
          "x": "Steam Leaderboards",
          "xref": "x",
          "y": "Includes Source SDK",
          "yref": "y"
         },
         {
          "font": {
           "color": "#FFFFFF",
           "size": 8
          },
          "showarrow": false,
          "text": "-0.0",
          "x": "SteamVR Collectibles",
          "xref": "x",
          "y": "Includes Source SDK",
          "yref": "y"
         },
         {
          "font": {
           "color": "#FFFFFF",
           "size": 8
          },
          "showarrow": false,
          "text": "0.02",
          "x": "Online Co-op",
          "xref": "x",
          "y": "Includes Source SDK",
          "yref": "y"
         },
         {
          "font": {
           "color": "#FFFFFF",
           "size": 8
          },
          "showarrow": false,
          "text": "0.0",
          "x": "Shared/Split Screen",
          "xref": "x",
          "y": "Includes Source SDK",
          "yref": "y"
         },
         {
          "font": {
           "color": "#FFFFFF",
           "size": 8
          },
          "showarrow": false,
          "text": "0.0",
          "x": "Local Co-op",
          "xref": "x",
          "y": "Includes Source SDK",
          "yref": "y"
         },
         {
          "font": {
           "color": "#FFFFFF",
           "size": 8
          },
          "showarrow": false,
          "text": "0.01",
          "x": "MMO",
          "xref": "x",
          "y": "Includes Source SDK",
          "yref": "y"
         },
         {
          "font": {
           "color": "#FFFFFF",
           "size": 8
          },
          "showarrow": false,
          "text": "0.02",
          "x": "VR Support",
          "xref": "x",
          "y": "Includes Source SDK",
          "yref": "y"
         },
         {
          "font": {
           "color": "#FFFFFF",
           "size": 8
          },
          "showarrow": false,
          "text": "0.24",
          "x": "Mods",
          "xref": "x",
          "y": "Includes Source SDK",
          "yref": "y"
         },
         {
          "font": {
           "color": "#FFFFFF",
           "size": 8
          },
          "showarrow": false,
          "text": "0.17",
          "x": "Mods (require HL2)",
          "xref": "x",
          "y": "Includes Source SDK",
          "yref": "y"
         },
         {
          "font": {
           "color": "#FFFFFF",
           "size": 8
          },
          "showarrow": false,
          "text": "0.02",
          "x": "Steam Turn Notifications",
          "xref": "x",
          "y": "Includes Source SDK",
          "yref": "y"
         },
         {
          "font": {
           "color": "#FFFFFF",
           "size": 8
          },
          "showarrow": false,
          "text": "0.37",
          "x": "Multi-player",
          "xref": "x",
          "y": "Cross-Platform Multiplayer",
          "yref": "y"
         },
         {
          "font": {
           "color": "#FFFFFF",
           "size": 8
          },
          "showarrow": false,
          "text": "0.37",
          "x": "Online Multi-Player",
          "xref": "x",
          "y": "Cross-Platform Multiplayer",
          "yref": "y"
         },
         {
          "font": {
           "color": "#FFFFFF",
           "size": 8
          },
          "showarrow": false,
          "text": "0.1",
          "x": "Local Multi-Player",
          "xref": "x",
          "y": "Cross-Platform Multiplayer",
          "yref": "y"
         },
         {
          "font": {
           "color": "#FFFFFF",
           "size": 8
          },
          "showarrow": false,
          "text": "0.04",
          "x": "Valve Anti-Cheat enabled",
          "xref": "x",
          "y": "Cross-Platform Multiplayer",
          "yref": "y"
         },
         {
          "font": {
           "color": "#FFFFFF",
           "size": 8
          },
          "showarrow": false,
          "text": "-0.15",
          "x": "Single-player",
          "xref": "x",
          "y": "Cross-Platform Multiplayer",
          "yref": "y"
         },
         {
          "font": {
           "color": "#FFFFFF",
           "size": 8
          },
          "showarrow": false,
          "text": "0.01",
          "x": "Steam Cloud",
          "xref": "x",
          "y": "Cross-Platform Multiplayer",
          "yref": "y"
         },
         {
          "font": {
           "color": "#FFFFFF",
           "size": 8
          },
          "showarrow": false,
          "text": "0.04",
          "x": "Steam Achievements",
          "xref": "x",
          "y": "Cross-Platform Multiplayer",
          "yref": "y"
         },
         {
          "font": {
           "color": "#FFFFFF",
           "size": 8
          },
          "showarrow": false,
          "text": "0.06",
          "x": "Steam Trading Cards",
          "xref": "x",
          "y": "Cross-Platform Multiplayer",
          "yref": "y"
         },
         {
          "font": {
           "color": "#FFFFFF",
           "size": 8
          },
          "showarrow": false,
          "text": "-0.01",
          "x": "Captions available",
          "xref": "x",
          "y": "Cross-Platform Multiplayer",
          "yref": "y"
         },
         {
          "font": {
           "color": "#FFFFFF",
           "size": 8
          },
          "showarrow": false,
          "text": "0.01",
          "x": "Partial Controller Support",
          "xref": "x",
          "y": "Cross-Platform Multiplayer",
          "yref": "y"
         },
         {
          "font": {
           "color": "#FFFFFF",
           "size": 8
          },
          "showarrow": false,
          "text": "0.06",
          "x": "Includes Source SDK",
          "xref": "x",
          "y": "Cross-Platform Multiplayer",
          "yref": "y"
         },
         {
          "font": {
           "color": "#FFFFFF",
           "size": 8
          },
          "showarrow": false,
          "text": "1.0",
          "x": "Cross-Platform Multiplayer",
          "xref": "x",
          "y": "Cross-Platform Multiplayer",
          "yref": "y"
         },
         {
          "font": {
           "color": "#FFFFFF",
           "size": 8
          },
          "showarrow": false,
          "text": "0.09",
          "x": "Stats",
          "xref": "x",
          "y": "Cross-Platform Multiplayer",
          "yref": "y"
         },
         {
          "font": {
           "color": "#FFFFFF",
           "size": 8
          },
          "showarrow": false,
          "text": "0.0",
          "x": "Commentary available",
          "xref": "x",
          "y": "Cross-Platform Multiplayer",
          "yref": "y"
         },
         {
          "font": {
           "color": "#FFFFFF",
           "size": 8
          },
          "showarrow": false,
          "text": "0.09",
          "x": "Includes level editor",
          "xref": "x",
          "y": "Cross-Platform Multiplayer",
          "yref": "y"
         },
         {
          "font": {
           "color": "#FFFFFF",
           "size": 8
          },
          "showarrow": false,
          "text": "0.08",
          "x": "Steam Workshop",
          "xref": "x",
          "y": "Cross-Platform Multiplayer",
          "yref": "y"
         },
         {
          "font": {
           "color": "#FFFFFF",
           "size": 8
          },
          "showarrow": false,
          "text": "0.2",
          "x": "In-App Purchases",
          "xref": "x",
          "y": "Cross-Platform Multiplayer",
          "yref": "y"
         },
         {
          "font": {
           "color": "#FFFFFF",
           "size": 8
          },
          "showarrow": false,
          "text": "0.23",
          "x": "Co-op",
          "xref": "x",
          "y": "Cross-Platform Multiplayer",
          "yref": "y"
         },
         {
          "font": {
           "color": "#FFFFFF",
           "size": 8
          },
          "showarrow": false,
          "text": "0.0",
          "x": "Full controller support",
          "xref": "x",
          "y": "Cross-Platform Multiplayer",
          "yref": "y"
         },
         {
          "font": {
           "color": "#FFFFFF",
           "size": 8
          },
          "showarrow": false,
          "text": "0.04",
          "x": "Steam Leaderboards",
          "xref": "x",
          "y": "Cross-Platform Multiplayer",
          "yref": "y"
         },
         {
          "font": {
           "color": "#FFFFFF",
           "size": 8
          },
          "showarrow": false,
          "text": "0.02",
          "x": "SteamVR Collectibles",
          "xref": "x",
          "y": "Cross-Platform Multiplayer",
          "yref": "y"
         },
         {
          "font": {
           "color": "#FFFFFF",
           "size": 8
          },
          "showarrow": false,
          "text": "0.24",
          "x": "Online Co-op",
          "xref": "x",
          "y": "Cross-Platform Multiplayer",
          "yref": "y"
         },
         {
          "font": {
           "color": "#FFFFFF",
           "size": 8
          },
          "showarrow": false,
          "text": "0.09",
          "x": "Shared/Split Screen",
          "xref": "x",
          "y": "Cross-Platform Multiplayer",
          "yref": "y"
         },
         {
          "font": {
           "color": "#FFFFFF",
           "size": 8
          },
          "showarrow": false,
          "text": "0.04",
          "x": "Local Co-op",
          "xref": "x",
          "y": "Cross-Platform Multiplayer",
          "yref": "y"
         },
         {
          "font": {
           "color": "#FFFFFF",
           "size": 8
          },
          "showarrow": false,
          "text": "0.16",
          "x": "MMO",
          "xref": "x",
          "y": "Cross-Platform Multiplayer",
          "yref": "y"
         },
         {
          "font": {
           "color": "#FFFFFF",
           "size": 8
          },
          "showarrow": false,
          "text": "0.03",
          "x": "VR Support",
          "xref": "x",
          "y": "Cross-Platform Multiplayer",
          "yref": "y"
         },
         {
          "font": {
           "color": "#FFFFFF",
           "size": 8
          },
          "showarrow": false,
          "text": "0.02",
          "x": "Mods",
          "xref": "x",
          "y": "Cross-Platform Multiplayer",
          "yref": "y"
         },
         {
          "font": {
           "color": "#FFFFFF",
           "size": 8
          },
          "showarrow": false,
          "text": "-0.0",
          "x": "Mods (require HL2)",
          "xref": "x",
          "y": "Cross-Platform Multiplayer",
          "yref": "y"
         },
         {
          "font": {
           "color": "#FFFFFF",
           "size": 8
          },
          "showarrow": false,
          "text": "0.12",
          "x": "Steam Turn Notifications",
          "xref": "x",
          "y": "Cross-Platform Multiplayer",
          "yref": "y"
         },
         {
          "font": {
           "color": "#FFFFFF",
           "size": 8
          },
          "showarrow": false,
          "text": "0.11",
          "x": "Multi-player",
          "xref": "x",
          "y": "Stats",
          "yref": "y"
         },
         {
          "font": {
           "color": "#FFFFFF",
           "size": 8
          },
          "showarrow": false,
          "text": "0.09",
          "x": "Online Multi-Player",
          "xref": "x",
          "y": "Stats",
          "yref": "y"
         },
         {
          "font": {
           "color": "#FFFFFF",
           "size": 8
          },
          "showarrow": false,
          "text": "0.06",
          "x": "Local Multi-Player",
          "xref": "x",
          "y": "Stats",
          "yref": "y"
         },
         {
          "font": {
           "color": "#FFFFFF",
           "size": 8
          },
          "showarrow": false,
          "text": "0.06",
          "x": "Valve Anti-Cheat enabled",
          "xref": "x",
          "y": "Stats",
          "yref": "y"
         },
         {
          "font": {
           "color": "#FFFFFF",
           "size": 8
          },
          "showarrow": false,
          "text": "-0.04",
          "x": "Single-player",
          "xref": "x",
          "y": "Stats",
          "yref": "y"
         },
         {
          "font": {
           "color": "#FFFFFF",
           "size": 8
          },
          "showarrow": false,
          "text": "0.15",
          "x": "Steam Cloud",
          "xref": "x",
          "y": "Stats",
          "yref": "y"
         },
         {
          "font": {
           "color": "#FFFFFF",
           "size": 8
          },
          "showarrow": false,
          "text": "0.21",
          "x": "Steam Achievements",
          "xref": "x",
          "y": "Stats",
          "yref": "y"
         },
         {
          "font": {
           "color": "#FFFFFF",
           "size": 8
          },
          "showarrow": false,
          "text": "0.1",
          "x": "Steam Trading Cards",
          "xref": "x",
          "y": "Stats",
          "yref": "y"
         },
         {
          "font": {
           "color": "#FFFFFF",
           "size": 8
          },
          "showarrow": false,
          "text": "0.04",
          "x": "Captions available",
          "xref": "x",
          "y": "Stats",
          "yref": "y"
         },
         {
          "font": {
           "color": "#FFFFFF",
           "size": 8
          },
          "showarrow": false,
          "text": "0.03",
          "x": "Partial Controller Support",
          "xref": "x",
          "y": "Stats",
          "yref": "y"
         },
         {
          "font": {
           "color": "#FFFFFF",
           "size": 8
          },
          "showarrow": false,
          "text": "0.05",
          "x": "Includes Source SDK",
          "xref": "x",
          "y": "Stats",
          "yref": "y"
         },
         {
          "font": {
           "color": "#FFFFFF",
           "size": 8
          },
          "showarrow": false,
          "text": "0.09",
          "x": "Cross-Platform Multiplayer",
          "xref": "x",
          "y": "Stats",
          "yref": "y"
         },
         {
          "font": {
           "color": "#FFFFFF",
           "size": 8
          },
          "showarrow": false,
          "text": "1.0",
          "x": "Stats",
          "xref": "x",
          "y": "Stats",
          "yref": "y"
         },
         {
          "font": {
           "color": "#FFFFFF",
           "size": 8
          },
          "showarrow": false,
          "text": "0.04",
          "x": "Commentary available",
          "xref": "x",
          "y": "Stats",
          "yref": "y"
         },
         {
          "font": {
           "color": "#FFFFFF",
           "size": 8
          },
          "showarrow": false,
          "text": "0.12",
          "x": "Includes level editor",
          "xref": "x",
          "y": "Stats",
          "yref": "y"
         },
         {
          "font": {
           "color": "#FFFFFF",
           "size": 8
          },
          "showarrow": false,
          "text": "0.12",
          "x": "Steam Workshop",
          "xref": "x",
          "y": "Stats",
          "yref": "y"
         },
         {
          "font": {
           "color": "#FFFFFF",
           "size": 8
          },
          "showarrow": false,
          "text": "0.02",
          "x": "In-App Purchases",
          "xref": "x",
          "y": "Stats",
          "yref": "y"
         },
         {
          "font": {
           "color": "#FFFFFF",
           "size": 8
          },
          "showarrow": false,
          "text": "0.09",
          "x": "Co-op",
          "xref": "x",
          "y": "Stats",
          "yref": "y"
         },
         {
          "font": {
           "color": "#FFFFFF",
           "size": 8
          },
          "showarrow": false,
          "text": "0.08",
          "x": "Full controller support",
          "xref": "x",
          "y": "Stats",
          "yref": "y"
         },
         {
          "font": {
           "color": "#FFFFFF",
           "size": 8
          },
          "showarrow": false,
          "text": "0.32",
          "x": "Steam Leaderboards",
          "xref": "x",
          "y": "Stats",
          "yref": "y"
         },
         {
          "font": {
           "color": "#FFFFFF",
           "size": 8
          },
          "showarrow": false,
          "text": "0.0",
          "x": "SteamVR Collectibles",
          "xref": "x",
          "y": "Stats",
          "yref": "y"
         },
         {
          "font": {
           "color": "#FFFFFF",
           "size": 8
          },
          "showarrow": false,
          "text": "0.06",
          "x": "Online Co-op",
          "xref": "x",
          "y": "Stats",
          "yref": "y"
         },
         {
          "font": {
           "color": "#FFFFFF",
           "size": 8
          },
          "showarrow": false,
          "text": "0.07",
          "x": "Shared/Split Screen",
          "xref": "x",
          "y": "Stats",
          "yref": "y"
         },
         {
          "font": {
           "color": "#FFFFFF",
           "size": 8
          },
          "showarrow": false,
          "text": "0.05",
          "x": "Local Co-op",
          "xref": "x",
          "y": "Stats",
          "yref": "y"
         },
         {
          "font": {
           "color": "#FFFFFF",
           "size": 8
          },
          "showarrow": false,
          "text": "-0.0",
          "x": "MMO",
          "xref": "x",
          "y": "Stats",
          "yref": "y"
         },
         {
          "font": {
           "color": "#FFFFFF",
           "size": 8
          },
          "showarrow": false,
          "text": "0.01",
          "x": "VR Support",
          "xref": "x",
          "y": "Stats",
          "yref": "y"
         },
         {
          "font": {
           "color": "#FFFFFF",
           "size": 8
          },
          "showarrow": false,
          "text": "0.01",
          "x": "Mods",
          "xref": "x",
          "y": "Stats",
          "yref": "y"
         },
         {
          "font": {
           "color": "#FFFFFF",
           "size": 8
          },
          "showarrow": false,
          "text": "-0.0",
          "x": "Mods (require HL2)",
          "xref": "x",
          "y": "Stats",
          "yref": "y"
         },
         {
          "font": {
           "color": "#FFFFFF",
           "size": 8
          },
          "showarrow": false,
          "text": "0.06",
          "x": "Steam Turn Notifications",
          "xref": "x",
          "y": "Stats",
          "yref": "y"
         },
         {
          "font": {
           "color": "#FFFFFF",
           "size": 8
          },
          "showarrow": false,
          "text": "-0.01",
          "x": "Multi-player",
          "xref": "x",
          "y": "Commentary available",
          "yref": "y"
         },
         {
          "font": {
           "color": "#FFFFFF",
           "size": 8
          },
          "showarrow": false,
          "text": "-0.01",
          "x": "Online Multi-Player",
          "xref": "x",
          "y": "Commentary available",
          "yref": "y"
         },
         {
          "font": {
           "color": "#FFFFFF",
           "size": 8
          },
          "showarrow": false,
          "text": "-0.01",
          "x": "Local Multi-Player",
          "xref": "x",
          "y": "Commentary available",
          "yref": "y"
         },
         {
          "font": {
           "color": "#FFFFFF",
           "size": 8
          },
          "showarrow": false,
          "text": "0.02",
          "x": "Valve Anti-Cheat enabled",
          "xref": "x",
          "y": "Commentary available",
          "yref": "y"
         },
         {
          "font": {
           "color": "#FFFFFF",
           "size": 8
          },
          "showarrow": false,
          "text": "0.01",
          "x": "Single-player",
          "xref": "x",
          "y": "Commentary available",
          "yref": "y"
         },
         {
          "font": {
           "color": "#FFFFFF",
           "size": 8
          },
          "showarrow": false,
          "text": "0.02",
          "x": "Steam Cloud",
          "xref": "x",
          "y": "Commentary available",
          "yref": "y"
         },
         {
          "font": {
           "color": "#FFFFFF",
           "size": 8
          },
          "showarrow": false,
          "text": "0.02",
          "x": "Steam Achievements",
          "xref": "x",
          "y": "Commentary available",
          "yref": "y"
         },
         {
          "font": {
           "color": "#FFFFFF",
           "size": 8
          },
          "showarrow": false,
          "text": "0.03",
          "x": "Steam Trading Cards",
          "xref": "x",
          "y": "Commentary available",
          "yref": "y"
         },
         {
          "font": {
           "color": "#FFFFFF",
           "size": 8
          },
          "showarrow": false,
          "text": "0.1",
          "x": "Captions available",
          "xref": "x",
          "y": "Commentary available",
          "yref": "y"
         },
         {
          "font": {
           "color": "#FFFFFF",
           "size": 8
          },
          "showarrow": false,
          "text": "-0.0",
          "x": "Partial Controller Support",
          "xref": "x",
          "y": "Commentary available",
          "yref": "y"
         },
         {
          "font": {
           "color": "#FFFFFF",
           "size": 8
          },
          "showarrow": false,
          "text": "0.1",
          "x": "Includes Source SDK",
          "xref": "x",
          "y": "Commentary available",
          "yref": "y"
         },
         {
          "font": {
           "color": "#FFFFFF",
           "size": 8
          },
          "showarrow": false,
          "text": "0.0",
          "x": "Cross-Platform Multiplayer",
          "xref": "x",
          "y": "Commentary available",
          "yref": "y"
         },
         {
          "font": {
           "color": "#FFFFFF",
           "size": 8
          },
          "showarrow": false,
          "text": "0.04",
          "x": "Stats",
          "xref": "x",
          "y": "Commentary available",
          "yref": "y"
         },
         {
          "font": {
           "color": "#FFFFFF",
           "size": 8
          },
          "showarrow": false,
          "text": "1.0",
          "x": "Commentary available",
          "xref": "x",
          "y": "Commentary available",
          "yref": "y"
         },
         {
          "font": {
           "color": "#FFFFFF",
           "size": 8
          },
          "showarrow": false,
          "text": "0.03",
          "x": "Includes level editor",
          "xref": "x",
          "y": "Commentary available",
          "yref": "y"
         },
         {
          "font": {
           "color": "#FFFFFF",
           "size": 8
          },
          "showarrow": false,
          "text": "0.02",
          "x": "Steam Workshop",
          "xref": "x",
          "y": "Commentary available",
          "yref": "y"
         },
         {
          "font": {
           "color": "#FFFFFF",
           "size": 8
          },
          "showarrow": false,
          "text": "0.0",
          "x": "In-App Purchases",
          "xref": "x",
          "y": "Commentary available",
          "yref": "y"
         },
         {
          "font": {
           "color": "#FFFFFF",
           "size": 8
          },
          "showarrow": false,
          "text": "-0.0",
          "x": "Co-op",
          "xref": "x",
          "y": "Commentary available",
          "yref": "y"
         },
         {
          "font": {
           "color": "#FFFFFF",
           "size": 8
          },
          "showarrow": false,
          "text": "0.01",
          "x": "Full controller support",
          "xref": "x",
          "y": "Commentary available",
          "yref": "y"
         },
         {
          "font": {
           "color": "#FFFFFF",
           "size": 8
          },
          "showarrow": false,
          "text": "0.01",
          "x": "Steam Leaderboards",
          "xref": "x",
          "y": "Commentary available",
          "yref": "y"
         },
         {
          "font": {
           "color": "#FFFFFF",
           "size": 8
          },
          "showarrow": false,
          "text": "-0.0",
          "x": "SteamVR Collectibles",
          "xref": "x",
          "y": "Commentary available",
          "yref": "y"
         },
         {
          "font": {
           "color": "#FFFFFF",
           "size": 8
          },
          "showarrow": false,
          "text": "-0.0",
          "x": "Online Co-op",
          "xref": "x",
          "y": "Commentary available",
          "yref": "y"
         },
         {
          "font": {
           "color": "#FFFFFF",
           "size": 8
          },
          "showarrow": false,
          "text": "-0.01",
          "x": "Shared/Split Screen",
          "xref": "x",
          "y": "Commentary available",
          "yref": "y"
         },
         {
          "font": {
           "color": "#FFFFFF",
           "size": 8
          },
          "showarrow": false,
          "text": "-0.01",
          "x": "Local Co-op",
          "xref": "x",
          "y": "Commentary available",
          "yref": "y"
         },
         {
          "font": {
           "color": "#FFFFFF",
           "size": 8
          },
          "showarrow": false,
          "text": "0.01",
          "x": "MMO",
          "xref": "x",
          "y": "Commentary available",
          "yref": "y"
         },
         {
          "font": {
           "color": "#FFFFFF",
           "size": 8
          },
          "showarrow": false,
          "text": "0.0",
          "x": "VR Support",
          "xref": "x",
          "y": "Commentary available",
          "yref": "y"
         },
         {
          "font": {
           "color": "#FFFFFF",
           "size": 8
          },
          "showarrow": false,
          "text": "-0.0",
          "x": "Mods",
          "xref": "x",
          "y": "Commentary available",
          "yref": "y"
         },
         {
          "font": {
           "color": "#FFFFFF",
           "size": 8
          },
          "showarrow": false,
          "text": "-0.0",
          "x": "Mods (require HL2)",
          "xref": "x",
          "y": "Commentary available",
          "yref": "y"
         },
         {
          "font": {
           "color": "#FFFFFF",
           "size": 8
          },
          "showarrow": false,
          "text": "0.03",
          "x": "Steam Turn Notifications",
          "xref": "x",
          "y": "Commentary available",
          "yref": "y"
         },
         {
          "font": {
           "color": "#FFFFFF",
           "size": 8
          },
          "showarrow": false,
          "text": "0.11",
          "x": "Multi-player",
          "xref": "x",
          "y": "Includes level editor",
          "yref": "y"
         },
         {
          "font": {
           "color": "#FFFFFF",
           "size": 8
          },
          "showarrow": false,
          "text": "0.07",
          "x": "Online Multi-Player",
          "xref": "x",
          "y": "Includes level editor",
          "yref": "y"
         },
         {
          "font": {
           "color": "#FFFFFF",
           "size": 8
          },
          "showarrow": false,
          "text": "0.04",
          "x": "Local Multi-Player",
          "xref": "x",
          "y": "Includes level editor",
          "yref": "y"
         },
         {
          "font": {
           "color": "#FFFFFF",
           "size": 8
          },
          "showarrow": false,
          "text": "0.06",
          "x": "Valve Anti-Cheat enabled",
          "xref": "x",
          "y": "Includes level editor",
          "yref": "y"
         },
         {
          "font": {
           "color": "#FFFFFF",
           "size": 8
          },
          "showarrow": false,
          "text": "-0.03",
          "x": "Single-player",
          "xref": "x",
          "y": "Includes level editor",
          "yref": "y"
         },
         {
          "font": {
           "color": "#FFFFFF",
           "size": 8
          },
          "showarrow": false,
          "text": "0.09",
          "x": "Steam Cloud",
          "xref": "x",
          "y": "Includes level editor",
          "yref": "y"
         },
         {
          "font": {
           "color": "#FFFFFF",
           "size": 8
          },
          "showarrow": false,
          "text": "0.06",
          "x": "Steam Achievements",
          "xref": "x",
          "y": "Includes level editor",
          "yref": "y"
         },
         {
          "font": {
           "color": "#FFFFFF",
           "size": 8
          },
          "showarrow": false,
          "text": "0.06",
          "x": "Steam Trading Cards",
          "xref": "x",
          "y": "Includes level editor",
          "yref": "y"
         },
         {
          "font": {
           "color": "#FFFFFF",
           "size": 8
          },
          "showarrow": false,
          "text": "0.04",
          "x": "Captions available",
          "xref": "x",
          "y": "Includes level editor",
          "yref": "y"
         },
         {
          "font": {
           "color": "#FFFFFF",
           "size": 8
          },
          "showarrow": false,
          "text": "0.04",
          "x": "Partial Controller Support",
          "xref": "x",
          "y": "Includes level editor",
          "yref": "y"
         },
         {
          "font": {
           "color": "#FFFFFF",
           "size": 8
          },
          "showarrow": false,
          "text": "0.08",
          "x": "Includes Source SDK",
          "xref": "x",
          "y": "Includes level editor",
          "yref": "y"
         },
         {
          "font": {
           "color": "#FFFFFF",
           "size": 8
          },
          "showarrow": false,
          "text": "0.09",
          "x": "Cross-Platform Multiplayer",
          "xref": "x",
          "y": "Includes level editor",
          "yref": "y"
         },
         {
          "font": {
           "color": "#FFFFFF",
           "size": 8
          },
          "showarrow": false,
          "text": "0.12",
          "x": "Stats",
          "xref": "x",
          "y": "Includes level editor",
          "yref": "y"
         },
         {
          "font": {
           "color": "#FFFFFF",
           "size": 8
          },
          "showarrow": false,
          "text": "0.03",
          "x": "Commentary available",
          "xref": "x",
          "y": "Includes level editor",
          "yref": "y"
         },
         {
          "font": {
           "color": "#FFFFFF",
           "size": 8
          },
          "showarrow": false,
          "text": "1.0",
          "x": "Includes level editor",
          "xref": "x",
          "y": "Includes level editor",
          "yref": "y"
         },
         {
          "font": {
           "color": "#FFFFFF",
           "size": 8
          },
          "showarrow": false,
          "text": "0.48",
          "x": "Steam Workshop",
          "xref": "x",
          "y": "Includes level editor",
          "yref": "y"
         },
         {
          "font": {
           "color": "#FFFFFF",
           "size": 8
          },
          "showarrow": false,
          "text": "0.0",
          "x": "In-App Purchases",
          "xref": "x",
          "y": "Includes level editor",
          "yref": "y"
         },
         {
          "font": {
           "color": "#FFFFFF",
           "size": 8
          },
          "showarrow": false,
          "text": "0.1",
          "x": "Co-op",
          "xref": "x",
          "y": "Includes level editor",
          "yref": "y"
         },
         {
          "font": {
           "color": "#FFFFFF",
           "size": 8
          },
          "showarrow": false,
          "text": "0.02",
          "x": "Full controller support",
          "xref": "x",
          "y": "Includes level editor",
          "yref": "y"
         },
         {
          "font": {
           "color": "#FFFFFF",
           "size": 8
          },
          "showarrow": false,
          "text": "0.07",
          "x": "Steam Leaderboards",
          "xref": "x",
          "y": "Includes level editor",
          "yref": "y"
         },
         {
          "font": {
           "color": "#FFFFFF",
           "size": 8
          },
          "showarrow": false,
          "text": "0.0",
          "x": "SteamVR Collectibles",
          "xref": "x",
          "y": "Includes level editor",
          "yref": "y"
         },
         {
          "font": {
           "color": "#FFFFFF",
           "size": 8
          },
          "showarrow": false,
          "text": "0.07",
          "x": "Online Co-op",
          "xref": "x",
          "y": "Includes level editor",
          "yref": "y"
         },
         {
          "font": {
           "color": "#FFFFFF",
           "size": 8
          },
          "showarrow": false,
          "text": "0.06",
          "x": "Shared/Split Screen",
          "xref": "x",
          "y": "Includes level editor",
          "yref": "y"
         },
         {
          "font": {
           "color": "#FFFFFF",
           "size": 8
          },
          "showarrow": false,
          "text": "0.04",
          "x": "Local Co-op",
          "xref": "x",
          "y": "Includes level editor",
          "yref": "y"
         },
         {
          "font": {
           "color": "#FFFFFF",
           "size": 8
          },
          "showarrow": false,
          "text": "-0.0",
          "x": "MMO",
          "xref": "x",
          "y": "Includes level editor",
          "yref": "y"
         },
         {
          "font": {
           "color": "#FFFFFF",
           "size": 8
          },
          "showarrow": false,
          "text": "0.04",
          "x": "VR Support",
          "xref": "x",
          "y": "Includes level editor",
          "yref": "y"
         },
         {
          "font": {
           "color": "#FFFFFF",
           "size": 8
          },
          "showarrow": false,
          "text": "0.04",
          "x": "Mods",
          "xref": "x",
          "y": "Includes level editor",
          "yref": "y"
         },
         {
          "font": {
           "color": "#FFFFFF",
           "size": 8
          },
          "showarrow": false,
          "text": "0.03",
          "x": "Mods (require HL2)",
          "xref": "x",
          "y": "Includes level editor",
          "yref": "y"
         },
         {
          "font": {
           "color": "#FFFFFF",
           "size": 8
          },
          "showarrow": false,
          "text": "0.03",
          "x": "Steam Turn Notifications",
          "xref": "x",
          "y": "Includes level editor",
          "yref": "y"
         },
         {
          "font": {
           "color": "#FFFFFF",
           "size": 8
          },
          "showarrow": false,
          "text": "0.1",
          "x": "Multi-player",
          "xref": "x",
          "y": "Steam Workshop",
          "yref": "y"
         },
         {
          "font": {
           "color": "#FFFFFF",
           "size": 8
          },
          "showarrow": false,
          "text": "0.08",
          "x": "Online Multi-Player",
          "xref": "x",
          "y": "Steam Workshop",
          "yref": "y"
         },
         {
          "font": {
           "color": "#FFFFFF",
           "size": 8
          },
          "showarrow": false,
          "text": "0.03",
          "x": "Local Multi-Player",
          "xref": "x",
          "y": "Steam Workshop",
          "yref": "y"
         },
         {
          "font": {
           "color": "#FFFFFF",
           "size": 8
          },
          "showarrow": false,
          "text": "0.1",
          "x": "Valve Anti-Cheat enabled",
          "xref": "x",
          "y": "Steam Workshop",
          "yref": "y"
         },
         {
          "font": {
           "color": "#FFFFFF",
           "size": 8
          },
          "showarrow": false,
          "text": "-0.04",
          "x": "Single-player",
          "xref": "x",
          "y": "Steam Workshop",
          "yref": "y"
         },
         {
          "font": {
           "color": "#FFFFFF",
           "size": 8
          },
          "showarrow": false,
          "text": "0.13",
          "x": "Steam Cloud",
          "xref": "x",
          "y": "Steam Workshop",
          "yref": "y"
         },
         {
          "font": {
           "color": "#FFFFFF",
           "size": 8
          },
          "showarrow": false,
          "text": "0.09",
          "x": "Steam Achievements",
          "xref": "x",
          "y": "Steam Workshop",
          "yref": "y"
         },
         {
          "font": {
           "color": "#FFFFFF",
           "size": 8
          },
          "showarrow": false,
          "text": "0.11",
          "x": "Steam Trading Cards",
          "xref": "x",
          "y": "Steam Workshop",
          "yref": "y"
         },
         {
          "font": {
           "color": "#FFFFFF",
           "size": 8
          },
          "showarrow": false,
          "text": "0.02",
          "x": "Captions available",
          "xref": "x",
          "y": "Steam Workshop",
          "yref": "y"
         },
         {
          "font": {
           "color": "#FFFFFF",
           "size": 8
          },
          "showarrow": false,
          "text": "0.03",
          "x": "Partial Controller Support",
          "xref": "x",
          "y": "Steam Workshop",
          "yref": "y"
         },
         {
          "font": {
           "color": "#FFFFFF",
           "size": 8
          },
          "showarrow": false,
          "text": "0.06",
          "x": "Includes Source SDK",
          "xref": "x",
          "y": "Steam Workshop",
          "yref": "y"
         },
         {
          "font": {
           "color": "#FFFFFF",
           "size": 8
          },
          "showarrow": false,
          "text": "0.08",
          "x": "Cross-Platform Multiplayer",
          "xref": "x",
          "y": "Steam Workshop",
          "yref": "y"
         },
         {
          "font": {
           "color": "#FFFFFF",
           "size": 8
          },
          "showarrow": false,
          "text": "0.12",
          "x": "Stats",
          "xref": "x",
          "y": "Steam Workshop",
          "yref": "y"
         },
         {
          "font": {
           "color": "#FFFFFF",
           "size": 8
          },
          "showarrow": false,
          "text": "0.02",
          "x": "Commentary available",
          "xref": "x",
          "y": "Steam Workshop",
          "yref": "y"
         },
         {
          "font": {
           "color": "#FFFFFF",
           "size": 8
          },
          "showarrow": false,
          "text": "0.48",
          "x": "Includes level editor",
          "xref": "x",
          "y": "Steam Workshop",
          "yref": "y"
         },
         {
          "font": {
           "color": "#FFFFFF",
           "size": 8
          },
          "showarrow": false,
          "text": "1.0",
          "x": "Steam Workshop",
          "xref": "x",
          "y": "Steam Workshop",
          "yref": "y"
         },
         {
          "font": {
           "color": "#FFFFFF",
           "size": 8
          },
          "showarrow": false,
          "text": "0.01",
          "x": "In-App Purchases",
          "xref": "x",
          "y": "Steam Workshop",
          "yref": "y"
         },
         {
          "font": {
           "color": "#FFFFFF",
           "size": 8
          },
          "showarrow": false,
          "text": "0.09",
          "x": "Co-op",
          "xref": "x",
          "y": "Steam Workshop",
          "yref": "y"
         },
         {
          "font": {
           "color": "#FFFFFF",
           "size": 8
          },
          "showarrow": false,
          "text": "0.03",
          "x": "Full controller support",
          "xref": "x",
          "y": "Steam Workshop",
          "yref": "y"
         },
         {
          "font": {
           "color": "#FFFFFF",
           "size": 8
          },
          "showarrow": false,
          "text": "0.09",
          "x": "Steam Leaderboards",
          "xref": "x",
          "y": "Steam Workshop",
          "yref": "y"
         },
         {
          "font": {
           "color": "#FFFFFF",
           "size": 8
          },
          "showarrow": false,
          "text": "0.0",
          "x": "SteamVR Collectibles",
          "xref": "x",
          "y": "Steam Workshop",
          "yref": "y"
         },
         {
          "font": {
           "color": "#FFFFFF",
           "size": 8
          },
          "showarrow": false,
          "text": "0.08",
          "x": "Online Co-op",
          "xref": "x",
          "y": "Steam Workshop",
          "yref": "y"
         },
         {
          "font": {
           "color": "#FFFFFF",
           "size": 8
          },
          "showarrow": false,
          "text": "0.04",
          "x": "Shared/Split Screen",
          "xref": "x",
          "y": "Steam Workshop",
          "yref": "y"
         },
         {
          "font": {
           "color": "#FFFFFF",
           "size": 8
          },
          "showarrow": false,
          "text": "0.03",
          "x": "Local Co-op",
          "xref": "x",
          "y": "Steam Workshop",
          "yref": "y"
         },
         {
          "font": {
           "color": "#FFFFFF",
           "size": 8
          },
          "showarrow": false,
          "text": "-0.01",
          "x": "MMO",
          "xref": "x",
          "y": "Steam Workshop",
          "yref": "y"
         },
         {
          "font": {
           "color": "#FFFFFF",
           "size": 8
          },
          "showarrow": false,
          "text": "0.04",
          "x": "VR Support",
          "xref": "x",
          "y": "Steam Workshop",
          "yref": "y"
         },
         {
          "font": {
           "color": "#FFFFFF",
           "size": 8
          },
          "showarrow": false,
          "text": "0.05",
          "x": "Mods",
          "xref": "x",
          "y": "Steam Workshop",
          "yref": "y"
         },
         {
          "font": {
           "color": "#FFFFFF",
           "size": 8
          },
          "showarrow": false,
          "text": "0.03",
          "x": "Mods (require HL2)",
          "xref": "x",
          "y": "Steam Workshop",
          "yref": "y"
         },
         {
          "font": {
           "color": "#FFFFFF",
           "size": 8
          },
          "showarrow": false,
          "text": "0.02",
          "x": "Steam Turn Notifications",
          "xref": "x",
          "y": "Steam Workshop",
          "yref": "y"
         },
         {
          "font": {
           "color": "#FFFFFF",
           "size": 8
          },
          "showarrow": false,
          "text": "0.14",
          "x": "Multi-player",
          "xref": "x",
          "y": "In-App Purchases",
          "yref": "y"
         },
         {
          "font": {
           "color": "#FFFFFF",
           "size": 8
          },
          "showarrow": false,
          "text": "0.29",
          "x": "Online Multi-Player",
          "xref": "x",
          "y": "In-App Purchases",
          "yref": "y"
         },
         {
          "font": {
           "color": "#FFFFFF",
           "size": 8
          },
          "showarrow": false,
          "text": "-0.01",
          "x": "Local Multi-Player",
          "xref": "x",
          "y": "In-App Purchases",
          "yref": "y"
         },
         {
          "font": {
           "color": "#FFFFFF",
           "size": 8
          },
          "showarrow": false,
          "text": "0.04",
          "x": "Valve Anti-Cheat enabled",
          "xref": "x",
          "y": "In-App Purchases",
          "yref": "y"
         },
         {
          "font": {
           "color": "#FFFFFF",
           "size": 8
          },
          "showarrow": false,
          "text": "-0.24",
          "x": "Single-player",
          "xref": "x",
          "y": "In-App Purchases",
          "yref": "y"
         },
         {
          "font": {
           "color": "#FFFFFF",
           "size": 8
          },
          "showarrow": false,
          "text": "-0.04",
          "x": "Steam Cloud",
          "xref": "x",
          "y": "In-App Purchases",
          "yref": "y"
         },
         {
          "font": {
           "color": "#FFFFFF",
           "size": 8
          },
          "showarrow": false,
          "text": "-0.02",
          "x": "Steam Achievements",
          "xref": "x",
          "y": "In-App Purchases",
          "yref": "y"
         },
         {
          "font": {
           "color": "#FFFFFF",
           "size": 8
          },
          "showarrow": false,
          "text": "0.02",
          "x": "Steam Trading Cards",
          "xref": "x",
          "y": "In-App Purchases",
          "yref": "y"
         },
         {
          "font": {
           "color": "#FFFFFF",
           "size": 8
          },
          "showarrow": false,
          "text": "-0.01",
          "x": "Captions available",
          "xref": "x",
          "y": "In-App Purchases",
          "yref": "y"
         },
         {
          "font": {
           "color": "#FFFFFF",
           "size": 8
          },
          "showarrow": false,
          "text": "-0.01",
          "x": "Partial Controller Support",
          "xref": "x",
          "y": "In-App Purchases",
          "yref": "y"
         },
         {
          "font": {
           "color": "#FFFFFF",
           "size": 8
          },
          "showarrow": false,
          "text": "0.01",
          "x": "Includes Source SDK",
          "xref": "x",
          "y": "In-App Purchases",
          "yref": "y"
         },
         {
          "font": {
           "color": "#FFFFFF",
           "size": 8
          },
          "showarrow": false,
          "text": "0.2",
          "x": "Cross-Platform Multiplayer",
          "xref": "x",
          "y": "In-App Purchases",
          "yref": "y"
         },
         {
          "font": {
           "color": "#FFFFFF",
           "size": 8
          },
          "showarrow": false,
          "text": "0.02",
          "x": "Stats",
          "xref": "x",
          "y": "In-App Purchases",
          "yref": "y"
         },
         {
          "font": {
           "color": "#FFFFFF",
           "size": 8
          },
          "showarrow": false,
          "text": "0.0",
          "x": "Commentary available",
          "xref": "x",
          "y": "In-App Purchases",
          "yref": "y"
         },
         {
          "font": {
           "color": "#FFFFFF",
           "size": 8
          },
          "showarrow": false,
          "text": "0.0",
          "x": "Includes level editor",
          "xref": "x",
          "y": "In-App Purchases",
          "yref": "y"
         },
         {
          "font": {
           "color": "#FFFFFF",
           "size": 8
          },
          "showarrow": false,
          "text": "0.01",
          "x": "Steam Workshop",
          "xref": "x",
          "y": "In-App Purchases",
          "yref": "y"
         },
         {
          "font": {
           "color": "#FFFFFF",
           "size": 8
          },
          "showarrow": false,
          "text": "1.0",
          "x": "In-App Purchases",
          "xref": "x",
          "y": "In-App Purchases",
          "yref": "y"
         },
         {
          "font": {
           "color": "#FFFFFF",
           "size": 8
          },
          "showarrow": false,
          "text": "0.1",
          "x": "Co-op",
          "xref": "x",
          "y": "In-App Purchases",
          "yref": "y"
         },
         {
          "font": {
           "color": "#FFFFFF",
           "size": 8
          },
          "showarrow": false,
          "text": "-0.05",
          "x": "Full controller support",
          "xref": "x",
          "y": "In-App Purchases",
          "yref": "y"
         },
         {
          "font": {
           "color": "#FFFFFF",
           "size": 8
          },
          "showarrow": false,
          "text": "-0.02",
          "x": "Steam Leaderboards",
          "xref": "x",
          "y": "In-App Purchases",
          "yref": "y"
         },
         {
          "font": {
           "color": "#FFFFFF",
           "size": 8
          },
          "showarrow": false,
          "text": "-0.0",
          "x": "SteamVR Collectibles",
          "xref": "x",
          "y": "In-App Purchases",
          "yref": "y"
         },
         {
          "font": {
           "color": "#FFFFFF",
           "size": 8
          },
          "showarrow": false,
          "text": "0.15",
          "x": "Online Co-op",
          "xref": "x",
          "y": "In-App Purchases",
          "yref": "y"
         },
         {
          "font": {
           "color": "#FFFFFF",
           "size": 8
          },
          "showarrow": false,
          "text": "-0.03",
          "x": "Shared/Split Screen",
          "xref": "x",
          "y": "In-App Purchases",
          "yref": "y"
         },
         {
          "font": {
           "color": "#FFFFFF",
           "size": 8
          },
          "showarrow": false,
          "text": "-0.02",
          "x": "Local Co-op",
          "xref": "x",
          "y": "In-App Purchases",
          "yref": "y"
         },
         {
          "font": {
           "color": "#FFFFFF",
           "size": 8
          },
          "showarrow": false,
          "text": "0.31",
          "x": "MMO",
          "xref": "x",
          "y": "In-App Purchases",
          "yref": "y"
         },
         {
          "font": {
           "color": "#FFFFFF",
           "size": 8
          },
          "showarrow": false,
          "text": "-0.01",
          "x": "VR Support",
          "xref": "x",
          "y": "In-App Purchases",
          "yref": "y"
         },
         {
          "font": {
           "color": "#FFFFFF",
           "size": 8
          },
          "showarrow": false,
          "text": "-0.0",
          "x": "Mods",
          "xref": "x",
          "y": "In-App Purchases",
          "yref": "y"
         },
         {
          "font": {
           "color": "#FFFFFF",
           "size": 8
          },
          "showarrow": false,
          "text": "-0.0",
          "x": "Mods (require HL2)",
          "xref": "x",
          "y": "In-App Purchases",
          "yref": "y"
         },
         {
          "font": {
           "color": "#FFFFFF",
           "size": 8
          },
          "showarrow": false,
          "text": "0.03",
          "x": "Steam Turn Notifications",
          "xref": "x",
          "y": "In-App Purchases",
          "yref": "y"
         },
         {
          "font": {
           "color": "#FFFFFF",
           "size": 8
          },
          "showarrow": false,
          "text": "0.43",
          "x": "Multi-player",
          "xref": "x",
          "y": "Co-op",
          "yref": "y"
         },
         {
          "font": {
           "color": "#FFFFFF",
           "size": 8
          },
          "showarrow": false,
          "text": "0.32",
          "x": "Online Multi-Player",
          "xref": "x",
          "y": "Co-op",
          "yref": "y"
         },
         {
          "font": {
           "color": "#FFFFFF",
           "size": 8
          },
          "showarrow": false,
          "text": "0.32",
          "x": "Local Multi-Player",
          "xref": "x",
          "y": "Co-op",
          "yref": "y"
         },
         {
          "font": {
           "color": "#FFFFFF",
           "size": 8
          },
          "showarrow": false,
          "text": "0.07",
          "x": "Valve Anti-Cheat enabled",
          "xref": "x",
          "y": "Co-op",
          "yref": "y"
         },
         {
          "font": {
           "color": "#FFFFFF",
           "size": 8
          },
          "showarrow": false,
          "text": "-0.13",
          "x": "Single-player",
          "xref": "x",
          "y": "Co-op",
          "yref": "y"
         },
         {
          "font": {
           "color": "#FFFFFF",
           "size": 8
          },
          "showarrow": false,
          "text": "0.07",
          "x": "Steam Cloud",
          "xref": "x",
          "y": "Co-op",
          "yref": "y"
         },
         {
          "font": {
           "color": "#FFFFFF",
           "size": 8
          },
          "showarrow": false,
          "text": "0.07",
          "x": "Steam Achievements",
          "xref": "x",
          "y": "Co-op",
          "yref": "y"
         },
         {
          "font": {
           "color": "#FFFFFF",
           "size": 8
          },
          "showarrow": false,
          "text": "0.07",
          "x": "Steam Trading Cards",
          "xref": "x",
          "y": "Co-op",
          "yref": "y"
         },
         {
          "font": {
           "color": "#FFFFFF",
           "size": 8
          },
          "showarrow": false,
          "text": "-0.0",
          "x": "Captions available",
          "xref": "x",
          "y": "Co-op",
          "yref": "y"
         },
         {
          "font": {
           "color": "#FFFFFF",
           "size": 8
          },
          "showarrow": false,
          "text": "0.07",
          "x": "Partial Controller Support",
          "xref": "x",
          "y": "Co-op",
          "yref": "y"
         },
         {
          "font": {
           "color": "#FFFFFF",
           "size": 8
          },
          "showarrow": false,
          "text": "0.03",
          "x": "Includes Source SDK",
          "xref": "x",
          "y": "Co-op",
          "yref": "y"
         },
         {
          "font": {
           "color": "#FFFFFF",
           "size": 8
          },
          "showarrow": false,
          "text": "0.23",
          "x": "Cross-Platform Multiplayer",
          "xref": "x",
          "y": "Co-op",
          "yref": "y"
         },
         {
          "font": {
           "color": "#FFFFFF",
           "size": 8
          },
          "showarrow": false,
          "text": "0.09",
          "x": "Stats",
          "xref": "x",
          "y": "Co-op",
          "yref": "y"
         },
         {
          "font": {
           "color": "#FFFFFF",
           "size": 8
          },
          "showarrow": false,
          "text": "-0.0",
          "x": "Commentary available",
          "xref": "x",
          "y": "Co-op",
          "yref": "y"
         },
         {
          "font": {
           "color": "#FFFFFF",
           "size": 8
          },
          "showarrow": false,
          "text": "0.1",
          "x": "Includes level editor",
          "xref": "x",
          "y": "Co-op",
          "yref": "y"
         },
         {
          "font": {
           "color": "#FFFFFF",
           "size": 8
          },
          "showarrow": false,
          "text": "0.09",
          "x": "Steam Workshop",
          "xref": "x",
          "y": "Co-op",
          "yref": "y"
         },
         {
          "font": {
           "color": "#FFFFFF",
           "size": 8
          },
          "showarrow": false,
          "text": "0.1",
          "x": "In-App Purchases",
          "xref": "x",
          "y": "Co-op",
          "yref": "y"
         },
         {
          "font": {
           "color": "#FFFFFF",
           "size": 8
          },
          "showarrow": false,
          "text": "1.0",
          "x": "Co-op",
          "xref": "x",
          "y": "Co-op",
          "yref": "y"
         },
         {
          "font": {
           "color": "#FFFFFF",
           "size": 8
          },
          "showarrow": false,
          "text": "0.15",
          "x": "Full controller support",
          "xref": "x",
          "y": "Co-op",
          "yref": "y"
         },
         {
          "font": {
           "color": "#FFFFFF",
           "size": 8
          },
          "showarrow": false,
          "text": "0.1",
          "x": "Steam Leaderboards",
          "xref": "x",
          "y": "Co-op",
          "yref": "y"
         },
         {
          "font": {
           "color": "#FFFFFF",
           "size": 8
          },
          "showarrow": false,
          "text": "0.03",
          "x": "SteamVR Collectibles",
          "xref": "x",
          "y": "Co-op",
          "yref": "y"
         },
         {
          "font": {
           "color": "#FFFFFF",
           "size": 8
          },
          "showarrow": false,
          "text": "0.62",
          "x": "Online Co-op",
          "xref": "x",
          "y": "Co-op",
          "yref": "y"
         },
         {
          "font": {
           "color": "#FFFFFF",
           "size": 8
          },
          "showarrow": false,
          "text": "0.38",
          "x": "Shared/Split Screen",
          "xref": "x",
          "y": "Co-op",
          "yref": "y"
         },
         {
          "font": {
           "color": "#FFFFFF",
           "size": 8
          },
          "showarrow": false,
          "text": "0.62",
          "x": "Local Co-op",
          "xref": "x",
          "y": "Co-op",
          "yref": "y"
         },
         {
          "font": {
           "color": "#FFFFFF",
           "size": 8
          },
          "showarrow": false,
          "text": "0.15",
          "x": "MMO",
          "xref": "x",
          "y": "Co-op",
          "yref": "y"
         },
         {
          "font": {
           "color": "#FFFFFF",
           "size": 8
          },
          "showarrow": false,
          "text": "0.01",
          "x": "VR Support",
          "xref": "x",
          "y": "Co-op",
          "yref": "y"
         },
         {
          "font": {
           "color": "#FFFFFF",
           "size": 8
          },
          "showarrow": false,
          "text": "0.01",
          "x": "Mods",
          "xref": "x",
          "y": "Co-op",
          "yref": "y"
         },
         {
          "font": {
           "color": "#FFFFFF",
           "size": 8
          },
          "showarrow": false,
          "text": "0.02",
          "x": "Mods (require HL2)",
          "xref": "x",
          "y": "Co-op",
          "yref": "y"
         },
         {
          "font": {
           "color": "#FFFFFF",
           "size": 8
          },
          "showarrow": false,
          "text": "0.01",
          "x": "Steam Turn Notifications",
          "xref": "x",
          "y": "Co-op",
          "yref": "y"
         },
         {
          "font": {
           "color": "#FFFFFF",
           "size": 8
          },
          "showarrow": false,
          "text": "0.06",
          "x": "Multi-player",
          "xref": "x",
          "y": "Full controller support",
          "yref": "y"
         },
         {
          "font": {
           "color": "#FFFFFF",
           "size": 8
          },
          "showarrow": false,
          "text": "0.0",
          "x": "Online Multi-Player",
          "xref": "x",
          "y": "Full controller support",
          "yref": "y"
         },
         {
          "font": {
           "color": "#FFFFFF",
           "size": 8
          },
          "showarrow": false,
          "text": "0.19",
          "x": "Local Multi-Player",
          "xref": "x",
          "y": "Full controller support",
          "yref": "y"
         },
         {
          "font": {
           "color": "#FFFFFF",
           "size": 8
          },
          "showarrow": false,
          "text": "0.01",
          "x": "Valve Anti-Cheat enabled",
          "xref": "x",
          "y": "Full controller support",
          "yref": "y"
         },
         {
          "font": {
           "color": "#FFFFFF",
           "size": 8
          },
          "showarrow": false,
          "text": "0.02",
          "x": "Single-player",
          "xref": "x",
          "y": "Full controller support",
          "yref": "y"
         },
         {
          "font": {
           "color": "#FFFFFF",
           "size": 8
          },
          "showarrow": false,
          "text": "0.25",
          "x": "Steam Cloud",
          "xref": "x",
          "y": "Full controller support",
          "yref": "y"
         },
         {
          "font": {
           "color": "#FFFFFF",
           "size": 8
          },
          "showarrow": false,
          "text": "0.26",
          "x": "Steam Achievements",
          "xref": "x",
          "y": "Full controller support",
          "yref": "y"
         },
         {
          "font": {
           "color": "#FFFFFF",
           "size": 8
          },
          "showarrow": false,
          "text": "0.2",
          "x": "Steam Trading Cards",
          "xref": "x",
          "y": "Full controller support",
          "yref": "y"
         },
         {
          "font": {
           "color": "#FFFFFF",
           "size": 8
          },
          "showarrow": false,
          "text": "0.04",
          "x": "Captions available",
          "xref": "x",
          "y": "Full controller support",
          "yref": "y"
         },
         {
          "font": {
           "color": "#FFFFFF",
           "size": 8
          },
          "showarrow": false,
          "text": "-0.22",
          "x": "Partial Controller Support",
          "xref": "x",
          "y": "Full controller support",
          "yref": "y"
         },
         {
          "font": {
           "color": "#FFFFFF",
           "size": 8
          },
          "showarrow": false,
          "text": "-0.01",
          "x": "Includes Source SDK",
          "xref": "x",
          "y": "Full controller support",
          "yref": "y"
         },
         {
          "font": {
           "color": "#FFFFFF",
           "size": 8
          },
          "showarrow": false,
          "text": "0.0",
          "x": "Cross-Platform Multiplayer",
          "xref": "x",
          "y": "Full controller support",
          "yref": "y"
         },
         {
          "font": {
           "color": "#FFFFFF",
           "size": 8
          },
          "showarrow": false,
          "text": "0.08",
          "x": "Stats",
          "xref": "x",
          "y": "Full controller support",
          "yref": "y"
         },
         {
          "font": {
           "color": "#FFFFFF",
           "size": 8
          },
          "showarrow": false,
          "text": "0.01",
          "x": "Commentary available",
          "xref": "x",
          "y": "Full controller support",
          "yref": "y"
         },
         {
          "font": {
           "color": "#FFFFFF",
           "size": 8
          },
          "showarrow": false,
          "text": "0.02",
          "x": "Includes level editor",
          "xref": "x",
          "y": "Full controller support",
          "yref": "y"
         },
         {
          "font": {
           "color": "#FFFFFF",
           "size": 8
          },
          "showarrow": false,
          "text": "0.03",
          "x": "Steam Workshop",
          "xref": "x",
          "y": "Full controller support",
          "yref": "y"
         },
         {
          "font": {
           "color": "#FFFFFF",
           "size": 8
          },
          "showarrow": false,
          "text": "-0.05",
          "x": "In-App Purchases",
          "xref": "x",
          "y": "Full controller support",
          "yref": "y"
         },
         {
          "font": {
           "color": "#FFFFFF",
           "size": 8
          },
          "showarrow": false,
          "text": "0.15",
          "x": "Co-op",
          "xref": "x",
          "y": "Full controller support",
          "yref": "y"
         },
         {
          "font": {
           "color": "#FFFFFF",
           "size": 8
          },
          "showarrow": false,
          "text": "1.0",
          "x": "Full controller support",
          "xref": "x",
          "y": "Full controller support",
          "yref": "y"
         },
         {
          "font": {
           "color": "#FFFFFF",
           "size": 8
          },
          "showarrow": false,
          "text": "0.2",
          "x": "Steam Leaderboards",
          "xref": "x",
          "y": "Full controller support",
          "yref": "y"
         },
         {
          "font": {
           "color": "#FFFFFF",
           "size": 8
          },
          "showarrow": false,
          "text": "-0.01",
          "x": "SteamVR Collectibles",
          "xref": "x",
          "y": "Full controller support",
          "yref": "y"
         },
         {
          "font": {
           "color": "#FFFFFF",
           "size": 8
          },
          "showarrow": false,
          "text": "0.02",
          "x": "Online Co-op",
          "xref": "x",
          "y": "Full controller support",
          "yref": "y"
         },
         {
          "font": {
           "color": "#FFFFFF",
           "size": 8
          },
          "showarrow": false,
          "text": "0.28",
          "x": "Shared/Split Screen",
          "xref": "x",
          "y": "Full controller support",
          "yref": "y"
         },
         {
          "font": {
           "color": "#FFFFFF",
           "size": 8
          },
          "showarrow": false,
          "text": "0.21",
          "x": "Local Co-op",
          "xref": "x",
          "y": "Full controller support",
          "yref": "y"
         },
         {
          "font": {
           "color": "#FFFFFF",
           "size": 8
          },
          "showarrow": false,
          "text": "-0.05",
          "x": "MMO",
          "xref": "x",
          "y": "Full controller support",
          "yref": "y"
         },
         {
          "font": {
           "color": "#FFFFFF",
           "size": 8
          },
          "showarrow": false,
          "text": "0.04",
          "x": "VR Support",
          "xref": "x",
          "y": "Full controller support",
          "yref": "y"
         },
         {
          "font": {
           "color": "#FFFFFF",
           "size": 8
          },
          "showarrow": false,
          "text": "-0.0",
          "x": "Mods",
          "xref": "x",
          "y": "Full controller support",
          "yref": "y"
         },
         {
          "font": {
           "color": "#FFFFFF",
           "size": 8
          },
          "showarrow": false,
          "text": "-0.0",
          "x": "Mods (require HL2)",
          "xref": "x",
          "y": "Full controller support",
          "yref": "y"
         },
         {
          "font": {
           "color": "#FFFFFF",
           "size": 8
          },
          "showarrow": false,
          "text": "0.02",
          "x": "Steam Turn Notifications",
          "xref": "x",
          "y": "Full controller support",
          "yref": "y"
         },
         {
          "font": {
           "color": "#FFFFFF",
           "size": 8
          },
          "showarrow": false,
          "text": "0.09",
          "x": "Multi-player",
          "xref": "x",
          "y": "Steam Leaderboards",
          "yref": "y"
         },
         {
          "font": {
           "color": "#FFFFFF",
           "size": 8
          },
          "showarrow": false,
          "text": "0.04",
          "x": "Online Multi-Player",
          "xref": "x",
          "y": "Steam Leaderboards",
          "yref": "y"
         },
         {
          "font": {
           "color": "#FFFFFF",
           "size": 8
          },
          "showarrow": false,
          "text": "0.06",
          "x": "Local Multi-Player",
          "xref": "x",
          "y": "Steam Leaderboards",
          "yref": "y"
         },
         {
          "font": {
           "color": "#FFFFFF",
           "size": 8
          },
          "showarrow": false,
          "text": "0.03",
          "x": "Valve Anti-Cheat enabled",
          "xref": "x",
          "y": "Steam Leaderboards",
          "yref": "y"
         },
         {
          "font": {
           "color": "#FFFFFF",
           "size": 8
          },
          "showarrow": false,
          "text": "0.05",
          "x": "Single-player",
          "xref": "x",
          "y": "Steam Leaderboards",
          "yref": "y"
         },
         {
          "font": {
           "color": "#FFFFFF",
           "size": 8
          },
          "showarrow": false,
          "text": "0.22",
          "x": "Steam Cloud",
          "xref": "x",
          "y": "Steam Leaderboards",
          "yref": "y"
         },
         {
          "font": {
           "color": "#FFFFFF",
           "size": 8
          },
          "showarrow": false,
          "text": "0.29",
          "x": "Steam Achievements",
          "xref": "x",
          "y": "Steam Leaderboards",
          "yref": "y"
         },
         {
          "font": {
           "color": "#FFFFFF",
           "size": 8
          },
          "showarrow": false,
          "text": "0.13",
          "x": "Steam Trading Cards",
          "xref": "x",
          "y": "Steam Leaderboards",
          "yref": "y"
         },
         {
          "font": {
           "color": "#FFFFFF",
           "size": 8
          },
          "showarrow": false,
          "text": "-0.0",
          "x": "Captions available",
          "xref": "x",
          "y": "Steam Leaderboards",
          "yref": "y"
         },
         {
          "font": {
           "color": "#FFFFFF",
           "size": 8
          },
          "showarrow": false,
          "text": "0.04",
          "x": "Partial Controller Support",
          "xref": "x",
          "y": "Steam Leaderboards",
          "yref": "y"
         },
         {
          "font": {
           "color": "#FFFFFF",
           "size": 8
          },
          "showarrow": false,
          "text": "0.0",
          "x": "Includes Source SDK",
          "xref": "x",
          "y": "Steam Leaderboards",
          "yref": "y"
         },
         {
          "font": {
           "color": "#FFFFFF",
           "size": 8
          },
          "showarrow": false,
          "text": "0.04",
          "x": "Cross-Platform Multiplayer",
          "xref": "x",
          "y": "Steam Leaderboards",
          "yref": "y"
         },
         {
          "font": {
           "color": "#FFFFFF",
           "size": 8
          },
          "showarrow": false,
          "text": "0.32",
          "x": "Stats",
          "xref": "x",
          "y": "Steam Leaderboards",
          "yref": "y"
         },
         {
          "font": {
           "color": "#FFFFFF",
           "size": 8
          },
          "showarrow": false,
          "text": "0.01",
          "x": "Commentary available",
          "xref": "x",
          "y": "Steam Leaderboards",
          "yref": "y"
         },
         {
          "font": {
           "color": "#FFFFFF",
           "size": 8
          },
          "showarrow": false,
          "text": "0.07",
          "x": "Includes level editor",
          "xref": "x",
          "y": "Steam Leaderboards",
          "yref": "y"
         },
         {
          "font": {
           "color": "#FFFFFF",
           "size": 8
          },
          "showarrow": false,
          "text": "0.09",
          "x": "Steam Workshop",
          "xref": "x",
          "y": "Steam Leaderboards",
          "yref": "y"
         },
         {
          "font": {
           "color": "#FFFFFF",
           "size": 8
          },
          "showarrow": false,
          "text": "-0.02",
          "x": "In-App Purchases",
          "xref": "x",
          "y": "Steam Leaderboards",
          "yref": "y"
         },
         {
          "font": {
           "color": "#FFFFFF",
           "size": 8
          },
          "showarrow": false,
          "text": "0.1",
          "x": "Co-op",
          "xref": "x",
          "y": "Steam Leaderboards",
          "yref": "y"
         },
         {
          "font": {
           "color": "#FFFFFF",
           "size": 8
          },
          "showarrow": false,
          "text": "0.2",
          "x": "Full controller support",
          "xref": "x",
          "y": "Steam Leaderboards",
          "yref": "y"
         },
         {
          "font": {
           "color": "#FFFFFF",
           "size": 8
          },
          "showarrow": false,
          "text": "1.0",
          "x": "Steam Leaderboards",
          "xref": "x",
          "y": "Steam Leaderboards",
          "yref": "y"
         },
         {
          "font": {
           "color": "#FFFFFF",
           "size": 8
          },
          "showarrow": false,
          "text": "0.02",
          "x": "SteamVR Collectibles",
          "xref": "x",
          "y": "Steam Leaderboards",
          "yref": "y"
         },
         {
          "font": {
           "color": "#FFFFFF",
           "size": 8
          },
          "showarrow": false,
          "text": "0.03",
          "x": "Online Co-op",
          "xref": "x",
          "y": "Steam Leaderboards",
          "yref": "y"
         },
         {
          "font": {
           "color": "#FFFFFF",
           "size": 8
          },
          "showarrow": false,
          "text": "0.13",
          "x": "Shared/Split Screen",
          "xref": "x",
          "y": "Steam Leaderboards",
          "yref": "y"
         },
         {
          "font": {
           "color": "#FFFFFF",
           "size": 8
          },
          "showarrow": false,
          "text": "0.08",
          "x": "Local Co-op",
          "xref": "x",
          "y": "Steam Leaderboards",
          "yref": "y"
         },
         {
          "font": {
           "color": "#FFFFFF",
           "size": 8
          },
          "showarrow": false,
          "text": "-0.03",
          "x": "MMO",
          "xref": "x",
          "y": "Steam Leaderboards",
          "yref": "y"
         },
         {
          "font": {
           "color": "#FFFFFF",
           "size": 8
          },
          "showarrow": false,
          "text": "0.02",
          "x": "VR Support",
          "xref": "x",
          "y": "Steam Leaderboards",
          "yref": "y"
         },
         {
          "font": {
           "color": "#FFFFFF",
           "size": 8
          },
          "showarrow": false,
          "text": "-0.0",
          "x": "Mods",
          "xref": "x",
          "y": "Steam Leaderboards",
          "yref": "y"
         },
         {
          "font": {
           "color": "#FFFFFF",
           "size": 8
          },
          "showarrow": false,
          "text": "-0.0",
          "x": "Mods (require HL2)",
          "xref": "x",
          "y": "Steam Leaderboards",
          "yref": "y"
         },
         {
          "font": {
           "color": "#FFFFFF",
           "size": 8
          },
          "showarrow": false,
          "text": "0.04",
          "x": "Steam Turn Notifications",
          "xref": "x",
          "y": "Steam Leaderboards",
          "yref": "y"
         },
         {
          "font": {
           "color": "#FFFFFF",
           "size": 8
          },
          "showarrow": false,
          "text": "0.01",
          "x": "Multi-player",
          "xref": "x",
          "y": "SteamVR Collectibles",
          "yref": "y"
         },
         {
          "font": {
           "color": "#FFFFFF",
           "size": 8
          },
          "showarrow": false,
          "text": "0.03",
          "x": "Online Multi-Player",
          "xref": "x",
          "y": "SteamVR Collectibles",
          "yref": "y"
         },
         {
          "font": {
           "color": "#FFFFFF",
           "size": 8
          },
          "showarrow": false,
          "text": "-0.01",
          "x": "Local Multi-Player",
          "xref": "x",
          "y": "SteamVR Collectibles",
          "yref": "y"
         },
         {
          "font": {
           "color": "#FFFFFF",
           "size": 8
          },
          "showarrow": false,
          "text": "0.01",
          "x": "Valve Anti-Cheat enabled",
          "xref": "x",
          "y": "SteamVR Collectibles",
          "yref": "y"
         },
         {
          "font": {
           "color": "#FFFFFF",
           "size": 8
          },
          "showarrow": false,
          "text": "-0.01",
          "x": "Single-player",
          "xref": "x",
          "y": "SteamVR Collectibles",
          "yref": "y"
         },
         {
          "font": {
           "color": "#FFFFFF",
           "size": 8
          },
          "showarrow": false,
          "text": "0.01",
          "x": "Steam Cloud",
          "xref": "x",
          "y": "SteamVR Collectibles",
          "yref": "y"
         },
         {
          "font": {
           "color": "#FFFFFF",
           "size": 8
          },
          "showarrow": false,
          "text": "0.0",
          "x": "Steam Achievements",
          "xref": "x",
          "y": "SteamVR Collectibles",
          "yref": "y"
         },
         {
          "font": {
           "color": "#FFFFFF",
           "size": 8
          },
          "showarrow": false,
          "text": "0.0",
          "x": "Steam Trading Cards",
          "xref": "x",
          "y": "SteamVR Collectibles",
          "yref": "y"
         },
         {
          "font": {
           "color": "#FFFFFF",
           "size": 8
          },
          "showarrow": false,
          "text": "-0.0",
          "x": "Captions available",
          "xref": "x",
          "y": "SteamVR Collectibles",
          "yref": "y"
         },
         {
          "font": {
           "color": "#FFFFFF",
           "size": 8
          },
          "showarrow": false,
          "text": "-0.02",
          "x": "Partial Controller Support",
          "xref": "x",
          "y": "SteamVR Collectibles",
          "yref": "y"
         },
         {
          "font": {
           "color": "#FFFFFF",
           "size": 8
          },
          "showarrow": false,
          "text": "-0.0",
          "x": "Includes Source SDK",
          "xref": "x",
          "y": "SteamVR Collectibles",
          "yref": "y"
         },
         {
          "font": {
           "color": "#FFFFFF",
           "size": 8
          },
          "showarrow": false,
          "text": "0.02",
          "x": "Cross-Platform Multiplayer",
          "xref": "x",
          "y": "SteamVR Collectibles",
          "yref": "y"
         },
         {
          "font": {
           "color": "#FFFFFF",
           "size": 8
          },
          "showarrow": false,
          "text": "0.0",
          "x": "Stats",
          "xref": "x",
          "y": "SteamVR Collectibles",
          "yref": "y"
         },
         {
          "font": {
           "color": "#FFFFFF",
           "size": 8
          },
          "showarrow": false,
          "text": "-0.0",
          "x": "Commentary available",
          "xref": "x",
          "y": "SteamVR Collectibles",
          "yref": "y"
         },
         {
          "font": {
           "color": "#FFFFFF",
           "size": 8
          },
          "showarrow": false,
          "text": "0.0",
          "x": "Includes level editor",
          "xref": "x",
          "y": "SteamVR Collectibles",
          "yref": "y"
         },
         {
          "font": {
           "color": "#FFFFFF",
           "size": 8
          },
          "showarrow": false,
          "text": "0.0",
          "x": "Steam Workshop",
          "xref": "x",
          "y": "SteamVR Collectibles",
          "yref": "y"
         },
         {
          "font": {
           "color": "#FFFFFF",
           "size": 8
          },
          "showarrow": false,
          "text": "-0.0",
          "x": "In-App Purchases",
          "xref": "x",
          "y": "SteamVR Collectibles",
          "yref": "y"
         },
         {
          "font": {
           "color": "#FFFFFF",
           "size": 8
          },
          "showarrow": false,
          "text": "0.03",
          "x": "Co-op",
          "xref": "x",
          "y": "SteamVR Collectibles",
          "yref": "y"
         },
         {
          "font": {
           "color": "#FFFFFF",
           "size": 8
          },
          "showarrow": false,
          "text": "-0.01",
          "x": "Full controller support",
          "xref": "x",
          "y": "SteamVR Collectibles",
          "yref": "y"
         },
         {
          "font": {
           "color": "#FFFFFF",
           "size": 8
          },
          "showarrow": false,
          "text": "0.02",
          "x": "Steam Leaderboards",
          "xref": "x",
          "y": "SteamVR Collectibles",
          "yref": "y"
         },
         {
          "font": {
           "color": "#FFFFFF",
           "size": 8
          },
          "showarrow": false,
          "text": "1.0",
          "x": "SteamVR Collectibles",
          "xref": "x",
          "y": "SteamVR Collectibles",
          "yref": "y"
         },
         {
          "font": {
           "color": "#FFFFFF",
           "size": 8
          },
          "showarrow": false,
          "text": "0.04",
          "x": "Online Co-op",
          "xref": "x",
          "y": "SteamVR Collectibles",
          "yref": "y"
         },
         {
          "font": {
           "color": "#FFFFFF",
           "size": 8
          },
          "showarrow": false,
          "text": "-0.01",
          "x": "Shared/Split Screen",
          "xref": "x",
          "y": "SteamVR Collectibles",
          "yref": "y"
         },
         {
          "font": {
           "color": "#FFFFFF",
           "size": 8
          },
          "showarrow": false,
          "text": "-0.01",
          "x": "Local Co-op",
          "xref": "x",
          "y": "SteamVR Collectibles",
          "yref": "y"
         },
         {
          "font": {
           "color": "#FFFFFF",
           "size": 8
          },
          "showarrow": false,
          "text": "0.0",
          "x": "MMO",
          "xref": "x",
          "y": "SteamVR Collectibles",
          "yref": "y"
         },
         {
          "font": {
           "color": "#FFFFFF",
           "size": 8
          },
          "showarrow": false,
          "text": "0.17",
          "x": "VR Support",
          "xref": "x",
          "y": "SteamVR Collectibles",
          "yref": "y"
         },
         {
          "font": {
           "color": "#FFFFFF",
           "size": 8
          },
          "showarrow": false,
          "text": "-0.0",
          "x": "Mods",
          "xref": "x",
          "y": "SteamVR Collectibles",
          "yref": "y"
         },
         {
          "font": {
           "color": "#FFFFFF",
           "size": 8
          },
          "showarrow": false,
          "text": "-0.0",
          "x": "Mods (require HL2)",
          "xref": "x",
          "y": "SteamVR Collectibles",
          "yref": "y"
         },
         {
          "font": {
           "color": "#FFFFFF",
           "size": 8
          },
          "showarrow": false,
          "text": "-0.0",
          "x": "Steam Turn Notifications",
          "xref": "x",
          "y": "SteamVR Collectibles",
          "yref": "y"
         },
         {
          "font": {
           "color": "#FFFFFF",
           "size": 8
          },
          "showarrow": false,
          "text": "0.33",
          "x": "Multi-player",
          "xref": "x",
          "y": "Online Co-op",
          "yref": "y"
         },
         {
          "font": {
           "color": "#FFFFFF",
           "size": 8
          },
          "showarrow": false,
          "text": "0.54",
          "x": "Online Multi-Player",
          "xref": "x",
          "y": "Online Co-op",
          "yref": "y"
         },
         {
          "font": {
           "color": "#FFFFFF",
           "size": 8
          },
          "showarrow": false,
          "text": "0.13",
          "x": "Local Multi-Player",
          "xref": "x",
          "y": "Online Co-op",
          "yref": "y"
         },
         {
          "font": {
           "color": "#FFFFFF",
           "size": 8
          },
          "showarrow": false,
          "text": "0.03",
          "x": "Valve Anti-Cheat enabled",
          "xref": "x",
          "y": "Online Co-op",
          "yref": "y"
         },
         {
          "font": {
           "color": "#FFFFFF",
           "size": 8
          },
          "showarrow": false,
          "text": "-0.16",
          "x": "Single-player",
          "xref": "x",
          "y": "Online Co-op",
          "yref": "y"
         },
         {
          "font": {
           "color": "#FFFFFF",
           "size": 8
          },
          "showarrow": false,
          "text": "0.02",
          "x": "Steam Cloud",
          "xref": "x",
          "y": "Online Co-op",
          "yref": "y"
         },
         {
          "font": {
           "color": "#FFFFFF",
           "size": 8
          },
          "showarrow": false,
          "text": "0.02",
          "x": "Steam Achievements",
          "xref": "x",
          "y": "Online Co-op",
          "yref": "y"
         },
         {
          "font": {
           "color": "#FFFFFF",
           "size": 8
          },
          "showarrow": false,
          "text": "0.03",
          "x": "Steam Trading Cards",
          "xref": "x",
          "y": "Online Co-op",
          "yref": "y"
         },
         {
          "font": {
           "color": "#FFFFFF",
           "size": 8
          },
          "showarrow": false,
          "text": "-0.01",
          "x": "Captions available",
          "xref": "x",
          "y": "Online Co-op",
          "yref": "y"
         },
         {
          "font": {
           "color": "#FFFFFF",
           "size": 8
          },
          "showarrow": false,
          "text": "0.03",
          "x": "Partial Controller Support",
          "xref": "x",
          "y": "Online Co-op",
          "yref": "y"
         },
         {
          "font": {
           "color": "#FFFFFF",
           "size": 8
          },
          "showarrow": false,
          "text": "0.02",
          "x": "Includes Source SDK",
          "xref": "x",
          "y": "Online Co-op",
          "yref": "y"
         },
         {
          "font": {
           "color": "#FFFFFF",
           "size": 8
          },
          "showarrow": false,
          "text": "0.24",
          "x": "Cross-Platform Multiplayer",
          "xref": "x",
          "y": "Online Co-op",
          "yref": "y"
         },
         {
          "font": {
           "color": "#FFFFFF",
           "size": 8
          },
          "showarrow": false,
          "text": "0.06",
          "x": "Stats",
          "xref": "x",
          "y": "Online Co-op",
          "yref": "y"
         },
         {
          "font": {
           "color": "#FFFFFF",
           "size": 8
          },
          "showarrow": false,
          "text": "-0.0",
          "x": "Commentary available",
          "xref": "x",
          "y": "Online Co-op",
          "yref": "y"
         },
         {
          "font": {
           "color": "#FFFFFF",
           "size": 8
          },
          "showarrow": false,
          "text": "0.07",
          "x": "Includes level editor",
          "xref": "x",
          "y": "Online Co-op",
          "yref": "y"
         },
         {
          "font": {
           "color": "#FFFFFF",
           "size": 8
          },
          "showarrow": false,
          "text": "0.08",
          "x": "Steam Workshop",
          "xref": "x",
          "y": "Online Co-op",
          "yref": "y"
         },
         {
          "font": {
           "color": "#FFFFFF",
           "size": 8
          },
          "showarrow": false,
          "text": "0.15",
          "x": "In-App Purchases",
          "xref": "x",
          "y": "Online Co-op",
          "yref": "y"
         },
         {
          "font": {
           "color": "#FFFFFF",
           "size": 8
          },
          "showarrow": false,
          "text": "0.62",
          "x": "Co-op",
          "xref": "x",
          "y": "Online Co-op",
          "yref": "y"
         },
         {
          "font": {
           "color": "#FFFFFF",
           "size": 8
          },
          "showarrow": false,
          "text": "0.02",
          "x": "Full controller support",
          "xref": "x",
          "y": "Online Co-op",
          "yref": "y"
         },
         {
          "font": {
           "color": "#FFFFFF",
           "size": 8
          },
          "showarrow": false,
          "text": "0.03",
          "x": "Steam Leaderboards",
          "xref": "x",
          "y": "Online Co-op",
          "yref": "y"
         },
         {
          "font": {
           "color": "#FFFFFF",
           "size": 8
          },
          "showarrow": false,
          "text": "0.04",
          "x": "SteamVR Collectibles",
          "xref": "x",
          "y": "Online Co-op",
          "yref": "y"
         },
         {
          "font": {
           "color": "#FFFFFF",
           "size": 8
          },
          "showarrow": false,
          "text": "1.0",
          "x": "Online Co-op",
          "xref": "x",
          "y": "Online Co-op",
          "yref": "y"
         },
         {
          "font": {
           "color": "#FFFFFF",
           "size": 8
          },
          "showarrow": false,
          "text": "0.06",
          "x": "Shared/Split Screen",
          "xref": "x",
          "y": "Online Co-op",
          "yref": "y"
         },
         {
          "font": {
           "color": "#FFFFFF",
           "size": 8
          },
          "showarrow": false,
          "text": "0.2",
          "x": "Local Co-op",
          "xref": "x",
          "y": "Online Co-op",
          "yref": "y"
         },
         {
          "font": {
           "color": "#FFFFFF",
           "size": 8
          },
          "showarrow": false,
          "text": "0.19",
          "x": "MMO",
          "xref": "x",
          "y": "Online Co-op",
          "yref": "y"
         },
         {
          "font": {
           "color": "#FFFFFF",
           "size": 8
          },
          "showarrow": false,
          "text": "0.01",
          "x": "VR Support",
          "xref": "x",
          "y": "Online Co-op",
          "yref": "y"
         },
         {
          "font": {
           "color": "#FFFFFF",
           "size": 8
          },
          "showarrow": false,
          "text": "-0.0",
          "x": "Mods",
          "xref": "x",
          "y": "Online Co-op",
          "yref": "y"
         },
         {
          "font": {
           "color": "#FFFFFF",
           "size": 8
          },
          "showarrow": false,
          "text": "-0.0",
          "x": "Mods (require HL2)",
          "xref": "x",
          "y": "Online Co-op",
          "yref": "y"
         },
         {
          "font": {
           "color": "#FFFFFF",
           "size": 8
          },
          "showarrow": false,
          "text": "0.01",
          "x": "Steam Turn Notifications",
          "xref": "x",
          "y": "Online Co-op",
          "yref": "y"
         },
         {
          "font": {
           "color": "#FFFFFF",
           "size": 8
          },
          "showarrow": false,
          "text": "0.27",
          "x": "Multi-player",
          "xref": "x",
          "y": "Shared/Split Screen",
          "yref": "y"
         },
         {
          "font": {
           "color": "#FFFFFF",
           "size": 8
          },
          "showarrow": false,
          "text": "0.11",
          "x": "Online Multi-Player",
          "xref": "x",
          "y": "Shared/Split Screen",
          "yref": "y"
         },
         {
          "font": {
           "color": "#FFFFFF",
           "size": 8
          },
          "showarrow": false,
          "text": "0.58",
          "x": "Local Multi-Player",
          "xref": "x",
          "y": "Shared/Split Screen",
          "yref": "y"
         },
         {
          "font": {
           "color": "#FFFFFF",
           "size": 8
          },
          "showarrow": false,
          "text": "-0.01",
          "x": "Valve Anti-Cheat enabled",
          "xref": "x",
          "y": "Shared/Split Screen",
          "yref": "y"
         },
         {
          "font": {
           "color": "#FFFFFF",
           "size": 8
          },
          "showarrow": false,
          "text": "-0.07",
          "x": "Single-player",
          "xref": "x",
          "y": "Shared/Split Screen",
          "yref": "y"
         },
         {
          "font": {
           "color": "#FFFFFF",
           "size": 8
          },
          "showarrow": false,
          "text": "0.09",
          "x": "Steam Cloud",
          "xref": "x",
          "y": "Shared/Split Screen",
          "yref": "y"
         },
         {
          "font": {
           "color": "#FFFFFF",
           "size": 8
          },
          "showarrow": false,
          "text": "0.08",
          "x": "Steam Achievements",
          "xref": "x",
          "y": "Shared/Split Screen",
          "yref": "y"
         },
         {
          "font": {
           "color": "#FFFFFF",
           "size": 8
          },
          "showarrow": false,
          "text": "0.07",
          "x": "Steam Trading Cards",
          "xref": "x",
          "y": "Shared/Split Screen",
          "yref": "y"
         },
         {
          "font": {
           "color": "#FFFFFF",
           "size": 8
          },
          "showarrow": false,
          "text": "-0.02",
          "x": "Captions available",
          "xref": "x",
          "y": "Shared/Split Screen",
          "yref": "y"
         },
         {
          "font": {
           "color": "#FFFFFF",
           "size": 8
          },
          "showarrow": false,
          "text": "0.07",
          "x": "Partial Controller Support",
          "xref": "x",
          "y": "Shared/Split Screen",
          "yref": "y"
         },
         {
          "font": {
           "color": "#FFFFFF",
           "size": 8
          },
          "showarrow": false,
          "text": "0.0",
          "x": "Includes Source SDK",
          "xref": "x",
          "y": "Shared/Split Screen",
          "yref": "y"
         },
         {
          "font": {
           "color": "#FFFFFF",
           "size": 8
          },
          "showarrow": false,
          "text": "0.09",
          "x": "Cross-Platform Multiplayer",
          "xref": "x",
          "y": "Shared/Split Screen",
          "yref": "y"
         },
         {
          "font": {
           "color": "#FFFFFF",
           "size": 8
          },
          "showarrow": false,
          "text": "0.07",
          "x": "Stats",
          "xref": "x",
          "y": "Shared/Split Screen",
          "yref": "y"
         },
         {
          "font": {
           "color": "#FFFFFF",
           "size": 8
          },
          "showarrow": false,
          "text": "-0.01",
          "x": "Commentary available",
          "xref": "x",
          "y": "Shared/Split Screen",
          "yref": "y"
         },
         {
          "font": {
           "color": "#FFFFFF",
           "size": 8
          },
          "showarrow": false,
          "text": "0.06",
          "x": "Includes level editor",
          "xref": "x",
          "y": "Shared/Split Screen",
          "yref": "y"
         },
         {
          "font": {
           "color": "#FFFFFF",
           "size": 8
          },
          "showarrow": false,
          "text": "0.04",
          "x": "Steam Workshop",
          "xref": "x",
          "y": "Shared/Split Screen",
          "yref": "y"
         },
         {
          "font": {
           "color": "#FFFFFF",
           "size": 8
          },
          "showarrow": false,
          "text": "-0.03",
          "x": "In-App Purchases",
          "xref": "x",
          "y": "Shared/Split Screen",
          "yref": "y"
         },
         {
          "font": {
           "color": "#FFFFFF",
           "size": 8
          },
          "showarrow": false,
          "text": "0.38",
          "x": "Co-op",
          "xref": "x",
          "y": "Shared/Split Screen",
          "yref": "y"
         },
         {
          "font": {
           "color": "#FFFFFF",
           "size": 8
          },
          "showarrow": false,
          "text": "0.28",
          "x": "Full controller support",
          "xref": "x",
          "y": "Shared/Split Screen",
          "yref": "y"
         },
         {
          "font": {
           "color": "#FFFFFF",
           "size": 8
          },
          "showarrow": false,
          "text": "0.13",
          "x": "Steam Leaderboards",
          "xref": "x",
          "y": "Shared/Split Screen",
          "yref": "y"
         },
         {
          "font": {
           "color": "#FFFFFF",
           "size": 8
          },
          "showarrow": false,
          "text": "-0.01",
          "x": "SteamVR Collectibles",
          "xref": "x",
          "y": "Shared/Split Screen",
          "yref": "y"
         },
         {
          "font": {
           "color": "#FFFFFF",
           "size": 8
          },
          "showarrow": false,
          "text": "0.06",
          "x": "Online Co-op",
          "xref": "x",
          "y": "Shared/Split Screen",
          "yref": "y"
         },
         {
          "font": {
           "color": "#FFFFFF",
           "size": 8
          },
          "showarrow": false,
          "text": "1.0",
          "x": "Shared/Split Screen",
          "xref": "x",
          "y": "Shared/Split Screen",
          "yref": "y"
         },
         {
          "font": {
           "color": "#FFFFFF",
           "size": 8
          },
          "showarrow": false,
          "text": "0.51",
          "x": "Local Co-op",
          "xref": "x",
          "y": "Shared/Split Screen",
          "yref": "y"
         },
         {
          "font": {
           "color": "#FFFFFF",
           "size": 8
          },
          "showarrow": false,
          "text": "-0.03",
          "x": "MMO",
          "xref": "x",
          "y": "Shared/Split Screen",
          "yref": "y"
         },
         {
          "font": {
           "color": "#FFFFFF",
           "size": 8
          },
          "showarrow": false,
          "text": "-0.01",
          "x": "VR Support",
          "xref": "x",
          "y": "Shared/Split Screen",
          "yref": "y"
         },
         {
          "font": {
           "color": "#FFFFFF",
           "size": 8
          },
          "showarrow": false,
          "text": "-0.0",
          "x": "Mods",
          "xref": "x",
          "y": "Shared/Split Screen",
          "yref": "y"
         },
         {
          "font": {
           "color": "#FFFFFF",
           "size": 8
          },
          "showarrow": false,
          "text": "-0.0",
          "x": "Mods (require HL2)",
          "xref": "x",
          "y": "Shared/Split Screen",
          "yref": "y"
         },
         {
          "font": {
           "color": "#FFFFFF",
           "size": 8
          },
          "showarrow": false,
          "text": "0.04",
          "x": "Steam Turn Notifications",
          "xref": "x",
          "y": "Shared/Split Screen",
          "yref": "y"
         },
         {
          "font": {
           "color": "#FFFFFF",
           "size": 8
          },
          "showarrow": false,
          "text": "0.16",
          "x": "Multi-player",
          "xref": "x",
          "y": "Local Co-op",
          "yref": "y"
         },
         {
          "font": {
           "color": "#FFFFFF",
           "size": 8
          },
          "showarrow": false,
          "text": "0.09",
          "x": "Online Multi-Player",
          "xref": "x",
          "y": "Local Co-op",
          "yref": "y"
         },
         {
          "font": {
           "color": "#FFFFFF",
           "size": 8
          },
          "showarrow": false,
          "text": "0.53",
          "x": "Local Multi-Player",
          "xref": "x",
          "y": "Local Co-op",
          "yref": "y"
         },
         {
          "font": {
           "color": "#FFFFFF",
           "size": 8
          },
          "showarrow": false,
          "text": "0.0",
          "x": "Valve Anti-Cheat enabled",
          "xref": "x",
          "y": "Local Co-op",
          "yref": "y"
         },
         {
          "font": {
           "color": "#FFFFFF",
           "size": 8
          },
          "showarrow": false,
          "text": "-0.02",
          "x": "Single-player",
          "xref": "x",
          "y": "Local Co-op",
          "yref": "y"
         },
         {
          "font": {
           "color": "#FFFFFF",
           "size": 8
          },
          "showarrow": false,
          "text": "0.07",
          "x": "Steam Cloud",
          "xref": "x",
          "y": "Local Co-op",
          "yref": "y"
         },
         {
          "font": {
           "color": "#FFFFFF",
           "size": 8
          },
          "showarrow": false,
          "text": "0.07",
          "x": "Steam Achievements",
          "xref": "x",
          "y": "Local Co-op",
          "yref": "y"
         },
         {
          "font": {
           "color": "#FFFFFF",
           "size": 8
          },
          "showarrow": false,
          "text": "0.03",
          "x": "Steam Trading Cards",
          "xref": "x",
          "y": "Local Co-op",
          "yref": "y"
         },
         {
          "font": {
           "color": "#FFFFFF",
           "size": 8
          },
          "showarrow": false,
          "text": "-0.01",
          "x": "Captions available",
          "xref": "x",
          "y": "Local Co-op",
          "yref": "y"
         },
         {
          "font": {
           "color": "#FFFFFF",
           "size": 8
          },
          "showarrow": false,
          "text": "0.04",
          "x": "Partial Controller Support",
          "xref": "x",
          "y": "Local Co-op",
          "yref": "y"
         },
         {
          "font": {
           "color": "#FFFFFF",
           "size": 8
          },
          "showarrow": false,
          "text": "0.0",
          "x": "Includes Source SDK",
          "xref": "x",
          "y": "Local Co-op",
          "yref": "y"
         },
         {
          "font": {
           "color": "#FFFFFF",
           "size": 8
          },
          "showarrow": false,
          "text": "0.04",
          "x": "Cross-Platform Multiplayer",
          "xref": "x",
          "y": "Local Co-op",
          "yref": "y"
         },
         {
          "font": {
           "color": "#FFFFFF",
           "size": 8
          },
          "showarrow": false,
          "text": "0.05",
          "x": "Stats",
          "xref": "x",
          "y": "Local Co-op",
          "yref": "y"
         },
         {
          "font": {
           "color": "#FFFFFF",
           "size": 8
          },
          "showarrow": false,
          "text": "-0.01",
          "x": "Commentary available",
          "xref": "x",
          "y": "Local Co-op",
          "yref": "y"
         },
         {
          "font": {
           "color": "#FFFFFF",
           "size": 8
          },
          "showarrow": false,
          "text": "0.04",
          "x": "Includes level editor",
          "xref": "x",
          "y": "Local Co-op",
          "yref": "y"
         },
         {
          "font": {
           "color": "#FFFFFF",
           "size": 8
          },
          "showarrow": false,
          "text": "0.03",
          "x": "Steam Workshop",
          "xref": "x",
          "y": "Local Co-op",
          "yref": "y"
         },
         {
          "font": {
           "color": "#FFFFFF",
           "size": 8
          },
          "showarrow": false,
          "text": "-0.02",
          "x": "In-App Purchases",
          "xref": "x",
          "y": "Local Co-op",
          "yref": "y"
         },
         {
          "font": {
           "color": "#FFFFFF",
           "size": 8
          },
          "showarrow": false,
          "text": "0.62",
          "x": "Co-op",
          "xref": "x",
          "y": "Local Co-op",
          "yref": "y"
         },
         {
          "font": {
           "color": "#FFFFFF",
           "size": 8
          },
          "showarrow": false,
          "text": "0.21",
          "x": "Full controller support",
          "xref": "x",
          "y": "Local Co-op",
          "yref": "y"
         },
         {
          "font": {
           "color": "#FFFFFF",
           "size": 8
          },
          "showarrow": false,
          "text": "0.08",
          "x": "Steam Leaderboards",
          "xref": "x",
          "y": "Local Co-op",
          "yref": "y"
         },
         {
          "font": {
           "color": "#FFFFFF",
           "size": 8
          },
          "showarrow": false,
          "text": "-0.01",
          "x": "SteamVR Collectibles",
          "xref": "x",
          "y": "Local Co-op",
          "yref": "y"
         },
         {
          "font": {
           "color": "#FFFFFF",
           "size": 8
          },
          "showarrow": false,
          "text": "0.2",
          "x": "Online Co-op",
          "xref": "x",
          "y": "Local Co-op",
          "yref": "y"
         },
         {
          "font": {
           "color": "#FFFFFF",
           "size": 8
          },
          "showarrow": false,
          "text": "0.51",
          "x": "Shared/Split Screen",
          "xref": "x",
          "y": "Local Co-op",
          "yref": "y"
         },
         {
          "font": {
           "color": "#FFFFFF",
           "size": 8
          },
          "showarrow": false,
          "text": "1.0",
          "x": "Local Co-op",
          "xref": "x",
          "y": "Local Co-op",
          "yref": "y"
         },
         {
          "font": {
           "color": "#FFFFFF",
           "size": 8
          },
          "showarrow": false,
          "text": "-0.02",
          "x": "MMO",
          "xref": "x",
          "y": "Local Co-op",
          "yref": "y"
         },
         {
          "font": {
           "color": "#FFFFFF",
           "size": 8
          },
          "showarrow": false,
          "text": "-0.01",
          "x": "VR Support",
          "xref": "x",
          "y": "Local Co-op",
          "yref": "y"
         },
         {
          "font": {
           "color": "#FFFFFF",
           "size": 8
          },
          "showarrow": false,
          "text": "-0.0",
          "x": "Mods",
          "xref": "x",
          "y": "Local Co-op",
          "yref": "y"
         },
         {
          "font": {
           "color": "#FFFFFF",
           "size": 8
          },
          "showarrow": false,
          "text": "-0.0",
          "x": "Mods (require HL2)",
          "xref": "x",
          "y": "Local Co-op",
          "yref": "y"
         },
         {
          "font": {
           "color": "#FFFFFF",
           "size": 8
          },
          "showarrow": false,
          "text": "0.01",
          "x": "Steam Turn Notifications",
          "xref": "x",
          "y": "Local Co-op",
          "yref": "y"
         },
         {
          "font": {
           "color": "#FFFFFF",
           "size": 8
          },
          "showarrow": false,
          "text": "0.17",
          "x": "Multi-player",
          "xref": "x",
          "y": "MMO",
          "yref": "y"
         },
         {
          "font": {
           "color": "#FFFFFF",
           "size": 8
          },
          "showarrow": false,
          "text": "0.23",
          "x": "Online Multi-Player",
          "xref": "x",
          "y": "MMO",
          "yref": "y"
         },
         {
          "font": {
           "color": "#FFFFFF",
           "size": 8
          },
          "showarrow": false,
          "text": "-0.02",
          "x": "Local Multi-Player",
          "xref": "x",
          "y": "MMO",
          "yref": "y"
         },
         {
          "font": {
           "color": "#FFFFFF",
           "size": 8
          },
          "showarrow": false,
          "text": "0.04",
          "x": "Valve Anti-Cheat enabled",
          "xref": "x",
          "y": "MMO",
          "yref": "y"
         },
         {
          "font": {
           "color": "#FFFFFF",
           "size": 8
          },
          "showarrow": false,
          "text": "-0.34",
          "x": "Single-player",
          "xref": "x",
          "y": "MMO",
          "yref": "y"
         },
         {
          "font": {
           "color": "#FFFFFF",
           "size": 8
          },
          "showarrow": false,
          "text": "-0.06",
          "x": "Steam Cloud",
          "xref": "x",
          "y": "MMO",
          "yref": "y"
         },
         {
          "font": {
           "color": "#FFFFFF",
           "size": 8
          },
          "showarrow": false,
          "text": "-0.05",
          "x": "Steam Achievements",
          "xref": "x",
          "y": "MMO",
          "yref": "y"
         },
         {
          "font": {
           "color": "#FFFFFF",
           "size": 8
          },
          "showarrow": false,
          "text": "0.02",
          "x": "Steam Trading Cards",
          "xref": "x",
          "y": "MMO",
          "yref": "y"
         },
         {
          "font": {
           "color": "#FFFFFF",
           "size": 8
          },
          "showarrow": false,
          "text": "-0.02",
          "x": "Captions available",
          "xref": "x",
          "y": "MMO",
          "yref": "y"
         },
         {
          "font": {
           "color": "#FFFFFF",
           "size": 8
          },
          "showarrow": false,
          "text": "-0.0",
          "x": "Partial Controller Support",
          "xref": "x",
          "y": "MMO",
          "yref": "y"
         },
         {
          "font": {
           "color": "#FFFFFF",
           "size": 8
          },
          "showarrow": false,
          "text": "0.01",
          "x": "Includes Source SDK",
          "xref": "x",
          "y": "MMO",
          "yref": "y"
         },
         {
          "font": {
           "color": "#FFFFFF",
           "size": 8
          },
          "showarrow": false,
          "text": "0.16",
          "x": "Cross-Platform Multiplayer",
          "xref": "x",
          "y": "MMO",
          "yref": "y"
         },
         {
          "font": {
           "color": "#FFFFFF",
           "size": 8
          },
          "showarrow": false,
          "text": "-0.0",
          "x": "Stats",
          "xref": "x",
          "y": "MMO",
          "yref": "y"
         },
         {
          "font": {
           "color": "#FFFFFF",
           "size": 8
          },
          "showarrow": false,
          "text": "0.01",
          "x": "Commentary available",
          "xref": "x",
          "y": "MMO",
          "yref": "y"
         },
         {
          "font": {
           "color": "#FFFFFF",
           "size": 8
          },
          "showarrow": false,
          "text": "-0.0",
          "x": "Includes level editor",
          "xref": "x",
          "y": "MMO",
          "yref": "y"
         },
         {
          "font": {
           "color": "#FFFFFF",
           "size": 8
          },
          "showarrow": false,
          "text": "-0.01",
          "x": "Steam Workshop",
          "xref": "x",
          "y": "MMO",
          "yref": "y"
         },
         {
          "font": {
           "color": "#FFFFFF",
           "size": 8
          },
          "showarrow": false,
          "text": "0.31",
          "x": "In-App Purchases",
          "xref": "x",
          "y": "MMO",
          "yref": "y"
         },
         {
          "font": {
           "color": "#FFFFFF",
           "size": 8
          },
          "showarrow": false,
          "text": "0.15",
          "x": "Co-op",
          "xref": "x",
          "y": "MMO",
          "yref": "y"
         },
         {
          "font": {
           "color": "#FFFFFF",
           "size": 8
          },
          "showarrow": false,
          "text": "-0.05",
          "x": "Full controller support",
          "xref": "x",
          "y": "MMO",
          "yref": "y"
         },
         {
          "font": {
           "color": "#FFFFFF",
           "size": 8
          },
          "showarrow": false,
          "text": "-0.03",
          "x": "Steam Leaderboards",
          "xref": "x",
          "y": "MMO",
          "yref": "y"
         },
         {
          "font": {
           "color": "#FFFFFF",
           "size": 8
          },
          "showarrow": false,
          "text": "0.0",
          "x": "SteamVR Collectibles",
          "xref": "x",
          "y": "MMO",
          "yref": "y"
         },
         {
          "font": {
           "color": "#FFFFFF",
           "size": 8
          },
          "showarrow": false,
          "text": "0.19",
          "x": "Online Co-op",
          "xref": "x",
          "y": "MMO",
          "yref": "y"
         },
         {
          "font": {
           "color": "#FFFFFF",
           "size": 8
          },
          "showarrow": false,
          "text": "-0.03",
          "x": "Shared/Split Screen",
          "xref": "x",
          "y": "MMO",
          "yref": "y"
         },
         {
          "font": {
           "color": "#FFFFFF",
           "size": 8
          },
          "showarrow": false,
          "text": "-0.02",
          "x": "Local Co-op",
          "xref": "x",
          "y": "MMO",
          "yref": "y"
         },
         {
          "font": {
           "color": "#FFFFFF",
           "size": 8
          },
          "showarrow": false,
          "text": "1.0",
          "x": "MMO",
          "xref": "x",
          "y": "MMO",
          "yref": "y"
         },
         {
          "font": {
           "color": "#FFFFFF",
           "size": 8
          },
          "showarrow": false,
          "text": "0.01",
          "x": "VR Support",
          "xref": "x",
          "y": "MMO",
          "yref": "y"
         },
         {
          "font": {
           "color": "#FFFFFF",
           "size": 8
          },
          "showarrow": false,
          "text": "-0.0",
          "x": "Mods",
          "xref": "x",
          "y": "MMO",
          "yref": "y"
         },
         {
          "font": {
           "color": "#FFFFFF",
           "size": 8
          },
          "showarrow": false,
          "text": "-0.0",
          "x": "Mods (require HL2)",
          "xref": "x",
          "y": "MMO",
          "yref": "y"
         },
         {
          "font": {
           "color": "#FFFFFF",
           "size": 8
          },
          "showarrow": false,
          "text": "0.01",
          "x": "Steam Turn Notifications",
          "xref": "x",
          "y": "MMO",
          "yref": "y"
         },
         {
          "font": {
           "color": "#FFFFFF",
           "size": 8
          },
          "showarrow": false,
          "text": "0.02",
          "x": "Multi-player",
          "xref": "x",
          "y": "VR Support",
          "yref": "y"
         },
         {
          "font": {
           "color": "#FFFFFF",
           "size": 8
          },
          "showarrow": false,
          "text": "0.01",
          "x": "Online Multi-Player",
          "xref": "x",
          "y": "VR Support",
          "yref": "y"
         },
         {
          "font": {
           "color": "#FFFFFF",
           "size": 8
          },
          "showarrow": false,
          "text": "-0.01",
          "x": "Local Multi-Player",
          "xref": "x",
          "y": "VR Support",
          "yref": "y"
         },
         {
          "font": {
           "color": "#FFFFFF",
           "size": 8
          },
          "showarrow": false,
          "text": "0.01",
          "x": "Valve Anti-Cheat enabled",
          "xref": "x",
          "y": "VR Support",
          "yref": "y"
         },
         {
          "font": {
           "color": "#FFFFFF",
           "size": 8
          },
          "showarrow": false,
          "text": "-0.01",
          "x": "Single-player",
          "xref": "x",
          "y": "VR Support",
          "yref": "y"
         },
         {
          "font": {
           "color": "#FFFFFF",
           "size": 8
          },
          "showarrow": false,
          "text": "-0.01",
          "x": "Steam Cloud",
          "xref": "x",
          "y": "VR Support",
          "yref": "y"
         },
         {
          "font": {
           "color": "#FFFFFF",
           "size": 8
          },
          "showarrow": false,
          "text": "-0.0",
          "x": "Steam Achievements",
          "xref": "x",
          "y": "VR Support",
          "yref": "y"
         },
         {
          "font": {
           "color": "#FFFFFF",
           "size": 8
          },
          "showarrow": false,
          "text": "0.01",
          "x": "Steam Trading Cards",
          "xref": "x",
          "y": "VR Support",
          "yref": "y"
         },
         {
          "font": {
           "color": "#FFFFFF",
           "size": 8
          },
          "showarrow": false,
          "text": "0.01",
          "x": "Captions available",
          "xref": "x",
          "y": "VR Support",
          "yref": "y"
         },
         {
          "font": {
           "color": "#FFFFFF",
           "size": 8
          },
          "showarrow": false,
          "text": "0.02",
          "x": "Partial Controller Support",
          "xref": "x",
          "y": "VR Support",
          "yref": "y"
         },
         {
          "font": {
           "color": "#FFFFFF",
           "size": 8
          },
          "showarrow": false,
          "text": "0.02",
          "x": "Includes Source SDK",
          "xref": "x",
          "y": "VR Support",
          "yref": "y"
         },
         {
          "font": {
           "color": "#FFFFFF",
           "size": 8
          },
          "showarrow": false,
          "text": "0.03",
          "x": "Cross-Platform Multiplayer",
          "xref": "x",
          "y": "VR Support",
          "yref": "y"
         },
         {
          "font": {
           "color": "#FFFFFF",
           "size": 8
          },
          "showarrow": false,
          "text": "0.01",
          "x": "Stats",
          "xref": "x",
          "y": "VR Support",
          "yref": "y"
         },
         {
          "font": {
           "color": "#FFFFFF",
           "size": 8
          },
          "showarrow": false,
          "text": "0.0",
          "x": "Commentary available",
          "xref": "x",
          "y": "VR Support",
          "yref": "y"
         },
         {
          "font": {
           "color": "#FFFFFF",
           "size": 8
          },
          "showarrow": false,
          "text": "0.04",
          "x": "Includes level editor",
          "xref": "x",
          "y": "VR Support",
          "yref": "y"
         },
         {
          "font": {
           "color": "#FFFFFF",
           "size": 8
          },
          "showarrow": false,
          "text": "0.04",
          "x": "Steam Workshop",
          "xref": "x",
          "y": "VR Support",
          "yref": "y"
         },
         {
          "font": {
           "color": "#FFFFFF",
           "size": 8
          },
          "showarrow": false,
          "text": "-0.01",
          "x": "In-App Purchases",
          "xref": "x",
          "y": "VR Support",
          "yref": "y"
         },
         {
          "font": {
           "color": "#FFFFFF",
           "size": 8
          },
          "showarrow": false,
          "text": "0.01",
          "x": "Co-op",
          "xref": "x",
          "y": "VR Support",
          "yref": "y"
         },
         {
          "font": {
           "color": "#FFFFFF",
           "size": 8
          },
          "showarrow": false,
          "text": "0.04",
          "x": "Full controller support",
          "xref": "x",
          "y": "VR Support",
          "yref": "y"
         },
         {
          "font": {
           "color": "#FFFFFF",
           "size": 8
          },
          "showarrow": false,
          "text": "0.02",
          "x": "Steam Leaderboards",
          "xref": "x",
          "y": "VR Support",
          "yref": "y"
         },
         {
          "font": {
           "color": "#FFFFFF",
           "size": 8
          },
          "showarrow": false,
          "text": "0.17",
          "x": "SteamVR Collectibles",
          "xref": "x",
          "y": "VR Support",
          "yref": "y"
         },
         {
          "font": {
           "color": "#FFFFFF",
           "size": 8
          },
          "showarrow": false,
          "text": "0.01",
          "x": "Online Co-op",
          "xref": "x",
          "y": "VR Support",
          "yref": "y"
         },
         {
          "font": {
           "color": "#FFFFFF",
           "size": 8
          },
          "showarrow": false,
          "text": "-0.01",
          "x": "Shared/Split Screen",
          "xref": "x",
          "y": "VR Support",
          "yref": "y"
         },
         {
          "font": {
           "color": "#FFFFFF",
           "size": 8
          },
          "showarrow": false,
          "text": "-0.01",
          "x": "Local Co-op",
          "xref": "x",
          "y": "VR Support",
          "yref": "y"
         },
         {
          "font": {
           "color": "#FFFFFF",
           "size": 8
          },
          "showarrow": false,
          "text": "0.01",
          "x": "MMO",
          "xref": "x",
          "y": "VR Support",
          "yref": "y"
         },
         {
          "font": {
           "color": "#FFFFFF",
           "size": 8
          },
          "showarrow": false,
          "text": "1.0",
          "x": "VR Support",
          "xref": "x",
          "y": "VR Support",
          "yref": "y"
         },
         {
          "font": {
           "color": "#FFFFFF",
           "size": 8
          },
          "showarrow": false,
          "text": "-0.0",
          "x": "Mods",
          "xref": "x",
          "y": "VR Support",
          "yref": "y"
         },
         {
          "font": {
           "color": "#FFFFFF",
           "size": 8
          },
          "showarrow": false,
          "text": "-0.0",
          "x": "Mods (require HL2)",
          "xref": "x",
          "y": "VR Support",
          "yref": "y"
         },
         {
          "font": {
           "color": "#FFFFFF",
           "size": 8
          },
          "showarrow": false,
          "text": "0.0",
          "x": "Steam Turn Notifications",
          "xref": "x",
          "y": "VR Support",
          "yref": "y"
         },
         {
          "font": {
           "color": "#FFFFFF",
           "size": 8
          },
          "showarrow": false,
          "text": "0.02",
          "x": "Multi-player",
          "xref": "x",
          "y": "Mods",
          "yref": "y"
         },
         {
          "font": {
           "color": "#FFFFFF",
           "size": 8
          },
          "showarrow": false,
          "text": "0.01",
          "x": "Online Multi-Player",
          "xref": "x",
          "y": "Mods",
          "yref": "y"
         },
         {
          "font": {
           "color": "#FFFFFF",
           "size": 8
          },
          "showarrow": false,
          "text": "-0.0",
          "x": "Local Multi-Player",
          "xref": "x",
          "y": "Mods",
          "yref": "y"
         },
         {
          "font": {
           "color": "#FFFFFF",
           "size": 8
          },
          "showarrow": false,
          "text": "0.15",
          "x": "Valve Anti-Cheat enabled",
          "xref": "x",
          "y": "Mods",
          "yref": "y"
         },
         {
          "font": {
           "color": "#FFFFFF",
           "size": 8
          },
          "showarrow": false,
          "text": "-0.04",
          "x": "Single-player",
          "xref": "x",
          "y": "Mods",
          "yref": "y"
         },
         {
          "font": {
           "color": "#FFFFFF",
           "size": 8
          },
          "showarrow": false,
          "text": "0.01",
          "x": "Steam Cloud",
          "xref": "x",
          "y": "Mods",
          "yref": "y"
         },
         {
          "font": {
           "color": "#FFFFFF",
           "size": 8
          },
          "showarrow": false,
          "text": "0.01",
          "x": "Steam Achievements",
          "xref": "x",
          "y": "Mods",
          "yref": "y"
         },
         {
          "font": {
           "color": "#FFFFFF",
           "size": 8
          },
          "showarrow": false,
          "text": "-0.01",
          "x": "Steam Trading Cards",
          "xref": "x",
          "y": "Mods",
          "yref": "y"
         },
         {
          "font": {
           "color": "#FFFFFF",
           "size": 8
          },
          "showarrow": false,
          "text": "-0.0",
          "x": "Captions available",
          "xref": "x",
          "y": "Mods",
          "yref": "y"
         },
         {
          "font": {
           "color": "#FFFFFF",
           "size": 8
          },
          "showarrow": false,
          "text": "-0.0",
          "x": "Partial Controller Support",
          "xref": "x",
          "y": "Mods",
          "yref": "y"
         },
         {
          "font": {
           "color": "#FFFFFF",
           "size": 8
          },
          "showarrow": false,
          "text": "0.24",
          "x": "Includes Source SDK",
          "xref": "x",
          "y": "Mods",
          "yref": "y"
         },
         {
          "font": {
           "color": "#FFFFFF",
           "size": 8
          },
          "showarrow": false,
          "text": "0.02",
          "x": "Cross-Platform Multiplayer",
          "xref": "x",
          "y": "Mods",
          "yref": "y"
         },
         {
          "font": {
           "color": "#FFFFFF",
           "size": 8
          },
          "showarrow": false,
          "text": "0.01",
          "x": "Stats",
          "xref": "x",
          "y": "Mods",
          "yref": "y"
         },
         {
          "font": {
           "color": "#FFFFFF",
           "size": 8
          },
          "showarrow": false,
          "text": "-0.0",
          "x": "Commentary available",
          "xref": "x",
          "y": "Mods",
          "yref": "y"
         },
         {
          "font": {
           "color": "#FFFFFF",
           "size": 8
          },
          "showarrow": false,
          "text": "0.04",
          "x": "Includes level editor",
          "xref": "x",
          "y": "Mods",
          "yref": "y"
         },
         {
          "font": {
           "color": "#FFFFFF",
           "size": 8
          },
          "showarrow": false,
          "text": "0.05",
          "x": "Steam Workshop",
          "xref": "x",
          "y": "Mods",
          "yref": "y"
         },
         {
          "font": {
           "color": "#FFFFFF",
           "size": 8
          },
          "showarrow": false,
          "text": "-0.0",
          "x": "In-App Purchases",
          "xref": "x",
          "y": "Mods",
          "yref": "y"
         },
         {
          "font": {
           "color": "#FFFFFF",
           "size": 8
          },
          "showarrow": false,
          "text": "0.01",
          "x": "Co-op",
          "xref": "x",
          "y": "Mods",
          "yref": "y"
         },
         {
          "font": {
           "color": "#FFFFFF",
           "size": 8
          },
          "showarrow": false,
          "text": "-0.0",
          "x": "Full controller support",
          "xref": "x",
          "y": "Mods",
          "yref": "y"
         },
         {
          "font": {
           "color": "#FFFFFF",
           "size": 8
          },
          "showarrow": false,
          "text": "-0.0",
          "x": "Steam Leaderboards",
          "xref": "x",
          "y": "Mods",
          "yref": "y"
         },
         {
          "font": {
           "color": "#FFFFFF",
           "size": 8
          },
          "showarrow": false,
          "text": "-0.0",
          "x": "SteamVR Collectibles",
          "xref": "x",
          "y": "Mods",
          "yref": "y"
         },
         {
          "font": {
           "color": "#FFFFFF",
           "size": 8
          },
          "showarrow": false,
          "text": "-0.0",
          "x": "Online Co-op",
          "xref": "x",
          "y": "Mods",
          "yref": "y"
         },
         {
          "font": {
           "color": "#FFFFFF",
           "size": 8
          },
          "showarrow": false,
          "text": "-0.0",
          "x": "Shared/Split Screen",
          "xref": "x",
          "y": "Mods",
          "yref": "y"
         },
         {
          "font": {
           "color": "#FFFFFF",
           "size": 8
          },
          "showarrow": false,
          "text": "-0.0",
          "x": "Local Co-op",
          "xref": "x",
          "y": "Mods",
          "yref": "y"
         },
         {
          "font": {
           "color": "#FFFFFF",
           "size": 8
          },
          "showarrow": false,
          "text": "-0.0",
          "x": "MMO",
          "xref": "x",
          "y": "Mods",
          "yref": "y"
         },
         {
          "font": {
           "color": "#FFFFFF",
           "size": 8
          },
          "showarrow": false,
          "text": "-0.0",
          "x": "VR Support",
          "xref": "x",
          "y": "Mods",
          "yref": "y"
         },
         {
          "font": {
           "color": "#FFFFFF",
           "size": 8
          },
          "showarrow": false,
          "text": "1.0",
          "x": "Mods",
          "xref": "x",
          "y": "Mods",
          "yref": "y"
         },
         {
          "font": {
           "color": "#FFFFFF",
           "size": 8
          },
          "showarrow": false,
          "text": "0.71",
          "x": "Mods (require HL2)",
          "xref": "x",
          "y": "Mods",
          "yref": "y"
         },
         {
          "font": {
           "color": "#FFFFFF",
           "size": 8
          },
          "showarrow": false,
          "text": "-0.0",
          "x": "Steam Turn Notifications",
          "xref": "x",
          "y": "Mods",
          "yref": "y"
         },
         {
          "font": {
           "color": "#FFFFFF",
           "size": 8
          },
          "showarrow": false,
          "text": "0.01",
          "x": "Multi-player",
          "xref": "x",
          "y": "Mods (require HL2)",
          "yref": "y"
         },
         {
          "font": {
           "color": "#FFFFFF",
           "size": 8
          },
          "showarrow": false,
          "text": "-0.0",
          "x": "Online Multi-Player",
          "xref": "x",
          "y": "Mods (require HL2)",
          "yref": "y"
         },
         {
          "font": {
           "color": "#FFFFFF",
           "size": 8
          },
          "showarrow": false,
          "text": "-0.0",
          "x": "Local Multi-Player",
          "xref": "x",
          "y": "Mods (require HL2)",
          "yref": "y"
         },
         {
          "font": {
           "color": "#FFFFFF",
           "size": 8
          },
          "showarrow": false,
          "text": "0.1",
          "x": "Valve Anti-Cheat enabled",
          "xref": "x",
          "y": "Mods (require HL2)",
          "yref": "y"
         },
         {
          "font": {
           "color": "#FFFFFF",
           "size": 8
          },
          "showarrow": false,
          "text": "-0.03",
          "x": "Single-player",
          "xref": "x",
          "y": "Mods (require HL2)",
          "yref": "y"
         },
         {
          "font": {
           "color": "#FFFFFF",
           "size": 8
          },
          "showarrow": false,
          "text": "0.01",
          "x": "Steam Cloud",
          "xref": "x",
          "y": "Mods (require HL2)",
          "yref": "y"
         },
         {
          "font": {
           "color": "#FFFFFF",
           "size": 8
          },
          "showarrow": false,
          "text": "0.01",
          "x": "Steam Achievements",
          "xref": "x",
          "y": "Mods (require HL2)",
          "yref": "y"
         },
         {
          "font": {
           "color": "#FFFFFF",
           "size": 8
          },
          "showarrow": false,
          "text": "-0.0",
          "x": "Steam Trading Cards",
          "xref": "x",
          "y": "Mods (require HL2)",
          "yref": "y"
         },
         {
          "font": {
           "color": "#FFFFFF",
           "size": 8
          },
          "showarrow": false,
          "text": "-0.0",
          "x": "Captions available",
          "xref": "x",
          "y": "Mods (require HL2)",
          "yref": "y"
         },
         {
          "font": {
           "color": "#FFFFFF",
           "size": 8
          },
          "showarrow": false,
          "text": "-0.0",
          "x": "Partial Controller Support",
          "xref": "x",
          "y": "Mods (require HL2)",
          "yref": "y"
         },
         {
          "font": {
           "color": "#FFFFFF",
           "size": 8
          },
          "showarrow": false,
          "text": "0.17",
          "x": "Includes Source SDK",
          "xref": "x",
          "y": "Mods (require HL2)",
          "yref": "y"
         },
         {
          "font": {
           "color": "#FFFFFF",
           "size": 8
          },
          "showarrow": false,
          "text": "-0.0",
          "x": "Cross-Platform Multiplayer",
          "xref": "x",
          "y": "Mods (require HL2)",
          "yref": "y"
         },
         {
          "font": {
           "color": "#FFFFFF",
           "size": 8
          },
          "showarrow": false,
          "text": "-0.0",
          "x": "Stats",
          "xref": "x",
          "y": "Mods (require HL2)",
          "yref": "y"
         },
         {
          "font": {
           "color": "#FFFFFF",
           "size": 8
          },
          "showarrow": false,
          "text": "-0.0",
          "x": "Commentary available",
          "xref": "x",
          "y": "Mods (require HL2)",
          "yref": "y"
         },
         {
          "font": {
           "color": "#FFFFFF",
           "size": 8
          },
          "showarrow": false,
          "text": "0.03",
          "x": "Includes level editor",
          "xref": "x",
          "y": "Mods (require HL2)",
          "yref": "y"
         },
         {
          "font": {
           "color": "#FFFFFF",
           "size": 8
          },
          "showarrow": false,
          "text": "0.03",
          "x": "Steam Workshop",
          "xref": "x",
          "y": "Mods (require HL2)",
          "yref": "y"
         },
         {
          "font": {
           "color": "#FFFFFF",
           "size": 8
          },
          "showarrow": false,
          "text": "-0.0",
          "x": "In-App Purchases",
          "xref": "x",
          "y": "Mods (require HL2)",
          "yref": "y"
         },
         {
          "font": {
           "color": "#FFFFFF",
           "size": 8
          },
          "showarrow": false,
          "text": "0.02",
          "x": "Co-op",
          "xref": "x",
          "y": "Mods (require HL2)",
          "yref": "y"
         },
         {
          "font": {
           "color": "#FFFFFF",
           "size": 8
          },
          "showarrow": false,
          "text": "-0.0",
          "x": "Full controller support",
          "xref": "x",
          "y": "Mods (require HL2)",
          "yref": "y"
         },
         {
          "font": {
           "color": "#FFFFFF",
           "size": 8
          },
          "showarrow": false,
          "text": "-0.0",
          "x": "Steam Leaderboards",
          "xref": "x",
          "y": "Mods (require HL2)",
          "yref": "y"
         },
         {
          "font": {
           "color": "#FFFFFF",
           "size": 8
          },
          "showarrow": false,
          "text": "-0.0",
          "x": "SteamVR Collectibles",
          "xref": "x",
          "y": "Mods (require HL2)",
          "yref": "y"
         },
         {
          "font": {
           "color": "#FFFFFF",
           "size": 8
          },
          "showarrow": false,
          "text": "-0.0",
          "x": "Online Co-op",
          "xref": "x",
          "y": "Mods (require HL2)",
          "yref": "y"
         },
         {
          "font": {
           "color": "#FFFFFF",
           "size": 8
          },
          "showarrow": false,
          "text": "-0.0",
          "x": "Shared/Split Screen",
          "xref": "x",
          "y": "Mods (require HL2)",
          "yref": "y"
         },
         {
          "font": {
           "color": "#FFFFFF",
           "size": 8
          },
          "showarrow": false,
          "text": "-0.0",
          "x": "Local Co-op",
          "xref": "x",
          "y": "Mods (require HL2)",
          "yref": "y"
         },
         {
          "font": {
           "color": "#FFFFFF",
           "size": 8
          },
          "showarrow": false,
          "text": "-0.0",
          "x": "MMO",
          "xref": "x",
          "y": "Mods (require HL2)",
          "yref": "y"
         },
         {
          "font": {
           "color": "#FFFFFF",
           "size": 8
          },
          "showarrow": false,
          "text": "-0.0",
          "x": "VR Support",
          "xref": "x",
          "y": "Mods (require HL2)",
          "yref": "y"
         },
         {
          "font": {
           "color": "#FFFFFF",
           "size": 8
          },
          "showarrow": false,
          "text": "0.71",
          "x": "Mods",
          "xref": "x",
          "y": "Mods (require HL2)",
          "yref": "y"
         },
         {
          "font": {
           "color": "#FFFFFF",
           "size": 8
          },
          "showarrow": false,
          "text": "1.0",
          "x": "Mods (require HL2)",
          "xref": "x",
          "y": "Mods (require HL2)",
          "yref": "y"
         },
         {
          "font": {
           "color": "#FFFFFF",
           "size": 8
          },
          "showarrow": false,
          "text": "-0.0",
          "x": "Steam Turn Notifications",
          "xref": "x",
          "y": "Mods (require HL2)",
          "yref": "y"
         },
         {
          "font": {
           "color": "#FFFFFF",
           "size": 8
          },
          "showarrow": false,
          "text": "0.08",
          "x": "Multi-player",
          "xref": "x",
          "y": "Steam Turn Notifications",
          "yref": "y"
         },
         {
          "font": {
           "color": "#FFFFFF",
           "size": 8
          },
          "showarrow": false,
          "text": "0.06",
          "x": "Online Multi-Player",
          "xref": "x",
          "y": "Steam Turn Notifications",
          "yref": "y"
         },
         {
          "font": {
           "color": "#FFFFFF",
           "size": 8
          },
          "showarrow": false,
          "text": "0.06",
          "x": "Local Multi-Player",
          "xref": "x",
          "y": "Steam Turn Notifications",
          "yref": "y"
         },
         {
          "font": {
           "color": "#FFFFFF",
           "size": 8
          },
          "showarrow": false,
          "text": "-0.0",
          "x": "Valve Anti-Cheat enabled",
          "xref": "x",
          "y": "Steam Turn Notifications",
          "yref": "y"
         },
         {
          "font": {
           "color": "#FFFFFF",
           "size": 8
          },
          "showarrow": false,
          "text": "-0.01",
          "x": "Single-player",
          "xref": "x",
          "y": "Steam Turn Notifications",
          "yref": "y"
         },
         {
          "font": {
           "color": "#FFFFFF",
           "size": 8
          },
          "showarrow": false,
          "text": "0.02",
          "x": "Steam Cloud",
          "xref": "x",
          "y": "Steam Turn Notifications",
          "yref": "y"
         },
         {
          "font": {
           "color": "#FFFFFF",
           "size": 8
          },
          "showarrow": false,
          "text": "0.03",
          "x": "Steam Achievements",
          "xref": "x",
          "y": "Steam Turn Notifications",
          "yref": "y"
         },
         {
          "font": {
           "color": "#FFFFFF",
           "size": 8
          },
          "showarrow": false,
          "text": "0.03",
          "x": "Steam Trading Cards",
          "xref": "x",
          "y": "Steam Turn Notifications",
          "yref": "y"
         },
         {
          "font": {
           "color": "#FFFFFF",
           "size": 8
          },
          "showarrow": false,
          "text": "0.0",
          "x": "Captions available",
          "xref": "x",
          "y": "Steam Turn Notifications",
          "yref": "y"
         },
         {
          "font": {
           "color": "#FFFFFF",
           "size": 8
          },
          "showarrow": false,
          "text": "-0.02",
          "x": "Partial Controller Support",
          "xref": "x",
          "y": "Steam Turn Notifications",
          "yref": "y"
         },
         {
          "font": {
           "color": "#FFFFFF",
           "size": 8
          },
          "showarrow": false,
          "text": "0.02",
          "x": "Includes Source SDK",
          "xref": "x",
          "y": "Steam Turn Notifications",
          "yref": "y"
         },
         {
          "font": {
           "color": "#FFFFFF",
           "size": 8
          },
          "showarrow": false,
          "text": "0.12",
          "x": "Cross-Platform Multiplayer",
          "xref": "x",
          "y": "Steam Turn Notifications",
          "yref": "y"
         },
         {
          "font": {
           "color": "#FFFFFF",
           "size": 8
          },
          "showarrow": false,
          "text": "0.06",
          "x": "Stats",
          "xref": "x",
          "y": "Steam Turn Notifications",
          "yref": "y"
         },
         {
          "font": {
           "color": "#FFFFFF",
           "size": 8
          },
          "showarrow": false,
          "text": "0.03",
          "x": "Commentary available",
          "xref": "x",
          "y": "Steam Turn Notifications",
          "yref": "y"
         },
         {
          "font": {
           "color": "#FFFFFF",
           "size": 8
          },
          "showarrow": false,
          "text": "0.03",
          "x": "Includes level editor",
          "xref": "x",
          "y": "Steam Turn Notifications",
          "yref": "y"
         },
         {
          "font": {
           "color": "#FFFFFF",
           "size": 8
          },
          "showarrow": false,
          "text": "0.02",
          "x": "Steam Workshop",
          "xref": "x",
          "y": "Steam Turn Notifications",
          "yref": "y"
         },
         {
          "font": {
           "color": "#FFFFFF",
           "size": 8
          },
          "showarrow": false,
          "text": "0.03",
          "x": "In-App Purchases",
          "xref": "x",
          "y": "Steam Turn Notifications",
          "yref": "y"
         },
         {
          "font": {
           "color": "#FFFFFF",
           "size": 8
          },
          "showarrow": false,
          "text": "0.01",
          "x": "Co-op",
          "xref": "x",
          "y": "Steam Turn Notifications",
          "yref": "y"
         },
         {
          "font": {
           "color": "#FFFFFF",
           "size": 8
          },
          "showarrow": false,
          "text": "0.02",
          "x": "Full controller support",
          "xref": "x",
          "y": "Steam Turn Notifications",
          "yref": "y"
         },
         {
          "font": {
           "color": "#FFFFFF",
           "size": 8
          },
          "showarrow": false,
          "text": "0.04",
          "x": "Steam Leaderboards",
          "xref": "x",
          "y": "Steam Turn Notifications",
          "yref": "y"
         },
         {
          "font": {
           "color": "#FFFFFF",
           "size": 8
          },
          "showarrow": false,
          "text": "-0.0",
          "x": "SteamVR Collectibles",
          "xref": "x",
          "y": "Steam Turn Notifications",
          "yref": "y"
         },
         {
          "font": {
           "color": "#FFFFFF",
           "size": 8
          },
          "showarrow": false,
          "text": "0.01",
          "x": "Online Co-op",
          "xref": "x",
          "y": "Steam Turn Notifications",
          "yref": "y"
         },
         {
          "font": {
           "color": "#FFFFFF",
           "size": 8
          },
          "showarrow": false,
          "text": "0.04",
          "x": "Shared/Split Screen",
          "xref": "x",
          "y": "Steam Turn Notifications",
          "yref": "y"
         },
         {
          "font": {
           "color": "#FFFFFF",
           "size": 8
          },
          "showarrow": false,
          "text": "0.01",
          "x": "Local Co-op",
          "xref": "x",
          "y": "Steam Turn Notifications",
          "yref": "y"
         },
         {
          "font": {
           "color": "#FFFFFF",
           "size": 8
          },
          "showarrow": false,
          "text": "0.01",
          "x": "MMO",
          "xref": "x",
          "y": "Steam Turn Notifications",
          "yref": "y"
         },
         {
          "font": {
           "color": "#FFFFFF",
           "size": 8
          },
          "showarrow": false,
          "text": "0.0",
          "x": "VR Support",
          "xref": "x",
          "y": "Steam Turn Notifications",
          "yref": "y"
         },
         {
          "font": {
           "color": "#FFFFFF",
           "size": 8
          },
          "showarrow": false,
          "text": "-0.0",
          "x": "Mods",
          "xref": "x",
          "y": "Steam Turn Notifications",
          "yref": "y"
         },
         {
          "font": {
           "color": "#FFFFFF",
           "size": 8
          },
          "showarrow": false,
          "text": "-0.0",
          "x": "Mods (require HL2)",
          "xref": "x",
          "y": "Steam Turn Notifications",
          "yref": "y"
         },
         {
          "font": {
           "color": "#FFFFFF",
           "size": 8
          },
          "showarrow": false,
          "text": "1.0",
          "x": "Steam Turn Notifications",
          "xref": "x",
          "y": "Steam Turn Notifications",
          "yref": "y"
         }
        ],
        "template": {
         "data": {
          "bar": [
           {
            "error_x": {
             "color": "#2a3f5f"
            },
            "error_y": {
             "color": "#2a3f5f"
            },
            "marker": {
             "line": {
              "color": "#E5ECF6",
              "width": 0.5
             },
             "pattern": {
              "fillmode": "overlay",
              "size": 10,
              "solidity": 0.2
             }
            },
            "type": "bar"
           }
          ],
          "barpolar": [
           {
            "marker": {
             "line": {
              "color": "#E5ECF6",
              "width": 0.5
             },
             "pattern": {
              "fillmode": "overlay",
              "size": 10,
              "solidity": 0.2
             }
            },
            "type": "barpolar"
           }
          ],
          "carpet": [
           {
            "aaxis": {
             "endlinecolor": "#2a3f5f",
             "gridcolor": "white",
             "linecolor": "white",
             "minorgridcolor": "white",
             "startlinecolor": "#2a3f5f"
            },
            "baxis": {
             "endlinecolor": "#2a3f5f",
             "gridcolor": "white",
             "linecolor": "white",
             "minorgridcolor": "white",
             "startlinecolor": "#2a3f5f"
            },
            "type": "carpet"
           }
          ],
          "choropleth": [
           {
            "colorbar": {
             "outlinewidth": 0,
             "ticks": ""
            },
            "type": "choropleth"
           }
          ],
          "contour": [
           {
            "colorbar": {
             "outlinewidth": 0,
             "ticks": ""
            },
            "colorscale": [
             [
              0,
              "#0d0887"
             ],
             [
              0.1111111111111111,
              "#46039f"
             ],
             [
              0.2222222222222222,
              "#7201a8"
             ],
             [
              0.3333333333333333,
              "#9c179e"
             ],
             [
              0.4444444444444444,
              "#bd3786"
             ],
             [
              0.5555555555555556,
              "#d8576b"
             ],
             [
              0.6666666666666666,
              "#ed7953"
             ],
             [
              0.7777777777777778,
              "#fb9f3a"
             ],
             [
              0.8888888888888888,
              "#fdca26"
             ],
             [
              1,
              "#f0f921"
             ]
            ],
            "type": "contour"
           }
          ],
          "contourcarpet": [
           {
            "colorbar": {
             "outlinewidth": 0,
             "ticks": ""
            },
            "type": "contourcarpet"
           }
          ],
          "heatmap": [
           {
            "colorbar": {
             "outlinewidth": 0,
             "ticks": ""
            },
            "colorscale": [
             [
              0,
              "#0d0887"
             ],
             [
              0.1111111111111111,
              "#46039f"
             ],
             [
              0.2222222222222222,
              "#7201a8"
             ],
             [
              0.3333333333333333,
              "#9c179e"
             ],
             [
              0.4444444444444444,
              "#bd3786"
             ],
             [
              0.5555555555555556,
              "#d8576b"
             ],
             [
              0.6666666666666666,
              "#ed7953"
             ],
             [
              0.7777777777777778,
              "#fb9f3a"
             ],
             [
              0.8888888888888888,
              "#fdca26"
             ],
             [
              1,
              "#f0f921"
             ]
            ],
            "type": "heatmap"
           }
          ],
          "heatmapgl": [
           {
            "colorbar": {
             "outlinewidth": 0,
             "ticks": ""
            },
            "colorscale": [
             [
              0,
              "#0d0887"
             ],
             [
              0.1111111111111111,
              "#46039f"
             ],
             [
              0.2222222222222222,
              "#7201a8"
             ],
             [
              0.3333333333333333,
              "#9c179e"
             ],
             [
              0.4444444444444444,
              "#bd3786"
             ],
             [
              0.5555555555555556,
              "#d8576b"
             ],
             [
              0.6666666666666666,
              "#ed7953"
             ],
             [
              0.7777777777777778,
              "#fb9f3a"
             ],
             [
              0.8888888888888888,
              "#fdca26"
             ],
             [
              1,
              "#f0f921"
             ]
            ],
            "type": "heatmapgl"
           }
          ],
          "histogram": [
           {
            "marker": {
             "pattern": {
              "fillmode": "overlay",
              "size": 10,
              "solidity": 0.2
             }
            },
            "type": "histogram"
           }
          ],
          "histogram2d": [
           {
            "colorbar": {
             "outlinewidth": 0,
             "ticks": ""
            },
            "colorscale": [
             [
              0,
              "#0d0887"
             ],
             [
              0.1111111111111111,
              "#46039f"
             ],
             [
              0.2222222222222222,
              "#7201a8"
             ],
             [
              0.3333333333333333,
              "#9c179e"
             ],
             [
              0.4444444444444444,
              "#bd3786"
             ],
             [
              0.5555555555555556,
              "#d8576b"
             ],
             [
              0.6666666666666666,
              "#ed7953"
             ],
             [
              0.7777777777777778,
              "#fb9f3a"
             ],
             [
              0.8888888888888888,
              "#fdca26"
             ],
             [
              1,
              "#f0f921"
             ]
            ],
            "type": "histogram2d"
           }
          ],
          "histogram2dcontour": [
           {
            "colorbar": {
             "outlinewidth": 0,
             "ticks": ""
            },
            "colorscale": [
             [
              0,
              "#0d0887"
             ],
             [
              0.1111111111111111,
              "#46039f"
             ],
             [
              0.2222222222222222,
              "#7201a8"
             ],
             [
              0.3333333333333333,
              "#9c179e"
             ],
             [
              0.4444444444444444,
              "#bd3786"
             ],
             [
              0.5555555555555556,
              "#d8576b"
             ],
             [
              0.6666666666666666,
              "#ed7953"
             ],
             [
              0.7777777777777778,
              "#fb9f3a"
             ],
             [
              0.8888888888888888,
              "#fdca26"
             ],
             [
              1,
              "#f0f921"
             ]
            ],
            "type": "histogram2dcontour"
           }
          ],
          "mesh3d": [
           {
            "colorbar": {
             "outlinewidth": 0,
             "ticks": ""
            },
            "type": "mesh3d"
           }
          ],
          "parcoords": [
           {
            "line": {
             "colorbar": {
              "outlinewidth": 0,
              "ticks": ""
             }
            },
            "type": "parcoords"
           }
          ],
          "pie": [
           {
            "automargin": true,
            "type": "pie"
           }
          ],
          "scatter": [
           {
            "fillpattern": {
             "fillmode": "overlay",
             "size": 10,
             "solidity": 0.2
            },
            "type": "scatter"
           }
          ],
          "scatter3d": [
           {
            "line": {
             "colorbar": {
              "outlinewidth": 0,
              "ticks": ""
             }
            },
            "marker": {
             "colorbar": {
              "outlinewidth": 0,
              "ticks": ""
             }
            },
            "type": "scatter3d"
           }
          ],
          "scattercarpet": [
           {
            "marker": {
             "colorbar": {
              "outlinewidth": 0,
              "ticks": ""
             }
            },
            "type": "scattercarpet"
           }
          ],
          "scattergeo": [
           {
            "marker": {
             "colorbar": {
              "outlinewidth": 0,
              "ticks": ""
             }
            },
            "type": "scattergeo"
           }
          ],
          "scattergl": [
           {
            "marker": {
             "colorbar": {
              "outlinewidth": 0,
              "ticks": ""
             }
            },
            "type": "scattergl"
           }
          ],
          "scattermapbox": [
           {
            "marker": {
             "colorbar": {
              "outlinewidth": 0,
              "ticks": ""
             }
            },
            "type": "scattermapbox"
           }
          ],
          "scatterpolar": [
           {
            "marker": {
             "colorbar": {
              "outlinewidth": 0,
              "ticks": ""
             }
            },
            "type": "scatterpolar"
           }
          ],
          "scatterpolargl": [
           {
            "marker": {
             "colorbar": {
              "outlinewidth": 0,
              "ticks": ""
             }
            },
            "type": "scatterpolargl"
           }
          ],
          "scatterternary": [
           {
            "marker": {
             "colorbar": {
              "outlinewidth": 0,
              "ticks": ""
             }
            },
            "type": "scatterternary"
           }
          ],
          "surface": [
           {
            "colorbar": {
             "outlinewidth": 0,
             "ticks": ""
            },
            "colorscale": [
             [
              0,
              "#0d0887"
             ],
             [
              0.1111111111111111,
              "#46039f"
             ],
             [
              0.2222222222222222,
              "#7201a8"
             ],
             [
              0.3333333333333333,
              "#9c179e"
             ],
             [
              0.4444444444444444,
              "#bd3786"
             ],
             [
              0.5555555555555556,
              "#d8576b"
             ],
             [
              0.6666666666666666,
              "#ed7953"
             ],
             [
              0.7777777777777778,
              "#fb9f3a"
             ],
             [
              0.8888888888888888,
              "#fdca26"
             ],
             [
              1,
              "#f0f921"
             ]
            ],
            "type": "surface"
           }
          ],
          "table": [
           {
            "cells": {
             "fill": {
              "color": "#EBF0F8"
             },
             "line": {
              "color": "white"
             }
            },
            "header": {
             "fill": {
              "color": "#C8D4E3"
             },
             "line": {
              "color": "white"
             }
            },
            "type": "table"
           }
          ]
         },
         "layout": {
          "annotationdefaults": {
           "arrowcolor": "#2a3f5f",
           "arrowhead": 0,
           "arrowwidth": 1
          },
          "autotypenumbers": "strict",
          "coloraxis": {
           "colorbar": {
            "outlinewidth": 0,
            "ticks": ""
           }
          },
          "colorscale": {
           "diverging": [
            [
             0,
             "#8e0152"
            ],
            [
             0.1,
             "#c51b7d"
            ],
            [
             0.2,
             "#de77ae"
            ],
            [
             0.3,
             "#f1b6da"
            ],
            [
             0.4,
             "#fde0ef"
            ],
            [
             0.5,
             "#f7f7f7"
            ],
            [
             0.6,
             "#e6f5d0"
            ],
            [
             0.7,
             "#b8e186"
            ],
            [
             0.8,
             "#7fbc41"
            ],
            [
             0.9,
             "#4d9221"
            ],
            [
             1,
             "#276419"
            ]
           ],
           "sequential": [
            [
             0,
             "#0d0887"
            ],
            [
             0.1111111111111111,
             "#46039f"
            ],
            [
             0.2222222222222222,
             "#7201a8"
            ],
            [
             0.3333333333333333,
             "#9c179e"
            ],
            [
             0.4444444444444444,
             "#bd3786"
            ],
            [
             0.5555555555555556,
             "#d8576b"
            ],
            [
             0.6666666666666666,
             "#ed7953"
            ],
            [
             0.7777777777777778,
             "#fb9f3a"
            ],
            [
             0.8888888888888888,
             "#fdca26"
            ],
            [
             1,
             "#f0f921"
            ]
           ],
           "sequentialminus": [
            [
             0,
             "#0d0887"
            ],
            [
             0.1111111111111111,
             "#46039f"
            ],
            [
             0.2222222222222222,
             "#7201a8"
            ],
            [
             0.3333333333333333,
             "#9c179e"
            ],
            [
             0.4444444444444444,
             "#bd3786"
            ],
            [
             0.5555555555555556,
             "#d8576b"
            ],
            [
             0.6666666666666666,
             "#ed7953"
            ],
            [
             0.7777777777777778,
             "#fb9f3a"
            ],
            [
             0.8888888888888888,
             "#fdca26"
            ],
            [
             1,
             "#f0f921"
            ]
           ]
          },
          "colorway": [
           "#636efa",
           "#EF553B",
           "#00cc96",
           "#ab63fa",
           "#FFA15A",
           "#19d3f3",
           "#FF6692",
           "#B6E880",
           "#FF97FF",
           "#FECB52"
          ],
          "font": {
           "color": "#2a3f5f"
          },
          "geo": {
           "bgcolor": "white",
           "lakecolor": "white",
           "landcolor": "#E5ECF6",
           "showlakes": true,
           "showland": true,
           "subunitcolor": "white"
          },
          "hoverlabel": {
           "align": "left"
          },
          "hovermode": "closest",
          "mapbox": {
           "style": "light"
          },
          "paper_bgcolor": "white",
          "plot_bgcolor": "#E5ECF6",
          "polar": {
           "angularaxis": {
            "gridcolor": "white",
            "linecolor": "white",
            "ticks": ""
           },
           "bgcolor": "#E5ECF6",
           "radialaxis": {
            "gridcolor": "white",
            "linecolor": "white",
            "ticks": ""
           }
          },
          "scene": {
           "xaxis": {
            "backgroundcolor": "#E5ECF6",
            "gridcolor": "white",
            "gridwidth": 2,
            "linecolor": "white",
            "showbackground": true,
            "ticks": "",
            "zerolinecolor": "white"
           },
           "yaxis": {
            "backgroundcolor": "#E5ECF6",
            "gridcolor": "white",
            "gridwidth": 2,
            "linecolor": "white",
            "showbackground": true,
            "ticks": "",
            "zerolinecolor": "white"
           },
           "zaxis": {
            "backgroundcolor": "#E5ECF6",
            "gridcolor": "white",
            "gridwidth": 2,
            "linecolor": "white",
            "showbackground": true,
            "ticks": "",
            "zerolinecolor": "white"
           }
          },
          "shapedefaults": {
           "line": {
            "color": "#2a3f5f"
           }
          },
          "ternary": {
           "aaxis": {
            "gridcolor": "white",
            "linecolor": "white",
            "ticks": ""
           },
           "baxis": {
            "gridcolor": "white",
            "linecolor": "white",
            "ticks": ""
           },
           "bgcolor": "#E5ECF6",
           "caxis": {
            "gridcolor": "white",
            "linecolor": "white",
            "ticks": ""
           }
          },
          "title": {
           "x": 0.05
          },
          "xaxis": {
           "automargin": true,
           "gridcolor": "white",
           "linecolor": "white",
           "ticks": "",
           "title": {
            "standoff": 15
           },
           "zerolinecolor": "white",
           "zerolinewidth": 2
          },
          "yaxis": {
           "automargin": true,
           "gridcolor": "white",
           "linecolor": "white",
           "ticks": "",
           "title": {
            "standoff": 15
           },
           "zerolinecolor": "white",
           "zerolinewidth": 2
          }
         }
        },
        "xaxis": {
         "dtick": 1,
         "gridcolor": "rgb(0, 0, 0)",
         "side": "top",
         "ticks": ""
        },
        "yaxis": {
         "dtick": 1,
         "ticks": "",
         "ticksuffix": "  "
        }
       }
      },
      "text/html": [
       "<div>                            <div id=\"6ef06673-f49c-4f28-88ba-7cb548b4b948\" class=\"plotly-graph-div\" style=\"height:525px; width:100%;\"></div>            <script type=\"text/javascript\">                require([\"plotly\"], function(Plotly) {                    window.PLOTLYENV=window.PLOTLYENV || {};                                    if (document.getElementById(\"6ef06673-f49c-4f28-88ba-7cb548b4b948\")) {                    Plotly.newPlot(                        \"6ef06673-f49c-4f28-88ba-7cb548b4b948\",                        [{\"colorscale\":[[0.0,\"rgb(103,0,31)\"],[0.1,\"rgb(178,24,43)\"],[0.2,\"rgb(214,96,77)\"],[0.3,\"rgb(244,165,130)\"],[0.4,\"rgb(253,219,199)\"],[0.5,\"rgb(247,247,247)\"],[0.6,\"rgb(209,229,240)\"],[0.7,\"rgb(146,197,222)\"],[0.8,\"rgb(67,147,195)\"],[0.9,\"rgb(33,102,172)\"],[1.0,\"rgb(5,48,97)\"]],\"reversescale\":true,\"showscale\":true,\"x\":[\"Multi-player\",\"Online Multi-Player\",\"Local Multi-Player\",\"Valve Anti-Cheat enabled\",\"Single-player\",\"Steam Cloud\",\"Steam Achievements\",\"Steam Trading Cards\",\"Captions available\",\"Partial Controller Support\",\"Includes Source SDK\",\"Cross-Platform Multiplayer\",\"Stats\",\"Commentary available\",\"Includes level editor\",\"Steam Workshop\",\"In-App Purchases\",\"Co-op\",\"Full controller support\",\"Steam Leaderboards\",\"SteamVR Collectibles\",\"Online Co-op\",\"Shared/Split Screen\",\"Local Co-op\",\"MMO\",\"VR Support\",\"Mods\",\"Mods (require HL2)\",\"Steam Turn Notifications\"],\"y\":[\"Multi-player\",\"Online Multi-Player\",\"Local Multi-Player\",\"Valve Anti-Cheat enabled\",\"Single-player\",\"Steam Cloud\",\"Steam Achievements\",\"Steam Trading Cards\",\"Captions available\",\"Partial Controller Support\",\"Includes Source SDK\",\"Cross-Platform Multiplayer\",\"Stats\",\"Commentary available\",\"Includes level editor\",\"Steam Workshop\",\"In-App Purchases\",\"Co-op\",\"Full controller support\",\"Steam Leaderboards\",\"SteamVR Collectibles\",\"Online Co-op\",\"Shared/Split Screen\",\"Local Co-op\",\"MMO\",\"VR Support\",\"Mods\",\"Mods (require HL2)\",\"Steam Turn Notifications\"],\"z\":[[1.0,0.5040730704091141,0.3210224795146127,0.1229859832267952,-0.2679055800599019,0.027370590698140712,0.00722610789967186,0.03648277223218339,-0.023334745638832692,0.049864514011126126,0.051906782636209806,0.37461794267009535,0.10981606505599564,-0.007040086445383878,0.11337267321048627,0.10417275354697716,0.14310284041829374,0.42678154118154793,0.05932067980041998,0.08890988535907045,0.011056990643196641,0.32710465524512694,0.2734188047483632,0.15649375938479723,0.1711196956360219,0.022394021643881094,0.020762266332719426,0.01468086296841022,0.08185831455598429],[0.5040730704091141,1.0,0.24700788264294446,0.048958466617759745,-0.3573545496189404,-0.006823392607114617,-0.004110781525851566,0.00015887941516754786,-0.022605756304582184,0.02426581618248428,0.03148234755404816,0.37157559121652634,0.09228853049611645,-0.008810813847019797,0.07046049020853223,0.0793262581395957,0.2862914253143894,0.32164635312305073,0.004570569164849049,0.043392654434696185,0.03126172298230572,0.5445335414749422,0.10859514293727875,0.08905250393388871,0.22840105464982904,0.006605513214379211,0.012235313415584027,-0.001954854813497746,0.056708966213134405],[0.3210224795146127,0.24700788264294446,1.0,0.0034718167879218753,-0.10887758041158165,0.043218225901257575,0.0355831391694969,-0.0013175870026039848,-0.01993951791577057,0.056725562296069114,0.01688016903445299,0.10072396094461841,0.05587141471259776,-0.00758472483091501,0.03865035127780451,0.02537972672637518,-0.009698254633164368,0.3229046712425744,0.18775185762251528,0.05702275788671085,-0.009860744839955676,0.1261014849521839,0.5752299624345001,0.532324583989863,-0.019949554014221167,-0.008484775992702134,-0.0022033518097507956,-0.0015579756791373994,0.06224084290468779],[0.1229859832267952,0.048958466617759745,0.0034718167879218753,1.0,-0.08662968175764944,0.03012375073690915,0.02736227830456962,0.027965775765355562,0.017432403662090142,0.017780850842692132,0.1551253075074674,0.039207506060475884,0.05542402720086034,0.021929381514239305,0.06011618360230672,0.10150535886629361,0.04292921199907382,0.07015318952613311,0.012272428551337549,0.03186820375376591,0.0140352654081887,0.026647254991902264,-0.006027442481567169,0.0008540638874947909,0.03921584891851035,0.014902741658731646,0.14561216378574052,0.10296141032076656,-0.0029055349231972643],[-0.2679055800599019,-0.3573545496189404,-0.10887758041158165,-0.08662968175764944,1.0,0.07759637866373847,0.08299909193786525,0.03752789673752856,0.021969091928363892,-0.01698074872750823,-0.057352813716873625,-0.15196949727597378,-0.035845978121911225,0.0051665217969066165,-0.030737704884806292,-0.0408552374999397,-0.24288477530651487,-0.1275031100467774,0.024719360624825836,0.045910467459726705,-0.008550928778312034,-0.1560479100084101,-0.06682539863949215,-0.024206176209353166,-0.3361056751244023,-0.011257422198004494,-0.03728292173844288,-0.02636251054353717,-0.009684374718694275],[0.027370590698140712,-0.006823392607114617,0.043218225901257575,0.03012375073690915,0.07759637866373847,1.0,0.38662026424253526,0.29777557825021433,0.11400864328297494,0.021852252953073102,0.015712501440091817,0.012007361136791614,0.14981007926274997,0.0232508076882738,0.09248177738513448,0.13134703382206822,-0.0404417829717018,0.06828446174878651,0.2533458214544411,0.22236710529859854,0.007382544359831411,0.016623324696448148,0.09425910288125361,0.06807037522542461,-0.060887703249359305,-0.005914686115946064,0.01441427582050849,0.010192240322833631,0.01793896577366395],[0.00722610789967186,-0.004110781525851566,0.0355831391694969,0.02736227830456962,0.08299909193786525,0.38662026424253526,1.0,0.3372902118449861,0.09125833684841975,0.053347214932925845,0.009536123690020331,0.038230978226072625,0.21333789242716855,0.015986339284981863,0.06356128111973867,0.0911364954227662,-0.015845834341561428,0.06607008234851408,0.262140668675432,0.2929400761779312,0.0018626485398561324,0.017620629890952404,0.08069806373742698,0.06578869193655375,-0.04652619113343463,-0.004480388706158914,0.008236393880300593,0.005823900337892831,0.03388018503996689],[0.03648277223218339,0.00015887941516754786,-0.0013175870026039848,0.027965775765355562,0.03752789673752856,0.29777557825021433,0.3372902118449861,1.0,0.06264275051699618,0.03658696240368675,-0.009935780141500605,0.057764312362625976,0.09767704809844616,0.0324632184136871,0.06247732728779252,0.10555781829603332,0.020571244814511436,0.06590334860985371,0.20147556619200388,0.13279904759713262,0.00031117616351020833,0.025652734187403325,0.0672790940665636,0.032938488040792684,0.01568065560752936,0.006699470385232869,-0.00563117816464824,-0.003981769314635143,0.031066797142479046],[-0.023334745638832692,-0.022605756304582184,-0.01993951791577057,0.017432403662090142,0.021969091928363892,0.11400864328297494,0.09125833684841975,0.06264275051699618,1.0,0.0019417156500786993,0.06433958521927197,-0.01305054056695311,0.0438998672292103,0.1000800648321563,0.03726814537970681,0.020476149716725664,-0.007598877978042967,-0.003937369275270529,0.041761781551021934,-0.0032785752839889636,-0.0004858926829906106,-0.010341838137234985,-0.018725441939185218,-0.01133796736353081,-0.01502228531824091,0.014391989605698124,-0.0014462726177014188,-0.0010226499253589646,0.0014181978549727358],[0.049864514011126126,0.02426581618248428,0.056725562296069114,0.017780850842692132,-0.01698074872750823,0.021852252953073102,0.053347214932925845,0.03658696240368675,0.0019417156500786993,1.0,0.024209709109337986,0.0082473258549999,0.03413550435893977,-3.504851023177855e-05,0.040804252960645715,0.028508853174553015,-0.005640598524908634,0.06878692939306572,-0.22132122075974847,0.03645203240111808,-0.016779079132863257,0.027309780343607055,0.07307189087647668,0.04491310152205443,-0.003849502692267361,0.01632457117629201,-0.0037492314194708413,-0.0026510570582253105,-0.018941133663898404],[0.051906782636209806,0.03148234755404816,0.01688016903445299,0.1551253075074674,-0.057352813716873625,0.015712501440091817,0.009536123690020331,-0.009935780141500605,0.06433958521927197,0.024209709109337986,1.0,0.05570635319009785,0.04676589210944812,0.09768681980962304,0.07853876976837373,0.05659878936528251,0.013994052472667657,0.02653546106982097,-0.011325728912280295,0.004577840947690059,-0.0014105356543045885,0.01905839524764949,0.0006620454830105264,0.0032328955631943414,0.012445918219587198,0.018952944312933293,0.23889718334438506,0.16892263859899723,0.01956426729037931],[0.37461794267009535,0.37157559121652634,0.10072396094461841,0.039207506060475884,-0.15196949727597378,0.012007361136791614,0.038230978226072625,0.057764312362625976,-0.01305054056695311,0.0082473258549999,0.05570635319009785,1.0,0.08891310615748341,0.0008681061558466679,0.09489281030702419,0.08360106873387912,0.20179260868373647,0.22722685245183322,0.004329531609084095,0.043855060080789786,0.02156852623052079,0.2425340408477833,0.08698918039266917,0.03540513931669822,0.1570223713573542,0.032172650530475876,0.020224787274692332,-0.0012606649990458323,0.12345617346534825],[0.10981606505599564,0.09228853049611645,0.05587141471259776,0.05542402720086034,-0.035845978121911225,0.14981007926274997,0.21333789242716855,0.09767704809844616,0.0438998672292103,0.03413550435893977,0.04676589210944812,0.08891310615748341,1.0,0.038869168389589766,0.11721182122014846,0.11523886694024967,0.02316586825663104,0.08695988422451158,0.08125057719913906,0.32375592040479817,0.004480402332881302,0.06310391835562008,0.07063535727093473,0.050877430214998964,-0.004170938482190795,0.007479143705743597,0.014562609358036677,-0.0016894145372198628,0.05612368380357603],[-0.007040086445383878,-0.008810813847019797,-0.00758472483091501,0.021929381514239305,0.0051665217969066165,0.0232508076882738,0.015986339284981863,0.0324632184136871,0.1000800648321563,-3.504851023177855e-05,0.09768681980962304,0.0008681061558466679,0.038869168389589766,1.0,0.025672696831485407,0.015293387078785827,0.004849651291897975,-0.0046532097607775375,0.0077552574233925075,0.006073339685507601,-0.0028266707411071378,-0.00425044008293286,-0.00821491134451877,-0.009487931621440994,0.007947830261422532,0.0043822106548135195,-0.0006316105115864766,-0.00044660766899978527,0.028517403769645996],[0.11337267321048627,0.07046049020853223,0.03865035127780451,0.06011618360230672,-0.030737704884806292,0.09248177738513448,0.06356128111973867,0.06247732728779252,0.03726814537970681,0.040804252960645715,0.07853876976837373,0.09489281030702419,0.11721182122014846,0.025672696831485407,1.0,0.4843328581625494,0.0010932953261325825,0.09587356914875773,0.02434623033216019,0.07106176669869145,0.002223655359908196,0.07211672284100933,0.05536897792376852,0.03974292976993548,-0.0011540421959024933,0.03775076276356776,0.04311712051084871,0.030487834404409664,0.026199765372377965],[0.10417275354697716,0.0793262581395957,0.02537972672637518,0.10150535886629361,-0.0408552374999397,0.13134703382206822,0.0911364954227662,0.10555781829603332,0.020476149716725664,0.028508853174553015,0.05659878936528251,0.08360106873387912,0.11523886694024967,0.015293387078785827,0.4843328581625494,1.0,0.007282513776145523,0.09156227315417363,0.03344019078349004,0.09457940005495459,0.003539841920339977,0.08348850740695679,0.03679556283296484,0.029456380536811908,-0.0060891480918552395,0.0433113794957031,0.04655132388517406,0.03291613718870975,0.02098458456255219],[0.14310284041829374,0.2862914253143894,-0.009698254633164368,0.04292921199907382,-0.24288477530651487,-0.0404417829717018,-0.015845834341561428,0.020571244814511436,-0.007598877978042967,-0.005640598524908634,0.013994052472667657,0.20179260868373647,0.02316586825663104,0.004849651291897975,0.0010932953261325825,0.007282513776145523,1.0,0.09667249506737689,-0.04815444373631293,-0.019075496851763924,-6.428462739973261e-05,0.15441134525193256,-0.026577480750849453,-0.016790972116395294,0.30933202100230506,-0.009909471441073561,-0.0013968658051064118,-0.0009877146907468284,0.03160859617200864],[0.42678154118154793,0.32164635312305073,0.3229046712425744,0.07015318952613311,-0.1275031100467774,0.06828446174878651,0.06607008234851408,0.06590334860985371,-0.003937369275270529,0.06878692939306572,0.02653546106982097,0.22722685245183322,0.08695988422451158,-0.0046532097607775375,0.09587356914875773,0.09156227315417363,0.09667249506737689,1.0,0.15447160759790968,0.0962274410805276,0.02650040646497914,0.6210341937776128,0.3831820984265592,0.6189010808433123,0.15198723330882136,0.008840169018684167,0.01177085587161248,0.018663320969255656,0.007447648962151703],[0.05932067980041998,0.004570569164849049,0.18775185762251528,0.012272428551337549,0.024719360624825836,0.2533458214544411,0.262140668675432,0.20147556619200388,0.041761781551021934,-0.22132122075974847,-0.011325728912280295,0.004329531609084095,0.08125057719913906,0.0077552574233925075,0.02434623033216019,0.03344019078349004,-0.04815444373631293,0.15447160759790968,1.0,0.19710099423544017,-0.008385723062727685,0.024404661015181028,0.2772027870607225,0.20574588151020504,-0.05048137228671905,0.043225539439381636,-0.004520786872268649,-0.0031966188814644162,0.016149252677522572],[0.08890988535907045,0.043392654434696185,0.05702275788671085,0.03186820375376591,0.045910467459726705,0.22236710529859854,0.2929400761779312,0.13279904759713262,-0.0032785752839889636,0.03645203240111808,0.004577840947690059,0.043855060080789786,0.32375592040479817,0.006073339685507601,0.07106176669869145,0.09457940005495459,-0.019075496851763924,0.0962274410805276,0.19710099423544017,1.0,0.019781889862923334,0.03247350993284174,0.12852207992707443,0.07790763146133313,-0.034101488332587235,0.020750657636011995,-0.0033417887431081337,-0.002362957001935368,0.041221001664319204],[0.011056990643196641,0.03126172298230572,-0.009860744839955676,0.0140352654081887,-0.008550928778312034,0.007382544359831411,0.0018626485398561324,0.00031117616351020833,-0.0004858926829906106,-0.016779079132863257,-0.0014105356543045885,0.02156852623052079,0.004480402332881302,-0.0028266707411071378,0.002223655359908196,0.003539841920339977,-6.428462739973261e-05,0.02650040646497914,-0.008385723062727685,0.019781889862923334,1.0,0.041604830602544024,-0.011509599106192678,-0.007901403510183216,0.003107000233249605,0.17412390696474364,-0.0003369729948201881,-0.00023827140456308897,-0.001893431638452245],[0.32710465524512694,0.5445335414749422,0.1261014849521839,0.026647254991902264,-0.1560479100084101,0.016623324696448148,0.017620629890952404,0.025652734187403325,-0.010341838137234985,0.027309780343607055,0.01905839524764949,0.2425340408477833,0.06310391835562008,-0.00425044008293286,0.07211672284100933,0.08348850740695679,0.15441134525193256,0.6210341937776128,0.024404661015181028,0.03247350993284174,0.041604830602544024,1.0,0.06285827865496621,0.1953749311081427,0.19120740982934858,0.011907647511198757,-0.0017716284190909552,-0.0012527068882951231,0.009788490660583987],[0.2734188047483632,0.10859514293727875,0.5752299624345001,-0.006027442481567169,-0.06682539863949215,0.09425910288125361,0.08069806373742698,0.0672790940665636,-0.018725441939185218,0.07307189087647668,0.0006620454830105264,0.08698918039266917,0.07063535727093473,-0.00821491134451877,0.05536897792376852,0.03679556283296484,-0.026577480750849453,0.3831820984265592,0.2772027870607225,0.12852207992707443,-0.011509599106192678,0.06285827865496621,1.0,0.5082897123928461,-0.031186518491247445,-0.0128771635059023,-0.0025717830074437386,-0.0018184909735632989,0.03668061873706041],[0.15649375938479723,0.08905250393388871,0.532324583989863,0.0008540638874947909,-0.024206176209353166,0.06807037522542461,0.06578869193655375,0.032938488040792684,-0.01133796736353081,0.04491310152205443,0.0032328955631943414,0.03540513931669822,0.050877430214998964,-0.009487931621440994,0.03974292976993548,0.029456380536811908,-0.016790972116395294,0.6189010808433123,0.20574588151020504,0.07790763146133313,-0.007901403510183216,0.1953749311081427,0.5082897123928461,1.0,-0.01898757115533124,-0.008680610630155208,-0.0017655432734848058,-0.001248404121566526,0.009885293144029922],[0.1711196956360219,0.22840105464982904,-0.019949554014221167,0.03921584891851035,-0.3361056751244023,-0.060887703249359305,-0.04652619113343463,0.01568065560752936,-0.01502228531824091,-0.003849502692267361,0.012445918219587198,0.1570223713573542,-0.004170938482190795,0.007947830261422532,-0.0011540421959024933,-0.0060891480918552395,0.30933202100230506,0.15198723330882136,-0.05048137228671905,-0.034101488332587235,0.003107000233249605,0.19120740982934858,-0.031186518491247445,-0.01898757115533124,1.0,0.008238968785206142,-0.0010783417607485952,-0.0007624884186037126,0.012912452077063428],[0.022394021643881094,0.006605513214379211,-0.008484775992702134,0.014902741658731646,-0.011257422198004494,-0.005914686115946064,-0.004480388706158914,0.006699470385232869,0.014391989605698124,0.01632457117629201,0.018952944312933293,0.032172650530475876,0.007479143705743597,0.0043822106548135195,0.03775076276356776,0.0433113794957031,-0.009909471441073561,0.008840169018684167,0.043225539439381636,0.020750657636011995,0.17412390696474364,0.011907647511198757,-0.0128771635059023,-0.008680610630155208,0.008238968785206142,1.0,-0.0008127190357125405,-0.0005746683239638192,0.003768960636779869],[0.020762266332719426,0.012235313415584027,-0.0022033518097507956,0.14561216378574052,-0.03728292173844288,0.01441427582050849,0.008236393880300593,-0.00563117816464824,-0.0014462726177014188,-0.0037492314194708413,0.23889718334438506,0.020224787274692332,0.014562609358036677,-0.0006316105115864766,0.04311712051084871,0.04655132388517406,-0.0013968658051064118,0.01177085587161248,-0.004520786872268649,-0.0033417887431081337,-0.0003369729948201881,-0.0017716284190909552,-0.0025717830074437386,-0.0017655432734848058,-0.0010783417607485952,-0.0008127190357125405,1.0,0.7070934710665248,-0.0004230812271217876],[0.01468086296841022,-0.001954854813497746,-0.0015579756791373994,0.10296141032076656,-0.02636251054353717,0.010192240322833631,0.005823900337892831,-0.003981769314635143,-0.0010226499253589646,-0.0026510570582253105,0.16892263859899723,-0.0012606649990458323,-0.0016894145372198628,-0.00044660766899978527,0.030487834404409664,0.03291613718870975,-0.0009877146907468284,0.018663320969255656,-0.0031966188814644162,-0.002362957001935368,-0.00023827140456308897,-0.0012527068882951231,-0.0018184909735632989,-0.001248404121566526,-0.0007624884186037126,-0.0005746683239638192,0.7070934710665248,1.0,-0.0002991579734286294],[0.08185831455598429,0.056708966213134405,0.06224084290468779,-0.0029055349231972643,-0.009684374718694275,0.01793896577366395,0.03388018503996689,0.031066797142479046,0.0014181978549727358,-0.018941133663898404,0.01956426729037931,0.12345617346534825,0.05612368380357603,0.028517403769645996,0.026199765372377965,0.02098458456255219,0.03160859617200864,0.007447648962151703,0.016149252677522572,0.041221001664319204,-0.001893431638452245,0.009788490660583987,0.03668061873706041,0.009885293144029922,0.012912452077063428,0.003768960636779869,-0.0004230812271217876,-0.0002991579734286294,1.0]],\"type\":\"heatmap\"}],                        {\"annotations\":[{\"font\":{\"color\":\"#FFFFFF\",\"size\":8},\"showarrow\":false,\"text\":\"1.0\",\"x\":\"Multi-player\",\"xref\":\"x\",\"y\":\"Multi-player\",\"yref\":\"y\"},{\"font\":{\"color\":\"#FFFFFF\",\"size\":8},\"showarrow\":false,\"text\":\"0.5\",\"x\":\"Online Multi-Player\",\"xref\":\"x\",\"y\":\"Multi-player\",\"yref\":\"y\"},{\"font\":{\"color\":\"#FFFFFF\",\"size\":8},\"showarrow\":false,\"text\":\"0.32\",\"x\":\"Local Multi-Player\",\"xref\":\"x\",\"y\":\"Multi-player\",\"yref\":\"y\"},{\"font\":{\"color\":\"#FFFFFF\",\"size\":8},\"showarrow\":false,\"text\":\"0.12\",\"x\":\"Valve Anti-Cheat enabled\",\"xref\":\"x\",\"y\":\"Multi-player\",\"yref\":\"y\"},{\"font\":{\"color\":\"#FFFFFF\",\"size\":8},\"showarrow\":false,\"text\":\"-0.27\",\"x\":\"Single-player\",\"xref\":\"x\",\"y\":\"Multi-player\",\"yref\":\"y\"},{\"font\":{\"color\":\"#FFFFFF\",\"size\":8},\"showarrow\":false,\"text\":\"0.03\",\"x\":\"Steam Cloud\",\"xref\":\"x\",\"y\":\"Multi-player\",\"yref\":\"y\"},{\"font\":{\"color\":\"#FFFFFF\",\"size\":8},\"showarrow\":false,\"text\":\"0.01\",\"x\":\"Steam Achievements\",\"xref\":\"x\",\"y\":\"Multi-player\",\"yref\":\"y\"},{\"font\":{\"color\":\"#FFFFFF\",\"size\":8},\"showarrow\":false,\"text\":\"0.04\",\"x\":\"Steam Trading Cards\",\"xref\":\"x\",\"y\":\"Multi-player\",\"yref\":\"y\"},{\"font\":{\"color\":\"#FFFFFF\",\"size\":8},\"showarrow\":false,\"text\":\"-0.02\",\"x\":\"Captions available\",\"xref\":\"x\",\"y\":\"Multi-player\",\"yref\":\"y\"},{\"font\":{\"color\":\"#FFFFFF\",\"size\":8},\"showarrow\":false,\"text\":\"0.05\",\"x\":\"Partial Controller Support\",\"xref\":\"x\",\"y\":\"Multi-player\",\"yref\":\"y\"},{\"font\":{\"color\":\"#FFFFFF\",\"size\":8},\"showarrow\":false,\"text\":\"0.05\",\"x\":\"Includes Source SDK\",\"xref\":\"x\",\"y\":\"Multi-player\",\"yref\":\"y\"},{\"font\":{\"color\":\"#FFFFFF\",\"size\":8},\"showarrow\":false,\"text\":\"0.37\",\"x\":\"Cross-Platform Multiplayer\",\"xref\":\"x\",\"y\":\"Multi-player\",\"yref\":\"y\"},{\"font\":{\"color\":\"#FFFFFF\",\"size\":8},\"showarrow\":false,\"text\":\"0.11\",\"x\":\"Stats\",\"xref\":\"x\",\"y\":\"Multi-player\",\"yref\":\"y\"},{\"font\":{\"color\":\"#FFFFFF\",\"size\":8},\"showarrow\":false,\"text\":\"-0.01\",\"x\":\"Commentary available\",\"xref\":\"x\",\"y\":\"Multi-player\",\"yref\":\"y\"},{\"font\":{\"color\":\"#FFFFFF\",\"size\":8},\"showarrow\":false,\"text\":\"0.11\",\"x\":\"Includes level editor\",\"xref\":\"x\",\"y\":\"Multi-player\",\"yref\":\"y\"},{\"font\":{\"color\":\"#FFFFFF\",\"size\":8},\"showarrow\":false,\"text\":\"0.1\",\"x\":\"Steam Workshop\",\"xref\":\"x\",\"y\":\"Multi-player\",\"yref\":\"y\"},{\"font\":{\"color\":\"#FFFFFF\",\"size\":8},\"showarrow\":false,\"text\":\"0.14\",\"x\":\"In-App Purchases\",\"xref\":\"x\",\"y\":\"Multi-player\",\"yref\":\"y\"},{\"font\":{\"color\":\"#FFFFFF\",\"size\":8},\"showarrow\":false,\"text\":\"0.43\",\"x\":\"Co-op\",\"xref\":\"x\",\"y\":\"Multi-player\",\"yref\":\"y\"},{\"font\":{\"color\":\"#FFFFFF\",\"size\":8},\"showarrow\":false,\"text\":\"0.06\",\"x\":\"Full controller support\",\"xref\":\"x\",\"y\":\"Multi-player\",\"yref\":\"y\"},{\"font\":{\"color\":\"#FFFFFF\",\"size\":8},\"showarrow\":false,\"text\":\"0.09\",\"x\":\"Steam Leaderboards\",\"xref\":\"x\",\"y\":\"Multi-player\",\"yref\":\"y\"},{\"font\":{\"color\":\"#FFFFFF\",\"size\":8},\"showarrow\":false,\"text\":\"0.01\",\"x\":\"SteamVR Collectibles\",\"xref\":\"x\",\"y\":\"Multi-player\",\"yref\":\"y\"},{\"font\":{\"color\":\"#FFFFFF\",\"size\":8},\"showarrow\":false,\"text\":\"0.33\",\"x\":\"Online Co-op\",\"xref\":\"x\",\"y\":\"Multi-player\",\"yref\":\"y\"},{\"font\":{\"color\":\"#FFFFFF\",\"size\":8},\"showarrow\":false,\"text\":\"0.27\",\"x\":\"Shared/Split Screen\",\"xref\":\"x\",\"y\":\"Multi-player\",\"yref\":\"y\"},{\"font\":{\"color\":\"#FFFFFF\",\"size\":8},\"showarrow\":false,\"text\":\"0.16\",\"x\":\"Local Co-op\",\"xref\":\"x\",\"y\":\"Multi-player\",\"yref\":\"y\"},{\"font\":{\"color\":\"#FFFFFF\",\"size\":8},\"showarrow\":false,\"text\":\"0.17\",\"x\":\"MMO\",\"xref\":\"x\",\"y\":\"Multi-player\",\"yref\":\"y\"},{\"font\":{\"color\":\"#FFFFFF\",\"size\":8},\"showarrow\":false,\"text\":\"0.02\",\"x\":\"VR Support\",\"xref\":\"x\",\"y\":\"Multi-player\",\"yref\":\"y\"},{\"font\":{\"color\":\"#FFFFFF\",\"size\":8},\"showarrow\":false,\"text\":\"0.02\",\"x\":\"Mods\",\"xref\":\"x\",\"y\":\"Multi-player\",\"yref\":\"y\"},{\"font\":{\"color\":\"#FFFFFF\",\"size\":8},\"showarrow\":false,\"text\":\"0.01\",\"x\":\"Mods (require HL2)\",\"xref\":\"x\",\"y\":\"Multi-player\",\"yref\":\"y\"},{\"font\":{\"color\":\"#FFFFFF\",\"size\":8},\"showarrow\":false,\"text\":\"0.08\",\"x\":\"Steam Turn Notifications\",\"xref\":\"x\",\"y\":\"Multi-player\",\"yref\":\"y\"},{\"font\":{\"color\":\"#FFFFFF\",\"size\":8},\"showarrow\":false,\"text\":\"0.5\",\"x\":\"Multi-player\",\"xref\":\"x\",\"y\":\"Online Multi-Player\",\"yref\":\"y\"},{\"font\":{\"color\":\"#FFFFFF\",\"size\":8},\"showarrow\":false,\"text\":\"1.0\",\"x\":\"Online Multi-Player\",\"xref\":\"x\",\"y\":\"Online Multi-Player\",\"yref\":\"y\"},{\"font\":{\"color\":\"#FFFFFF\",\"size\":8},\"showarrow\":false,\"text\":\"0.25\",\"x\":\"Local Multi-Player\",\"xref\":\"x\",\"y\":\"Online Multi-Player\",\"yref\":\"y\"},{\"font\":{\"color\":\"#FFFFFF\",\"size\":8},\"showarrow\":false,\"text\":\"0.05\",\"x\":\"Valve Anti-Cheat enabled\",\"xref\":\"x\",\"y\":\"Online Multi-Player\",\"yref\":\"y\"},{\"font\":{\"color\":\"#FFFFFF\",\"size\":8},\"showarrow\":false,\"text\":\"-0.36\",\"x\":\"Single-player\",\"xref\":\"x\",\"y\":\"Online Multi-Player\",\"yref\":\"y\"},{\"font\":{\"color\":\"#FFFFFF\",\"size\":8},\"showarrow\":false,\"text\":\"-0.01\",\"x\":\"Steam Cloud\",\"xref\":\"x\",\"y\":\"Online Multi-Player\",\"yref\":\"y\"},{\"font\":{\"color\":\"#FFFFFF\",\"size\":8},\"showarrow\":false,\"text\":\"-0.0\",\"x\":\"Steam Achievements\",\"xref\":\"x\",\"y\":\"Online Multi-Player\",\"yref\":\"y\"},{\"font\":{\"color\":\"#FFFFFF\",\"size\":8},\"showarrow\":false,\"text\":\"0.0\",\"x\":\"Steam Trading Cards\",\"xref\":\"x\",\"y\":\"Online Multi-Player\",\"yref\":\"y\"},{\"font\":{\"color\":\"#FFFFFF\",\"size\":8},\"showarrow\":false,\"text\":\"-0.02\",\"x\":\"Captions available\",\"xref\":\"x\",\"y\":\"Online Multi-Player\",\"yref\":\"y\"},{\"font\":{\"color\":\"#FFFFFF\",\"size\":8},\"showarrow\":false,\"text\":\"0.02\",\"x\":\"Partial Controller Support\",\"xref\":\"x\",\"y\":\"Online Multi-Player\",\"yref\":\"y\"},{\"font\":{\"color\":\"#FFFFFF\",\"size\":8},\"showarrow\":false,\"text\":\"0.03\",\"x\":\"Includes Source SDK\",\"xref\":\"x\",\"y\":\"Online Multi-Player\",\"yref\":\"y\"},{\"font\":{\"color\":\"#FFFFFF\",\"size\":8},\"showarrow\":false,\"text\":\"0.37\",\"x\":\"Cross-Platform Multiplayer\",\"xref\":\"x\",\"y\":\"Online Multi-Player\",\"yref\":\"y\"},{\"font\":{\"color\":\"#FFFFFF\",\"size\":8},\"showarrow\":false,\"text\":\"0.09\",\"x\":\"Stats\",\"xref\":\"x\",\"y\":\"Online Multi-Player\",\"yref\":\"y\"},{\"font\":{\"color\":\"#FFFFFF\",\"size\":8},\"showarrow\":false,\"text\":\"-0.01\",\"x\":\"Commentary available\",\"xref\":\"x\",\"y\":\"Online Multi-Player\",\"yref\":\"y\"},{\"font\":{\"color\":\"#FFFFFF\",\"size\":8},\"showarrow\":false,\"text\":\"0.07\",\"x\":\"Includes level editor\",\"xref\":\"x\",\"y\":\"Online Multi-Player\",\"yref\":\"y\"},{\"font\":{\"color\":\"#FFFFFF\",\"size\":8},\"showarrow\":false,\"text\":\"0.08\",\"x\":\"Steam Workshop\",\"xref\":\"x\",\"y\":\"Online Multi-Player\",\"yref\":\"y\"},{\"font\":{\"color\":\"#FFFFFF\",\"size\":8},\"showarrow\":false,\"text\":\"0.29\",\"x\":\"In-App Purchases\",\"xref\":\"x\",\"y\":\"Online Multi-Player\",\"yref\":\"y\"},{\"font\":{\"color\":\"#FFFFFF\",\"size\":8},\"showarrow\":false,\"text\":\"0.32\",\"x\":\"Co-op\",\"xref\":\"x\",\"y\":\"Online Multi-Player\",\"yref\":\"y\"},{\"font\":{\"color\":\"#FFFFFF\",\"size\":8},\"showarrow\":false,\"text\":\"0.0\",\"x\":\"Full controller support\",\"xref\":\"x\",\"y\":\"Online Multi-Player\",\"yref\":\"y\"},{\"font\":{\"color\":\"#FFFFFF\",\"size\":8},\"showarrow\":false,\"text\":\"0.04\",\"x\":\"Steam Leaderboards\",\"xref\":\"x\",\"y\":\"Online Multi-Player\",\"yref\":\"y\"},{\"font\":{\"color\":\"#FFFFFF\",\"size\":8},\"showarrow\":false,\"text\":\"0.03\",\"x\":\"SteamVR Collectibles\",\"xref\":\"x\",\"y\":\"Online Multi-Player\",\"yref\":\"y\"},{\"font\":{\"color\":\"#FFFFFF\",\"size\":8},\"showarrow\":false,\"text\":\"0.54\",\"x\":\"Online Co-op\",\"xref\":\"x\",\"y\":\"Online Multi-Player\",\"yref\":\"y\"},{\"font\":{\"color\":\"#FFFFFF\",\"size\":8},\"showarrow\":false,\"text\":\"0.11\",\"x\":\"Shared/Split Screen\",\"xref\":\"x\",\"y\":\"Online Multi-Player\",\"yref\":\"y\"},{\"font\":{\"color\":\"#FFFFFF\",\"size\":8},\"showarrow\":false,\"text\":\"0.09\",\"x\":\"Local Co-op\",\"xref\":\"x\",\"y\":\"Online Multi-Player\",\"yref\":\"y\"},{\"font\":{\"color\":\"#FFFFFF\",\"size\":8},\"showarrow\":false,\"text\":\"0.23\",\"x\":\"MMO\",\"xref\":\"x\",\"y\":\"Online Multi-Player\",\"yref\":\"y\"},{\"font\":{\"color\":\"#FFFFFF\",\"size\":8},\"showarrow\":false,\"text\":\"0.01\",\"x\":\"VR Support\",\"xref\":\"x\",\"y\":\"Online Multi-Player\",\"yref\":\"y\"},{\"font\":{\"color\":\"#FFFFFF\",\"size\":8},\"showarrow\":false,\"text\":\"0.01\",\"x\":\"Mods\",\"xref\":\"x\",\"y\":\"Online Multi-Player\",\"yref\":\"y\"},{\"font\":{\"color\":\"#FFFFFF\",\"size\":8},\"showarrow\":false,\"text\":\"-0.0\",\"x\":\"Mods (require HL2)\",\"xref\":\"x\",\"y\":\"Online Multi-Player\",\"yref\":\"y\"},{\"font\":{\"color\":\"#FFFFFF\",\"size\":8},\"showarrow\":false,\"text\":\"0.06\",\"x\":\"Steam Turn Notifications\",\"xref\":\"x\",\"y\":\"Online Multi-Player\",\"yref\":\"y\"},{\"font\":{\"color\":\"#FFFFFF\",\"size\":8},\"showarrow\":false,\"text\":\"0.32\",\"x\":\"Multi-player\",\"xref\":\"x\",\"y\":\"Local Multi-Player\",\"yref\":\"y\"},{\"font\":{\"color\":\"#FFFFFF\",\"size\":8},\"showarrow\":false,\"text\":\"0.25\",\"x\":\"Online Multi-Player\",\"xref\":\"x\",\"y\":\"Local Multi-Player\",\"yref\":\"y\"},{\"font\":{\"color\":\"#FFFFFF\",\"size\":8},\"showarrow\":false,\"text\":\"1.0\",\"x\":\"Local Multi-Player\",\"xref\":\"x\",\"y\":\"Local Multi-Player\",\"yref\":\"y\"},{\"font\":{\"color\":\"#FFFFFF\",\"size\":8},\"showarrow\":false,\"text\":\"0.0\",\"x\":\"Valve Anti-Cheat enabled\",\"xref\":\"x\",\"y\":\"Local Multi-Player\",\"yref\":\"y\"},{\"font\":{\"color\":\"#FFFFFF\",\"size\":8},\"showarrow\":false,\"text\":\"-0.11\",\"x\":\"Single-player\",\"xref\":\"x\",\"y\":\"Local Multi-Player\",\"yref\":\"y\"},{\"font\":{\"color\":\"#FFFFFF\",\"size\":8},\"showarrow\":false,\"text\":\"0.04\",\"x\":\"Steam Cloud\",\"xref\":\"x\",\"y\":\"Local Multi-Player\",\"yref\":\"y\"},{\"font\":{\"color\":\"#FFFFFF\",\"size\":8},\"showarrow\":false,\"text\":\"0.04\",\"x\":\"Steam Achievements\",\"xref\":\"x\",\"y\":\"Local Multi-Player\",\"yref\":\"y\"},{\"font\":{\"color\":\"#FFFFFF\",\"size\":8},\"showarrow\":false,\"text\":\"-0.0\",\"x\":\"Steam Trading Cards\",\"xref\":\"x\",\"y\":\"Local Multi-Player\",\"yref\":\"y\"},{\"font\":{\"color\":\"#FFFFFF\",\"size\":8},\"showarrow\":false,\"text\":\"-0.02\",\"x\":\"Captions available\",\"xref\":\"x\",\"y\":\"Local Multi-Player\",\"yref\":\"y\"},{\"font\":{\"color\":\"#FFFFFF\",\"size\":8},\"showarrow\":false,\"text\":\"0.06\",\"x\":\"Partial Controller Support\",\"xref\":\"x\",\"y\":\"Local Multi-Player\",\"yref\":\"y\"},{\"font\":{\"color\":\"#FFFFFF\",\"size\":8},\"showarrow\":false,\"text\":\"0.02\",\"x\":\"Includes Source SDK\",\"xref\":\"x\",\"y\":\"Local Multi-Player\",\"yref\":\"y\"},{\"font\":{\"color\":\"#FFFFFF\",\"size\":8},\"showarrow\":false,\"text\":\"0.1\",\"x\":\"Cross-Platform Multiplayer\",\"xref\":\"x\",\"y\":\"Local Multi-Player\",\"yref\":\"y\"},{\"font\":{\"color\":\"#FFFFFF\",\"size\":8},\"showarrow\":false,\"text\":\"0.06\",\"x\":\"Stats\",\"xref\":\"x\",\"y\":\"Local Multi-Player\",\"yref\":\"y\"},{\"font\":{\"color\":\"#FFFFFF\",\"size\":8},\"showarrow\":false,\"text\":\"-0.01\",\"x\":\"Commentary available\",\"xref\":\"x\",\"y\":\"Local Multi-Player\",\"yref\":\"y\"},{\"font\":{\"color\":\"#FFFFFF\",\"size\":8},\"showarrow\":false,\"text\":\"0.04\",\"x\":\"Includes level editor\",\"xref\":\"x\",\"y\":\"Local Multi-Player\",\"yref\":\"y\"},{\"font\":{\"color\":\"#FFFFFF\",\"size\":8},\"showarrow\":false,\"text\":\"0.03\",\"x\":\"Steam Workshop\",\"xref\":\"x\",\"y\":\"Local Multi-Player\",\"yref\":\"y\"},{\"font\":{\"color\":\"#FFFFFF\",\"size\":8},\"showarrow\":false,\"text\":\"-0.01\",\"x\":\"In-App Purchases\",\"xref\":\"x\",\"y\":\"Local Multi-Player\",\"yref\":\"y\"},{\"font\":{\"color\":\"#FFFFFF\",\"size\":8},\"showarrow\":false,\"text\":\"0.32\",\"x\":\"Co-op\",\"xref\":\"x\",\"y\":\"Local Multi-Player\",\"yref\":\"y\"},{\"font\":{\"color\":\"#FFFFFF\",\"size\":8},\"showarrow\":false,\"text\":\"0.19\",\"x\":\"Full controller support\",\"xref\":\"x\",\"y\":\"Local Multi-Player\",\"yref\":\"y\"},{\"font\":{\"color\":\"#FFFFFF\",\"size\":8},\"showarrow\":false,\"text\":\"0.06\",\"x\":\"Steam Leaderboards\",\"xref\":\"x\",\"y\":\"Local Multi-Player\",\"yref\":\"y\"},{\"font\":{\"color\":\"#FFFFFF\",\"size\":8},\"showarrow\":false,\"text\":\"-0.01\",\"x\":\"SteamVR Collectibles\",\"xref\":\"x\",\"y\":\"Local Multi-Player\",\"yref\":\"y\"},{\"font\":{\"color\":\"#FFFFFF\",\"size\":8},\"showarrow\":false,\"text\":\"0.13\",\"x\":\"Online Co-op\",\"xref\":\"x\",\"y\":\"Local Multi-Player\",\"yref\":\"y\"},{\"font\":{\"color\":\"#FFFFFF\",\"size\":8},\"showarrow\":false,\"text\":\"0.58\",\"x\":\"Shared/Split Screen\",\"xref\":\"x\",\"y\":\"Local Multi-Player\",\"yref\":\"y\"},{\"font\":{\"color\":\"#FFFFFF\",\"size\":8},\"showarrow\":false,\"text\":\"0.53\",\"x\":\"Local Co-op\",\"xref\":\"x\",\"y\":\"Local Multi-Player\",\"yref\":\"y\"},{\"font\":{\"color\":\"#FFFFFF\",\"size\":8},\"showarrow\":false,\"text\":\"-0.02\",\"x\":\"MMO\",\"xref\":\"x\",\"y\":\"Local Multi-Player\",\"yref\":\"y\"},{\"font\":{\"color\":\"#FFFFFF\",\"size\":8},\"showarrow\":false,\"text\":\"-0.01\",\"x\":\"VR Support\",\"xref\":\"x\",\"y\":\"Local Multi-Player\",\"yref\":\"y\"},{\"font\":{\"color\":\"#FFFFFF\",\"size\":8},\"showarrow\":false,\"text\":\"-0.0\",\"x\":\"Mods\",\"xref\":\"x\",\"y\":\"Local Multi-Player\",\"yref\":\"y\"},{\"font\":{\"color\":\"#FFFFFF\",\"size\":8},\"showarrow\":false,\"text\":\"-0.0\",\"x\":\"Mods (require HL2)\",\"xref\":\"x\",\"y\":\"Local Multi-Player\",\"yref\":\"y\"},{\"font\":{\"color\":\"#FFFFFF\",\"size\":8},\"showarrow\":false,\"text\":\"0.06\",\"x\":\"Steam Turn Notifications\",\"xref\":\"x\",\"y\":\"Local Multi-Player\",\"yref\":\"y\"},{\"font\":{\"color\":\"#FFFFFF\",\"size\":8},\"showarrow\":false,\"text\":\"0.12\",\"x\":\"Multi-player\",\"xref\":\"x\",\"y\":\"Valve Anti-Cheat enabled\",\"yref\":\"y\"},{\"font\":{\"color\":\"#FFFFFF\",\"size\":8},\"showarrow\":false,\"text\":\"0.05\",\"x\":\"Online Multi-Player\",\"xref\":\"x\",\"y\":\"Valve Anti-Cheat enabled\",\"yref\":\"y\"},{\"font\":{\"color\":\"#FFFFFF\",\"size\":8},\"showarrow\":false,\"text\":\"0.0\",\"x\":\"Local Multi-Player\",\"xref\":\"x\",\"y\":\"Valve Anti-Cheat enabled\",\"yref\":\"y\"},{\"font\":{\"color\":\"#FFFFFF\",\"size\":8},\"showarrow\":false,\"text\":\"1.0\",\"x\":\"Valve Anti-Cheat enabled\",\"xref\":\"x\",\"y\":\"Valve Anti-Cheat enabled\",\"yref\":\"y\"},{\"font\":{\"color\":\"#FFFFFF\",\"size\":8},\"showarrow\":false,\"text\":\"-0.09\",\"x\":\"Single-player\",\"xref\":\"x\",\"y\":\"Valve Anti-Cheat enabled\",\"yref\":\"y\"},{\"font\":{\"color\":\"#FFFFFF\",\"size\":8},\"showarrow\":false,\"text\":\"0.03\",\"x\":\"Steam Cloud\",\"xref\":\"x\",\"y\":\"Valve Anti-Cheat enabled\",\"yref\":\"y\"},{\"font\":{\"color\":\"#FFFFFF\",\"size\":8},\"showarrow\":false,\"text\":\"0.03\",\"x\":\"Steam Achievements\",\"xref\":\"x\",\"y\":\"Valve Anti-Cheat enabled\",\"yref\":\"y\"},{\"font\":{\"color\":\"#FFFFFF\",\"size\":8},\"showarrow\":false,\"text\":\"0.03\",\"x\":\"Steam Trading Cards\",\"xref\":\"x\",\"y\":\"Valve Anti-Cheat enabled\",\"yref\":\"y\"},{\"font\":{\"color\":\"#FFFFFF\",\"size\":8},\"showarrow\":false,\"text\":\"0.02\",\"x\":\"Captions available\",\"xref\":\"x\",\"y\":\"Valve Anti-Cheat enabled\",\"yref\":\"y\"},{\"font\":{\"color\":\"#FFFFFF\",\"size\":8},\"showarrow\":false,\"text\":\"0.02\",\"x\":\"Partial Controller Support\",\"xref\":\"x\",\"y\":\"Valve Anti-Cheat enabled\",\"yref\":\"y\"},{\"font\":{\"color\":\"#FFFFFF\",\"size\":8},\"showarrow\":false,\"text\":\"0.16\",\"x\":\"Includes Source SDK\",\"xref\":\"x\",\"y\":\"Valve Anti-Cheat enabled\",\"yref\":\"y\"},{\"font\":{\"color\":\"#FFFFFF\",\"size\":8},\"showarrow\":false,\"text\":\"0.04\",\"x\":\"Cross-Platform Multiplayer\",\"xref\":\"x\",\"y\":\"Valve Anti-Cheat enabled\",\"yref\":\"y\"},{\"font\":{\"color\":\"#FFFFFF\",\"size\":8},\"showarrow\":false,\"text\":\"0.06\",\"x\":\"Stats\",\"xref\":\"x\",\"y\":\"Valve Anti-Cheat enabled\",\"yref\":\"y\"},{\"font\":{\"color\":\"#FFFFFF\",\"size\":8},\"showarrow\":false,\"text\":\"0.02\",\"x\":\"Commentary available\",\"xref\":\"x\",\"y\":\"Valve Anti-Cheat enabled\",\"yref\":\"y\"},{\"font\":{\"color\":\"#FFFFFF\",\"size\":8},\"showarrow\":false,\"text\":\"0.06\",\"x\":\"Includes level editor\",\"xref\":\"x\",\"y\":\"Valve Anti-Cheat enabled\",\"yref\":\"y\"},{\"font\":{\"color\":\"#FFFFFF\",\"size\":8},\"showarrow\":false,\"text\":\"0.1\",\"x\":\"Steam Workshop\",\"xref\":\"x\",\"y\":\"Valve Anti-Cheat enabled\",\"yref\":\"y\"},{\"font\":{\"color\":\"#FFFFFF\",\"size\":8},\"showarrow\":false,\"text\":\"0.04\",\"x\":\"In-App Purchases\",\"xref\":\"x\",\"y\":\"Valve Anti-Cheat enabled\",\"yref\":\"y\"},{\"font\":{\"color\":\"#FFFFFF\",\"size\":8},\"showarrow\":false,\"text\":\"0.07\",\"x\":\"Co-op\",\"xref\":\"x\",\"y\":\"Valve Anti-Cheat enabled\",\"yref\":\"y\"},{\"font\":{\"color\":\"#FFFFFF\",\"size\":8},\"showarrow\":false,\"text\":\"0.01\",\"x\":\"Full controller support\",\"xref\":\"x\",\"y\":\"Valve Anti-Cheat enabled\",\"yref\":\"y\"},{\"font\":{\"color\":\"#FFFFFF\",\"size\":8},\"showarrow\":false,\"text\":\"0.03\",\"x\":\"Steam Leaderboards\",\"xref\":\"x\",\"y\":\"Valve Anti-Cheat enabled\",\"yref\":\"y\"},{\"font\":{\"color\":\"#FFFFFF\",\"size\":8},\"showarrow\":false,\"text\":\"0.01\",\"x\":\"SteamVR Collectibles\",\"xref\":\"x\",\"y\":\"Valve Anti-Cheat enabled\",\"yref\":\"y\"},{\"font\":{\"color\":\"#FFFFFF\",\"size\":8},\"showarrow\":false,\"text\":\"0.03\",\"x\":\"Online Co-op\",\"xref\":\"x\",\"y\":\"Valve Anti-Cheat enabled\",\"yref\":\"y\"},{\"font\":{\"color\":\"#FFFFFF\",\"size\":8},\"showarrow\":false,\"text\":\"-0.01\",\"x\":\"Shared/Split Screen\",\"xref\":\"x\",\"y\":\"Valve Anti-Cheat enabled\",\"yref\":\"y\"},{\"font\":{\"color\":\"#FFFFFF\",\"size\":8},\"showarrow\":false,\"text\":\"0.0\",\"x\":\"Local Co-op\",\"xref\":\"x\",\"y\":\"Valve Anti-Cheat enabled\",\"yref\":\"y\"},{\"font\":{\"color\":\"#FFFFFF\",\"size\":8},\"showarrow\":false,\"text\":\"0.04\",\"x\":\"MMO\",\"xref\":\"x\",\"y\":\"Valve Anti-Cheat enabled\",\"yref\":\"y\"},{\"font\":{\"color\":\"#FFFFFF\",\"size\":8},\"showarrow\":false,\"text\":\"0.01\",\"x\":\"VR Support\",\"xref\":\"x\",\"y\":\"Valve Anti-Cheat enabled\",\"yref\":\"y\"},{\"font\":{\"color\":\"#FFFFFF\",\"size\":8},\"showarrow\":false,\"text\":\"0.15\",\"x\":\"Mods\",\"xref\":\"x\",\"y\":\"Valve Anti-Cheat enabled\",\"yref\":\"y\"},{\"font\":{\"color\":\"#FFFFFF\",\"size\":8},\"showarrow\":false,\"text\":\"0.1\",\"x\":\"Mods (require HL2)\",\"xref\":\"x\",\"y\":\"Valve Anti-Cheat enabled\",\"yref\":\"y\"},{\"font\":{\"color\":\"#FFFFFF\",\"size\":8},\"showarrow\":false,\"text\":\"-0.0\",\"x\":\"Steam Turn Notifications\",\"xref\":\"x\",\"y\":\"Valve Anti-Cheat enabled\",\"yref\":\"y\"},{\"font\":{\"color\":\"#FFFFFF\",\"size\":8},\"showarrow\":false,\"text\":\"-0.27\",\"x\":\"Multi-player\",\"xref\":\"x\",\"y\":\"Single-player\",\"yref\":\"y\"},{\"font\":{\"color\":\"#FFFFFF\",\"size\":8},\"showarrow\":false,\"text\":\"-0.36\",\"x\":\"Online Multi-Player\",\"xref\":\"x\",\"y\":\"Single-player\",\"yref\":\"y\"},{\"font\":{\"color\":\"#FFFFFF\",\"size\":8},\"showarrow\":false,\"text\":\"-0.11\",\"x\":\"Local Multi-Player\",\"xref\":\"x\",\"y\":\"Single-player\",\"yref\":\"y\"},{\"font\":{\"color\":\"#FFFFFF\",\"size\":8},\"showarrow\":false,\"text\":\"-0.09\",\"x\":\"Valve Anti-Cheat enabled\",\"xref\":\"x\",\"y\":\"Single-player\",\"yref\":\"y\"},{\"font\":{\"color\":\"#FFFFFF\",\"size\":8},\"showarrow\":false,\"text\":\"1.0\",\"x\":\"Single-player\",\"xref\":\"x\",\"y\":\"Single-player\",\"yref\":\"y\"},{\"font\":{\"color\":\"#FFFFFF\",\"size\":8},\"showarrow\":false,\"text\":\"0.08\",\"x\":\"Steam Cloud\",\"xref\":\"x\",\"y\":\"Single-player\",\"yref\":\"y\"},{\"font\":{\"color\":\"#FFFFFF\",\"size\":8},\"showarrow\":false,\"text\":\"0.08\",\"x\":\"Steam Achievements\",\"xref\":\"x\",\"y\":\"Single-player\",\"yref\":\"y\"},{\"font\":{\"color\":\"#FFFFFF\",\"size\":8},\"showarrow\":false,\"text\":\"0.04\",\"x\":\"Steam Trading Cards\",\"xref\":\"x\",\"y\":\"Single-player\",\"yref\":\"y\"},{\"font\":{\"color\":\"#FFFFFF\",\"size\":8},\"showarrow\":false,\"text\":\"0.02\",\"x\":\"Captions available\",\"xref\":\"x\",\"y\":\"Single-player\",\"yref\":\"y\"},{\"font\":{\"color\":\"#FFFFFF\",\"size\":8},\"showarrow\":false,\"text\":\"-0.02\",\"x\":\"Partial Controller Support\",\"xref\":\"x\",\"y\":\"Single-player\",\"yref\":\"y\"},{\"font\":{\"color\":\"#FFFFFF\",\"size\":8},\"showarrow\":false,\"text\":\"-0.06\",\"x\":\"Includes Source SDK\",\"xref\":\"x\",\"y\":\"Single-player\",\"yref\":\"y\"},{\"font\":{\"color\":\"#FFFFFF\",\"size\":8},\"showarrow\":false,\"text\":\"-0.15\",\"x\":\"Cross-Platform Multiplayer\",\"xref\":\"x\",\"y\":\"Single-player\",\"yref\":\"y\"},{\"font\":{\"color\":\"#FFFFFF\",\"size\":8},\"showarrow\":false,\"text\":\"-0.04\",\"x\":\"Stats\",\"xref\":\"x\",\"y\":\"Single-player\",\"yref\":\"y\"},{\"font\":{\"color\":\"#FFFFFF\",\"size\":8},\"showarrow\":false,\"text\":\"0.01\",\"x\":\"Commentary available\",\"xref\":\"x\",\"y\":\"Single-player\",\"yref\":\"y\"},{\"font\":{\"color\":\"#FFFFFF\",\"size\":8},\"showarrow\":false,\"text\":\"-0.03\",\"x\":\"Includes level editor\",\"xref\":\"x\",\"y\":\"Single-player\",\"yref\":\"y\"},{\"font\":{\"color\":\"#FFFFFF\",\"size\":8},\"showarrow\":false,\"text\":\"-0.04\",\"x\":\"Steam Workshop\",\"xref\":\"x\",\"y\":\"Single-player\",\"yref\":\"y\"},{\"font\":{\"color\":\"#FFFFFF\",\"size\":8},\"showarrow\":false,\"text\":\"-0.24\",\"x\":\"In-App Purchases\",\"xref\":\"x\",\"y\":\"Single-player\",\"yref\":\"y\"},{\"font\":{\"color\":\"#FFFFFF\",\"size\":8},\"showarrow\":false,\"text\":\"-0.13\",\"x\":\"Co-op\",\"xref\":\"x\",\"y\":\"Single-player\",\"yref\":\"y\"},{\"font\":{\"color\":\"#FFFFFF\",\"size\":8},\"showarrow\":false,\"text\":\"0.02\",\"x\":\"Full controller support\",\"xref\":\"x\",\"y\":\"Single-player\",\"yref\":\"y\"},{\"font\":{\"color\":\"#FFFFFF\",\"size\":8},\"showarrow\":false,\"text\":\"0.05\",\"x\":\"Steam Leaderboards\",\"xref\":\"x\",\"y\":\"Single-player\",\"yref\":\"y\"},{\"font\":{\"color\":\"#FFFFFF\",\"size\":8},\"showarrow\":false,\"text\":\"-0.01\",\"x\":\"SteamVR Collectibles\",\"xref\":\"x\",\"y\":\"Single-player\",\"yref\":\"y\"},{\"font\":{\"color\":\"#FFFFFF\",\"size\":8},\"showarrow\":false,\"text\":\"-0.16\",\"x\":\"Online Co-op\",\"xref\":\"x\",\"y\":\"Single-player\",\"yref\":\"y\"},{\"font\":{\"color\":\"#FFFFFF\",\"size\":8},\"showarrow\":false,\"text\":\"-0.07\",\"x\":\"Shared/Split Screen\",\"xref\":\"x\",\"y\":\"Single-player\",\"yref\":\"y\"},{\"font\":{\"color\":\"#FFFFFF\",\"size\":8},\"showarrow\":false,\"text\":\"-0.02\",\"x\":\"Local Co-op\",\"xref\":\"x\",\"y\":\"Single-player\",\"yref\":\"y\"},{\"font\":{\"color\":\"#FFFFFF\",\"size\":8},\"showarrow\":false,\"text\":\"-0.34\",\"x\":\"MMO\",\"xref\":\"x\",\"y\":\"Single-player\",\"yref\":\"y\"},{\"font\":{\"color\":\"#FFFFFF\",\"size\":8},\"showarrow\":false,\"text\":\"-0.01\",\"x\":\"VR Support\",\"xref\":\"x\",\"y\":\"Single-player\",\"yref\":\"y\"},{\"font\":{\"color\":\"#FFFFFF\",\"size\":8},\"showarrow\":false,\"text\":\"-0.04\",\"x\":\"Mods\",\"xref\":\"x\",\"y\":\"Single-player\",\"yref\":\"y\"},{\"font\":{\"color\":\"#FFFFFF\",\"size\":8},\"showarrow\":false,\"text\":\"-0.03\",\"x\":\"Mods (require HL2)\",\"xref\":\"x\",\"y\":\"Single-player\",\"yref\":\"y\"},{\"font\":{\"color\":\"#FFFFFF\",\"size\":8},\"showarrow\":false,\"text\":\"-0.01\",\"x\":\"Steam Turn Notifications\",\"xref\":\"x\",\"y\":\"Single-player\",\"yref\":\"y\"},{\"font\":{\"color\":\"#FFFFFF\",\"size\":8},\"showarrow\":false,\"text\":\"0.03\",\"x\":\"Multi-player\",\"xref\":\"x\",\"y\":\"Steam Cloud\",\"yref\":\"y\"},{\"font\":{\"color\":\"#FFFFFF\",\"size\":8},\"showarrow\":false,\"text\":\"-0.01\",\"x\":\"Online Multi-Player\",\"xref\":\"x\",\"y\":\"Steam Cloud\",\"yref\":\"y\"},{\"font\":{\"color\":\"#FFFFFF\",\"size\":8},\"showarrow\":false,\"text\":\"0.04\",\"x\":\"Local Multi-Player\",\"xref\":\"x\",\"y\":\"Steam Cloud\",\"yref\":\"y\"},{\"font\":{\"color\":\"#FFFFFF\",\"size\":8},\"showarrow\":false,\"text\":\"0.03\",\"x\":\"Valve Anti-Cheat enabled\",\"xref\":\"x\",\"y\":\"Steam Cloud\",\"yref\":\"y\"},{\"font\":{\"color\":\"#FFFFFF\",\"size\":8},\"showarrow\":false,\"text\":\"0.08\",\"x\":\"Single-player\",\"xref\":\"x\",\"y\":\"Steam Cloud\",\"yref\":\"y\"},{\"font\":{\"color\":\"#FFFFFF\",\"size\":8},\"showarrow\":false,\"text\":\"1.0\",\"x\":\"Steam Cloud\",\"xref\":\"x\",\"y\":\"Steam Cloud\",\"yref\":\"y\"},{\"font\":{\"color\":\"#FFFFFF\",\"size\":8},\"showarrow\":false,\"text\":\"0.39\",\"x\":\"Steam Achievements\",\"xref\":\"x\",\"y\":\"Steam Cloud\",\"yref\":\"y\"},{\"font\":{\"color\":\"#FFFFFF\",\"size\":8},\"showarrow\":false,\"text\":\"0.3\",\"x\":\"Steam Trading Cards\",\"xref\":\"x\",\"y\":\"Steam Cloud\",\"yref\":\"y\"},{\"font\":{\"color\":\"#FFFFFF\",\"size\":8},\"showarrow\":false,\"text\":\"0.11\",\"x\":\"Captions available\",\"xref\":\"x\",\"y\":\"Steam Cloud\",\"yref\":\"y\"},{\"font\":{\"color\":\"#FFFFFF\",\"size\":8},\"showarrow\":false,\"text\":\"0.02\",\"x\":\"Partial Controller Support\",\"xref\":\"x\",\"y\":\"Steam Cloud\",\"yref\":\"y\"},{\"font\":{\"color\":\"#FFFFFF\",\"size\":8},\"showarrow\":false,\"text\":\"0.02\",\"x\":\"Includes Source SDK\",\"xref\":\"x\",\"y\":\"Steam Cloud\",\"yref\":\"y\"},{\"font\":{\"color\":\"#FFFFFF\",\"size\":8},\"showarrow\":false,\"text\":\"0.01\",\"x\":\"Cross-Platform Multiplayer\",\"xref\":\"x\",\"y\":\"Steam Cloud\",\"yref\":\"y\"},{\"font\":{\"color\":\"#FFFFFF\",\"size\":8},\"showarrow\":false,\"text\":\"0.15\",\"x\":\"Stats\",\"xref\":\"x\",\"y\":\"Steam Cloud\",\"yref\":\"y\"},{\"font\":{\"color\":\"#FFFFFF\",\"size\":8},\"showarrow\":false,\"text\":\"0.02\",\"x\":\"Commentary available\",\"xref\":\"x\",\"y\":\"Steam Cloud\",\"yref\":\"y\"},{\"font\":{\"color\":\"#FFFFFF\",\"size\":8},\"showarrow\":false,\"text\":\"0.09\",\"x\":\"Includes level editor\",\"xref\":\"x\",\"y\":\"Steam Cloud\",\"yref\":\"y\"},{\"font\":{\"color\":\"#FFFFFF\",\"size\":8},\"showarrow\":false,\"text\":\"0.13\",\"x\":\"Steam Workshop\",\"xref\":\"x\",\"y\":\"Steam Cloud\",\"yref\":\"y\"},{\"font\":{\"color\":\"#FFFFFF\",\"size\":8},\"showarrow\":false,\"text\":\"-0.04\",\"x\":\"In-App Purchases\",\"xref\":\"x\",\"y\":\"Steam Cloud\",\"yref\":\"y\"},{\"font\":{\"color\":\"#FFFFFF\",\"size\":8},\"showarrow\":false,\"text\":\"0.07\",\"x\":\"Co-op\",\"xref\":\"x\",\"y\":\"Steam Cloud\",\"yref\":\"y\"},{\"font\":{\"color\":\"#FFFFFF\",\"size\":8},\"showarrow\":false,\"text\":\"0.25\",\"x\":\"Full controller support\",\"xref\":\"x\",\"y\":\"Steam Cloud\",\"yref\":\"y\"},{\"font\":{\"color\":\"#FFFFFF\",\"size\":8},\"showarrow\":false,\"text\":\"0.22\",\"x\":\"Steam Leaderboards\",\"xref\":\"x\",\"y\":\"Steam Cloud\",\"yref\":\"y\"},{\"font\":{\"color\":\"#FFFFFF\",\"size\":8},\"showarrow\":false,\"text\":\"0.01\",\"x\":\"SteamVR Collectibles\",\"xref\":\"x\",\"y\":\"Steam Cloud\",\"yref\":\"y\"},{\"font\":{\"color\":\"#FFFFFF\",\"size\":8},\"showarrow\":false,\"text\":\"0.02\",\"x\":\"Online Co-op\",\"xref\":\"x\",\"y\":\"Steam Cloud\",\"yref\":\"y\"},{\"font\":{\"color\":\"#FFFFFF\",\"size\":8},\"showarrow\":false,\"text\":\"0.09\",\"x\":\"Shared/Split Screen\",\"xref\":\"x\",\"y\":\"Steam Cloud\",\"yref\":\"y\"},{\"font\":{\"color\":\"#FFFFFF\",\"size\":8},\"showarrow\":false,\"text\":\"0.07\",\"x\":\"Local Co-op\",\"xref\":\"x\",\"y\":\"Steam Cloud\",\"yref\":\"y\"},{\"font\":{\"color\":\"#FFFFFF\",\"size\":8},\"showarrow\":false,\"text\":\"-0.06\",\"x\":\"MMO\",\"xref\":\"x\",\"y\":\"Steam Cloud\",\"yref\":\"y\"},{\"font\":{\"color\":\"#FFFFFF\",\"size\":8},\"showarrow\":false,\"text\":\"-0.01\",\"x\":\"VR Support\",\"xref\":\"x\",\"y\":\"Steam Cloud\",\"yref\":\"y\"},{\"font\":{\"color\":\"#FFFFFF\",\"size\":8},\"showarrow\":false,\"text\":\"0.01\",\"x\":\"Mods\",\"xref\":\"x\",\"y\":\"Steam Cloud\",\"yref\":\"y\"},{\"font\":{\"color\":\"#FFFFFF\",\"size\":8},\"showarrow\":false,\"text\":\"0.01\",\"x\":\"Mods (require HL2)\",\"xref\":\"x\",\"y\":\"Steam Cloud\",\"yref\":\"y\"},{\"font\":{\"color\":\"#FFFFFF\",\"size\":8},\"showarrow\":false,\"text\":\"0.02\",\"x\":\"Steam Turn Notifications\",\"xref\":\"x\",\"y\":\"Steam Cloud\",\"yref\":\"y\"},{\"font\":{\"color\":\"#FFFFFF\",\"size\":8},\"showarrow\":false,\"text\":\"0.01\",\"x\":\"Multi-player\",\"xref\":\"x\",\"y\":\"Steam Achievements\",\"yref\":\"y\"},{\"font\":{\"color\":\"#FFFFFF\",\"size\":8},\"showarrow\":false,\"text\":\"-0.0\",\"x\":\"Online Multi-Player\",\"xref\":\"x\",\"y\":\"Steam Achievements\",\"yref\":\"y\"},{\"font\":{\"color\":\"#FFFFFF\",\"size\":8},\"showarrow\":false,\"text\":\"0.04\",\"x\":\"Local Multi-Player\",\"xref\":\"x\",\"y\":\"Steam Achievements\",\"yref\":\"y\"},{\"font\":{\"color\":\"#FFFFFF\",\"size\":8},\"showarrow\":false,\"text\":\"0.03\",\"x\":\"Valve Anti-Cheat enabled\",\"xref\":\"x\",\"y\":\"Steam Achievements\",\"yref\":\"y\"},{\"font\":{\"color\":\"#FFFFFF\",\"size\":8},\"showarrow\":false,\"text\":\"0.08\",\"x\":\"Single-player\",\"xref\":\"x\",\"y\":\"Steam Achievements\",\"yref\":\"y\"},{\"font\":{\"color\":\"#FFFFFF\",\"size\":8},\"showarrow\":false,\"text\":\"0.39\",\"x\":\"Steam Cloud\",\"xref\":\"x\",\"y\":\"Steam Achievements\",\"yref\":\"y\"},{\"font\":{\"color\":\"#FFFFFF\",\"size\":8},\"showarrow\":false,\"text\":\"1.0\",\"x\":\"Steam Achievements\",\"xref\":\"x\",\"y\":\"Steam Achievements\",\"yref\":\"y\"},{\"font\":{\"color\":\"#FFFFFF\",\"size\":8},\"showarrow\":false,\"text\":\"0.34\",\"x\":\"Steam Trading Cards\",\"xref\":\"x\",\"y\":\"Steam Achievements\",\"yref\":\"y\"},{\"font\":{\"color\":\"#FFFFFF\",\"size\":8},\"showarrow\":false,\"text\":\"0.09\",\"x\":\"Captions available\",\"xref\":\"x\",\"y\":\"Steam Achievements\",\"yref\":\"y\"},{\"font\":{\"color\":\"#FFFFFF\",\"size\":8},\"showarrow\":false,\"text\":\"0.05\",\"x\":\"Partial Controller Support\",\"xref\":\"x\",\"y\":\"Steam Achievements\",\"yref\":\"y\"},{\"font\":{\"color\":\"#FFFFFF\",\"size\":8},\"showarrow\":false,\"text\":\"0.01\",\"x\":\"Includes Source SDK\",\"xref\":\"x\",\"y\":\"Steam Achievements\",\"yref\":\"y\"},{\"font\":{\"color\":\"#FFFFFF\",\"size\":8},\"showarrow\":false,\"text\":\"0.04\",\"x\":\"Cross-Platform Multiplayer\",\"xref\":\"x\",\"y\":\"Steam Achievements\",\"yref\":\"y\"},{\"font\":{\"color\":\"#FFFFFF\",\"size\":8},\"showarrow\":false,\"text\":\"0.21\",\"x\":\"Stats\",\"xref\":\"x\",\"y\":\"Steam Achievements\",\"yref\":\"y\"},{\"font\":{\"color\":\"#FFFFFF\",\"size\":8},\"showarrow\":false,\"text\":\"0.02\",\"x\":\"Commentary available\",\"xref\":\"x\",\"y\":\"Steam Achievements\",\"yref\":\"y\"},{\"font\":{\"color\":\"#FFFFFF\",\"size\":8},\"showarrow\":false,\"text\":\"0.06\",\"x\":\"Includes level editor\",\"xref\":\"x\",\"y\":\"Steam Achievements\",\"yref\":\"y\"},{\"font\":{\"color\":\"#FFFFFF\",\"size\":8},\"showarrow\":false,\"text\":\"0.09\",\"x\":\"Steam Workshop\",\"xref\":\"x\",\"y\":\"Steam Achievements\",\"yref\":\"y\"},{\"font\":{\"color\":\"#FFFFFF\",\"size\":8},\"showarrow\":false,\"text\":\"-0.02\",\"x\":\"In-App Purchases\",\"xref\":\"x\",\"y\":\"Steam Achievements\",\"yref\":\"y\"},{\"font\":{\"color\":\"#FFFFFF\",\"size\":8},\"showarrow\":false,\"text\":\"0.07\",\"x\":\"Co-op\",\"xref\":\"x\",\"y\":\"Steam Achievements\",\"yref\":\"y\"},{\"font\":{\"color\":\"#FFFFFF\",\"size\":8},\"showarrow\":false,\"text\":\"0.26\",\"x\":\"Full controller support\",\"xref\":\"x\",\"y\":\"Steam Achievements\",\"yref\":\"y\"},{\"font\":{\"color\":\"#FFFFFF\",\"size\":8},\"showarrow\":false,\"text\":\"0.29\",\"x\":\"Steam Leaderboards\",\"xref\":\"x\",\"y\":\"Steam Achievements\",\"yref\":\"y\"},{\"font\":{\"color\":\"#FFFFFF\",\"size\":8},\"showarrow\":false,\"text\":\"0.0\",\"x\":\"SteamVR Collectibles\",\"xref\":\"x\",\"y\":\"Steam Achievements\",\"yref\":\"y\"},{\"font\":{\"color\":\"#FFFFFF\",\"size\":8},\"showarrow\":false,\"text\":\"0.02\",\"x\":\"Online Co-op\",\"xref\":\"x\",\"y\":\"Steam Achievements\",\"yref\":\"y\"},{\"font\":{\"color\":\"#FFFFFF\",\"size\":8},\"showarrow\":false,\"text\":\"0.08\",\"x\":\"Shared/Split Screen\",\"xref\":\"x\",\"y\":\"Steam Achievements\",\"yref\":\"y\"},{\"font\":{\"color\":\"#FFFFFF\",\"size\":8},\"showarrow\":false,\"text\":\"0.07\",\"x\":\"Local Co-op\",\"xref\":\"x\",\"y\":\"Steam Achievements\",\"yref\":\"y\"},{\"font\":{\"color\":\"#FFFFFF\",\"size\":8},\"showarrow\":false,\"text\":\"-0.05\",\"x\":\"MMO\",\"xref\":\"x\",\"y\":\"Steam Achievements\",\"yref\":\"y\"},{\"font\":{\"color\":\"#FFFFFF\",\"size\":8},\"showarrow\":false,\"text\":\"-0.0\",\"x\":\"VR Support\",\"xref\":\"x\",\"y\":\"Steam Achievements\",\"yref\":\"y\"},{\"font\":{\"color\":\"#FFFFFF\",\"size\":8},\"showarrow\":false,\"text\":\"0.01\",\"x\":\"Mods\",\"xref\":\"x\",\"y\":\"Steam Achievements\",\"yref\":\"y\"},{\"font\":{\"color\":\"#FFFFFF\",\"size\":8},\"showarrow\":false,\"text\":\"0.01\",\"x\":\"Mods (require HL2)\",\"xref\":\"x\",\"y\":\"Steam Achievements\",\"yref\":\"y\"},{\"font\":{\"color\":\"#FFFFFF\",\"size\":8},\"showarrow\":false,\"text\":\"0.03\",\"x\":\"Steam Turn Notifications\",\"xref\":\"x\",\"y\":\"Steam Achievements\",\"yref\":\"y\"},{\"font\":{\"color\":\"#FFFFFF\",\"size\":8},\"showarrow\":false,\"text\":\"0.04\",\"x\":\"Multi-player\",\"xref\":\"x\",\"y\":\"Steam Trading Cards\",\"yref\":\"y\"},{\"font\":{\"color\":\"#FFFFFF\",\"size\":8},\"showarrow\":false,\"text\":\"0.0\",\"x\":\"Online Multi-Player\",\"xref\":\"x\",\"y\":\"Steam Trading Cards\",\"yref\":\"y\"},{\"font\":{\"color\":\"#FFFFFF\",\"size\":8},\"showarrow\":false,\"text\":\"-0.0\",\"x\":\"Local Multi-Player\",\"xref\":\"x\",\"y\":\"Steam Trading Cards\",\"yref\":\"y\"},{\"font\":{\"color\":\"#FFFFFF\",\"size\":8},\"showarrow\":false,\"text\":\"0.03\",\"x\":\"Valve Anti-Cheat enabled\",\"xref\":\"x\",\"y\":\"Steam Trading Cards\",\"yref\":\"y\"},{\"font\":{\"color\":\"#FFFFFF\",\"size\":8},\"showarrow\":false,\"text\":\"0.04\",\"x\":\"Single-player\",\"xref\":\"x\",\"y\":\"Steam Trading Cards\",\"yref\":\"y\"},{\"font\":{\"color\":\"#FFFFFF\",\"size\":8},\"showarrow\":false,\"text\":\"0.3\",\"x\":\"Steam Cloud\",\"xref\":\"x\",\"y\":\"Steam Trading Cards\",\"yref\":\"y\"},{\"font\":{\"color\":\"#FFFFFF\",\"size\":8},\"showarrow\":false,\"text\":\"0.34\",\"x\":\"Steam Achievements\",\"xref\":\"x\",\"y\":\"Steam Trading Cards\",\"yref\":\"y\"},{\"font\":{\"color\":\"#FFFFFF\",\"size\":8},\"showarrow\":false,\"text\":\"1.0\",\"x\":\"Steam Trading Cards\",\"xref\":\"x\",\"y\":\"Steam Trading Cards\",\"yref\":\"y\"},{\"font\":{\"color\":\"#FFFFFF\",\"size\":8},\"showarrow\":false,\"text\":\"0.06\",\"x\":\"Captions available\",\"xref\":\"x\",\"y\":\"Steam Trading Cards\",\"yref\":\"y\"},{\"font\":{\"color\":\"#FFFFFF\",\"size\":8},\"showarrow\":false,\"text\":\"0.04\",\"x\":\"Partial Controller Support\",\"xref\":\"x\",\"y\":\"Steam Trading Cards\",\"yref\":\"y\"},{\"font\":{\"color\":\"#FFFFFF\",\"size\":8},\"showarrow\":false,\"text\":\"-0.01\",\"x\":\"Includes Source SDK\",\"xref\":\"x\",\"y\":\"Steam Trading Cards\",\"yref\":\"y\"},{\"font\":{\"color\":\"#FFFFFF\",\"size\":8},\"showarrow\":false,\"text\":\"0.06\",\"x\":\"Cross-Platform Multiplayer\",\"xref\":\"x\",\"y\":\"Steam Trading Cards\",\"yref\":\"y\"},{\"font\":{\"color\":\"#FFFFFF\",\"size\":8},\"showarrow\":false,\"text\":\"0.1\",\"x\":\"Stats\",\"xref\":\"x\",\"y\":\"Steam Trading Cards\",\"yref\":\"y\"},{\"font\":{\"color\":\"#FFFFFF\",\"size\":8},\"showarrow\":false,\"text\":\"0.03\",\"x\":\"Commentary available\",\"xref\":\"x\",\"y\":\"Steam Trading Cards\",\"yref\":\"y\"},{\"font\":{\"color\":\"#FFFFFF\",\"size\":8},\"showarrow\":false,\"text\":\"0.06\",\"x\":\"Includes level editor\",\"xref\":\"x\",\"y\":\"Steam Trading Cards\",\"yref\":\"y\"},{\"font\":{\"color\":\"#FFFFFF\",\"size\":8},\"showarrow\":false,\"text\":\"0.11\",\"x\":\"Steam Workshop\",\"xref\":\"x\",\"y\":\"Steam Trading Cards\",\"yref\":\"y\"},{\"font\":{\"color\":\"#FFFFFF\",\"size\":8},\"showarrow\":false,\"text\":\"0.02\",\"x\":\"In-App Purchases\",\"xref\":\"x\",\"y\":\"Steam Trading Cards\",\"yref\":\"y\"},{\"font\":{\"color\":\"#FFFFFF\",\"size\":8},\"showarrow\":false,\"text\":\"0.07\",\"x\":\"Co-op\",\"xref\":\"x\",\"y\":\"Steam Trading Cards\",\"yref\":\"y\"},{\"font\":{\"color\":\"#FFFFFF\",\"size\":8},\"showarrow\":false,\"text\":\"0.2\",\"x\":\"Full controller support\",\"xref\":\"x\",\"y\":\"Steam Trading Cards\",\"yref\":\"y\"},{\"font\":{\"color\":\"#FFFFFF\",\"size\":8},\"showarrow\":false,\"text\":\"0.13\",\"x\":\"Steam Leaderboards\",\"xref\":\"x\",\"y\":\"Steam Trading Cards\",\"yref\":\"y\"},{\"font\":{\"color\":\"#FFFFFF\",\"size\":8},\"showarrow\":false,\"text\":\"0.0\",\"x\":\"SteamVR Collectibles\",\"xref\":\"x\",\"y\":\"Steam Trading Cards\",\"yref\":\"y\"},{\"font\":{\"color\":\"#FFFFFF\",\"size\":8},\"showarrow\":false,\"text\":\"0.03\",\"x\":\"Online Co-op\",\"xref\":\"x\",\"y\":\"Steam Trading Cards\",\"yref\":\"y\"},{\"font\":{\"color\":\"#FFFFFF\",\"size\":8},\"showarrow\":false,\"text\":\"0.07\",\"x\":\"Shared/Split Screen\",\"xref\":\"x\",\"y\":\"Steam Trading Cards\",\"yref\":\"y\"},{\"font\":{\"color\":\"#FFFFFF\",\"size\":8},\"showarrow\":false,\"text\":\"0.03\",\"x\":\"Local Co-op\",\"xref\":\"x\",\"y\":\"Steam Trading Cards\",\"yref\":\"y\"},{\"font\":{\"color\":\"#FFFFFF\",\"size\":8},\"showarrow\":false,\"text\":\"0.02\",\"x\":\"MMO\",\"xref\":\"x\",\"y\":\"Steam Trading Cards\",\"yref\":\"y\"},{\"font\":{\"color\":\"#FFFFFF\",\"size\":8},\"showarrow\":false,\"text\":\"0.01\",\"x\":\"VR Support\",\"xref\":\"x\",\"y\":\"Steam Trading Cards\",\"yref\":\"y\"},{\"font\":{\"color\":\"#FFFFFF\",\"size\":8},\"showarrow\":false,\"text\":\"-0.01\",\"x\":\"Mods\",\"xref\":\"x\",\"y\":\"Steam Trading Cards\",\"yref\":\"y\"},{\"font\":{\"color\":\"#FFFFFF\",\"size\":8},\"showarrow\":false,\"text\":\"-0.0\",\"x\":\"Mods (require HL2)\",\"xref\":\"x\",\"y\":\"Steam Trading Cards\",\"yref\":\"y\"},{\"font\":{\"color\":\"#FFFFFF\",\"size\":8},\"showarrow\":false,\"text\":\"0.03\",\"x\":\"Steam Turn Notifications\",\"xref\":\"x\",\"y\":\"Steam Trading Cards\",\"yref\":\"y\"},{\"font\":{\"color\":\"#FFFFFF\",\"size\":8},\"showarrow\":false,\"text\":\"-0.02\",\"x\":\"Multi-player\",\"xref\":\"x\",\"y\":\"Captions available\",\"yref\":\"y\"},{\"font\":{\"color\":\"#FFFFFF\",\"size\":8},\"showarrow\":false,\"text\":\"-0.02\",\"x\":\"Online Multi-Player\",\"xref\":\"x\",\"y\":\"Captions available\",\"yref\":\"y\"},{\"font\":{\"color\":\"#FFFFFF\",\"size\":8},\"showarrow\":false,\"text\":\"-0.02\",\"x\":\"Local Multi-Player\",\"xref\":\"x\",\"y\":\"Captions available\",\"yref\":\"y\"},{\"font\":{\"color\":\"#FFFFFF\",\"size\":8},\"showarrow\":false,\"text\":\"0.02\",\"x\":\"Valve Anti-Cheat enabled\",\"xref\":\"x\",\"y\":\"Captions available\",\"yref\":\"y\"},{\"font\":{\"color\":\"#FFFFFF\",\"size\":8},\"showarrow\":false,\"text\":\"0.02\",\"x\":\"Single-player\",\"xref\":\"x\",\"y\":\"Captions available\",\"yref\":\"y\"},{\"font\":{\"color\":\"#FFFFFF\",\"size\":8},\"showarrow\":false,\"text\":\"0.11\",\"x\":\"Steam Cloud\",\"xref\":\"x\",\"y\":\"Captions available\",\"yref\":\"y\"},{\"font\":{\"color\":\"#FFFFFF\",\"size\":8},\"showarrow\":false,\"text\":\"0.09\",\"x\":\"Steam Achievements\",\"xref\":\"x\",\"y\":\"Captions available\",\"yref\":\"y\"},{\"font\":{\"color\":\"#FFFFFF\",\"size\":8},\"showarrow\":false,\"text\":\"0.06\",\"x\":\"Steam Trading Cards\",\"xref\":\"x\",\"y\":\"Captions available\",\"yref\":\"y\"},{\"font\":{\"color\":\"#FFFFFF\",\"size\":8},\"showarrow\":false,\"text\":\"1.0\",\"x\":\"Captions available\",\"xref\":\"x\",\"y\":\"Captions available\",\"yref\":\"y\"},{\"font\":{\"color\":\"#FFFFFF\",\"size\":8},\"showarrow\":false,\"text\":\"0.0\",\"x\":\"Partial Controller Support\",\"xref\":\"x\",\"y\":\"Captions available\",\"yref\":\"y\"},{\"font\":{\"color\":\"#FFFFFF\",\"size\":8},\"showarrow\":false,\"text\":\"0.06\",\"x\":\"Includes Source SDK\",\"xref\":\"x\",\"y\":\"Captions available\",\"yref\":\"y\"},{\"font\":{\"color\":\"#FFFFFF\",\"size\":8},\"showarrow\":false,\"text\":\"-0.01\",\"x\":\"Cross-Platform Multiplayer\",\"xref\":\"x\",\"y\":\"Captions available\",\"yref\":\"y\"},{\"font\":{\"color\":\"#FFFFFF\",\"size\":8},\"showarrow\":false,\"text\":\"0.04\",\"x\":\"Stats\",\"xref\":\"x\",\"y\":\"Captions available\",\"yref\":\"y\"},{\"font\":{\"color\":\"#FFFFFF\",\"size\":8},\"showarrow\":false,\"text\":\"0.1\",\"x\":\"Commentary available\",\"xref\":\"x\",\"y\":\"Captions available\",\"yref\":\"y\"},{\"font\":{\"color\":\"#FFFFFF\",\"size\":8},\"showarrow\":false,\"text\":\"0.04\",\"x\":\"Includes level editor\",\"xref\":\"x\",\"y\":\"Captions available\",\"yref\":\"y\"},{\"font\":{\"color\":\"#FFFFFF\",\"size\":8},\"showarrow\":false,\"text\":\"0.02\",\"x\":\"Steam Workshop\",\"xref\":\"x\",\"y\":\"Captions available\",\"yref\":\"y\"},{\"font\":{\"color\":\"#FFFFFF\",\"size\":8},\"showarrow\":false,\"text\":\"-0.01\",\"x\":\"In-App Purchases\",\"xref\":\"x\",\"y\":\"Captions available\",\"yref\":\"y\"},{\"font\":{\"color\":\"#FFFFFF\",\"size\":8},\"showarrow\":false,\"text\":\"-0.0\",\"x\":\"Co-op\",\"xref\":\"x\",\"y\":\"Captions available\",\"yref\":\"y\"},{\"font\":{\"color\":\"#FFFFFF\",\"size\":8},\"showarrow\":false,\"text\":\"0.04\",\"x\":\"Full controller support\",\"xref\":\"x\",\"y\":\"Captions available\",\"yref\":\"y\"},{\"font\":{\"color\":\"#FFFFFF\",\"size\":8},\"showarrow\":false,\"text\":\"-0.0\",\"x\":\"Steam Leaderboards\",\"xref\":\"x\",\"y\":\"Captions available\",\"yref\":\"y\"},{\"font\":{\"color\":\"#FFFFFF\",\"size\":8},\"showarrow\":false,\"text\":\"-0.0\",\"x\":\"SteamVR Collectibles\",\"xref\":\"x\",\"y\":\"Captions available\",\"yref\":\"y\"},{\"font\":{\"color\":\"#FFFFFF\",\"size\":8},\"showarrow\":false,\"text\":\"-0.01\",\"x\":\"Online Co-op\",\"xref\":\"x\",\"y\":\"Captions available\",\"yref\":\"y\"},{\"font\":{\"color\":\"#FFFFFF\",\"size\":8},\"showarrow\":false,\"text\":\"-0.02\",\"x\":\"Shared/Split Screen\",\"xref\":\"x\",\"y\":\"Captions available\",\"yref\":\"y\"},{\"font\":{\"color\":\"#FFFFFF\",\"size\":8},\"showarrow\":false,\"text\":\"-0.01\",\"x\":\"Local Co-op\",\"xref\":\"x\",\"y\":\"Captions available\",\"yref\":\"y\"},{\"font\":{\"color\":\"#FFFFFF\",\"size\":8},\"showarrow\":false,\"text\":\"-0.02\",\"x\":\"MMO\",\"xref\":\"x\",\"y\":\"Captions available\",\"yref\":\"y\"},{\"font\":{\"color\":\"#FFFFFF\",\"size\":8},\"showarrow\":false,\"text\":\"0.01\",\"x\":\"VR Support\",\"xref\":\"x\",\"y\":\"Captions available\",\"yref\":\"y\"},{\"font\":{\"color\":\"#FFFFFF\",\"size\":8},\"showarrow\":false,\"text\":\"-0.0\",\"x\":\"Mods\",\"xref\":\"x\",\"y\":\"Captions available\",\"yref\":\"y\"},{\"font\":{\"color\":\"#FFFFFF\",\"size\":8},\"showarrow\":false,\"text\":\"-0.0\",\"x\":\"Mods (require HL2)\",\"xref\":\"x\",\"y\":\"Captions available\",\"yref\":\"y\"},{\"font\":{\"color\":\"#FFFFFF\",\"size\":8},\"showarrow\":false,\"text\":\"0.0\",\"x\":\"Steam Turn Notifications\",\"xref\":\"x\",\"y\":\"Captions available\",\"yref\":\"y\"},{\"font\":{\"color\":\"#FFFFFF\",\"size\":8},\"showarrow\":false,\"text\":\"0.05\",\"x\":\"Multi-player\",\"xref\":\"x\",\"y\":\"Partial Controller Support\",\"yref\":\"y\"},{\"font\":{\"color\":\"#FFFFFF\",\"size\":8},\"showarrow\":false,\"text\":\"0.02\",\"x\":\"Online Multi-Player\",\"xref\":\"x\",\"y\":\"Partial Controller Support\",\"yref\":\"y\"},{\"font\":{\"color\":\"#FFFFFF\",\"size\":8},\"showarrow\":false,\"text\":\"0.06\",\"x\":\"Local Multi-Player\",\"xref\":\"x\",\"y\":\"Partial Controller Support\",\"yref\":\"y\"},{\"font\":{\"color\":\"#FFFFFF\",\"size\":8},\"showarrow\":false,\"text\":\"0.02\",\"x\":\"Valve Anti-Cheat enabled\",\"xref\":\"x\",\"y\":\"Partial Controller Support\",\"yref\":\"y\"},{\"font\":{\"color\":\"#FFFFFF\",\"size\":8},\"showarrow\":false,\"text\":\"-0.02\",\"x\":\"Single-player\",\"xref\":\"x\",\"y\":\"Partial Controller Support\",\"yref\":\"y\"},{\"font\":{\"color\":\"#FFFFFF\",\"size\":8},\"showarrow\":false,\"text\":\"0.02\",\"x\":\"Steam Cloud\",\"xref\":\"x\",\"y\":\"Partial Controller Support\",\"yref\":\"y\"},{\"font\":{\"color\":\"#FFFFFF\",\"size\":8},\"showarrow\":false,\"text\":\"0.05\",\"x\":\"Steam Achievements\",\"xref\":\"x\",\"y\":\"Partial Controller Support\",\"yref\":\"y\"},{\"font\":{\"color\":\"#FFFFFF\",\"size\":8},\"showarrow\":false,\"text\":\"0.04\",\"x\":\"Steam Trading Cards\",\"xref\":\"x\",\"y\":\"Partial Controller Support\",\"yref\":\"y\"},{\"font\":{\"color\":\"#FFFFFF\",\"size\":8},\"showarrow\":false,\"text\":\"0.0\",\"x\":\"Captions available\",\"xref\":\"x\",\"y\":\"Partial Controller Support\",\"yref\":\"y\"},{\"font\":{\"color\":\"#FFFFFF\",\"size\":8},\"showarrow\":false,\"text\":\"1.0\",\"x\":\"Partial Controller Support\",\"xref\":\"x\",\"y\":\"Partial Controller Support\",\"yref\":\"y\"},{\"font\":{\"color\":\"#FFFFFF\",\"size\":8},\"showarrow\":false,\"text\":\"0.02\",\"x\":\"Includes Source SDK\",\"xref\":\"x\",\"y\":\"Partial Controller Support\",\"yref\":\"y\"},{\"font\":{\"color\":\"#FFFFFF\",\"size\":8},\"showarrow\":false,\"text\":\"0.01\",\"x\":\"Cross-Platform Multiplayer\",\"xref\":\"x\",\"y\":\"Partial Controller Support\",\"yref\":\"y\"},{\"font\":{\"color\":\"#FFFFFF\",\"size\":8},\"showarrow\":false,\"text\":\"0.03\",\"x\":\"Stats\",\"xref\":\"x\",\"y\":\"Partial Controller Support\",\"yref\":\"y\"},{\"font\":{\"color\":\"#FFFFFF\",\"size\":8},\"showarrow\":false,\"text\":\"-0.0\",\"x\":\"Commentary available\",\"xref\":\"x\",\"y\":\"Partial Controller Support\",\"yref\":\"y\"},{\"font\":{\"color\":\"#FFFFFF\",\"size\":8},\"showarrow\":false,\"text\":\"0.04\",\"x\":\"Includes level editor\",\"xref\":\"x\",\"y\":\"Partial Controller Support\",\"yref\":\"y\"},{\"font\":{\"color\":\"#FFFFFF\",\"size\":8},\"showarrow\":false,\"text\":\"0.03\",\"x\":\"Steam Workshop\",\"xref\":\"x\",\"y\":\"Partial Controller Support\",\"yref\":\"y\"},{\"font\":{\"color\":\"#FFFFFF\",\"size\":8},\"showarrow\":false,\"text\":\"-0.01\",\"x\":\"In-App Purchases\",\"xref\":\"x\",\"y\":\"Partial Controller Support\",\"yref\":\"y\"},{\"font\":{\"color\":\"#FFFFFF\",\"size\":8},\"showarrow\":false,\"text\":\"0.07\",\"x\":\"Co-op\",\"xref\":\"x\",\"y\":\"Partial Controller Support\",\"yref\":\"y\"},{\"font\":{\"color\":\"#FFFFFF\",\"size\":8},\"showarrow\":false,\"text\":\"-0.22\",\"x\":\"Full controller support\",\"xref\":\"x\",\"y\":\"Partial Controller Support\",\"yref\":\"y\"},{\"font\":{\"color\":\"#FFFFFF\",\"size\":8},\"showarrow\":false,\"text\":\"0.04\",\"x\":\"Steam Leaderboards\",\"xref\":\"x\",\"y\":\"Partial Controller Support\",\"yref\":\"y\"},{\"font\":{\"color\":\"#FFFFFF\",\"size\":8},\"showarrow\":false,\"text\":\"-0.02\",\"x\":\"SteamVR Collectibles\",\"xref\":\"x\",\"y\":\"Partial Controller Support\",\"yref\":\"y\"},{\"font\":{\"color\":\"#FFFFFF\",\"size\":8},\"showarrow\":false,\"text\":\"0.03\",\"x\":\"Online Co-op\",\"xref\":\"x\",\"y\":\"Partial Controller Support\",\"yref\":\"y\"},{\"font\":{\"color\":\"#FFFFFF\",\"size\":8},\"showarrow\":false,\"text\":\"0.07\",\"x\":\"Shared/Split Screen\",\"xref\":\"x\",\"y\":\"Partial Controller Support\",\"yref\":\"y\"},{\"font\":{\"color\":\"#FFFFFF\",\"size\":8},\"showarrow\":false,\"text\":\"0.04\",\"x\":\"Local Co-op\",\"xref\":\"x\",\"y\":\"Partial Controller Support\",\"yref\":\"y\"},{\"font\":{\"color\":\"#FFFFFF\",\"size\":8},\"showarrow\":false,\"text\":\"-0.0\",\"x\":\"MMO\",\"xref\":\"x\",\"y\":\"Partial Controller Support\",\"yref\":\"y\"},{\"font\":{\"color\":\"#FFFFFF\",\"size\":8},\"showarrow\":false,\"text\":\"0.02\",\"x\":\"VR Support\",\"xref\":\"x\",\"y\":\"Partial Controller Support\",\"yref\":\"y\"},{\"font\":{\"color\":\"#FFFFFF\",\"size\":8},\"showarrow\":false,\"text\":\"-0.0\",\"x\":\"Mods\",\"xref\":\"x\",\"y\":\"Partial Controller Support\",\"yref\":\"y\"},{\"font\":{\"color\":\"#FFFFFF\",\"size\":8},\"showarrow\":false,\"text\":\"-0.0\",\"x\":\"Mods (require HL2)\",\"xref\":\"x\",\"y\":\"Partial Controller Support\",\"yref\":\"y\"},{\"font\":{\"color\":\"#FFFFFF\",\"size\":8},\"showarrow\":false,\"text\":\"-0.02\",\"x\":\"Steam Turn Notifications\",\"xref\":\"x\",\"y\":\"Partial Controller Support\",\"yref\":\"y\"},{\"font\":{\"color\":\"#FFFFFF\",\"size\":8},\"showarrow\":false,\"text\":\"0.05\",\"x\":\"Multi-player\",\"xref\":\"x\",\"y\":\"Includes Source SDK\",\"yref\":\"y\"},{\"font\":{\"color\":\"#FFFFFF\",\"size\":8},\"showarrow\":false,\"text\":\"0.03\",\"x\":\"Online Multi-Player\",\"xref\":\"x\",\"y\":\"Includes Source SDK\",\"yref\":\"y\"},{\"font\":{\"color\":\"#FFFFFF\",\"size\":8},\"showarrow\":false,\"text\":\"0.02\",\"x\":\"Local Multi-Player\",\"xref\":\"x\",\"y\":\"Includes Source SDK\",\"yref\":\"y\"},{\"font\":{\"color\":\"#FFFFFF\",\"size\":8},\"showarrow\":false,\"text\":\"0.16\",\"x\":\"Valve Anti-Cheat enabled\",\"xref\":\"x\",\"y\":\"Includes Source SDK\",\"yref\":\"y\"},{\"font\":{\"color\":\"#FFFFFF\",\"size\":8},\"showarrow\":false,\"text\":\"-0.06\",\"x\":\"Single-player\",\"xref\":\"x\",\"y\":\"Includes Source SDK\",\"yref\":\"y\"},{\"font\":{\"color\":\"#FFFFFF\",\"size\":8},\"showarrow\":false,\"text\":\"0.02\",\"x\":\"Steam Cloud\",\"xref\":\"x\",\"y\":\"Includes Source SDK\",\"yref\":\"y\"},{\"font\":{\"color\":\"#FFFFFF\",\"size\":8},\"showarrow\":false,\"text\":\"0.01\",\"x\":\"Steam Achievements\",\"xref\":\"x\",\"y\":\"Includes Source SDK\",\"yref\":\"y\"},{\"font\":{\"color\":\"#FFFFFF\",\"size\":8},\"showarrow\":false,\"text\":\"-0.01\",\"x\":\"Steam Trading Cards\",\"xref\":\"x\",\"y\":\"Includes Source SDK\",\"yref\":\"y\"},{\"font\":{\"color\":\"#FFFFFF\",\"size\":8},\"showarrow\":false,\"text\":\"0.06\",\"x\":\"Captions available\",\"xref\":\"x\",\"y\":\"Includes Source SDK\",\"yref\":\"y\"},{\"font\":{\"color\":\"#FFFFFF\",\"size\":8},\"showarrow\":false,\"text\":\"0.02\",\"x\":\"Partial Controller Support\",\"xref\":\"x\",\"y\":\"Includes Source SDK\",\"yref\":\"y\"},{\"font\":{\"color\":\"#FFFFFF\",\"size\":8},\"showarrow\":false,\"text\":\"1.0\",\"x\":\"Includes Source SDK\",\"xref\":\"x\",\"y\":\"Includes Source SDK\",\"yref\":\"y\"},{\"font\":{\"color\":\"#FFFFFF\",\"size\":8},\"showarrow\":false,\"text\":\"0.06\",\"x\":\"Cross-Platform Multiplayer\",\"xref\":\"x\",\"y\":\"Includes Source SDK\",\"yref\":\"y\"},{\"font\":{\"color\":\"#FFFFFF\",\"size\":8},\"showarrow\":false,\"text\":\"0.05\",\"x\":\"Stats\",\"xref\":\"x\",\"y\":\"Includes Source SDK\",\"yref\":\"y\"},{\"font\":{\"color\":\"#FFFFFF\",\"size\":8},\"showarrow\":false,\"text\":\"0.1\",\"x\":\"Commentary available\",\"xref\":\"x\",\"y\":\"Includes Source SDK\",\"yref\":\"y\"},{\"font\":{\"color\":\"#FFFFFF\",\"size\":8},\"showarrow\":false,\"text\":\"0.08\",\"x\":\"Includes level editor\",\"xref\":\"x\",\"y\":\"Includes Source SDK\",\"yref\":\"y\"},{\"font\":{\"color\":\"#FFFFFF\",\"size\":8},\"showarrow\":false,\"text\":\"0.06\",\"x\":\"Steam Workshop\",\"xref\":\"x\",\"y\":\"Includes Source SDK\",\"yref\":\"y\"},{\"font\":{\"color\":\"#FFFFFF\",\"size\":8},\"showarrow\":false,\"text\":\"0.01\",\"x\":\"In-App Purchases\",\"xref\":\"x\",\"y\":\"Includes Source SDK\",\"yref\":\"y\"},{\"font\":{\"color\":\"#FFFFFF\",\"size\":8},\"showarrow\":false,\"text\":\"0.03\",\"x\":\"Co-op\",\"xref\":\"x\",\"y\":\"Includes Source SDK\",\"yref\":\"y\"},{\"font\":{\"color\":\"#FFFFFF\",\"size\":8},\"showarrow\":false,\"text\":\"-0.01\",\"x\":\"Full controller support\",\"xref\":\"x\",\"y\":\"Includes Source SDK\",\"yref\":\"y\"},{\"font\":{\"color\":\"#FFFFFF\",\"size\":8},\"showarrow\":false,\"text\":\"0.0\",\"x\":\"Steam Leaderboards\",\"xref\":\"x\",\"y\":\"Includes Source SDK\",\"yref\":\"y\"},{\"font\":{\"color\":\"#FFFFFF\",\"size\":8},\"showarrow\":false,\"text\":\"-0.0\",\"x\":\"SteamVR Collectibles\",\"xref\":\"x\",\"y\":\"Includes Source SDK\",\"yref\":\"y\"},{\"font\":{\"color\":\"#FFFFFF\",\"size\":8},\"showarrow\":false,\"text\":\"0.02\",\"x\":\"Online Co-op\",\"xref\":\"x\",\"y\":\"Includes Source SDK\",\"yref\":\"y\"},{\"font\":{\"color\":\"#FFFFFF\",\"size\":8},\"showarrow\":false,\"text\":\"0.0\",\"x\":\"Shared/Split Screen\",\"xref\":\"x\",\"y\":\"Includes Source SDK\",\"yref\":\"y\"},{\"font\":{\"color\":\"#FFFFFF\",\"size\":8},\"showarrow\":false,\"text\":\"0.0\",\"x\":\"Local Co-op\",\"xref\":\"x\",\"y\":\"Includes Source SDK\",\"yref\":\"y\"},{\"font\":{\"color\":\"#FFFFFF\",\"size\":8},\"showarrow\":false,\"text\":\"0.01\",\"x\":\"MMO\",\"xref\":\"x\",\"y\":\"Includes Source SDK\",\"yref\":\"y\"},{\"font\":{\"color\":\"#FFFFFF\",\"size\":8},\"showarrow\":false,\"text\":\"0.02\",\"x\":\"VR Support\",\"xref\":\"x\",\"y\":\"Includes Source SDK\",\"yref\":\"y\"},{\"font\":{\"color\":\"#FFFFFF\",\"size\":8},\"showarrow\":false,\"text\":\"0.24\",\"x\":\"Mods\",\"xref\":\"x\",\"y\":\"Includes Source SDK\",\"yref\":\"y\"},{\"font\":{\"color\":\"#FFFFFF\",\"size\":8},\"showarrow\":false,\"text\":\"0.17\",\"x\":\"Mods (require HL2)\",\"xref\":\"x\",\"y\":\"Includes Source SDK\",\"yref\":\"y\"},{\"font\":{\"color\":\"#FFFFFF\",\"size\":8},\"showarrow\":false,\"text\":\"0.02\",\"x\":\"Steam Turn Notifications\",\"xref\":\"x\",\"y\":\"Includes Source SDK\",\"yref\":\"y\"},{\"font\":{\"color\":\"#FFFFFF\",\"size\":8},\"showarrow\":false,\"text\":\"0.37\",\"x\":\"Multi-player\",\"xref\":\"x\",\"y\":\"Cross-Platform Multiplayer\",\"yref\":\"y\"},{\"font\":{\"color\":\"#FFFFFF\",\"size\":8},\"showarrow\":false,\"text\":\"0.37\",\"x\":\"Online Multi-Player\",\"xref\":\"x\",\"y\":\"Cross-Platform Multiplayer\",\"yref\":\"y\"},{\"font\":{\"color\":\"#FFFFFF\",\"size\":8},\"showarrow\":false,\"text\":\"0.1\",\"x\":\"Local Multi-Player\",\"xref\":\"x\",\"y\":\"Cross-Platform Multiplayer\",\"yref\":\"y\"},{\"font\":{\"color\":\"#FFFFFF\",\"size\":8},\"showarrow\":false,\"text\":\"0.04\",\"x\":\"Valve Anti-Cheat enabled\",\"xref\":\"x\",\"y\":\"Cross-Platform Multiplayer\",\"yref\":\"y\"},{\"font\":{\"color\":\"#FFFFFF\",\"size\":8},\"showarrow\":false,\"text\":\"-0.15\",\"x\":\"Single-player\",\"xref\":\"x\",\"y\":\"Cross-Platform Multiplayer\",\"yref\":\"y\"},{\"font\":{\"color\":\"#FFFFFF\",\"size\":8},\"showarrow\":false,\"text\":\"0.01\",\"x\":\"Steam Cloud\",\"xref\":\"x\",\"y\":\"Cross-Platform Multiplayer\",\"yref\":\"y\"},{\"font\":{\"color\":\"#FFFFFF\",\"size\":8},\"showarrow\":false,\"text\":\"0.04\",\"x\":\"Steam Achievements\",\"xref\":\"x\",\"y\":\"Cross-Platform Multiplayer\",\"yref\":\"y\"},{\"font\":{\"color\":\"#FFFFFF\",\"size\":8},\"showarrow\":false,\"text\":\"0.06\",\"x\":\"Steam Trading Cards\",\"xref\":\"x\",\"y\":\"Cross-Platform Multiplayer\",\"yref\":\"y\"},{\"font\":{\"color\":\"#FFFFFF\",\"size\":8},\"showarrow\":false,\"text\":\"-0.01\",\"x\":\"Captions available\",\"xref\":\"x\",\"y\":\"Cross-Platform Multiplayer\",\"yref\":\"y\"},{\"font\":{\"color\":\"#FFFFFF\",\"size\":8},\"showarrow\":false,\"text\":\"0.01\",\"x\":\"Partial Controller Support\",\"xref\":\"x\",\"y\":\"Cross-Platform Multiplayer\",\"yref\":\"y\"},{\"font\":{\"color\":\"#FFFFFF\",\"size\":8},\"showarrow\":false,\"text\":\"0.06\",\"x\":\"Includes Source SDK\",\"xref\":\"x\",\"y\":\"Cross-Platform Multiplayer\",\"yref\":\"y\"},{\"font\":{\"color\":\"#FFFFFF\",\"size\":8},\"showarrow\":false,\"text\":\"1.0\",\"x\":\"Cross-Platform Multiplayer\",\"xref\":\"x\",\"y\":\"Cross-Platform Multiplayer\",\"yref\":\"y\"},{\"font\":{\"color\":\"#FFFFFF\",\"size\":8},\"showarrow\":false,\"text\":\"0.09\",\"x\":\"Stats\",\"xref\":\"x\",\"y\":\"Cross-Platform Multiplayer\",\"yref\":\"y\"},{\"font\":{\"color\":\"#FFFFFF\",\"size\":8},\"showarrow\":false,\"text\":\"0.0\",\"x\":\"Commentary available\",\"xref\":\"x\",\"y\":\"Cross-Platform Multiplayer\",\"yref\":\"y\"},{\"font\":{\"color\":\"#FFFFFF\",\"size\":8},\"showarrow\":false,\"text\":\"0.09\",\"x\":\"Includes level editor\",\"xref\":\"x\",\"y\":\"Cross-Platform Multiplayer\",\"yref\":\"y\"},{\"font\":{\"color\":\"#FFFFFF\",\"size\":8},\"showarrow\":false,\"text\":\"0.08\",\"x\":\"Steam Workshop\",\"xref\":\"x\",\"y\":\"Cross-Platform Multiplayer\",\"yref\":\"y\"},{\"font\":{\"color\":\"#FFFFFF\",\"size\":8},\"showarrow\":false,\"text\":\"0.2\",\"x\":\"In-App Purchases\",\"xref\":\"x\",\"y\":\"Cross-Platform Multiplayer\",\"yref\":\"y\"},{\"font\":{\"color\":\"#FFFFFF\",\"size\":8},\"showarrow\":false,\"text\":\"0.23\",\"x\":\"Co-op\",\"xref\":\"x\",\"y\":\"Cross-Platform Multiplayer\",\"yref\":\"y\"},{\"font\":{\"color\":\"#FFFFFF\",\"size\":8},\"showarrow\":false,\"text\":\"0.0\",\"x\":\"Full controller support\",\"xref\":\"x\",\"y\":\"Cross-Platform Multiplayer\",\"yref\":\"y\"},{\"font\":{\"color\":\"#FFFFFF\",\"size\":8},\"showarrow\":false,\"text\":\"0.04\",\"x\":\"Steam Leaderboards\",\"xref\":\"x\",\"y\":\"Cross-Platform Multiplayer\",\"yref\":\"y\"},{\"font\":{\"color\":\"#FFFFFF\",\"size\":8},\"showarrow\":false,\"text\":\"0.02\",\"x\":\"SteamVR Collectibles\",\"xref\":\"x\",\"y\":\"Cross-Platform Multiplayer\",\"yref\":\"y\"},{\"font\":{\"color\":\"#FFFFFF\",\"size\":8},\"showarrow\":false,\"text\":\"0.24\",\"x\":\"Online Co-op\",\"xref\":\"x\",\"y\":\"Cross-Platform Multiplayer\",\"yref\":\"y\"},{\"font\":{\"color\":\"#FFFFFF\",\"size\":8},\"showarrow\":false,\"text\":\"0.09\",\"x\":\"Shared/Split Screen\",\"xref\":\"x\",\"y\":\"Cross-Platform Multiplayer\",\"yref\":\"y\"},{\"font\":{\"color\":\"#FFFFFF\",\"size\":8},\"showarrow\":false,\"text\":\"0.04\",\"x\":\"Local Co-op\",\"xref\":\"x\",\"y\":\"Cross-Platform Multiplayer\",\"yref\":\"y\"},{\"font\":{\"color\":\"#FFFFFF\",\"size\":8},\"showarrow\":false,\"text\":\"0.16\",\"x\":\"MMO\",\"xref\":\"x\",\"y\":\"Cross-Platform Multiplayer\",\"yref\":\"y\"},{\"font\":{\"color\":\"#FFFFFF\",\"size\":8},\"showarrow\":false,\"text\":\"0.03\",\"x\":\"VR Support\",\"xref\":\"x\",\"y\":\"Cross-Platform Multiplayer\",\"yref\":\"y\"},{\"font\":{\"color\":\"#FFFFFF\",\"size\":8},\"showarrow\":false,\"text\":\"0.02\",\"x\":\"Mods\",\"xref\":\"x\",\"y\":\"Cross-Platform Multiplayer\",\"yref\":\"y\"},{\"font\":{\"color\":\"#FFFFFF\",\"size\":8},\"showarrow\":false,\"text\":\"-0.0\",\"x\":\"Mods (require HL2)\",\"xref\":\"x\",\"y\":\"Cross-Platform Multiplayer\",\"yref\":\"y\"},{\"font\":{\"color\":\"#FFFFFF\",\"size\":8},\"showarrow\":false,\"text\":\"0.12\",\"x\":\"Steam Turn Notifications\",\"xref\":\"x\",\"y\":\"Cross-Platform Multiplayer\",\"yref\":\"y\"},{\"font\":{\"color\":\"#FFFFFF\",\"size\":8},\"showarrow\":false,\"text\":\"0.11\",\"x\":\"Multi-player\",\"xref\":\"x\",\"y\":\"Stats\",\"yref\":\"y\"},{\"font\":{\"color\":\"#FFFFFF\",\"size\":8},\"showarrow\":false,\"text\":\"0.09\",\"x\":\"Online Multi-Player\",\"xref\":\"x\",\"y\":\"Stats\",\"yref\":\"y\"},{\"font\":{\"color\":\"#FFFFFF\",\"size\":8},\"showarrow\":false,\"text\":\"0.06\",\"x\":\"Local Multi-Player\",\"xref\":\"x\",\"y\":\"Stats\",\"yref\":\"y\"},{\"font\":{\"color\":\"#FFFFFF\",\"size\":8},\"showarrow\":false,\"text\":\"0.06\",\"x\":\"Valve Anti-Cheat enabled\",\"xref\":\"x\",\"y\":\"Stats\",\"yref\":\"y\"},{\"font\":{\"color\":\"#FFFFFF\",\"size\":8},\"showarrow\":false,\"text\":\"-0.04\",\"x\":\"Single-player\",\"xref\":\"x\",\"y\":\"Stats\",\"yref\":\"y\"},{\"font\":{\"color\":\"#FFFFFF\",\"size\":8},\"showarrow\":false,\"text\":\"0.15\",\"x\":\"Steam Cloud\",\"xref\":\"x\",\"y\":\"Stats\",\"yref\":\"y\"},{\"font\":{\"color\":\"#FFFFFF\",\"size\":8},\"showarrow\":false,\"text\":\"0.21\",\"x\":\"Steam Achievements\",\"xref\":\"x\",\"y\":\"Stats\",\"yref\":\"y\"},{\"font\":{\"color\":\"#FFFFFF\",\"size\":8},\"showarrow\":false,\"text\":\"0.1\",\"x\":\"Steam Trading Cards\",\"xref\":\"x\",\"y\":\"Stats\",\"yref\":\"y\"},{\"font\":{\"color\":\"#FFFFFF\",\"size\":8},\"showarrow\":false,\"text\":\"0.04\",\"x\":\"Captions available\",\"xref\":\"x\",\"y\":\"Stats\",\"yref\":\"y\"},{\"font\":{\"color\":\"#FFFFFF\",\"size\":8},\"showarrow\":false,\"text\":\"0.03\",\"x\":\"Partial Controller Support\",\"xref\":\"x\",\"y\":\"Stats\",\"yref\":\"y\"},{\"font\":{\"color\":\"#FFFFFF\",\"size\":8},\"showarrow\":false,\"text\":\"0.05\",\"x\":\"Includes Source SDK\",\"xref\":\"x\",\"y\":\"Stats\",\"yref\":\"y\"},{\"font\":{\"color\":\"#FFFFFF\",\"size\":8},\"showarrow\":false,\"text\":\"0.09\",\"x\":\"Cross-Platform Multiplayer\",\"xref\":\"x\",\"y\":\"Stats\",\"yref\":\"y\"},{\"font\":{\"color\":\"#FFFFFF\",\"size\":8},\"showarrow\":false,\"text\":\"1.0\",\"x\":\"Stats\",\"xref\":\"x\",\"y\":\"Stats\",\"yref\":\"y\"},{\"font\":{\"color\":\"#FFFFFF\",\"size\":8},\"showarrow\":false,\"text\":\"0.04\",\"x\":\"Commentary available\",\"xref\":\"x\",\"y\":\"Stats\",\"yref\":\"y\"},{\"font\":{\"color\":\"#FFFFFF\",\"size\":8},\"showarrow\":false,\"text\":\"0.12\",\"x\":\"Includes level editor\",\"xref\":\"x\",\"y\":\"Stats\",\"yref\":\"y\"},{\"font\":{\"color\":\"#FFFFFF\",\"size\":8},\"showarrow\":false,\"text\":\"0.12\",\"x\":\"Steam Workshop\",\"xref\":\"x\",\"y\":\"Stats\",\"yref\":\"y\"},{\"font\":{\"color\":\"#FFFFFF\",\"size\":8},\"showarrow\":false,\"text\":\"0.02\",\"x\":\"In-App Purchases\",\"xref\":\"x\",\"y\":\"Stats\",\"yref\":\"y\"},{\"font\":{\"color\":\"#FFFFFF\",\"size\":8},\"showarrow\":false,\"text\":\"0.09\",\"x\":\"Co-op\",\"xref\":\"x\",\"y\":\"Stats\",\"yref\":\"y\"},{\"font\":{\"color\":\"#FFFFFF\",\"size\":8},\"showarrow\":false,\"text\":\"0.08\",\"x\":\"Full controller support\",\"xref\":\"x\",\"y\":\"Stats\",\"yref\":\"y\"},{\"font\":{\"color\":\"#FFFFFF\",\"size\":8},\"showarrow\":false,\"text\":\"0.32\",\"x\":\"Steam Leaderboards\",\"xref\":\"x\",\"y\":\"Stats\",\"yref\":\"y\"},{\"font\":{\"color\":\"#FFFFFF\",\"size\":8},\"showarrow\":false,\"text\":\"0.0\",\"x\":\"SteamVR Collectibles\",\"xref\":\"x\",\"y\":\"Stats\",\"yref\":\"y\"},{\"font\":{\"color\":\"#FFFFFF\",\"size\":8},\"showarrow\":false,\"text\":\"0.06\",\"x\":\"Online Co-op\",\"xref\":\"x\",\"y\":\"Stats\",\"yref\":\"y\"},{\"font\":{\"color\":\"#FFFFFF\",\"size\":8},\"showarrow\":false,\"text\":\"0.07\",\"x\":\"Shared/Split Screen\",\"xref\":\"x\",\"y\":\"Stats\",\"yref\":\"y\"},{\"font\":{\"color\":\"#FFFFFF\",\"size\":8},\"showarrow\":false,\"text\":\"0.05\",\"x\":\"Local Co-op\",\"xref\":\"x\",\"y\":\"Stats\",\"yref\":\"y\"},{\"font\":{\"color\":\"#FFFFFF\",\"size\":8},\"showarrow\":false,\"text\":\"-0.0\",\"x\":\"MMO\",\"xref\":\"x\",\"y\":\"Stats\",\"yref\":\"y\"},{\"font\":{\"color\":\"#FFFFFF\",\"size\":8},\"showarrow\":false,\"text\":\"0.01\",\"x\":\"VR Support\",\"xref\":\"x\",\"y\":\"Stats\",\"yref\":\"y\"},{\"font\":{\"color\":\"#FFFFFF\",\"size\":8},\"showarrow\":false,\"text\":\"0.01\",\"x\":\"Mods\",\"xref\":\"x\",\"y\":\"Stats\",\"yref\":\"y\"},{\"font\":{\"color\":\"#FFFFFF\",\"size\":8},\"showarrow\":false,\"text\":\"-0.0\",\"x\":\"Mods (require HL2)\",\"xref\":\"x\",\"y\":\"Stats\",\"yref\":\"y\"},{\"font\":{\"color\":\"#FFFFFF\",\"size\":8},\"showarrow\":false,\"text\":\"0.06\",\"x\":\"Steam Turn Notifications\",\"xref\":\"x\",\"y\":\"Stats\",\"yref\":\"y\"},{\"font\":{\"color\":\"#FFFFFF\",\"size\":8},\"showarrow\":false,\"text\":\"-0.01\",\"x\":\"Multi-player\",\"xref\":\"x\",\"y\":\"Commentary available\",\"yref\":\"y\"},{\"font\":{\"color\":\"#FFFFFF\",\"size\":8},\"showarrow\":false,\"text\":\"-0.01\",\"x\":\"Online Multi-Player\",\"xref\":\"x\",\"y\":\"Commentary available\",\"yref\":\"y\"},{\"font\":{\"color\":\"#FFFFFF\",\"size\":8},\"showarrow\":false,\"text\":\"-0.01\",\"x\":\"Local Multi-Player\",\"xref\":\"x\",\"y\":\"Commentary available\",\"yref\":\"y\"},{\"font\":{\"color\":\"#FFFFFF\",\"size\":8},\"showarrow\":false,\"text\":\"0.02\",\"x\":\"Valve Anti-Cheat enabled\",\"xref\":\"x\",\"y\":\"Commentary available\",\"yref\":\"y\"},{\"font\":{\"color\":\"#FFFFFF\",\"size\":8},\"showarrow\":false,\"text\":\"0.01\",\"x\":\"Single-player\",\"xref\":\"x\",\"y\":\"Commentary available\",\"yref\":\"y\"},{\"font\":{\"color\":\"#FFFFFF\",\"size\":8},\"showarrow\":false,\"text\":\"0.02\",\"x\":\"Steam Cloud\",\"xref\":\"x\",\"y\":\"Commentary available\",\"yref\":\"y\"},{\"font\":{\"color\":\"#FFFFFF\",\"size\":8},\"showarrow\":false,\"text\":\"0.02\",\"x\":\"Steam Achievements\",\"xref\":\"x\",\"y\":\"Commentary available\",\"yref\":\"y\"},{\"font\":{\"color\":\"#FFFFFF\",\"size\":8},\"showarrow\":false,\"text\":\"0.03\",\"x\":\"Steam Trading Cards\",\"xref\":\"x\",\"y\":\"Commentary available\",\"yref\":\"y\"},{\"font\":{\"color\":\"#FFFFFF\",\"size\":8},\"showarrow\":false,\"text\":\"0.1\",\"x\":\"Captions available\",\"xref\":\"x\",\"y\":\"Commentary available\",\"yref\":\"y\"},{\"font\":{\"color\":\"#FFFFFF\",\"size\":8},\"showarrow\":false,\"text\":\"-0.0\",\"x\":\"Partial Controller Support\",\"xref\":\"x\",\"y\":\"Commentary available\",\"yref\":\"y\"},{\"font\":{\"color\":\"#FFFFFF\",\"size\":8},\"showarrow\":false,\"text\":\"0.1\",\"x\":\"Includes Source SDK\",\"xref\":\"x\",\"y\":\"Commentary available\",\"yref\":\"y\"},{\"font\":{\"color\":\"#FFFFFF\",\"size\":8},\"showarrow\":false,\"text\":\"0.0\",\"x\":\"Cross-Platform Multiplayer\",\"xref\":\"x\",\"y\":\"Commentary available\",\"yref\":\"y\"},{\"font\":{\"color\":\"#FFFFFF\",\"size\":8},\"showarrow\":false,\"text\":\"0.04\",\"x\":\"Stats\",\"xref\":\"x\",\"y\":\"Commentary available\",\"yref\":\"y\"},{\"font\":{\"color\":\"#FFFFFF\",\"size\":8},\"showarrow\":false,\"text\":\"1.0\",\"x\":\"Commentary available\",\"xref\":\"x\",\"y\":\"Commentary available\",\"yref\":\"y\"},{\"font\":{\"color\":\"#FFFFFF\",\"size\":8},\"showarrow\":false,\"text\":\"0.03\",\"x\":\"Includes level editor\",\"xref\":\"x\",\"y\":\"Commentary available\",\"yref\":\"y\"},{\"font\":{\"color\":\"#FFFFFF\",\"size\":8},\"showarrow\":false,\"text\":\"0.02\",\"x\":\"Steam Workshop\",\"xref\":\"x\",\"y\":\"Commentary available\",\"yref\":\"y\"},{\"font\":{\"color\":\"#FFFFFF\",\"size\":8},\"showarrow\":false,\"text\":\"0.0\",\"x\":\"In-App Purchases\",\"xref\":\"x\",\"y\":\"Commentary available\",\"yref\":\"y\"},{\"font\":{\"color\":\"#FFFFFF\",\"size\":8},\"showarrow\":false,\"text\":\"-0.0\",\"x\":\"Co-op\",\"xref\":\"x\",\"y\":\"Commentary available\",\"yref\":\"y\"},{\"font\":{\"color\":\"#FFFFFF\",\"size\":8},\"showarrow\":false,\"text\":\"0.01\",\"x\":\"Full controller support\",\"xref\":\"x\",\"y\":\"Commentary available\",\"yref\":\"y\"},{\"font\":{\"color\":\"#FFFFFF\",\"size\":8},\"showarrow\":false,\"text\":\"0.01\",\"x\":\"Steam Leaderboards\",\"xref\":\"x\",\"y\":\"Commentary available\",\"yref\":\"y\"},{\"font\":{\"color\":\"#FFFFFF\",\"size\":8},\"showarrow\":false,\"text\":\"-0.0\",\"x\":\"SteamVR Collectibles\",\"xref\":\"x\",\"y\":\"Commentary available\",\"yref\":\"y\"},{\"font\":{\"color\":\"#FFFFFF\",\"size\":8},\"showarrow\":false,\"text\":\"-0.0\",\"x\":\"Online Co-op\",\"xref\":\"x\",\"y\":\"Commentary available\",\"yref\":\"y\"},{\"font\":{\"color\":\"#FFFFFF\",\"size\":8},\"showarrow\":false,\"text\":\"-0.01\",\"x\":\"Shared/Split Screen\",\"xref\":\"x\",\"y\":\"Commentary available\",\"yref\":\"y\"},{\"font\":{\"color\":\"#FFFFFF\",\"size\":8},\"showarrow\":false,\"text\":\"-0.01\",\"x\":\"Local Co-op\",\"xref\":\"x\",\"y\":\"Commentary available\",\"yref\":\"y\"},{\"font\":{\"color\":\"#FFFFFF\",\"size\":8},\"showarrow\":false,\"text\":\"0.01\",\"x\":\"MMO\",\"xref\":\"x\",\"y\":\"Commentary available\",\"yref\":\"y\"},{\"font\":{\"color\":\"#FFFFFF\",\"size\":8},\"showarrow\":false,\"text\":\"0.0\",\"x\":\"VR Support\",\"xref\":\"x\",\"y\":\"Commentary available\",\"yref\":\"y\"},{\"font\":{\"color\":\"#FFFFFF\",\"size\":8},\"showarrow\":false,\"text\":\"-0.0\",\"x\":\"Mods\",\"xref\":\"x\",\"y\":\"Commentary available\",\"yref\":\"y\"},{\"font\":{\"color\":\"#FFFFFF\",\"size\":8},\"showarrow\":false,\"text\":\"-0.0\",\"x\":\"Mods (require HL2)\",\"xref\":\"x\",\"y\":\"Commentary available\",\"yref\":\"y\"},{\"font\":{\"color\":\"#FFFFFF\",\"size\":8},\"showarrow\":false,\"text\":\"0.03\",\"x\":\"Steam Turn Notifications\",\"xref\":\"x\",\"y\":\"Commentary available\",\"yref\":\"y\"},{\"font\":{\"color\":\"#FFFFFF\",\"size\":8},\"showarrow\":false,\"text\":\"0.11\",\"x\":\"Multi-player\",\"xref\":\"x\",\"y\":\"Includes level editor\",\"yref\":\"y\"},{\"font\":{\"color\":\"#FFFFFF\",\"size\":8},\"showarrow\":false,\"text\":\"0.07\",\"x\":\"Online Multi-Player\",\"xref\":\"x\",\"y\":\"Includes level editor\",\"yref\":\"y\"},{\"font\":{\"color\":\"#FFFFFF\",\"size\":8},\"showarrow\":false,\"text\":\"0.04\",\"x\":\"Local Multi-Player\",\"xref\":\"x\",\"y\":\"Includes level editor\",\"yref\":\"y\"},{\"font\":{\"color\":\"#FFFFFF\",\"size\":8},\"showarrow\":false,\"text\":\"0.06\",\"x\":\"Valve Anti-Cheat enabled\",\"xref\":\"x\",\"y\":\"Includes level editor\",\"yref\":\"y\"},{\"font\":{\"color\":\"#FFFFFF\",\"size\":8},\"showarrow\":false,\"text\":\"-0.03\",\"x\":\"Single-player\",\"xref\":\"x\",\"y\":\"Includes level editor\",\"yref\":\"y\"},{\"font\":{\"color\":\"#FFFFFF\",\"size\":8},\"showarrow\":false,\"text\":\"0.09\",\"x\":\"Steam Cloud\",\"xref\":\"x\",\"y\":\"Includes level editor\",\"yref\":\"y\"},{\"font\":{\"color\":\"#FFFFFF\",\"size\":8},\"showarrow\":false,\"text\":\"0.06\",\"x\":\"Steam Achievements\",\"xref\":\"x\",\"y\":\"Includes level editor\",\"yref\":\"y\"},{\"font\":{\"color\":\"#FFFFFF\",\"size\":8},\"showarrow\":false,\"text\":\"0.06\",\"x\":\"Steam Trading Cards\",\"xref\":\"x\",\"y\":\"Includes level editor\",\"yref\":\"y\"},{\"font\":{\"color\":\"#FFFFFF\",\"size\":8},\"showarrow\":false,\"text\":\"0.04\",\"x\":\"Captions available\",\"xref\":\"x\",\"y\":\"Includes level editor\",\"yref\":\"y\"},{\"font\":{\"color\":\"#FFFFFF\",\"size\":8},\"showarrow\":false,\"text\":\"0.04\",\"x\":\"Partial Controller Support\",\"xref\":\"x\",\"y\":\"Includes level editor\",\"yref\":\"y\"},{\"font\":{\"color\":\"#FFFFFF\",\"size\":8},\"showarrow\":false,\"text\":\"0.08\",\"x\":\"Includes Source SDK\",\"xref\":\"x\",\"y\":\"Includes level editor\",\"yref\":\"y\"},{\"font\":{\"color\":\"#FFFFFF\",\"size\":8},\"showarrow\":false,\"text\":\"0.09\",\"x\":\"Cross-Platform Multiplayer\",\"xref\":\"x\",\"y\":\"Includes level editor\",\"yref\":\"y\"},{\"font\":{\"color\":\"#FFFFFF\",\"size\":8},\"showarrow\":false,\"text\":\"0.12\",\"x\":\"Stats\",\"xref\":\"x\",\"y\":\"Includes level editor\",\"yref\":\"y\"},{\"font\":{\"color\":\"#FFFFFF\",\"size\":8},\"showarrow\":false,\"text\":\"0.03\",\"x\":\"Commentary available\",\"xref\":\"x\",\"y\":\"Includes level editor\",\"yref\":\"y\"},{\"font\":{\"color\":\"#FFFFFF\",\"size\":8},\"showarrow\":false,\"text\":\"1.0\",\"x\":\"Includes level editor\",\"xref\":\"x\",\"y\":\"Includes level editor\",\"yref\":\"y\"},{\"font\":{\"color\":\"#FFFFFF\",\"size\":8},\"showarrow\":false,\"text\":\"0.48\",\"x\":\"Steam Workshop\",\"xref\":\"x\",\"y\":\"Includes level editor\",\"yref\":\"y\"},{\"font\":{\"color\":\"#FFFFFF\",\"size\":8},\"showarrow\":false,\"text\":\"0.0\",\"x\":\"In-App Purchases\",\"xref\":\"x\",\"y\":\"Includes level editor\",\"yref\":\"y\"},{\"font\":{\"color\":\"#FFFFFF\",\"size\":8},\"showarrow\":false,\"text\":\"0.1\",\"x\":\"Co-op\",\"xref\":\"x\",\"y\":\"Includes level editor\",\"yref\":\"y\"},{\"font\":{\"color\":\"#FFFFFF\",\"size\":8},\"showarrow\":false,\"text\":\"0.02\",\"x\":\"Full controller support\",\"xref\":\"x\",\"y\":\"Includes level editor\",\"yref\":\"y\"},{\"font\":{\"color\":\"#FFFFFF\",\"size\":8},\"showarrow\":false,\"text\":\"0.07\",\"x\":\"Steam Leaderboards\",\"xref\":\"x\",\"y\":\"Includes level editor\",\"yref\":\"y\"},{\"font\":{\"color\":\"#FFFFFF\",\"size\":8},\"showarrow\":false,\"text\":\"0.0\",\"x\":\"SteamVR Collectibles\",\"xref\":\"x\",\"y\":\"Includes level editor\",\"yref\":\"y\"},{\"font\":{\"color\":\"#FFFFFF\",\"size\":8},\"showarrow\":false,\"text\":\"0.07\",\"x\":\"Online Co-op\",\"xref\":\"x\",\"y\":\"Includes level editor\",\"yref\":\"y\"},{\"font\":{\"color\":\"#FFFFFF\",\"size\":8},\"showarrow\":false,\"text\":\"0.06\",\"x\":\"Shared/Split Screen\",\"xref\":\"x\",\"y\":\"Includes level editor\",\"yref\":\"y\"},{\"font\":{\"color\":\"#FFFFFF\",\"size\":8},\"showarrow\":false,\"text\":\"0.04\",\"x\":\"Local Co-op\",\"xref\":\"x\",\"y\":\"Includes level editor\",\"yref\":\"y\"},{\"font\":{\"color\":\"#FFFFFF\",\"size\":8},\"showarrow\":false,\"text\":\"-0.0\",\"x\":\"MMO\",\"xref\":\"x\",\"y\":\"Includes level editor\",\"yref\":\"y\"},{\"font\":{\"color\":\"#FFFFFF\",\"size\":8},\"showarrow\":false,\"text\":\"0.04\",\"x\":\"VR Support\",\"xref\":\"x\",\"y\":\"Includes level editor\",\"yref\":\"y\"},{\"font\":{\"color\":\"#FFFFFF\",\"size\":8},\"showarrow\":false,\"text\":\"0.04\",\"x\":\"Mods\",\"xref\":\"x\",\"y\":\"Includes level editor\",\"yref\":\"y\"},{\"font\":{\"color\":\"#FFFFFF\",\"size\":8},\"showarrow\":false,\"text\":\"0.03\",\"x\":\"Mods (require HL2)\",\"xref\":\"x\",\"y\":\"Includes level editor\",\"yref\":\"y\"},{\"font\":{\"color\":\"#FFFFFF\",\"size\":8},\"showarrow\":false,\"text\":\"0.03\",\"x\":\"Steam Turn Notifications\",\"xref\":\"x\",\"y\":\"Includes level editor\",\"yref\":\"y\"},{\"font\":{\"color\":\"#FFFFFF\",\"size\":8},\"showarrow\":false,\"text\":\"0.1\",\"x\":\"Multi-player\",\"xref\":\"x\",\"y\":\"Steam Workshop\",\"yref\":\"y\"},{\"font\":{\"color\":\"#FFFFFF\",\"size\":8},\"showarrow\":false,\"text\":\"0.08\",\"x\":\"Online Multi-Player\",\"xref\":\"x\",\"y\":\"Steam Workshop\",\"yref\":\"y\"},{\"font\":{\"color\":\"#FFFFFF\",\"size\":8},\"showarrow\":false,\"text\":\"0.03\",\"x\":\"Local Multi-Player\",\"xref\":\"x\",\"y\":\"Steam Workshop\",\"yref\":\"y\"},{\"font\":{\"color\":\"#FFFFFF\",\"size\":8},\"showarrow\":false,\"text\":\"0.1\",\"x\":\"Valve Anti-Cheat enabled\",\"xref\":\"x\",\"y\":\"Steam Workshop\",\"yref\":\"y\"},{\"font\":{\"color\":\"#FFFFFF\",\"size\":8},\"showarrow\":false,\"text\":\"-0.04\",\"x\":\"Single-player\",\"xref\":\"x\",\"y\":\"Steam Workshop\",\"yref\":\"y\"},{\"font\":{\"color\":\"#FFFFFF\",\"size\":8},\"showarrow\":false,\"text\":\"0.13\",\"x\":\"Steam Cloud\",\"xref\":\"x\",\"y\":\"Steam Workshop\",\"yref\":\"y\"},{\"font\":{\"color\":\"#FFFFFF\",\"size\":8},\"showarrow\":false,\"text\":\"0.09\",\"x\":\"Steam Achievements\",\"xref\":\"x\",\"y\":\"Steam Workshop\",\"yref\":\"y\"},{\"font\":{\"color\":\"#FFFFFF\",\"size\":8},\"showarrow\":false,\"text\":\"0.11\",\"x\":\"Steam Trading Cards\",\"xref\":\"x\",\"y\":\"Steam Workshop\",\"yref\":\"y\"},{\"font\":{\"color\":\"#FFFFFF\",\"size\":8},\"showarrow\":false,\"text\":\"0.02\",\"x\":\"Captions available\",\"xref\":\"x\",\"y\":\"Steam Workshop\",\"yref\":\"y\"},{\"font\":{\"color\":\"#FFFFFF\",\"size\":8},\"showarrow\":false,\"text\":\"0.03\",\"x\":\"Partial Controller Support\",\"xref\":\"x\",\"y\":\"Steam Workshop\",\"yref\":\"y\"},{\"font\":{\"color\":\"#FFFFFF\",\"size\":8},\"showarrow\":false,\"text\":\"0.06\",\"x\":\"Includes Source SDK\",\"xref\":\"x\",\"y\":\"Steam Workshop\",\"yref\":\"y\"},{\"font\":{\"color\":\"#FFFFFF\",\"size\":8},\"showarrow\":false,\"text\":\"0.08\",\"x\":\"Cross-Platform Multiplayer\",\"xref\":\"x\",\"y\":\"Steam Workshop\",\"yref\":\"y\"},{\"font\":{\"color\":\"#FFFFFF\",\"size\":8},\"showarrow\":false,\"text\":\"0.12\",\"x\":\"Stats\",\"xref\":\"x\",\"y\":\"Steam Workshop\",\"yref\":\"y\"},{\"font\":{\"color\":\"#FFFFFF\",\"size\":8},\"showarrow\":false,\"text\":\"0.02\",\"x\":\"Commentary available\",\"xref\":\"x\",\"y\":\"Steam Workshop\",\"yref\":\"y\"},{\"font\":{\"color\":\"#FFFFFF\",\"size\":8},\"showarrow\":false,\"text\":\"0.48\",\"x\":\"Includes level editor\",\"xref\":\"x\",\"y\":\"Steam Workshop\",\"yref\":\"y\"},{\"font\":{\"color\":\"#FFFFFF\",\"size\":8},\"showarrow\":false,\"text\":\"1.0\",\"x\":\"Steam Workshop\",\"xref\":\"x\",\"y\":\"Steam Workshop\",\"yref\":\"y\"},{\"font\":{\"color\":\"#FFFFFF\",\"size\":8},\"showarrow\":false,\"text\":\"0.01\",\"x\":\"In-App Purchases\",\"xref\":\"x\",\"y\":\"Steam Workshop\",\"yref\":\"y\"},{\"font\":{\"color\":\"#FFFFFF\",\"size\":8},\"showarrow\":false,\"text\":\"0.09\",\"x\":\"Co-op\",\"xref\":\"x\",\"y\":\"Steam Workshop\",\"yref\":\"y\"},{\"font\":{\"color\":\"#FFFFFF\",\"size\":8},\"showarrow\":false,\"text\":\"0.03\",\"x\":\"Full controller support\",\"xref\":\"x\",\"y\":\"Steam Workshop\",\"yref\":\"y\"},{\"font\":{\"color\":\"#FFFFFF\",\"size\":8},\"showarrow\":false,\"text\":\"0.09\",\"x\":\"Steam Leaderboards\",\"xref\":\"x\",\"y\":\"Steam Workshop\",\"yref\":\"y\"},{\"font\":{\"color\":\"#FFFFFF\",\"size\":8},\"showarrow\":false,\"text\":\"0.0\",\"x\":\"SteamVR Collectibles\",\"xref\":\"x\",\"y\":\"Steam Workshop\",\"yref\":\"y\"},{\"font\":{\"color\":\"#FFFFFF\",\"size\":8},\"showarrow\":false,\"text\":\"0.08\",\"x\":\"Online Co-op\",\"xref\":\"x\",\"y\":\"Steam Workshop\",\"yref\":\"y\"},{\"font\":{\"color\":\"#FFFFFF\",\"size\":8},\"showarrow\":false,\"text\":\"0.04\",\"x\":\"Shared/Split Screen\",\"xref\":\"x\",\"y\":\"Steam Workshop\",\"yref\":\"y\"},{\"font\":{\"color\":\"#FFFFFF\",\"size\":8},\"showarrow\":false,\"text\":\"0.03\",\"x\":\"Local Co-op\",\"xref\":\"x\",\"y\":\"Steam Workshop\",\"yref\":\"y\"},{\"font\":{\"color\":\"#FFFFFF\",\"size\":8},\"showarrow\":false,\"text\":\"-0.01\",\"x\":\"MMO\",\"xref\":\"x\",\"y\":\"Steam Workshop\",\"yref\":\"y\"},{\"font\":{\"color\":\"#FFFFFF\",\"size\":8},\"showarrow\":false,\"text\":\"0.04\",\"x\":\"VR Support\",\"xref\":\"x\",\"y\":\"Steam Workshop\",\"yref\":\"y\"},{\"font\":{\"color\":\"#FFFFFF\",\"size\":8},\"showarrow\":false,\"text\":\"0.05\",\"x\":\"Mods\",\"xref\":\"x\",\"y\":\"Steam Workshop\",\"yref\":\"y\"},{\"font\":{\"color\":\"#FFFFFF\",\"size\":8},\"showarrow\":false,\"text\":\"0.03\",\"x\":\"Mods (require HL2)\",\"xref\":\"x\",\"y\":\"Steam Workshop\",\"yref\":\"y\"},{\"font\":{\"color\":\"#FFFFFF\",\"size\":8},\"showarrow\":false,\"text\":\"0.02\",\"x\":\"Steam Turn Notifications\",\"xref\":\"x\",\"y\":\"Steam Workshop\",\"yref\":\"y\"},{\"font\":{\"color\":\"#FFFFFF\",\"size\":8},\"showarrow\":false,\"text\":\"0.14\",\"x\":\"Multi-player\",\"xref\":\"x\",\"y\":\"In-App Purchases\",\"yref\":\"y\"},{\"font\":{\"color\":\"#FFFFFF\",\"size\":8},\"showarrow\":false,\"text\":\"0.29\",\"x\":\"Online Multi-Player\",\"xref\":\"x\",\"y\":\"In-App Purchases\",\"yref\":\"y\"},{\"font\":{\"color\":\"#FFFFFF\",\"size\":8},\"showarrow\":false,\"text\":\"-0.01\",\"x\":\"Local Multi-Player\",\"xref\":\"x\",\"y\":\"In-App Purchases\",\"yref\":\"y\"},{\"font\":{\"color\":\"#FFFFFF\",\"size\":8},\"showarrow\":false,\"text\":\"0.04\",\"x\":\"Valve Anti-Cheat enabled\",\"xref\":\"x\",\"y\":\"In-App Purchases\",\"yref\":\"y\"},{\"font\":{\"color\":\"#FFFFFF\",\"size\":8},\"showarrow\":false,\"text\":\"-0.24\",\"x\":\"Single-player\",\"xref\":\"x\",\"y\":\"In-App Purchases\",\"yref\":\"y\"},{\"font\":{\"color\":\"#FFFFFF\",\"size\":8},\"showarrow\":false,\"text\":\"-0.04\",\"x\":\"Steam Cloud\",\"xref\":\"x\",\"y\":\"In-App Purchases\",\"yref\":\"y\"},{\"font\":{\"color\":\"#FFFFFF\",\"size\":8},\"showarrow\":false,\"text\":\"-0.02\",\"x\":\"Steam Achievements\",\"xref\":\"x\",\"y\":\"In-App Purchases\",\"yref\":\"y\"},{\"font\":{\"color\":\"#FFFFFF\",\"size\":8},\"showarrow\":false,\"text\":\"0.02\",\"x\":\"Steam Trading Cards\",\"xref\":\"x\",\"y\":\"In-App Purchases\",\"yref\":\"y\"},{\"font\":{\"color\":\"#FFFFFF\",\"size\":8},\"showarrow\":false,\"text\":\"-0.01\",\"x\":\"Captions available\",\"xref\":\"x\",\"y\":\"In-App Purchases\",\"yref\":\"y\"},{\"font\":{\"color\":\"#FFFFFF\",\"size\":8},\"showarrow\":false,\"text\":\"-0.01\",\"x\":\"Partial Controller Support\",\"xref\":\"x\",\"y\":\"In-App Purchases\",\"yref\":\"y\"},{\"font\":{\"color\":\"#FFFFFF\",\"size\":8},\"showarrow\":false,\"text\":\"0.01\",\"x\":\"Includes Source SDK\",\"xref\":\"x\",\"y\":\"In-App Purchases\",\"yref\":\"y\"},{\"font\":{\"color\":\"#FFFFFF\",\"size\":8},\"showarrow\":false,\"text\":\"0.2\",\"x\":\"Cross-Platform Multiplayer\",\"xref\":\"x\",\"y\":\"In-App Purchases\",\"yref\":\"y\"},{\"font\":{\"color\":\"#FFFFFF\",\"size\":8},\"showarrow\":false,\"text\":\"0.02\",\"x\":\"Stats\",\"xref\":\"x\",\"y\":\"In-App Purchases\",\"yref\":\"y\"},{\"font\":{\"color\":\"#FFFFFF\",\"size\":8},\"showarrow\":false,\"text\":\"0.0\",\"x\":\"Commentary available\",\"xref\":\"x\",\"y\":\"In-App Purchases\",\"yref\":\"y\"},{\"font\":{\"color\":\"#FFFFFF\",\"size\":8},\"showarrow\":false,\"text\":\"0.0\",\"x\":\"Includes level editor\",\"xref\":\"x\",\"y\":\"In-App Purchases\",\"yref\":\"y\"},{\"font\":{\"color\":\"#FFFFFF\",\"size\":8},\"showarrow\":false,\"text\":\"0.01\",\"x\":\"Steam Workshop\",\"xref\":\"x\",\"y\":\"In-App Purchases\",\"yref\":\"y\"},{\"font\":{\"color\":\"#FFFFFF\",\"size\":8},\"showarrow\":false,\"text\":\"1.0\",\"x\":\"In-App Purchases\",\"xref\":\"x\",\"y\":\"In-App Purchases\",\"yref\":\"y\"},{\"font\":{\"color\":\"#FFFFFF\",\"size\":8},\"showarrow\":false,\"text\":\"0.1\",\"x\":\"Co-op\",\"xref\":\"x\",\"y\":\"In-App Purchases\",\"yref\":\"y\"},{\"font\":{\"color\":\"#FFFFFF\",\"size\":8},\"showarrow\":false,\"text\":\"-0.05\",\"x\":\"Full controller support\",\"xref\":\"x\",\"y\":\"In-App Purchases\",\"yref\":\"y\"},{\"font\":{\"color\":\"#FFFFFF\",\"size\":8},\"showarrow\":false,\"text\":\"-0.02\",\"x\":\"Steam Leaderboards\",\"xref\":\"x\",\"y\":\"In-App Purchases\",\"yref\":\"y\"},{\"font\":{\"color\":\"#FFFFFF\",\"size\":8},\"showarrow\":false,\"text\":\"-0.0\",\"x\":\"SteamVR Collectibles\",\"xref\":\"x\",\"y\":\"In-App Purchases\",\"yref\":\"y\"},{\"font\":{\"color\":\"#FFFFFF\",\"size\":8},\"showarrow\":false,\"text\":\"0.15\",\"x\":\"Online Co-op\",\"xref\":\"x\",\"y\":\"In-App Purchases\",\"yref\":\"y\"},{\"font\":{\"color\":\"#FFFFFF\",\"size\":8},\"showarrow\":false,\"text\":\"-0.03\",\"x\":\"Shared/Split Screen\",\"xref\":\"x\",\"y\":\"In-App Purchases\",\"yref\":\"y\"},{\"font\":{\"color\":\"#FFFFFF\",\"size\":8},\"showarrow\":false,\"text\":\"-0.02\",\"x\":\"Local Co-op\",\"xref\":\"x\",\"y\":\"In-App Purchases\",\"yref\":\"y\"},{\"font\":{\"color\":\"#FFFFFF\",\"size\":8},\"showarrow\":false,\"text\":\"0.31\",\"x\":\"MMO\",\"xref\":\"x\",\"y\":\"In-App Purchases\",\"yref\":\"y\"},{\"font\":{\"color\":\"#FFFFFF\",\"size\":8},\"showarrow\":false,\"text\":\"-0.01\",\"x\":\"VR Support\",\"xref\":\"x\",\"y\":\"In-App Purchases\",\"yref\":\"y\"},{\"font\":{\"color\":\"#FFFFFF\",\"size\":8},\"showarrow\":false,\"text\":\"-0.0\",\"x\":\"Mods\",\"xref\":\"x\",\"y\":\"In-App Purchases\",\"yref\":\"y\"},{\"font\":{\"color\":\"#FFFFFF\",\"size\":8},\"showarrow\":false,\"text\":\"-0.0\",\"x\":\"Mods (require HL2)\",\"xref\":\"x\",\"y\":\"In-App Purchases\",\"yref\":\"y\"},{\"font\":{\"color\":\"#FFFFFF\",\"size\":8},\"showarrow\":false,\"text\":\"0.03\",\"x\":\"Steam Turn Notifications\",\"xref\":\"x\",\"y\":\"In-App Purchases\",\"yref\":\"y\"},{\"font\":{\"color\":\"#FFFFFF\",\"size\":8},\"showarrow\":false,\"text\":\"0.43\",\"x\":\"Multi-player\",\"xref\":\"x\",\"y\":\"Co-op\",\"yref\":\"y\"},{\"font\":{\"color\":\"#FFFFFF\",\"size\":8},\"showarrow\":false,\"text\":\"0.32\",\"x\":\"Online Multi-Player\",\"xref\":\"x\",\"y\":\"Co-op\",\"yref\":\"y\"},{\"font\":{\"color\":\"#FFFFFF\",\"size\":8},\"showarrow\":false,\"text\":\"0.32\",\"x\":\"Local Multi-Player\",\"xref\":\"x\",\"y\":\"Co-op\",\"yref\":\"y\"},{\"font\":{\"color\":\"#FFFFFF\",\"size\":8},\"showarrow\":false,\"text\":\"0.07\",\"x\":\"Valve Anti-Cheat enabled\",\"xref\":\"x\",\"y\":\"Co-op\",\"yref\":\"y\"},{\"font\":{\"color\":\"#FFFFFF\",\"size\":8},\"showarrow\":false,\"text\":\"-0.13\",\"x\":\"Single-player\",\"xref\":\"x\",\"y\":\"Co-op\",\"yref\":\"y\"},{\"font\":{\"color\":\"#FFFFFF\",\"size\":8},\"showarrow\":false,\"text\":\"0.07\",\"x\":\"Steam Cloud\",\"xref\":\"x\",\"y\":\"Co-op\",\"yref\":\"y\"},{\"font\":{\"color\":\"#FFFFFF\",\"size\":8},\"showarrow\":false,\"text\":\"0.07\",\"x\":\"Steam Achievements\",\"xref\":\"x\",\"y\":\"Co-op\",\"yref\":\"y\"},{\"font\":{\"color\":\"#FFFFFF\",\"size\":8},\"showarrow\":false,\"text\":\"0.07\",\"x\":\"Steam Trading Cards\",\"xref\":\"x\",\"y\":\"Co-op\",\"yref\":\"y\"},{\"font\":{\"color\":\"#FFFFFF\",\"size\":8},\"showarrow\":false,\"text\":\"-0.0\",\"x\":\"Captions available\",\"xref\":\"x\",\"y\":\"Co-op\",\"yref\":\"y\"},{\"font\":{\"color\":\"#FFFFFF\",\"size\":8},\"showarrow\":false,\"text\":\"0.07\",\"x\":\"Partial Controller Support\",\"xref\":\"x\",\"y\":\"Co-op\",\"yref\":\"y\"},{\"font\":{\"color\":\"#FFFFFF\",\"size\":8},\"showarrow\":false,\"text\":\"0.03\",\"x\":\"Includes Source SDK\",\"xref\":\"x\",\"y\":\"Co-op\",\"yref\":\"y\"},{\"font\":{\"color\":\"#FFFFFF\",\"size\":8},\"showarrow\":false,\"text\":\"0.23\",\"x\":\"Cross-Platform Multiplayer\",\"xref\":\"x\",\"y\":\"Co-op\",\"yref\":\"y\"},{\"font\":{\"color\":\"#FFFFFF\",\"size\":8},\"showarrow\":false,\"text\":\"0.09\",\"x\":\"Stats\",\"xref\":\"x\",\"y\":\"Co-op\",\"yref\":\"y\"},{\"font\":{\"color\":\"#FFFFFF\",\"size\":8},\"showarrow\":false,\"text\":\"-0.0\",\"x\":\"Commentary available\",\"xref\":\"x\",\"y\":\"Co-op\",\"yref\":\"y\"},{\"font\":{\"color\":\"#FFFFFF\",\"size\":8},\"showarrow\":false,\"text\":\"0.1\",\"x\":\"Includes level editor\",\"xref\":\"x\",\"y\":\"Co-op\",\"yref\":\"y\"},{\"font\":{\"color\":\"#FFFFFF\",\"size\":8},\"showarrow\":false,\"text\":\"0.09\",\"x\":\"Steam Workshop\",\"xref\":\"x\",\"y\":\"Co-op\",\"yref\":\"y\"},{\"font\":{\"color\":\"#FFFFFF\",\"size\":8},\"showarrow\":false,\"text\":\"0.1\",\"x\":\"In-App Purchases\",\"xref\":\"x\",\"y\":\"Co-op\",\"yref\":\"y\"},{\"font\":{\"color\":\"#FFFFFF\",\"size\":8},\"showarrow\":false,\"text\":\"1.0\",\"x\":\"Co-op\",\"xref\":\"x\",\"y\":\"Co-op\",\"yref\":\"y\"},{\"font\":{\"color\":\"#FFFFFF\",\"size\":8},\"showarrow\":false,\"text\":\"0.15\",\"x\":\"Full controller support\",\"xref\":\"x\",\"y\":\"Co-op\",\"yref\":\"y\"},{\"font\":{\"color\":\"#FFFFFF\",\"size\":8},\"showarrow\":false,\"text\":\"0.1\",\"x\":\"Steam Leaderboards\",\"xref\":\"x\",\"y\":\"Co-op\",\"yref\":\"y\"},{\"font\":{\"color\":\"#FFFFFF\",\"size\":8},\"showarrow\":false,\"text\":\"0.03\",\"x\":\"SteamVR Collectibles\",\"xref\":\"x\",\"y\":\"Co-op\",\"yref\":\"y\"},{\"font\":{\"color\":\"#FFFFFF\",\"size\":8},\"showarrow\":false,\"text\":\"0.62\",\"x\":\"Online Co-op\",\"xref\":\"x\",\"y\":\"Co-op\",\"yref\":\"y\"},{\"font\":{\"color\":\"#FFFFFF\",\"size\":8},\"showarrow\":false,\"text\":\"0.38\",\"x\":\"Shared/Split Screen\",\"xref\":\"x\",\"y\":\"Co-op\",\"yref\":\"y\"},{\"font\":{\"color\":\"#FFFFFF\",\"size\":8},\"showarrow\":false,\"text\":\"0.62\",\"x\":\"Local Co-op\",\"xref\":\"x\",\"y\":\"Co-op\",\"yref\":\"y\"},{\"font\":{\"color\":\"#FFFFFF\",\"size\":8},\"showarrow\":false,\"text\":\"0.15\",\"x\":\"MMO\",\"xref\":\"x\",\"y\":\"Co-op\",\"yref\":\"y\"},{\"font\":{\"color\":\"#FFFFFF\",\"size\":8},\"showarrow\":false,\"text\":\"0.01\",\"x\":\"VR Support\",\"xref\":\"x\",\"y\":\"Co-op\",\"yref\":\"y\"},{\"font\":{\"color\":\"#FFFFFF\",\"size\":8},\"showarrow\":false,\"text\":\"0.01\",\"x\":\"Mods\",\"xref\":\"x\",\"y\":\"Co-op\",\"yref\":\"y\"},{\"font\":{\"color\":\"#FFFFFF\",\"size\":8},\"showarrow\":false,\"text\":\"0.02\",\"x\":\"Mods (require HL2)\",\"xref\":\"x\",\"y\":\"Co-op\",\"yref\":\"y\"},{\"font\":{\"color\":\"#FFFFFF\",\"size\":8},\"showarrow\":false,\"text\":\"0.01\",\"x\":\"Steam Turn Notifications\",\"xref\":\"x\",\"y\":\"Co-op\",\"yref\":\"y\"},{\"font\":{\"color\":\"#FFFFFF\",\"size\":8},\"showarrow\":false,\"text\":\"0.06\",\"x\":\"Multi-player\",\"xref\":\"x\",\"y\":\"Full controller support\",\"yref\":\"y\"},{\"font\":{\"color\":\"#FFFFFF\",\"size\":8},\"showarrow\":false,\"text\":\"0.0\",\"x\":\"Online Multi-Player\",\"xref\":\"x\",\"y\":\"Full controller support\",\"yref\":\"y\"},{\"font\":{\"color\":\"#FFFFFF\",\"size\":8},\"showarrow\":false,\"text\":\"0.19\",\"x\":\"Local Multi-Player\",\"xref\":\"x\",\"y\":\"Full controller support\",\"yref\":\"y\"},{\"font\":{\"color\":\"#FFFFFF\",\"size\":8},\"showarrow\":false,\"text\":\"0.01\",\"x\":\"Valve Anti-Cheat enabled\",\"xref\":\"x\",\"y\":\"Full controller support\",\"yref\":\"y\"},{\"font\":{\"color\":\"#FFFFFF\",\"size\":8},\"showarrow\":false,\"text\":\"0.02\",\"x\":\"Single-player\",\"xref\":\"x\",\"y\":\"Full controller support\",\"yref\":\"y\"},{\"font\":{\"color\":\"#FFFFFF\",\"size\":8},\"showarrow\":false,\"text\":\"0.25\",\"x\":\"Steam Cloud\",\"xref\":\"x\",\"y\":\"Full controller support\",\"yref\":\"y\"},{\"font\":{\"color\":\"#FFFFFF\",\"size\":8},\"showarrow\":false,\"text\":\"0.26\",\"x\":\"Steam Achievements\",\"xref\":\"x\",\"y\":\"Full controller support\",\"yref\":\"y\"},{\"font\":{\"color\":\"#FFFFFF\",\"size\":8},\"showarrow\":false,\"text\":\"0.2\",\"x\":\"Steam Trading Cards\",\"xref\":\"x\",\"y\":\"Full controller support\",\"yref\":\"y\"},{\"font\":{\"color\":\"#FFFFFF\",\"size\":8},\"showarrow\":false,\"text\":\"0.04\",\"x\":\"Captions available\",\"xref\":\"x\",\"y\":\"Full controller support\",\"yref\":\"y\"},{\"font\":{\"color\":\"#FFFFFF\",\"size\":8},\"showarrow\":false,\"text\":\"-0.22\",\"x\":\"Partial Controller Support\",\"xref\":\"x\",\"y\":\"Full controller support\",\"yref\":\"y\"},{\"font\":{\"color\":\"#FFFFFF\",\"size\":8},\"showarrow\":false,\"text\":\"-0.01\",\"x\":\"Includes Source SDK\",\"xref\":\"x\",\"y\":\"Full controller support\",\"yref\":\"y\"},{\"font\":{\"color\":\"#FFFFFF\",\"size\":8},\"showarrow\":false,\"text\":\"0.0\",\"x\":\"Cross-Platform Multiplayer\",\"xref\":\"x\",\"y\":\"Full controller support\",\"yref\":\"y\"},{\"font\":{\"color\":\"#FFFFFF\",\"size\":8},\"showarrow\":false,\"text\":\"0.08\",\"x\":\"Stats\",\"xref\":\"x\",\"y\":\"Full controller support\",\"yref\":\"y\"},{\"font\":{\"color\":\"#FFFFFF\",\"size\":8},\"showarrow\":false,\"text\":\"0.01\",\"x\":\"Commentary available\",\"xref\":\"x\",\"y\":\"Full controller support\",\"yref\":\"y\"},{\"font\":{\"color\":\"#FFFFFF\",\"size\":8},\"showarrow\":false,\"text\":\"0.02\",\"x\":\"Includes level editor\",\"xref\":\"x\",\"y\":\"Full controller support\",\"yref\":\"y\"},{\"font\":{\"color\":\"#FFFFFF\",\"size\":8},\"showarrow\":false,\"text\":\"0.03\",\"x\":\"Steam Workshop\",\"xref\":\"x\",\"y\":\"Full controller support\",\"yref\":\"y\"},{\"font\":{\"color\":\"#FFFFFF\",\"size\":8},\"showarrow\":false,\"text\":\"-0.05\",\"x\":\"In-App Purchases\",\"xref\":\"x\",\"y\":\"Full controller support\",\"yref\":\"y\"},{\"font\":{\"color\":\"#FFFFFF\",\"size\":8},\"showarrow\":false,\"text\":\"0.15\",\"x\":\"Co-op\",\"xref\":\"x\",\"y\":\"Full controller support\",\"yref\":\"y\"},{\"font\":{\"color\":\"#FFFFFF\",\"size\":8},\"showarrow\":false,\"text\":\"1.0\",\"x\":\"Full controller support\",\"xref\":\"x\",\"y\":\"Full controller support\",\"yref\":\"y\"},{\"font\":{\"color\":\"#FFFFFF\",\"size\":8},\"showarrow\":false,\"text\":\"0.2\",\"x\":\"Steam Leaderboards\",\"xref\":\"x\",\"y\":\"Full controller support\",\"yref\":\"y\"},{\"font\":{\"color\":\"#FFFFFF\",\"size\":8},\"showarrow\":false,\"text\":\"-0.01\",\"x\":\"SteamVR Collectibles\",\"xref\":\"x\",\"y\":\"Full controller support\",\"yref\":\"y\"},{\"font\":{\"color\":\"#FFFFFF\",\"size\":8},\"showarrow\":false,\"text\":\"0.02\",\"x\":\"Online Co-op\",\"xref\":\"x\",\"y\":\"Full controller support\",\"yref\":\"y\"},{\"font\":{\"color\":\"#FFFFFF\",\"size\":8},\"showarrow\":false,\"text\":\"0.28\",\"x\":\"Shared/Split Screen\",\"xref\":\"x\",\"y\":\"Full controller support\",\"yref\":\"y\"},{\"font\":{\"color\":\"#FFFFFF\",\"size\":8},\"showarrow\":false,\"text\":\"0.21\",\"x\":\"Local Co-op\",\"xref\":\"x\",\"y\":\"Full controller support\",\"yref\":\"y\"},{\"font\":{\"color\":\"#FFFFFF\",\"size\":8},\"showarrow\":false,\"text\":\"-0.05\",\"x\":\"MMO\",\"xref\":\"x\",\"y\":\"Full controller support\",\"yref\":\"y\"},{\"font\":{\"color\":\"#FFFFFF\",\"size\":8},\"showarrow\":false,\"text\":\"0.04\",\"x\":\"VR Support\",\"xref\":\"x\",\"y\":\"Full controller support\",\"yref\":\"y\"},{\"font\":{\"color\":\"#FFFFFF\",\"size\":8},\"showarrow\":false,\"text\":\"-0.0\",\"x\":\"Mods\",\"xref\":\"x\",\"y\":\"Full controller support\",\"yref\":\"y\"},{\"font\":{\"color\":\"#FFFFFF\",\"size\":8},\"showarrow\":false,\"text\":\"-0.0\",\"x\":\"Mods (require HL2)\",\"xref\":\"x\",\"y\":\"Full controller support\",\"yref\":\"y\"},{\"font\":{\"color\":\"#FFFFFF\",\"size\":8},\"showarrow\":false,\"text\":\"0.02\",\"x\":\"Steam Turn Notifications\",\"xref\":\"x\",\"y\":\"Full controller support\",\"yref\":\"y\"},{\"font\":{\"color\":\"#FFFFFF\",\"size\":8},\"showarrow\":false,\"text\":\"0.09\",\"x\":\"Multi-player\",\"xref\":\"x\",\"y\":\"Steam Leaderboards\",\"yref\":\"y\"},{\"font\":{\"color\":\"#FFFFFF\",\"size\":8},\"showarrow\":false,\"text\":\"0.04\",\"x\":\"Online Multi-Player\",\"xref\":\"x\",\"y\":\"Steam Leaderboards\",\"yref\":\"y\"},{\"font\":{\"color\":\"#FFFFFF\",\"size\":8},\"showarrow\":false,\"text\":\"0.06\",\"x\":\"Local Multi-Player\",\"xref\":\"x\",\"y\":\"Steam Leaderboards\",\"yref\":\"y\"},{\"font\":{\"color\":\"#FFFFFF\",\"size\":8},\"showarrow\":false,\"text\":\"0.03\",\"x\":\"Valve Anti-Cheat enabled\",\"xref\":\"x\",\"y\":\"Steam Leaderboards\",\"yref\":\"y\"},{\"font\":{\"color\":\"#FFFFFF\",\"size\":8},\"showarrow\":false,\"text\":\"0.05\",\"x\":\"Single-player\",\"xref\":\"x\",\"y\":\"Steam Leaderboards\",\"yref\":\"y\"},{\"font\":{\"color\":\"#FFFFFF\",\"size\":8},\"showarrow\":false,\"text\":\"0.22\",\"x\":\"Steam Cloud\",\"xref\":\"x\",\"y\":\"Steam Leaderboards\",\"yref\":\"y\"},{\"font\":{\"color\":\"#FFFFFF\",\"size\":8},\"showarrow\":false,\"text\":\"0.29\",\"x\":\"Steam Achievements\",\"xref\":\"x\",\"y\":\"Steam Leaderboards\",\"yref\":\"y\"},{\"font\":{\"color\":\"#FFFFFF\",\"size\":8},\"showarrow\":false,\"text\":\"0.13\",\"x\":\"Steam Trading Cards\",\"xref\":\"x\",\"y\":\"Steam Leaderboards\",\"yref\":\"y\"},{\"font\":{\"color\":\"#FFFFFF\",\"size\":8},\"showarrow\":false,\"text\":\"-0.0\",\"x\":\"Captions available\",\"xref\":\"x\",\"y\":\"Steam Leaderboards\",\"yref\":\"y\"},{\"font\":{\"color\":\"#FFFFFF\",\"size\":8},\"showarrow\":false,\"text\":\"0.04\",\"x\":\"Partial Controller Support\",\"xref\":\"x\",\"y\":\"Steam Leaderboards\",\"yref\":\"y\"},{\"font\":{\"color\":\"#FFFFFF\",\"size\":8},\"showarrow\":false,\"text\":\"0.0\",\"x\":\"Includes Source SDK\",\"xref\":\"x\",\"y\":\"Steam Leaderboards\",\"yref\":\"y\"},{\"font\":{\"color\":\"#FFFFFF\",\"size\":8},\"showarrow\":false,\"text\":\"0.04\",\"x\":\"Cross-Platform Multiplayer\",\"xref\":\"x\",\"y\":\"Steam Leaderboards\",\"yref\":\"y\"},{\"font\":{\"color\":\"#FFFFFF\",\"size\":8},\"showarrow\":false,\"text\":\"0.32\",\"x\":\"Stats\",\"xref\":\"x\",\"y\":\"Steam Leaderboards\",\"yref\":\"y\"},{\"font\":{\"color\":\"#FFFFFF\",\"size\":8},\"showarrow\":false,\"text\":\"0.01\",\"x\":\"Commentary available\",\"xref\":\"x\",\"y\":\"Steam Leaderboards\",\"yref\":\"y\"},{\"font\":{\"color\":\"#FFFFFF\",\"size\":8},\"showarrow\":false,\"text\":\"0.07\",\"x\":\"Includes level editor\",\"xref\":\"x\",\"y\":\"Steam Leaderboards\",\"yref\":\"y\"},{\"font\":{\"color\":\"#FFFFFF\",\"size\":8},\"showarrow\":false,\"text\":\"0.09\",\"x\":\"Steam Workshop\",\"xref\":\"x\",\"y\":\"Steam Leaderboards\",\"yref\":\"y\"},{\"font\":{\"color\":\"#FFFFFF\",\"size\":8},\"showarrow\":false,\"text\":\"-0.02\",\"x\":\"In-App Purchases\",\"xref\":\"x\",\"y\":\"Steam Leaderboards\",\"yref\":\"y\"},{\"font\":{\"color\":\"#FFFFFF\",\"size\":8},\"showarrow\":false,\"text\":\"0.1\",\"x\":\"Co-op\",\"xref\":\"x\",\"y\":\"Steam Leaderboards\",\"yref\":\"y\"},{\"font\":{\"color\":\"#FFFFFF\",\"size\":8},\"showarrow\":false,\"text\":\"0.2\",\"x\":\"Full controller support\",\"xref\":\"x\",\"y\":\"Steam Leaderboards\",\"yref\":\"y\"},{\"font\":{\"color\":\"#FFFFFF\",\"size\":8},\"showarrow\":false,\"text\":\"1.0\",\"x\":\"Steam Leaderboards\",\"xref\":\"x\",\"y\":\"Steam Leaderboards\",\"yref\":\"y\"},{\"font\":{\"color\":\"#FFFFFF\",\"size\":8},\"showarrow\":false,\"text\":\"0.02\",\"x\":\"SteamVR Collectibles\",\"xref\":\"x\",\"y\":\"Steam Leaderboards\",\"yref\":\"y\"},{\"font\":{\"color\":\"#FFFFFF\",\"size\":8},\"showarrow\":false,\"text\":\"0.03\",\"x\":\"Online Co-op\",\"xref\":\"x\",\"y\":\"Steam Leaderboards\",\"yref\":\"y\"},{\"font\":{\"color\":\"#FFFFFF\",\"size\":8},\"showarrow\":false,\"text\":\"0.13\",\"x\":\"Shared/Split Screen\",\"xref\":\"x\",\"y\":\"Steam Leaderboards\",\"yref\":\"y\"},{\"font\":{\"color\":\"#FFFFFF\",\"size\":8},\"showarrow\":false,\"text\":\"0.08\",\"x\":\"Local Co-op\",\"xref\":\"x\",\"y\":\"Steam Leaderboards\",\"yref\":\"y\"},{\"font\":{\"color\":\"#FFFFFF\",\"size\":8},\"showarrow\":false,\"text\":\"-0.03\",\"x\":\"MMO\",\"xref\":\"x\",\"y\":\"Steam Leaderboards\",\"yref\":\"y\"},{\"font\":{\"color\":\"#FFFFFF\",\"size\":8},\"showarrow\":false,\"text\":\"0.02\",\"x\":\"VR Support\",\"xref\":\"x\",\"y\":\"Steam Leaderboards\",\"yref\":\"y\"},{\"font\":{\"color\":\"#FFFFFF\",\"size\":8},\"showarrow\":false,\"text\":\"-0.0\",\"x\":\"Mods\",\"xref\":\"x\",\"y\":\"Steam Leaderboards\",\"yref\":\"y\"},{\"font\":{\"color\":\"#FFFFFF\",\"size\":8},\"showarrow\":false,\"text\":\"-0.0\",\"x\":\"Mods (require HL2)\",\"xref\":\"x\",\"y\":\"Steam Leaderboards\",\"yref\":\"y\"},{\"font\":{\"color\":\"#FFFFFF\",\"size\":8},\"showarrow\":false,\"text\":\"0.04\",\"x\":\"Steam Turn Notifications\",\"xref\":\"x\",\"y\":\"Steam Leaderboards\",\"yref\":\"y\"},{\"font\":{\"color\":\"#FFFFFF\",\"size\":8},\"showarrow\":false,\"text\":\"0.01\",\"x\":\"Multi-player\",\"xref\":\"x\",\"y\":\"SteamVR Collectibles\",\"yref\":\"y\"},{\"font\":{\"color\":\"#FFFFFF\",\"size\":8},\"showarrow\":false,\"text\":\"0.03\",\"x\":\"Online Multi-Player\",\"xref\":\"x\",\"y\":\"SteamVR Collectibles\",\"yref\":\"y\"},{\"font\":{\"color\":\"#FFFFFF\",\"size\":8},\"showarrow\":false,\"text\":\"-0.01\",\"x\":\"Local Multi-Player\",\"xref\":\"x\",\"y\":\"SteamVR Collectibles\",\"yref\":\"y\"},{\"font\":{\"color\":\"#FFFFFF\",\"size\":8},\"showarrow\":false,\"text\":\"0.01\",\"x\":\"Valve Anti-Cheat enabled\",\"xref\":\"x\",\"y\":\"SteamVR Collectibles\",\"yref\":\"y\"},{\"font\":{\"color\":\"#FFFFFF\",\"size\":8},\"showarrow\":false,\"text\":\"-0.01\",\"x\":\"Single-player\",\"xref\":\"x\",\"y\":\"SteamVR Collectibles\",\"yref\":\"y\"},{\"font\":{\"color\":\"#FFFFFF\",\"size\":8},\"showarrow\":false,\"text\":\"0.01\",\"x\":\"Steam Cloud\",\"xref\":\"x\",\"y\":\"SteamVR Collectibles\",\"yref\":\"y\"},{\"font\":{\"color\":\"#FFFFFF\",\"size\":8},\"showarrow\":false,\"text\":\"0.0\",\"x\":\"Steam Achievements\",\"xref\":\"x\",\"y\":\"SteamVR Collectibles\",\"yref\":\"y\"},{\"font\":{\"color\":\"#FFFFFF\",\"size\":8},\"showarrow\":false,\"text\":\"0.0\",\"x\":\"Steam Trading Cards\",\"xref\":\"x\",\"y\":\"SteamVR Collectibles\",\"yref\":\"y\"},{\"font\":{\"color\":\"#FFFFFF\",\"size\":8},\"showarrow\":false,\"text\":\"-0.0\",\"x\":\"Captions available\",\"xref\":\"x\",\"y\":\"SteamVR Collectibles\",\"yref\":\"y\"},{\"font\":{\"color\":\"#FFFFFF\",\"size\":8},\"showarrow\":false,\"text\":\"-0.02\",\"x\":\"Partial Controller Support\",\"xref\":\"x\",\"y\":\"SteamVR Collectibles\",\"yref\":\"y\"},{\"font\":{\"color\":\"#FFFFFF\",\"size\":8},\"showarrow\":false,\"text\":\"-0.0\",\"x\":\"Includes Source SDK\",\"xref\":\"x\",\"y\":\"SteamVR Collectibles\",\"yref\":\"y\"},{\"font\":{\"color\":\"#FFFFFF\",\"size\":8},\"showarrow\":false,\"text\":\"0.02\",\"x\":\"Cross-Platform Multiplayer\",\"xref\":\"x\",\"y\":\"SteamVR Collectibles\",\"yref\":\"y\"},{\"font\":{\"color\":\"#FFFFFF\",\"size\":8},\"showarrow\":false,\"text\":\"0.0\",\"x\":\"Stats\",\"xref\":\"x\",\"y\":\"SteamVR Collectibles\",\"yref\":\"y\"},{\"font\":{\"color\":\"#FFFFFF\",\"size\":8},\"showarrow\":false,\"text\":\"-0.0\",\"x\":\"Commentary available\",\"xref\":\"x\",\"y\":\"SteamVR Collectibles\",\"yref\":\"y\"},{\"font\":{\"color\":\"#FFFFFF\",\"size\":8},\"showarrow\":false,\"text\":\"0.0\",\"x\":\"Includes level editor\",\"xref\":\"x\",\"y\":\"SteamVR Collectibles\",\"yref\":\"y\"},{\"font\":{\"color\":\"#FFFFFF\",\"size\":8},\"showarrow\":false,\"text\":\"0.0\",\"x\":\"Steam Workshop\",\"xref\":\"x\",\"y\":\"SteamVR Collectibles\",\"yref\":\"y\"},{\"font\":{\"color\":\"#FFFFFF\",\"size\":8},\"showarrow\":false,\"text\":\"-0.0\",\"x\":\"In-App Purchases\",\"xref\":\"x\",\"y\":\"SteamVR Collectibles\",\"yref\":\"y\"},{\"font\":{\"color\":\"#FFFFFF\",\"size\":8},\"showarrow\":false,\"text\":\"0.03\",\"x\":\"Co-op\",\"xref\":\"x\",\"y\":\"SteamVR Collectibles\",\"yref\":\"y\"},{\"font\":{\"color\":\"#FFFFFF\",\"size\":8},\"showarrow\":false,\"text\":\"-0.01\",\"x\":\"Full controller support\",\"xref\":\"x\",\"y\":\"SteamVR Collectibles\",\"yref\":\"y\"},{\"font\":{\"color\":\"#FFFFFF\",\"size\":8},\"showarrow\":false,\"text\":\"0.02\",\"x\":\"Steam Leaderboards\",\"xref\":\"x\",\"y\":\"SteamVR Collectibles\",\"yref\":\"y\"},{\"font\":{\"color\":\"#FFFFFF\",\"size\":8},\"showarrow\":false,\"text\":\"1.0\",\"x\":\"SteamVR Collectibles\",\"xref\":\"x\",\"y\":\"SteamVR Collectibles\",\"yref\":\"y\"},{\"font\":{\"color\":\"#FFFFFF\",\"size\":8},\"showarrow\":false,\"text\":\"0.04\",\"x\":\"Online Co-op\",\"xref\":\"x\",\"y\":\"SteamVR Collectibles\",\"yref\":\"y\"},{\"font\":{\"color\":\"#FFFFFF\",\"size\":8},\"showarrow\":false,\"text\":\"-0.01\",\"x\":\"Shared/Split Screen\",\"xref\":\"x\",\"y\":\"SteamVR Collectibles\",\"yref\":\"y\"},{\"font\":{\"color\":\"#FFFFFF\",\"size\":8},\"showarrow\":false,\"text\":\"-0.01\",\"x\":\"Local Co-op\",\"xref\":\"x\",\"y\":\"SteamVR Collectibles\",\"yref\":\"y\"},{\"font\":{\"color\":\"#FFFFFF\",\"size\":8},\"showarrow\":false,\"text\":\"0.0\",\"x\":\"MMO\",\"xref\":\"x\",\"y\":\"SteamVR Collectibles\",\"yref\":\"y\"},{\"font\":{\"color\":\"#FFFFFF\",\"size\":8},\"showarrow\":false,\"text\":\"0.17\",\"x\":\"VR Support\",\"xref\":\"x\",\"y\":\"SteamVR Collectibles\",\"yref\":\"y\"},{\"font\":{\"color\":\"#FFFFFF\",\"size\":8},\"showarrow\":false,\"text\":\"-0.0\",\"x\":\"Mods\",\"xref\":\"x\",\"y\":\"SteamVR Collectibles\",\"yref\":\"y\"},{\"font\":{\"color\":\"#FFFFFF\",\"size\":8},\"showarrow\":false,\"text\":\"-0.0\",\"x\":\"Mods (require HL2)\",\"xref\":\"x\",\"y\":\"SteamVR Collectibles\",\"yref\":\"y\"},{\"font\":{\"color\":\"#FFFFFF\",\"size\":8},\"showarrow\":false,\"text\":\"-0.0\",\"x\":\"Steam Turn Notifications\",\"xref\":\"x\",\"y\":\"SteamVR Collectibles\",\"yref\":\"y\"},{\"font\":{\"color\":\"#FFFFFF\",\"size\":8},\"showarrow\":false,\"text\":\"0.33\",\"x\":\"Multi-player\",\"xref\":\"x\",\"y\":\"Online Co-op\",\"yref\":\"y\"},{\"font\":{\"color\":\"#FFFFFF\",\"size\":8},\"showarrow\":false,\"text\":\"0.54\",\"x\":\"Online Multi-Player\",\"xref\":\"x\",\"y\":\"Online Co-op\",\"yref\":\"y\"},{\"font\":{\"color\":\"#FFFFFF\",\"size\":8},\"showarrow\":false,\"text\":\"0.13\",\"x\":\"Local Multi-Player\",\"xref\":\"x\",\"y\":\"Online Co-op\",\"yref\":\"y\"},{\"font\":{\"color\":\"#FFFFFF\",\"size\":8},\"showarrow\":false,\"text\":\"0.03\",\"x\":\"Valve Anti-Cheat enabled\",\"xref\":\"x\",\"y\":\"Online Co-op\",\"yref\":\"y\"},{\"font\":{\"color\":\"#FFFFFF\",\"size\":8},\"showarrow\":false,\"text\":\"-0.16\",\"x\":\"Single-player\",\"xref\":\"x\",\"y\":\"Online Co-op\",\"yref\":\"y\"},{\"font\":{\"color\":\"#FFFFFF\",\"size\":8},\"showarrow\":false,\"text\":\"0.02\",\"x\":\"Steam Cloud\",\"xref\":\"x\",\"y\":\"Online Co-op\",\"yref\":\"y\"},{\"font\":{\"color\":\"#FFFFFF\",\"size\":8},\"showarrow\":false,\"text\":\"0.02\",\"x\":\"Steam Achievements\",\"xref\":\"x\",\"y\":\"Online Co-op\",\"yref\":\"y\"},{\"font\":{\"color\":\"#FFFFFF\",\"size\":8},\"showarrow\":false,\"text\":\"0.03\",\"x\":\"Steam Trading Cards\",\"xref\":\"x\",\"y\":\"Online Co-op\",\"yref\":\"y\"},{\"font\":{\"color\":\"#FFFFFF\",\"size\":8},\"showarrow\":false,\"text\":\"-0.01\",\"x\":\"Captions available\",\"xref\":\"x\",\"y\":\"Online Co-op\",\"yref\":\"y\"},{\"font\":{\"color\":\"#FFFFFF\",\"size\":8},\"showarrow\":false,\"text\":\"0.03\",\"x\":\"Partial Controller Support\",\"xref\":\"x\",\"y\":\"Online Co-op\",\"yref\":\"y\"},{\"font\":{\"color\":\"#FFFFFF\",\"size\":8},\"showarrow\":false,\"text\":\"0.02\",\"x\":\"Includes Source SDK\",\"xref\":\"x\",\"y\":\"Online Co-op\",\"yref\":\"y\"},{\"font\":{\"color\":\"#FFFFFF\",\"size\":8},\"showarrow\":false,\"text\":\"0.24\",\"x\":\"Cross-Platform Multiplayer\",\"xref\":\"x\",\"y\":\"Online Co-op\",\"yref\":\"y\"},{\"font\":{\"color\":\"#FFFFFF\",\"size\":8},\"showarrow\":false,\"text\":\"0.06\",\"x\":\"Stats\",\"xref\":\"x\",\"y\":\"Online Co-op\",\"yref\":\"y\"},{\"font\":{\"color\":\"#FFFFFF\",\"size\":8},\"showarrow\":false,\"text\":\"-0.0\",\"x\":\"Commentary available\",\"xref\":\"x\",\"y\":\"Online Co-op\",\"yref\":\"y\"},{\"font\":{\"color\":\"#FFFFFF\",\"size\":8},\"showarrow\":false,\"text\":\"0.07\",\"x\":\"Includes level editor\",\"xref\":\"x\",\"y\":\"Online Co-op\",\"yref\":\"y\"},{\"font\":{\"color\":\"#FFFFFF\",\"size\":8},\"showarrow\":false,\"text\":\"0.08\",\"x\":\"Steam Workshop\",\"xref\":\"x\",\"y\":\"Online Co-op\",\"yref\":\"y\"},{\"font\":{\"color\":\"#FFFFFF\",\"size\":8},\"showarrow\":false,\"text\":\"0.15\",\"x\":\"In-App Purchases\",\"xref\":\"x\",\"y\":\"Online Co-op\",\"yref\":\"y\"},{\"font\":{\"color\":\"#FFFFFF\",\"size\":8},\"showarrow\":false,\"text\":\"0.62\",\"x\":\"Co-op\",\"xref\":\"x\",\"y\":\"Online Co-op\",\"yref\":\"y\"},{\"font\":{\"color\":\"#FFFFFF\",\"size\":8},\"showarrow\":false,\"text\":\"0.02\",\"x\":\"Full controller support\",\"xref\":\"x\",\"y\":\"Online Co-op\",\"yref\":\"y\"},{\"font\":{\"color\":\"#FFFFFF\",\"size\":8},\"showarrow\":false,\"text\":\"0.03\",\"x\":\"Steam Leaderboards\",\"xref\":\"x\",\"y\":\"Online Co-op\",\"yref\":\"y\"},{\"font\":{\"color\":\"#FFFFFF\",\"size\":8},\"showarrow\":false,\"text\":\"0.04\",\"x\":\"SteamVR Collectibles\",\"xref\":\"x\",\"y\":\"Online Co-op\",\"yref\":\"y\"},{\"font\":{\"color\":\"#FFFFFF\",\"size\":8},\"showarrow\":false,\"text\":\"1.0\",\"x\":\"Online Co-op\",\"xref\":\"x\",\"y\":\"Online Co-op\",\"yref\":\"y\"},{\"font\":{\"color\":\"#FFFFFF\",\"size\":8},\"showarrow\":false,\"text\":\"0.06\",\"x\":\"Shared/Split Screen\",\"xref\":\"x\",\"y\":\"Online Co-op\",\"yref\":\"y\"},{\"font\":{\"color\":\"#FFFFFF\",\"size\":8},\"showarrow\":false,\"text\":\"0.2\",\"x\":\"Local Co-op\",\"xref\":\"x\",\"y\":\"Online Co-op\",\"yref\":\"y\"},{\"font\":{\"color\":\"#FFFFFF\",\"size\":8},\"showarrow\":false,\"text\":\"0.19\",\"x\":\"MMO\",\"xref\":\"x\",\"y\":\"Online Co-op\",\"yref\":\"y\"},{\"font\":{\"color\":\"#FFFFFF\",\"size\":8},\"showarrow\":false,\"text\":\"0.01\",\"x\":\"VR Support\",\"xref\":\"x\",\"y\":\"Online Co-op\",\"yref\":\"y\"},{\"font\":{\"color\":\"#FFFFFF\",\"size\":8},\"showarrow\":false,\"text\":\"-0.0\",\"x\":\"Mods\",\"xref\":\"x\",\"y\":\"Online Co-op\",\"yref\":\"y\"},{\"font\":{\"color\":\"#FFFFFF\",\"size\":8},\"showarrow\":false,\"text\":\"-0.0\",\"x\":\"Mods (require HL2)\",\"xref\":\"x\",\"y\":\"Online Co-op\",\"yref\":\"y\"},{\"font\":{\"color\":\"#FFFFFF\",\"size\":8},\"showarrow\":false,\"text\":\"0.01\",\"x\":\"Steam Turn Notifications\",\"xref\":\"x\",\"y\":\"Online Co-op\",\"yref\":\"y\"},{\"font\":{\"color\":\"#FFFFFF\",\"size\":8},\"showarrow\":false,\"text\":\"0.27\",\"x\":\"Multi-player\",\"xref\":\"x\",\"y\":\"Shared/Split Screen\",\"yref\":\"y\"},{\"font\":{\"color\":\"#FFFFFF\",\"size\":8},\"showarrow\":false,\"text\":\"0.11\",\"x\":\"Online Multi-Player\",\"xref\":\"x\",\"y\":\"Shared/Split Screen\",\"yref\":\"y\"},{\"font\":{\"color\":\"#FFFFFF\",\"size\":8},\"showarrow\":false,\"text\":\"0.58\",\"x\":\"Local Multi-Player\",\"xref\":\"x\",\"y\":\"Shared/Split Screen\",\"yref\":\"y\"},{\"font\":{\"color\":\"#FFFFFF\",\"size\":8},\"showarrow\":false,\"text\":\"-0.01\",\"x\":\"Valve Anti-Cheat enabled\",\"xref\":\"x\",\"y\":\"Shared/Split Screen\",\"yref\":\"y\"},{\"font\":{\"color\":\"#FFFFFF\",\"size\":8},\"showarrow\":false,\"text\":\"-0.07\",\"x\":\"Single-player\",\"xref\":\"x\",\"y\":\"Shared/Split Screen\",\"yref\":\"y\"},{\"font\":{\"color\":\"#FFFFFF\",\"size\":8},\"showarrow\":false,\"text\":\"0.09\",\"x\":\"Steam Cloud\",\"xref\":\"x\",\"y\":\"Shared/Split Screen\",\"yref\":\"y\"},{\"font\":{\"color\":\"#FFFFFF\",\"size\":8},\"showarrow\":false,\"text\":\"0.08\",\"x\":\"Steam Achievements\",\"xref\":\"x\",\"y\":\"Shared/Split Screen\",\"yref\":\"y\"},{\"font\":{\"color\":\"#FFFFFF\",\"size\":8},\"showarrow\":false,\"text\":\"0.07\",\"x\":\"Steam Trading Cards\",\"xref\":\"x\",\"y\":\"Shared/Split Screen\",\"yref\":\"y\"},{\"font\":{\"color\":\"#FFFFFF\",\"size\":8},\"showarrow\":false,\"text\":\"-0.02\",\"x\":\"Captions available\",\"xref\":\"x\",\"y\":\"Shared/Split Screen\",\"yref\":\"y\"},{\"font\":{\"color\":\"#FFFFFF\",\"size\":8},\"showarrow\":false,\"text\":\"0.07\",\"x\":\"Partial Controller Support\",\"xref\":\"x\",\"y\":\"Shared/Split Screen\",\"yref\":\"y\"},{\"font\":{\"color\":\"#FFFFFF\",\"size\":8},\"showarrow\":false,\"text\":\"0.0\",\"x\":\"Includes Source SDK\",\"xref\":\"x\",\"y\":\"Shared/Split Screen\",\"yref\":\"y\"},{\"font\":{\"color\":\"#FFFFFF\",\"size\":8},\"showarrow\":false,\"text\":\"0.09\",\"x\":\"Cross-Platform Multiplayer\",\"xref\":\"x\",\"y\":\"Shared/Split Screen\",\"yref\":\"y\"},{\"font\":{\"color\":\"#FFFFFF\",\"size\":8},\"showarrow\":false,\"text\":\"0.07\",\"x\":\"Stats\",\"xref\":\"x\",\"y\":\"Shared/Split Screen\",\"yref\":\"y\"},{\"font\":{\"color\":\"#FFFFFF\",\"size\":8},\"showarrow\":false,\"text\":\"-0.01\",\"x\":\"Commentary available\",\"xref\":\"x\",\"y\":\"Shared/Split Screen\",\"yref\":\"y\"},{\"font\":{\"color\":\"#FFFFFF\",\"size\":8},\"showarrow\":false,\"text\":\"0.06\",\"x\":\"Includes level editor\",\"xref\":\"x\",\"y\":\"Shared/Split Screen\",\"yref\":\"y\"},{\"font\":{\"color\":\"#FFFFFF\",\"size\":8},\"showarrow\":false,\"text\":\"0.04\",\"x\":\"Steam Workshop\",\"xref\":\"x\",\"y\":\"Shared/Split Screen\",\"yref\":\"y\"},{\"font\":{\"color\":\"#FFFFFF\",\"size\":8},\"showarrow\":false,\"text\":\"-0.03\",\"x\":\"In-App Purchases\",\"xref\":\"x\",\"y\":\"Shared/Split Screen\",\"yref\":\"y\"},{\"font\":{\"color\":\"#FFFFFF\",\"size\":8},\"showarrow\":false,\"text\":\"0.38\",\"x\":\"Co-op\",\"xref\":\"x\",\"y\":\"Shared/Split Screen\",\"yref\":\"y\"},{\"font\":{\"color\":\"#FFFFFF\",\"size\":8},\"showarrow\":false,\"text\":\"0.28\",\"x\":\"Full controller support\",\"xref\":\"x\",\"y\":\"Shared/Split Screen\",\"yref\":\"y\"},{\"font\":{\"color\":\"#FFFFFF\",\"size\":8},\"showarrow\":false,\"text\":\"0.13\",\"x\":\"Steam Leaderboards\",\"xref\":\"x\",\"y\":\"Shared/Split Screen\",\"yref\":\"y\"},{\"font\":{\"color\":\"#FFFFFF\",\"size\":8},\"showarrow\":false,\"text\":\"-0.01\",\"x\":\"SteamVR Collectibles\",\"xref\":\"x\",\"y\":\"Shared/Split Screen\",\"yref\":\"y\"},{\"font\":{\"color\":\"#FFFFFF\",\"size\":8},\"showarrow\":false,\"text\":\"0.06\",\"x\":\"Online Co-op\",\"xref\":\"x\",\"y\":\"Shared/Split Screen\",\"yref\":\"y\"},{\"font\":{\"color\":\"#FFFFFF\",\"size\":8},\"showarrow\":false,\"text\":\"1.0\",\"x\":\"Shared/Split Screen\",\"xref\":\"x\",\"y\":\"Shared/Split Screen\",\"yref\":\"y\"},{\"font\":{\"color\":\"#FFFFFF\",\"size\":8},\"showarrow\":false,\"text\":\"0.51\",\"x\":\"Local Co-op\",\"xref\":\"x\",\"y\":\"Shared/Split Screen\",\"yref\":\"y\"},{\"font\":{\"color\":\"#FFFFFF\",\"size\":8},\"showarrow\":false,\"text\":\"-0.03\",\"x\":\"MMO\",\"xref\":\"x\",\"y\":\"Shared/Split Screen\",\"yref\":\"y\"},{\"font\":{\"color\":\"#FFFFFF\",\"size\":8},\"showarrow\":false,\"text\":\"-0.01\",\"x\":\"VR Support\",\"xref\":\"x\",\"y\":\"Shared/Split Screen\",\"yref\":\"y\"},{\"font\":{\"color\":\"#FFFFFF\",\"size\":8},\"showarrow\":false,\"text\":\"-0.0\",\"x\":\"Mods\",\"xref\":\"x\",\"y\":\"Shared/Split Screen\",\"yref\":\"y\"},{\"font\":{\"color\":\"#FFFFFF\",\"size\":8},\"showarrow\":false,\"text\":\"-0.0\",\"x\":\"Mods (require HL2)\",\"xref\":\"x\",\"y\":\"Shared/Split Screen\",\"yref\":\"y\"},{\"font\":{\"color\":\"#FFFFFF\",\"size\":8},\"showarrow\":false,\"text\":\"0.04\",\"x\":\"Steam Turn Notifications\",\"xref\":\"x\",\"y\":\"Shared/Split Screen\",\"yref\":\"y\"},{\"font\":{\"color\":\"#FFFFFF\",\"size\":8},\"showarrow\":false,\"text\":\"0.16\",\"x\":\"Multi-player\",\"xref\":\"x\",\"y\":\"Local Co-op\",\"yref\":\"y\"},{\"font\":{\"color\":\"#FFFFFF\",\"size\":8},\"showarrow\":false,\"text\":\"0.09\",\"x\":\"Online Multi-Player\",\"xref\":\"x\",\"y\":\"Local Co-op\",\"yref\":\"y\"},{\"font\":{\"color\":\"#FFFFFF\",\"size\":8},\"showarrow\":false,\"text\":\"0.53\",\"x\":\"Local Multi-Player\",\"xref\":\"x\",\"y\":\"Local Co-op\",\"yref\":\"y\"},{\"font\":{\"color\":\"#FFFFFF\",\"size\":8},\"showarrow\":false,\"text\":\"0.0\",\"x\":\"Valve Anti-Cheat enabled\",\"xref\":\"x\",\"y\":\"Local Co-op\",\"yref\":\"y\"},{\"font\":{\"color\":\"#FFFFFF\",\"size\":8},\"showarrow\":false,\"text\":\"-0.02\",\"x\":\"Single-player\",\"xref\":\"x\",\"y\":\"Local Co-op\",\"yref\":\"y\"},{\"font\":{\"color\":\"#FFFFFF\",\"size\":8},\"showarrow\":false,\"text\":\"0.07\",\"x\":\"Steam Cloud\",\"xref\":\"x\",\"y\":\"Local Co-op\",\"yref\":\"y\"},{\"font\":{\"color\":\"#FFFFFF\",\"size\":8},\"showarrow\":false,\"text\":\"0.07\",\"x\":\"Steam Achievements\",\"xref\":\"x\",\"y\":\"Local Co-op\",\"yref\":\"y\"},{\"font\":{\"color\":\"#FFFFFF\",\"size\":8},\"showarrow\":false,\"text\":\"0.03\",\"x\":\"Steam Trading Cards\",\"xref\":\"x\",\"y\":\"Local Co-op\",\"yref\":\"y\"},{\"font\":{\"color\":\"#FFFFFF\",\"size\":8},\"showarrow\":false,\"text\":\"-0.01\",\"x\":\"Captions available\",\"xref\":\"x\",\"y\":\"Local Co-op\",\"yref\":\"y\"},{\"font\":{\"color\":\"#FFFFFF\",\"size\":8},\"showarrow\":false,\"text\":\"0.04\",\"x\":\"Partial Controller Support\",\"xref\":\"x\",\"y\":\"Local Co-op\",\"yref\":\"y\"},{\"font\":{\"color\":\"#FFFFFF\",\"size\":8},\"showarrow\":false,\"text\":\"0.0\",\"x\":\"Includes Source SDK\",\"xref\":\"x\",\"y\":\"Local Co-op\",\"yref\":\"y\"},{\"font\":{\"color\":\"#FFFFFF\",\"size\":8},\"showarrow\":false,\"text\":\"0.04\",\"x\":\"Cross-Platform Multiplayer\",\"xref\":\"x\",\"y\":\"Local Co-op\",\"yref\":\"y\"},{\"font\":{\"color\":\"#FFFFFF\",\"size\":8},\"showarrow\":false,\"text\":\"0.05\",\"x\":\"Stats\",\"xref\":\"x\",\"y\":\"Local Co-op\",\"yref\":\"y\"},{\"font\":{\"color\":\"#FFFFFF\",\"size\":8},\"showarrow\":false,\"text\":\"-0.01\",\"x\":\"Commentary available\",\"xref\":\"x\",\"y\":\"Local Co-op\",\"yref\":\"y\"},{\"font\":{\"color\":\"#FFFFFF\",\"size\":8},\"showarrow\":false,\"text\":\"0.04\",\"x\":\"Includes level editor\",\"xref\":\"x\",\"y\":\"Local Co-op\",\"yref\":\"y\"},{\"font\":{\"color\":\"#FFFFFF\",\"size\":8},\"showarrow\":false,\"text\":\"0.03\",\"x\":\"Steam Workshop\",\"xref\":\"x\",\"y\":\"Local Co-op\",\"yref\":\"y\"},{\"font\":{\"color\":\"#FFFFFF\",\"size\":8},\"showarrow\":false,\"text\":\"-0.02\",\"x\":\"In-App Purchases\",\"xref\":\"x\",\"y\":\"Local Co-op\",\"yref\":\"y\"},{\"font\":{\"color\":\"#FFFFFF\",\"size\":8},\"showarrow\":false,\"text\":\"0.62\",\"x\":\"Co-op\",\"xref\":\"x\",\"y\":\"Local Co-op\",\"yref\":\"y\"},{\"font\":{\"color\":\"#FFFFFF\",\"size\":8},\"showarrow\":false,\"text\":\"0.21\",\"x\":\"Full controller support\",\"xref\":\"x\",\"y\":\"Local Co-op\",\"yref\":\"y\"},{\"font\":{\"color\":\"#FFFFFF\",\"size\":8},\"showarrow\":false,\"text\":\"0.08\",\"x\":\"Steam Leaderboards\",\"xref\":\"x\",\"y\":\"Local Co-op\",\"yref\":\"y\"},{\"font\":{\"color\":\"#FFFFFF\",\"size\":8},\"showarrow\":false,\"text\":\"-0.01\",\"x\":\"SteamVR Collectibles\",\"xref\":\"x\",\"y\":\"Local Co-op\",\"yref\":\"y\"},{\"font\":{\"color\":\"#FFFFFF\",\"size\":8},\"showarrow\":false,\"text\":\"0.2\",\"x\":\"Online Co-op\",\"xref\":\"x\",\"y\":\"Local Co-op\",\"yref\":\"y\"},{\"font\":{\"color\":\"#FFFFFF\",\"size\":8},\"showarrow\":false,\"text\":\"0.51\",\"x\":\"Shared/Split Screen\",\"xref\":\"x\",\"y\":\"Local Co-op\",\"yref\":\"y\"},{\"font\":{\"color\":\"#FFFFFF\",\"size\":8},\"showarrow\":false,\"text\":\"1.0\",\"x\":\"Local Co-op\",\"xref\":\"x\",\"y\":\"Local Co-op\",\"yref\":\"y\"},{\"font\":{\"color\":\"#FFFFFF\",\"size\":8},\"showarrow\":false,\"text\":\"-0.02\",\"x\":\"MMO\",\"xref\":\"x\",\"y\":\"Local Co-op\",\"yref\":\"y\"},{\"font\":{\"color\":\"#FFFFFF\",\"size\":8},\"showarrow\":false,\"text\":\"-0.01\",\"x\":\"VR Support\",\"xref\":\"x\",\"y\":\"Local Co-op\",\"yref\":\"y\"},{\"font\":{\"color\":\"#FFFFFF\",\"size\":8},\"showarrow\":false,\"text\":\"-0.0\",\"x\":\"Mods\",\"xref\":\"x\",\"y\":\"Local Co-op\",\"yref\":\"y\"},{\"font\":{\"color\":\"#FFFFFF\",\"size\":8},\"showarrow\":false,\"text\":\"-0.0\",\"x\":\"Mods (require HL2)\",\"xref\":\"x\",\"y\":\"Local Co-op\",\"yref\":\"y\"},{\"font\":{\"color\":\"#FFFFFF\",\"size\":8},\"showarrow\":false,\"text\":\"0.01\",\"x\":\"Steam Turn Notifications\",\"xref\":\"x\",\"y\":\"Local Co-op\",\"yref\":\"y\"},{\"font\":{\"color\":\"#FFFFFF\",\"size\":8},\"showarrow\":false,\"text\":\"0.17\",\"x\":\"Multi-player\",\"xref\":\"x\",\"y\":\"MMO\",\"yref\":\"y\"},{\"font\":{\"color\":\"#FFFFFF\",\"size\":8},\"showarrow\":false,\"text\":\"0.23\",\"x\":\"Online Multi-Player\",\"xref\":\"x\",\"y\":\"MMO\",\"yref\":\"y\"},{\"font\":{\"color\":\"#FFFFFF\",\"size\":8},\"showarrow\":false,\"text\":\"-0.02\",\"x\":\"Local Multi-Player\",\"xref\":\"x\",\"y\":\"MMO\",\"yref\":\"y\"},{\"font\":{\"color\":\"#FFFFFF\",\"size\":8},\"showarrow\":false,\"text\":\"0.04\",\"x\":\"Valve Anti-Cheat enabled\",\"xref\":\"x\",\"y\":\"MMO\",\"yref\":\"y\"},{\"font\":{\"color\":\"#FFFFFF\",\"size\":8},\"showarrow\":false,\"text\":\"-0.34\",\"x\":\"Single-player\",\"xref\":\"x\",\"y\":\"MMO\",\"yref\":\"y\"},{\"font\":{\"color\":\"#FFFFFF\",\"size\":8},\"showarrow\":false,\"text\":\"-0.06\",\"x\":\"Steam Cloud\",\"xref\":\"x\",\"y\":\"MMO\",\"yref\":\"y\"},{\"font\":{\"color\":\"#FFFFFF\",\"size\":8},\"showarrow\":false,\"text\":\"-0.05\",\"x\":\"Steam Achievements\",\"xref\":\"x\",\"y\":\"MMO\",\"yref\":\"y\"},{\"font\":{\"color\":\"#FFFFFF\",\"size\":8},\"showarrow\":false,\"text\":\"0.02\",\"x\":\"Steam Trading Cards\",\"xref\":\"x\",\"y\":\"MMO\",\"yref\":\"y\"},{\"font\":{\"color\":\"#FFFFFF\",\"size\":8},\"showarrow\":false,\"text\":\"-0.02\",\"x\":\"Captions available\",\"xref\":\"x\",\"y\":\"MMO\",\"yref\":\"y\"},{\"font\":{\"color\":\"#FFFFFF\",\"size\":8},\"showarrow\":false,\"text\":\"-0.0\",\"x\":\"Partial Controller Support\",\"xref\":\"x\",\"y\":\"MMO\",\"yref\":\"y\"},{\"font\":{\"color\":\"#FFFFFF\",\"size\":8},\"showarrow\":false,\"text\":\"0.01\",\"x\":\"Includes Source SDK\",\"xref\":\"x\",\"y\":\"MMO\",\"yref\":\"y\"},{\"font\":{\"color\":\"#FFFFFF\",\"size\":8},\"showarrow\":false,\"text\":\"0.16\",\"x\":\"Cross-Platform Multiplayer\",\"xref\":\"x\",\"y\":\"MMO\",\"yref\":\"y\"},{\"font\":{\"color\":\"#FFFFFF\",\"size\":8},\"showarrow\":false,\"text\":\"-0.0\",\"x\":\"Stats\",\"xref\":\"x\",\"y\":\"MMO\",\"yref\":\"y\"},{\"font\":{\"color\":\"#FFFFFF\",\"size\":8},\"showarrow\":false,\"text\":\"0.01\",\"x\":\"Commentary available\",\"xref\":\"x\",\"y\":\"MMO\",\"yref\":\"y\"},{\"font\":{\"color\":\"#FFFFFF\",\"size\":8},\"showarrow\":false,\"text\":\"-0.0\",\"x\":\"Includes level editor\",\"xref\":\"x\",\"y\":\"MMO\",\"yref\":\"y\"},{\"font\":{\"color\":\"#FFFFFF\",\"size\":8},\"showarrow\":false,\"text\":\"-0.01\",\"x\":\"Steam Workshop\",\"xref\":\"x\",\"y\":\"MMO\",\"yref\":\"y\"},{\"font\":{\"color\":\"#FFFFFF\",\"size\":8},\"showarrow\":false,\"text\":\"0.31\",\"x\":\"In-App Purchases\",\"xref\":\"x\",\"y\":\"MMO\",\"yref\":\"y\"},{\"font\":{\"color\":\"#FFFFFF\",\"size\":8},\"showarrow\":false,\"text\":\"0.15\",\"x\":\"Co-op\",\"xref\":\"x\",\"y\":\"MMO\",\"yref\":\"y\"},{\"font\":{\"color\":\"#FFFFFF\",\"size\":8},\"showarrow\":false,\"text\":\"-0.05\",\"x\":\"Full controller support\",\"xref\":\"x\",\"y\":\"MMO\",\"yref\":\"y\"},{\"font\":{\"color\":\"#FFFFFF\",\"size\":8},\"showarrow\":false,\"text\":\"-0.03\",\"x\":\"Steam Leaderboards\",\"xref\":\"x\",\"y\":\"MMO\",\"yref\":\"y\"},{\"font\":{\"color\":\"#FFFFFF\",\"size\":8},\"showarrow\":false,\"text\":\"0.0\",\"x\":\"SteamVR Collectibles\",\"xref\":\"x\",\"y\":\"MMO\",\"yref\":\"y\"},{\"font\":{\"color\":\"#FFFFFF\",\"size\":8},\"showarrow\":false,\"text\":\"0.19\",\"x\":\"Online Co-op\",\"xref\":\"x\",\"y\":\"MMO\",\"yref\":\"y\"},{\"font\":{\"color\":\"#FFFFFF\",\"size\":8},\"showarrow\":false,\"text\":\"-0.03\",\"x\":\"Shared/Split Screen\",\"xref\":\"x\",\"y\":\"MMO\",\"yref\":\"y\"},{\"font\":{\"color\":\"#FFFFFF\",\"size\":8},\"showarrow\":false,\"text\":\"-0.02\",\"x\":\"Local Co-op\",\"xref\":\"x\",\"y\":\"MMO\",\"yref\":\"y\"},{\"font\":{\"color\":\"#FFFFFF\",\"size\":8},\"showarrow\":false,\"text\":\"1.0\",\"x\":\"MMO\",\"xref\":\"x\",\"y\":\"MMO\",\"yref\":\"y\"},{\"font\":{\"color\":\"#FFFFFF\",\"size\":8},\"showarrow\":false,\"text\":\"0.01\",\"x\":\"VR Support\",\"xref\":\"x\",\"y\":\"MMO\",\"yref\":\"y\"},{\"font\":{\"color\":\"#FFFFFF\",\"size\":8},\"showarrow\":false,\"text\":\"-0.0\",\"x\":\"Mods\",\"xref\":\"x\",\"y\":\"MMO\",\"yref\":\"y\"},{\"font\":{\"color\":\"#FFFFFF\",\"size\":8},\"showarrow\":false,\"text\":\"-0.0\",\"x\":\"Mods (require HL2)\",\"xref\":\"x\",\"y\":\"MMO\",\"yref\":\"y\"},{\"font\":{\"color\":\"#FFFFFF\",\"size\":8},\"showarrow\":false,\"text\":\"0.01\",\"x\":\"Steam Turn Notifications\",\"xref\":\"x\",\"y\":\"MMO\",\"yref\":\"y\"},{\"font\":{\"color\":\"#FFFFFF\",\"size\":8},\"showarrow\":false,\"text\":\"0.02\",\"x\":\"Multi-player\",\"xref\":\"x\",\"y\":\"VR Support\",\"yref\":\"y\"},{\"font\":{\"color\":\"#FFFFFF\",\"size\":8},\"showarrow\":false,\"text\":\"0.01\",\"x\":\"Online Multi-Player\",\"xref\":\"x\",\"y\":\"VR Support\",\"yref\":\"y\"},{\"font\":{\"color\":\"#FFFFFF\",\"size\":8},\"showarrow\":false,\"text\":\"-0.01\",\"x\":\"Local Multi-Player\",\"xref\":\"x\",\"y\":\"VR Support\",\"yref\":\"y\"},{\"font\":{\"color\":\"#FFFFFF\",\"size\":8},\"showarrow\":false,\"text\":\"0.01\",\"x\":\"Valve Anti-Cheat enabled\",\"xref\":\"x\",\"y\":\"VR Support\",\"yref\":\"y\"},{\"font\":{\"color\":\"#FFFFFF\",\"size\":8},\"showarrow\":false,\"text\":\"-0.01\",\"x\":\"Single-player\",\"xref\":\"x\",\"y\":\"VR Support\",\"yref\":\"y\"},{\"font\":{\"color\":\"#FFFFFF\",\"size\":8},\"showarrow\":false,\"text\":\"-0.01\",\"x\":\"Steam Cloud\",\"xref\":\"x\",\"y\":\"VR Support\",\"yref\":\"y\"},{\"font\":{\"color\":\"#FFFFFF\",\"size\":8},\"showarrow\":false,\"text\":\"-0.0\",\"x\":\"Steam Achievements\",\"xref\":\"x\",\"y\":\"VR Support\",\"yref\":\"y\"},{\"font\":{\"color\":\"#FFFFFF\",\"size\":8},\"showarrow\":false,\"text\":\"0.01\",\"x\":\"Steam Trading Cards\",\"xref\":\"x\",\"y\":\"VR Support\",\"yref\":\"y\"},{\"font\":{\"color\":\"#FFFFFF\",\"size\":8},\"showarrow\":false,\"text\":\"0.01\",\"x\":\"Captions available\",\"xref\":\"x\",\"y\":\"VR Support\",\"yref\":\"y\"},{\"font\":{\"color\":\"#FFFFFF\",\"size\":8},\"showarrow\":false,\"text\":\"0.02\",\"x\":\"Partial Controller Support\",\"xref\":\"x\",\"y\":\"VR Support\",\"yref\":\"y\"},{\"font\":{\"color\":\"#FFFFFF\",\"size\":8},\"showarrow\":false,\"text\":\"0.02\",\"x\":\"Includes Source SDK\",\"xref\":\"x\",\"y\":\"VR Support\",\"yref\":\"y\"},{\"font\":{\"color\":\"#FFFFFF\",\"size\":8},\"showarrow\":false,\"text\":\"0.03\",\"x\":\"Cross-Platform Multiplayer\",\"xref\":\"x\",\"y\":\"VR Support\",\"yref\":\"y\"},{\"font\":{\"color\":\"#FFFFFF\",\"size\":8},\"showarrow\":false,\"text\":\"0.01\",\"x\":\"Stats\",\"xref\":\"x\",\"y\":\"VR Support\",\"yref\":\"y\"},{\"font\":{\"color\":\"#FFFFFF\",\"size\":8},\"showarrow\":false,\"text\":\"0.0\",\"x\":\"Commentary available\",\"xref\":\"x\",\"y\":\"VR Support\",\"yref\":\"y\"},{\"font\":{\"color\":\"#FFFFFF\",\"size\":8},\"showarrow\":false,\"text\":\"0.04\",\"x\":\"Includes level editor\",\"xref\":\"x\",\"y\":\"VR Support\",\"yref\":\"y\"},{\"font\":{\"color\":\"#FFFFFF\",\"size\":8},\"showarrow\":false,\"text\":\"0.04\",\"x\":\"Steam Workshop\",\"xref\":\"x\",\"y\":\"VR Support\",\"yref\":\"y\"},{\"font\":{\"color\":\"#FFFFFF\",\"size\":8},\"showarrow\":false,\"text\":\"-0.01\",\"x\":\"In-App Purchases\",\"xref\":\"x\",\"y\":\"VR Support\",\"yref\":\"y\"},{\"font\":{\"color\":\"#FFFFFF\",\"size\":8},\"showarrow\":false,\"text\":\"0.01\",\"x\":\"Co-op\",\"xref\":\"x\",\"y\":\"VR Support\",\"yref\":\"y\"},{\"font\":{\"color\":\"#FFFFFF\",\"size\":8},\"showarrow\":false,\"text\":\"0.04\",\"x\":\"Full controller support\",\"xref\":\"x\",\"y\":\"VR Support\",\"yref\":\"y\"},{\"font\":{\"color\":\"#FFFFFF\",\"size\":8},\"showarrow\":false,\"text\":\"0.02\",\"x\":\"Steam Leaderboards\",\"xref\":\"x\",\"y\":\"VR Support\",\"yref\":\"y\"},{\"font\":{\"color\":\"#FFFFFF\",\"size\":8},\"showarrow\":false,\"text\":\"0.17\",\"x\":\"SteamVR Collectibles\",\"xref\":\"x\",\"y\":\"VR Support\",\"yref\":\"y\"},{\"font\":{\"color\":\"#FFFFFF\",\"size\":8},\"showarrow\":false,\"text\":\"0.01\",\"x\":\"Online Co-op\",\"xref\":\"x\",\"y\":\"VR Support\",\"yref\":\"y\"},{\"font\":{\"color\":\"#FFFFFF\",\"size\":8},\"showarrow\":false,\"text\":\"-0.01\",\"x\":\"Shared/Split Screen\",\"xref\":\"x\",\"y\":\"VR Support\",\"yref\":\"y\"},{\"font\":{\"color\":\"#FFFFFF\",\"size\":8},\"showarrow\":false,\"text\":\"-0.01\",\"x\":\"Local Co-op\",\"xref\":\"x\",\"y\":\"VR Support\",\"yref\":\"y\"},{\"font\":{\"color\":\"#FFFFFF\",\"size\":8},\"showarrow\":false,\"text\":\"0.01\",\"x\":\"MMO\",\"xref\":\"x\",\"y\":\"VR Support\",\"yref\":\"y\"},{\"font\":{\"color\":\"#FFFFFF\",\"size\":8},\"showarrow\":false,\"text\":\"1.0\",\"x\":\"VR Support\",\"xref\":\"x\",\"y\":\"VR Support\",\"yref\":\"y\"},{\"font\":{\"color\":\"#FFFFFF\",\"size\":8},\"showarrow\":false,\"text\":\"-0.0\",\"x\":\"Mods\",\"xref\":\"x\",\"y\":\"VR Support\",\"yref\":\"y\"},{\"font\":{\"color\":\"#FFFFFF\",\"size\":8},\"showarrow\":false,\"text\":\"-0.0\",\"x\":\"Mods (require HL2)\",\"xref\":\"x\",\"y\":\"VR Support\",\"yref\":\"y\"},{\"font\":{\"color\":\"#FFFFFF\",\"size\":8},\"showarrow\":false,\"text\":\"0.0\",\"x\":\"Steam Turn Notifications\",\"xref\":\"x\",\"y\":\"VR Support\",\"yref\":\"y\"},{\"font\":{\"color\":\"#FFFFFF\",\"size\":8},\"showarrow\":false,\"text\":\"0.02\",\"x\":\"Multi-player\",\"xref\":\"x\",\"y\":\"Mods\",\"yref\":\"y\"},{\"font\":{\"color\":\"#FFFFFF\",\"size\":8},\"showarrow\":false,\"text\":\"0.01\",\"x\":\"Online Multi-Player\",\"xref\":\"x\",\"y\":\"Mods\",\"yref\":\"y\"},{\"font\":{\"color\":\"#FFFFFF\",\"size\":8},\"showarrow\":false,\"text\":\"-0.0\",\"x\":\"Local Multi-Player\",\"xref\":\"x\",\"y\":\"Mods\",\"yref\":\"y\"},{\"font\":{\"color\":\"#FFFFFF\",\"size\":8},\"showarrow\":false,\"text\":\"0.15\",\"x\":\"Valve Anti-Cheat enabled\",\"xref\":\"x\",\"y\":\"Mods\",\"yref\":\"y\"},{\"font\":{\"color\":\"#FFFFFF\",\"size\":8},\"showarrow\":false,\"text\":\"-0.04\",\"x\":\"Single-player\",\"xref\":\"x\",\"y\":\"Mods\",\"yref\":\"y\"},{\"font\":{\"color\":\"#FFFFFF\",\"size\":8},\"showarrow\":false,\"text\":\"0.01\",\"x\":\"Steam Cloud\",\"xref\":\"x\",\"y\":\"Mods\",\"yref\":\"y\"},{\"font\":{\"color\":\"#FFFFFF\",\"size\":8},\"showarrow\":false,\"text\":\"0.01\",\"x\":\"Steam Achievements\",\"xref\":\"x\",\"y\":\"Mods\",\"yref\":\"y\"},{\"font\":{\"color\":\"#FFFFFF\",\"size\":8},\"showarrow\":false,\"text\":\"-0.01\",\"x\":\"Steam Trading Cards\",\"xref\":\"x\",\"y\":\"Mods\",\"yref\":\"y\"},{\"font\":{\"color\":\"#FFFFFF\",\"size\":8},\"showarrow\":false,\"text\":\"-0.0\",\"x\":\"Captions available\",\"xref\":\"x\",\"y\":\"Mods\",\"yref\":\"y\"},{\"font\":{\"color\":\"#FFFFFF\",\"size\":8},\"showarrow\":false,\"text\":\"-0.0\",\"x\":\"Partial Controller Support\",\"xref\":\"x\",\"y\":\"Mods\",\"yref\":\"y\"},{\"font\":{\"color\":\"#FFFFFF\",\"size\":8},\"showarrow\":false,\"text\":\"0.24\",\"x\":\"Includes Source SDK\",\"xref\":\"x\",\"y\":\"Mods\",\"yref\":\"y\"},{\"font\":{\"color\":\"#FFFFFF\",\"size\":8},\"showarrow\":false,\"text\":\"0.02\",\"x\":\"Cross-Platform Multiplayer\",\"xref\":\"x\",\"y\":\"Mods\",\"yref\":\"y\"},{\"font\":{\"color\":\"#FFFFFF\",\"size\":8},\"showarrow\":false,\"text\":\"0.01\",\"x\":\"Stats\",\"xref\":\"x\",\"y\":\"Mods\",\"yref\":\"y\"},{\"font\":{\"color\":\"#FFFFFF\",\"size\":8},\"showarrow\":false,\"text\":\"-0.0\",\"x\":\"Commentary available\",\"xref\":\"x\",\"y\":\"Mods\",\"yref\":\"y\"},{\"font\":{\"color\":\"#FFFFFF\",\"size\":8},\"showarrow\":false,\"text\":\"0.04\",\"x\":\"Includes level editor\",\"xref\":\"x\",\"y\":\"Mods\",\"yref\":\"y\"},{\"font\":{\"color\":\"#FFFFFF\",\"size\":8},\"showarrow\":false,\"text\":\"0.05\",\"x\":\"Steam Workshop\",\"xref\":\"x\",\"y\":\"Mods\",\"yref\":\"y\"},{\"font\":{\"color\":\"#FFFFFF\",\"size\":8},\"showarrow\":false,\"text\":\"-0.0\",\"x\":\"In-App Purchases\",\"xref\":\"x\",\"y\":\"Mods\",\"yref\":\"y\"},{\"font\":{\"color\":\"#FFFFFF\",\"size\":8},\"showarrow\":false,\"text\":\"0.01\",\"x\":\"Co-op\",\"xref\":\"x\",\"y\":\"Mods\",\"yref\":\"y\"},{\"font\":{\"color\":\"#FFFFFF\",\"size\":8},\"showarrow\":false,\"text\":\"-0.0\",\"x\":\"Full controller support\",\"xref\":\"x\",\"y\":\"Mods\",\"yref\":\"y\"},{\"font\":{\"color\":\"#FFFFFF\",\"size\":8},\"showarrow\":false,\"text\":\"-0.0\",\"x\":\"Steam Leaderboards\",\"xref\":\"x\",\"y\":\"Mods\",\"yref\":\"y\"},{\"font\":{\"color\":\"#FFFFFF\",\"size\":8},\"showarrow\":false,\"text\":\"-0.0\",\"x\":\"SteamVR Collectibles\",\"xref\":\"x\",\"y\":\"Mods\",\"yref\":\"y\"},{\"font\":{\"color\":\"#FFFFFF\",\"size\":8},\"showarrow\":false,\"text\":\"-0.0\",\"x\":\"Online Co-op\",\"xref\":\"x\",\"y\":\"Mods\",\"yref\":\"y\"},{\"font\":{\"color\":\"#FFFFFF\",\"size\":8},\"showarrow\":false,\"text\":\"-0.0\",\"x\":\"Shared/Split Screen\",\"xref\":\"x\",\"y\":\"Mods\",\"yref\":\"y\"},{\"font\":{\"color\":\"#FFFFFF\",\"size\":8},\"showarrow\":false,\"text\":\"-0.0\",\"x\":\"Local Co-op\",\"xref\":\"x\",\"y\":\"Mods\",\"yref\":\"y\"},{\"font\":{\"color\":\"#FFFFFF\",\"size\":8},\"showarrow\":false,\"text\":\"-0.0\",\"x\":\"MMO\",\"xref\":\"x\",\"y\":\"Mods\",\"yref\":\"y\"},{\"font\":{\"color\":\"#FFFFFF\",\"size\":8},\"showarrow\":false,\"text\":\"-0.0\",\"x\":\"VR Support\",\"xref\":\"x\",\"y\":\"Mods\",\"yref\":\"y\"},{\"font\":{\"color\":\"#FFFFFF\",\"size\":8},\"showarrow\":false,\"text\":\"1.0\",\"x\":\"Mods\",\"xref\":\"x\",\"y\":\"Mods\",\"yref\":\"y\"},{\"font\":{\"color\":\"#FFFFFF\",\"size\":8},\"showarrow\":false,\"text\":\"0.71\",\"x\":\"Mods (require HL2)\",\"xref\":\"x\",\"y\":\"Mods\",\"yref\":\"y\"},{\"font\":{\"color\":\"#FFFFFF\",\"size\":8},\"showarrow\":false,\"text\":\"-0.0\",\"x\":\"Steam Turn Notifications\",\"xref\":\"x\",\"y\":\"Mods\",\"yref\":\"y\"},{\"font\":{\"color\":\"#FFFFFF\",\"size\":8},\"showarrow\":false,\"text\":\"0.01\",\"x\":\"Multi-player\",\"xref\":\"x\",\"y\":\"Mods (require HL2)\",\"yref\":\"y\"},{\"font\":{\"color\":\"#FFFFFF\",\"size\":8},\"showarrow\":false,\"text\":\"-0.0\",\"x\":\"Online Multi-Player\",\"xref\":\"x\",\"y\":\"Mods (require HL2)\",\"yref\":\"y\"},{\"font\":{\"color\":\"#FFFFFF\",\"size\":8},\"showarrow\":false,\"text\":\"-0.0\",\"x\":\"Local Multi-Player\",\"xref\":\"x\",\"y\":\"Mods (require HL2)\",\"yref\":\"y\"},{\"font\":{\"color\":\"#FFFFFF\",\"size\":8},\"showarrow\":false,\"text\":\"0.1\",\"x\":\"Valve Anti-Cheat enabled\",\"xref\":\"x\",\"y\":\"Mods (require HL2)\",\"yref\":\"y\"},{\"font\":{\"color\":\"#FFFFFF\",\"size\":8},\"showarrow\":false,\"text\":\"-0.03\",\"x\":\"Single-player\",\"xref\":\"x\",\"y\":\"Mods (require HL2)\",\"yref\":\"y\"},{\"font\":{\"color\":\"#FFFFFF\",\"size\":8},\"showarrow\":false,\"text\":\"0.01\",\"x\":\"Steam Cloud\",\"xref\":\"x\",\"y\":\"Mods (require HL2)\",\"yref\":\"y\"},{\"font\":{\"color\":\"#FFFFFF\",\"size\":8},\"showarrow\":false,\"text\":\"0.01\",\"x\":\"Steam Achievements\",\"xref\":\"x\",\"y\":\"Mods (require HL2)\",\"yref\":\"y\"},{\"font\":{\"color\":\"#FFFFFF\",\"size\":8},\"showarrow\":false,\"text\":\"-0.0\",\"x\":\"Steam Trading Cards\",\"xref\":\"x\",\"y\":\"Mods (require HL2)\",\"yref\":\"y\"},{\"font\":{\"color\":\"#FFFFFF\",\"size\":8},\"showarrow\":false,\"text\":\"-0.0\",\"x\":\"Captions available\",\"xref\":\"x\",\"y\":\"Mods (require HL2)\",\"yref\":\"y\"},{\"font\":{\"color\":\"#FFFFFF\",\"size\":8},\"showarrow\":false,\"text\":\"-0.0\",\"x\":\"Partial Controller Support\",\"xref\":\"x\",\"y\":\"Mods (require HL2)\",\"yref\":\"y\"},{\"font\":{\"color\":\"#FFFFFF\",\"size\":8},\"showarrow\":false,\"text\":\"0.17\",\"x\":\"Includes Source SDK\",\"xref\":\"x\",\"y\":\"Mods (require HL2)\",\"yref\":\"y\"},{\"font\":{\"color\":\"#FFFFFF\",\"size\":8},\"showarrow\":false,\"text\":\"-0.0\",\"x\":\"Cross-Platform Multiplayer\",\"xref\":\"x\",\"y\":\"Mods (require HL2)\",\"yref\":\"y\"},{\"font\":{\"color\":\"#FFFFFF\",\"size\":8},\"showarrow\":false,\"text\":\"-0.0\",\"x\":\"Stats\",\"xref\":\"x\",\"y\":\"Mods (require HL2)\",\"yref\":\"y\"},{\"font\":{\"color\":\"#FFFFFF\",\"size\":8},\"showarrow\":false,\"text\":\"-0.0\",\"x\":\"Commentary available\",\"xref\":\"x\",\"y\":\"Mods (require HL2)\",\"yref\":\"y\"},{\"font\":{\"color\":\"#FFFFFF\",\"size\":8},\"showarrow\":false,\"text\":\"0.03\",\"x\":\"Includes level editor\",\"xref\":\"x\",\"y\":\"Mods (require HL2)\",\"yref\":\"y\"},{\"font\":{\"color\":\"#FFFFFF\",\"size\":8},\"showarrow\":false,\"text\":\"0.03\",\"x\":\"Steam Workshop\",\"xref\":\"x\",\"y\":\"Mods (require HL2)\",\"yref\":\"y\"},{\"font\":{\"color\":\"#FFFFFF\",\"size\":8},\"showarrow\":false,\"text\":\"-0.0\",\"x\":\"In-App Purchases\",\"xref\":\"x\",\"y\":\"Mods (require HL2)\",\"yref\":\"y\"},{\"font\":{\"color\":\"#FFFFFF\",\"size\":8},\"showarrow\":false,\"text\":\"0.02\",\"x\":\"Co-op\",\"xref\":\"x\",\"y\":\"Mods (require HL2)\",\"yref\":\"y\"},{\"font\":{\"color\":\"#FFFFFF\",\"size\":8},\"showarrow\":false,\"text\":\"-0.0\",\"x\":\"Full controller support\",\"xref\":\"x\",\"y\":\"Mods (require HL2)\",\"yref\":\"y\"},{\"font\":{\"color\":\"#FFFFFF\",\"size\":8},\"showarrow\":false,\"text\":\"-0.0\",\"x\":\"Steam Leaderboards\",\"xref\":\"x\",\"y\":\"Mods (require HL2)\",\"yref\":\"y\"},{\"font\":{\"color\":\"#FFFFFF\",\"size\":8},\"showarrow\":false,\"text\":\"-0.0\",\"x\":\"SteamVR Collectibles\",\"xref\":\"x\",\"y\":\"Mods (require HL2)\",\"yref\":\"y\"},{\"font\":{\"color\":\"#FFFFFF\",\"size\":8},\"showarrow\":false,\"text\":\"-0.0\",\"x\":\"Online Co-op\",\"xref\":\"x\",\"y\":\"Mods (require HL2)\",\"yref\":\"y\"},{\"font\":{\"color\":\"#FFFFFF\",\"size\":8},\"showarrow\":false,\"text\":\"-0.0\",\"x\":\"Shared/Split Screen\",\"xref\":\"x\",\"y\":\"Mods (require HL2)\",\"yref\":\"y\"},{\"font\":{\"color\":\"#FFFFFF\",\"size\":8},\"showarrow\":false,\"text\":\"-0.0\",\"x\":\"Local Co-op\",\"xref\":\"x\",\"y\":\"Mods (require HL2)\",\"yref\":\"y\"},{\"font\":{\"color\":\"#FFFFFF\",\"size\":8},\"showarrow\":false,\"text\":\"-0.0\",\"x\":\"MMO\",\"xref\":\"x\",\"y\":\"Mods (require HL2)\",\"yref\":\"y\"},{\"font\":{\"color\":\"#FFFFFF\",\"size\":8},\"showarrow\":false,\"text\":\"-0.0\",\"x\":\"VR Support\",\"xref\":\"x\",\"y\":\"Mods (require HL2)\",\"yref\":\"y\"},{\"font\":{\"color\":\"#FFFFFF\",\"size\":8},\"showarrow\":false,\"text\":\"0.71\",\"x\":\"Mods\",\"xref\":\"x\",\"y\":\"Mods (require HL2)\",\"yref\":\"y\"},{\"font\":{\"color\":\"#FFFFFF\",\"size\":8},\"showarrow\":false,\"text\":\"1.0\",\"x\":\"Mods (require HL2)\",\"xref\":\"x\",\"y\":\"Mods (require HL2)\",\"yref\":\"y\"},{\"font\":{\"color\":\"#FFFFFF\",\"size\":8},\"showarrow\":false,\"text\":\"-0.0\",\"x\":\"Steam Turn Notifications\",\"xref\":\"x\",\"y\":\"Mods (require HL2)\",\"yref\":\"y\"},{\"font\":{\"color\":\"#FFFFFF\",\"size\":8},\"showarrow\":false,\"text\":\"0.08\",\"x\":\"Multi-player\",\"xref\":\"x\",\"y\":\"Steam Turn Notifications\",\"yref\":\"y\"},{\"font\":{\"color\":\"#FFFFFF\",\"size\":8},\"showarrow\":false,\"text\":\"0.06\",\"x\":\"Online Multi-Player\",\"xref\":\"x\",\"y\":\"Steam Turn Notifications\",\"yref\":\"y\"},{\"font\":{\"color\":\"#FFFFFF\",\"size\":8},\"showarrow\":false,\"text\":\"0.06\",\"x\":\"Local Multi-Player\",\"xref\":\"x\",\"y\":\"Steam Turn Notifications\",\"yref\":\"y\"},{\"font\":{\"color\":\"#FFFFFF\",\"size\":8},\"showarrow\":false,\"text\":\"-0.0\",\"x\":\"Valve Anti-Cheat enabled\",\"xref\":\"x\",\"y\":\"Steam Turn Notifications\",\"yref\":\"y\"},{\"font\":{\"color\":\"#FFFFFF\",\"size\":8},\"showarrow\":false,\"text\":\"-0.01\",\"x\":\"Single-player\",\"xref\":\"x\",\"y\":\"Steam Turn Notifications\",\"yref\":\"y\"},{\"font\":{\"color\":\"#FFFFFF\",\"size\":8},\"showarrow\":false,\"text\":\"0.02\",\"x\":\"Steam Cloud\",\"xref\":\"x\",\"y\":\"Steam Turn Notifications\",\"yref\":\"y\"},{\"font\":{\"color\":\"#FFFFFF\",\"size\":8},\"showarrow\":false,\"text\":\"0.03\",\"x\":\"Steam Achievements\",\"xref\":\"x\",\"y\":\"Steam Turn Notifications\",\"yref\":\"y\"},{\"font\":{\"color\":\"#FFFFFF\",\"size\":8},\"showarrow\":false,\"text\":\"0.03\",\"x\":\"Steam Trading Cards\",\"xref\":\"x\",\"y\":\"Steam Turn Notifications\",\"yref\":\"y\"},{\"font\":{\"color\":\"#FFFFFF\",\"size\":8},\"showarrow\":false,\"text\":\"0.0\",\"x\":\"Captions available\",\"xref\":\"x\",\"y\":\"Steam Turn Notifications\",\"yref\":\"y\"},{\"font\":{\"color\":\"#FFFFFF\",\"size\":8},\"showarrow\":false,\"text\":\"-0.02\",\"x\":\"Partial Controller Support\",\"xref\":\"x\",\"y\":\"Steam Turn Notifications\",\"yref\":\"y\"},{\"font\":{\"color\":\"#FFFFFF\",\"size\":8},\"showarrow\":false,\"text\":\"0.02\",\"x\":\"Includes Source SDK\",\"xref\":\"x\",\"y\":\"Steam Turn Notifications\",\"yref\":\"y\"},{\"font\":{\"color\":\"#FFFFFF\",\"size\":8},\"showarrow\":false,\"text\":\"0.12\",\"x\":\"Cross-Platform Multiplayer\",\"xref\":\"x\",\"y\":\"Steam Turn Notifications\",\"yref\":\"y\"},{\"font\":{\"color\":\"#FFFFFF\",\"size\":8},\"showarrow\":false,\"text\":\"0.06\",\"x\":\"Stats\",\"xref\":\"x\",\"y\":\"Steam Turn Notifications\",\"yref\":\"y\"},{\"font\":{\"color\":\"#FFFFFF\",\"size\":8},\"showarrow\":false,\"text\":\"0.03\",\"x\":\"Commentary available\",\"xref\":\"x\",\"y\":\"Steam Turn Notifications\",\"yref\":\"y\"},{\"font\":{\"color\":\"#FFFFFF\",\"size\":8},\"showarrow\":false,\"text\":\"0.03\",\"x\":\"Includes level editor\",\"xref\":\"x\",\"y\":\"Steam Turn Notifications\",\"yref\":\"y\"},{\"font\":{\"color\":\"#FFFFFF\",\"size\":8},\"showarrow\":false,\"text\":\"0.02\",\"x\":\"Steam Workshop\",\"xref\":\"x\",\"y\":\"Steam Turn Notifications\",\"yref\":\"y\"},{\"font\":{\"color\":\"#FFFFFF\",\"size\":8},\"showarrow\":false,\"text\":\"0.03\",\"x\":\"In-App Purchases\",\"xref\":\"x\",\"y\":\"Steam Turn Notifications\",\"yref\":\"y\"},{\"font\":{\"color\":\"#FFFFFF\",\"size\":8},\"showarrow\":false,\"text\":\"0.01\",\"x\":\"Co-op\",\"xref\":\"x\",\"y\":\"Steam Turn Notifications\",\"yref\":\"y\"},{\"font\":{\"color\":\"#FFFFFF\",\"size\":8},\"showarrow\":false,\"text\":\"0.02\",\"x\":\"Full controller support\",\"xref\":\"x\",\"y\":\"Steam Turn Notifications\",\"yref\":\"y\"},{\"font\":{\"color\":\"#FFFFFF\",\"size\":8},\"showarrow\":false,\"text\":\"0.04\",\"x\":\"Steam Leaderboards\",\"xref\":\"x\",\"y\":\"Steam Turn Notifications\",\"yref\":\"y\"},{\"font\":{\"color\":\"#FFFFFF\",\"size\":8},\"showarrow\":false,\"text\":\"-0.0\",\"x\":\"SteamVR Collectibles\",\"xref\":\"x\",\"y\":\"Steam Turn Notifications\",\"yref\":\"y\"},{\"font\":{\"color\":\"#FFFFFF\",\"size\":8},\"showarrow\":false,\"text\":\"0.01\",\"x\":\"Online Co-op\",\"xref\":\"x\",\"y\":\"Steam Turn Notifications\",\"yref\":\"y\"},{\"font\":{\"color\":\"#FFFFFF\",\"size\":8},\"showarrow\":false,\"text\":\"0.04\",\"x\":\"Shared/Split Screen\",\"xref\":\"x\",\"y\":\"Steam Turn Notifications\",\"yref\":\"y\"},{\"font\":{\"color\":\"#FFFFFF\",\"size\":8},\"showarrow\":false,\"text\":\"0.01\",\"x\":\"Local Co-op\",\"xref\":\"x\",\"y\":\"Steam Turn Notifications\",\"yref\":\"y\"},{\"font\":{\"color\":\"#FFFFFF\",\"size\":8},\"showarrow\":false,\"text\":\"0.01\",\"x\":\"MMO\",\"xref\":\"x\",\"y\":\"Steam Turn Notifications\",\"yref\":\"y\"},{\"font\":{\"color\":\"#FFFFFF\",\"size\":8},\"showarrow\":false,\"text\":\"0.0\",\"x\":\"VR Support\",\"xref\":\"x\",\"y\":\"Steam Turn Notifications\",\"yref\":\"y\"},{\"font\":{\"color\":\"#FFFFFF\",\"size\":8},\"showarrow\":false,\"text\":\"-0.0\",\"x\":\"Mods\",\"xref\":\"x\",\"y\":\"Steam Turn Notifications\",\"yref\":\"y\"},{\"font\":{\"color\":\"#FFFFFF\",\"size\":8},\"showarrow\":false,\"text\":\"-0.0\",\"x\":\"Mods (require HL2)\",\"xref\":\"x\",\"y\":\"Steam Turn Notifications\",\"yref\":\"y\"},{\"font\":{\"color\":\"#FFFFFF\",\"size\":8},\"showarrow\":false,\"text\":\"1.0\",\"x\":\"Steam Turn Notifications\",\"xref\":\"x\",\"y\":\"Steam Turn Notifications\",\"yref\":\"y\"}],\"xaxis\":{\"dtick\":1,\"gridcolor\":\"rgb(0, 0, 0)\",\"side\":\"top\",\"ticks\":\"\"},\"yaxis\":{\"dtick\":1,\"ticks\":\"\",\"ticksuffix\":\"  \"},\"template\":{\"data\":{\"histogram2dcontour\":[{\"type\":\"histogram2dcontour\",\"colorbar\":{\"outlinewidth\":0,\"ticks\":\"\"},\"colorscale\":[[0.0,\"#0d0887\"],[0.1111111111111111,\"#46039f\"],[0.2222222222222222,\"#7201a8\"],[0.3333333333333333,\"#9c179e\"],[0.4444444444444444,\"#bd3786\"],[0.5555555555555556,\"#d8576b\"],[0.6666666666666666,\"#ed7953\"],[0.7777777777777778,\"#fb9f3a\"],[0.8888888888888888,\"#fdca26\"],[1.0,\"#f0f921\"]]}],\"choropleth\":[{\"type\":\"choropleth\",\"colorbar\":{\"outlinewidth\":0,\"ticks\":\"\"}}],\"histogram2d\":[{\"type\":\"histogram2d\",\"colorbar\":{\"outlinewidth\":0,\"ticks\":\"\"},\"colorscale\":[[0.0,\"#0d0887\"],[0.1111111111111111,\"#46039f\"],[0.2222222222222222,\"#7201a8\"],[0.3333333333333333,\"#9c179e\"],[0.4444444444444444,\"#bd3786\"],[0.5555555555555556,\"#d8576b\"],[0.6666666666666666,\"#ed7953\"],[0.7777777777777778,\"#fb9f3a\"],[0.8888888888888888,\"#fdca26\"],[1.0,\"#f0f921\"]]}],\"heatmap\":[{\"type\":\"heatmap\",\"colorbar\":{\"outlinewidth\":0,\"ticks\":\"\"},\"colorscale\":[[0.0,\"#0d0887\"],[0.1111111111111111,\"#46039f\"],[0.2222222222222222,\"#7201a8\"],[0.3333333333333333,\"#9c179e\"],[0.4444444444444444,\"#bd3786\"],[0.5555555555555556,\"#d8576b\"],[0.6666666666666666,\"#ed7953\"],[0.7777777777777778,\"#fb9f3a\"],[0.8888888888888888,\"#fdca26\"],[1.0,\"#f0f921\"]]}],\"heatmapgl\":[{\"type\":\"heatmapgl\",\"colorbar\":{\"outlinewidth\":0,\"ticks\":\"\"},\"colorscale\":[[0.0,\"#0d0887\"],[0.1111111111111111,\"#46039f\"],[0.2222222222222222,\"#7201a8\"],[0.3333333333333333,\"#9c179e\"],[0.4444444444444444,\"#bd3786\"],[0.5555555555555556,\"#d8576b\"],[0.6666666666666666,\"#ed7953\"],[0.7777777777777778,\"#fb9f3a\"],[0.8888888888888888,\"#fdca26\"],[1.0,\"#f0f921\"]]}],\"contourcarpet\":[{\"type\":\"contourcarpet\",\"colorbar\":{\"outlinewidth\":0,\"ticks\":\"\"}}],\"contour\":[{\"type\":\"contour\",\"colorbar\":{\"outlinewidth\":0,\"ticks\":\"\"},\"colorscale\":[[0.0,\"#0d0887\"],[0.1111111111111111,\"#46039f\"],[0.2222222222222222,\"#7201a8\"],[0.3333333333333333,\"#9c179e\"],[0.4444444444444444,\"#bd3786\"],[0.5555555555555556,\"#d8576b\"],[0.6666666666666666,\"#ed7953\"],[0.7777777777777778,\"#fb9f3a\"],[0.8888888888888888,\"#fdca26\"],[1.0,\"#f0f921\"]]}],\"surface\":[{\"type\":\"surface\",\"colorbar\":{\"outlinewidth\":0,\"ticks\":\"\"},\"colorscale\":[[0.0,\"#0d0887\"],[0.1111111111111111,\"#46039f\"],[0.2222222222222222,\"#7201a8\"],[0.3333333333333333,\"#9c179e\"],[0.4444444444444444,\"#bd3786\"],[0.5555555555555556,\"#d8576b\"],[0.6666666666666666,\"#ed7953\"],[0.7777777777777778,\"#fb9f3a\"],[0.8888888888888888,\"#fdca26\"],[1.0,\"#f0f921\"]]}],\"mesh3d\":[{\"type\":\"mesh3d\",\"colorbar\":{\"outlinewidth\":0,\"ticks\":\"\"}}],\"scatter\":[{\"fillpattern\":{\"fillmode\":\"overlay\",\"size\":10,\"solidity\":0.2},\"type\":\"scatter\"}],\"parcoords\":[{\"type\":\"parcoords\",\"line\":{\"colorbar\":{\"outlinewidth\":0,\"ticks\":\"\"}}}],\"scatterpolargl\":[{\"type\":\"scatterpolargl\",\"marker\":{\"colorbar\":{\"outlinewidth\":0,\"ticks\":\"\"}}}],\"bar\":[{\"error_x\":{\"color\":\"#2a3f5f\"},\"error_y\":{\"color\":\"#2a3f5f\"},\"marker\":{\"line\":{\"color\":\"#E5ECF6\",\"width\":0.5},\"pattern\":{\"fillmode\":\"overlay\",\"size\":10,\"solidity\":0.2}},\"type\":\"bar\"}],\"scattergeo\":[{\"type\":\"scattergeo\",\"marker\":{\"colorbar\":{\"outlinewidth\":0,\"ticks\":\"\"}}}],\"scatterpolar\":[{\"type\":\"scatterpolar\",\"marker\":{\"colorbar\":{\"outlinewidth\":0,\"ticks\":\"\"}}}],\"histogram\":[{\"marker\":{\"pattern\":{\"fillmode\":\"overlay\",\"size\":10,\"solidity\":0.2}},\"type\":\"histogram\"}],\"scattergl\":[{\"type\":\"scattergl\",\"marker\":{\"colorbar\":{\"outlinewidth\":0,\"ticks\":\"\"}}}],\"scatter3d\":[{\"type\":\"scatter3d\",\"line\":{\"colorbar\":{\"outlinewidth\":0,\"ticks\":\"\"}},\"marker\":{\"colorbar\":{\"outlinewidth\":0,\"ticks\":\"\"}}}],\"scattermapbox\":[{\"type\":\"scattermapbox\",\"marker\":{\"colorbar\":{\"outlinewidth\":0,\"ticks\":\"\"}}}],\"scatterternary\":[{\"type\":\"scatterternary\",\"marker\":{\"colorbar\":{\"outlinewidth\":0,\"ticks\":\"\"}}}],\"scattercarpet\":[{\"type\":\"scattercarpet\",\"marker\":{\"colorbar\":{\"outlinewidth\":0,\"ticks\":\"\"}}}],\"carpet\":[{\"aaxis\":{\"endlinecolor\":\"#2a3f5f\",\"gridcolor\":\"white\",\"linecolor\":\"white\",\"minorgridcolor\":\"white\",\"startlinecolor\":\"#2a3f5f\"},\"baxis\":{\"endlinecolor\":\"#2a3f5f\",\"gridcolor\":\"white\",\"linecolor\":\"white\",\"minorgridcolor\":\"white\",\"startlinecolor\":\"#2a3f5f\"},\"type\":\"carpet\"}],\"table\":[{\"cells\":{\"fill\":{\"color\":\"#EBF0F8\"},\"line\":{\"color\":\"white\"}},\"header\":{\"fill\":{\"color\":\"#C8D4E3\"},\"line\":{\"color\":\"white\"}},\"type\":\"table\"}],\"barpolar\":[{\"marker\":{\"line\":{\"color\":\"#E5ECF6\",\"width\":0.5},\"pattern\":{\"fillmode\":\"overlay\",\"size\":10,\"solidity\":0.2}},\"type\":\"barpolar\"}],\"pie\":[{\"automargin\":true,\"type\":\"pie\"}]},\"layout\":{\"autotypenumbers\":\"strict\",\"colorway\":[\"#636efa\",\"#EF553B\",\"#00cc96\",\"#ab63fa\",\"#FFA15A\",\"#19d3f3\",\"#FF6692\",\"#B6E880\",\"#FF97FF\",\"#FECB52\"],\"font\":{\"color\":\"#2a3f5f\"},\"hovermode\":\"closest\",\"hoverlabel\":{\"align\":\"left\"},\"paper_bgcolor\":\"white\",\"plot_bgcolor\":\"#E5ECF6\",\"polar\":{\"bgcolor\":\"#E5ECF6\",\"angularaxis\":{\"gridcolor\":\"white\",\"linecolor\":\"white\",\"ticks\":\"\"},\"radialaxis\":{\"gridcolor\":\"white\",\"linecolor\":\"white\",\"ticks\":\"\"}},\"ternary\":{\"bgcolor\":\"#E5ECF6\",\"aaxis\":{\"gridcolor\":\"white\",\"linecolor\":\"white\",\"ticks\":\"\"},\"baxis\":{\"gridcolor\":\"white\",\"linecolor\":\"white\",\"ticks\":\"\"},\"caxis\":{\"gridcolor\":\"white\",\"linecolor\":\"white\",\"ticks\":\"\"}},\"coloraxis\":{\"colorbar\":{\"outlinewidth\":0,\"ticks\":\"\"}},\"colorscale\":{\"sequential\":[[0.0,\"#0d0887\"],[0.1111111111111111,\"#46039f\"],[0.2222222222222222,\"#7201a8\"],[0.3333333333333333,\"#9c179e\"],[0.4444444444444444,\"#bd3786\"],[0.5555555555555556,\"#d8576b\"],[0.6666666666666666,\"#ed7953\"],[0.7777777777777778,\"#fb9f3a\"],[0.8888888888888888,\"#fdca26\"],[1.0,\"#f0f921\"]],\"sequentialminus\":[[0.0,\"#0d0887\"],[0.1111111111111111,\"#46039f\"],[0.2222222222222222,\"#7201a8\"],[0.3333333333333333,\"#9c179e\"],[0.4444444444444444,\"#bd3786\"],[0.5555555555555556,\"#d8576b\"],[0.6666666666666666,\"#ed7953\"],[0.7777777777777778,\"#fb9f3a\"],[0.8888888888888888,\"#fdca26\"],[1.0,\"#f0f921\"]],\"diverging\":[[0,\"#8e0152\"],[0.1,\"#c51b7d\"],[0.2,\"#de77ae\"],[0.3,\"#f1b6da\"],[0.4,\"#fde0ef\"],[0.5,\"#f7f7f7\"],[0.6,\"#e6f5d0\"],[0.7,\"#b8e186\"],[0.8,\"#7fbc41\"],[0.9,\"#4d9221\"],[1,\"#276419\"]]},\"xaxis\":{\"gridcolor\":\"white\",\"linecolor\":\"white\",\"ticks\":\"\",\"title\":{\"standoff\":15},\"zerolinecolor\":\"white\",\"automargin\":true,\"zerolinewidth\":2},\"yaxis\":{\"gridcolor\":\"white\",\"linecolor\":\"white\",\"ticks\":\"\",\"title\":{\"standoff\":15},\"zerolinecolor\":\"white\",\"automargin\":true,\"zerolinewidth\":2},\"scene\":{\"xaxis\":{\"backgroundcolor\":\"#E5ECF6\",\"gridcolor\":\"white\",\"linecolor\":\"white\",\"showbackground\":true,\"ticks\":\"\",\"zerolinecolor\":\"white\",\"gridwidth\":2},\"yaxis\":{\"backgroundcolor\":\"#E5ECF6\",\"gridcolor\":\"white\",\"linecolor\":\"white\",\"showbackground\":true,\"ticks\":\"\",\"zerolinecolor\":\"white\",\"gridwidth\":2},\"zaxis\":{\"backgroundcolor\":\"#E5ECF6\",\"gridcolor\":\"white\",\"linecolor\":\"white\",\"showbackground\":true,\"ticks\":\"\",\"zerolinecolor\":\"white\",\"gridwidth\":2}},\"shapedefaults\":{\"line\":{\"color\":\"#2a3f5f\"}},\"annotationdefaults\":{\"arrowcolor\":\"#2a3f5f\",\"arrowhead\":0,\"arrowwidth\":1},\"geo\":{\"bgcolor\":\"white\",\"landcolor\":\"#E5ECF6\",\"subunitcolor\":\"white\",\"showland\":true,\"showlakes\":true,\"lakecolor\":\"white\"},\"title\":{\"x\":0.05},\"mapbox\":{\"style\":\"light\"}}}},                        {\"responsive\": true}                    ).then(function(){\n",
       "                            \n",
       "var gd = document.getElementById('6ef06673-f49c-4f28-88ba-7cb548b4b948');\n",
       "var x = new MutationObserver(function (mutations, observer) {{\n",
       "        var display = window.getComputedStyle(gd).display;\n",
       "        if (!display || display === 'none') {{\n",
       "            console.log([gd, 'removed!']);\n",
       "            Plotly.purge(gd);\n",
       "            observer.disconnect();\n",
       "        }}\n",
       "}});\n",
       "\n",
       "// Listen for the removal of the full notebook cells\n",
       "var notebookContainer = gd.closest('#notebook-container');\n",
       "if (notebookContainer) {{\n",
       "    x.observe(notebookContainer, {childList: true});\n",
       "}}\n",
       "\n",
       "// Listen for the clearing of the current output cell\n",
       "var outputEl = gd.closest('.output');\n",
       "if (outputEl) {{\n",
       "    x.observe(outputEl, {childList: true});\n",
       "}}\n",
       "\n",
       "                        })                };                });            </script>        </div>"
      ]
     },
     "metadata": {},
     "output_type": "display_data"
    }
   ],
   "source": [
    "dfCorr = eda_df.corr()\n",
    "fig = ff.create_annotated_heatmap(\n",
    "    z=dfCorr.values,\n",
    "    x=list(dfCorr.columns),\n",
    "    y=list(dfCorr.index),\n",
    "    colorscale=px.colors.diverging.RdBu,\n",
    "    annotation_text=dfCorr.round(2).values,\n",
    "    showscale=True, reversescale=True)\n",
    "\n",
    "for i in range(len(fig.layout.annotations)):\n",
    "    fig.layout.annotations[i].font.size = 8\n",
    "\n",
    "#plt.rcParams['figure.figsize'] = [100, 30]\n",
    "fig.show()"
   ]
  },
  {
   "cell_type": "code",
   "execution_count": 167,
   "id": "2d77b7be",
   "metadata": {},
   "outputs": [
    {
     "data": {
      "text/html": [
       "<div>\n",
       "<style scoped>\n",
       "    .dataframe tbody tr th:only-of-type {\n",
       "        vertical-align: middle;\n",
       "    }\n",
       "\n",
       "    .dataframe tbody tr th {\n",
       "        vertical-align: top;\n",
       "    }\n",
       "\n",
       "    .dataframe thead th {\n",
       "        text-align: right;\n",
       "    }\n",
       "</style>\n",
       "<table border=\"1\" class=\"dataframe\">\n",
       "  <thead>\n",
       "    <tr style=\"text-align: right;\">\n",
       "      <th></th>\n",
       "      <th>name</th>\n",
       "      <th>genres</th>\n",
       "      <th>achievements</th>\n",
       "      <th>positive_ratings</th>\n",
       "      <th>negative_ratings</th>\n",
       "      <th>average_playtime</th>\n",
       "      <th>median_playtime</th>\n",
       "      <th>owners</th>\n",
       "      <th>price</th>\n",
       "      <th>Multi-player</th>\n",
       "      <th>...</th>\n",
       "      <th>SteamVR Collectibles</th>\n",
       "      <th>Online Co-op</th>\n",
       "      <th>Shared/Split Screen</th>\n",
       "      <th>Local Co-op</th>\n",
       "      <th>MMO</th>\n",
       "      <th>VR Support</th>\n",
       "      <th>Mods</th>\n",
       "      <th>Mods (require HL2)</th>\n",
       "      <th>Steam Turn Notifications</th>\n",
       "      <th>age</th>\n",
       "    </tr>\n",
       "  </thead>\n",
       "  <tbody>\n",
       "    <tr>\n",
       "      <th>0</th>\n",
       "      <td>Counter-Strike</td>\n",
       "      <td>Action</td>\n",
       "      <td>0</td>\n",
       "      <td>124534</td>\n",
       "      <td>3339</td>\n",
       "      <td>17612</td>\n",
       "      <td>317</td>\n",
       "      <td>15000000</td>\n",
       "      <td>7.19</td>\n",
       "      <td>1</td>\n",
       "      <td>...</td>\n",
       "      <td>0</td>\n",
       "      <td>0</td>\n",
       "      <td>0</td>\n",
       "      <td>0</td>\n",
       "      <td>0</td>\n",
       "      <td>0</td>\n",
       "      <td>0</td>\n",
       "      <td>0</td>\n",
       "      <td>0</td>\n",
       "      <td>8461</td>\n",
       "    </tr>\n",
       "    <tr>\n",
       "      <th>1</th>\n",
       "      <td>Team Fortress Classic</td>\n",
       "      <td>Action</td>\n",
       "      <td>0</td>\n",
       "      <td>3318</td>\n",
       "      <td>633</td>\n",
       "      <td>277</td>\n",
       "      <td>62</td>\n",
       "      <td>7500000</td>\n",
       "      <td>3.99</td>\n",
       "      <td>1</td>\n",
       "      <td>...</td>\n",
       "      <td>0</td>\n",
       "      <td>0</td>\n",
       "      <td>0</td>\n",
       "      <td>0</td>\n",
       "      <td>0</td>\n",
       "      <td>0</td>\n",
       "      <td>0</td>\n",
       "      <td>0</td>\n",
       "      <td>0</td>\n",
       "      <td>9041</td>\n",
       "    </tr>\n",
       "    <tr>\n",
       "      <th>2</th>\n",
       "      <td>Day of Defeat</td>\n",
       "      <td>Action</td>\n",
       "      <td>0</td>\n",
       "      <td>3416</td>\n",
       "      <td>398</td>\n",
       "      <td>187</td>\n",
       "      <td>34</td>\n",
       "      <td>7500000</td>\n",
       "      <td>3.99</td>\n",
       "      <td>1</td>\n",
       "      <td>...</td>\n",
       "      <td>0</td>\n",
       "      <td>0</td>\n",
       "      <td>0</td>\n",
       "      <td>0</td>\n",
       "      <td>0</td>\n",
       "      <td>0</td>\n",
       "      <td>0</td>\n",
       "      <td>0</td>\n",
       "      <td>0</td>\n",
       "      <td>7550</td>\n",
       "    </tr>\n",
       "    <tr>\n",
       "      <th>3</th>\n",
       "      <td>Deathmatch Classic</td>\n",
       "      <td>Action</td>\n",
       "      <td>0</td>\n",
       "      <td>1273</td>\n",
       "      <td>267</td>\n",
       "      <td>258</td>\n",
       "      <td>184</td>\n",
       "      <td>7500000</td>\n",
       "      <td>3.99</td>\n",
       "      <td>1</td>\n",
       "      <td>...</td>\n",
       "      <td>0</td>\n",
       "      <td>0</td>\n",
       "      <td>0</td>\n",
       "      <td>0</td>\n",
       "      <td>0</td>\n",
       "      <td>0</td>\n",
       "      <td>0</td>\n",
       "      <td>0</td>\n",
       "      <td>0</td>\n",
       "      <td>8249</td>\n",
       "    </tr>\n",
       "    <tr>\n",
       "      <th>4</th>\n",
       "      <td>Half-Life: Opposing Force</td>\n",
       "      <td>Action</td>\n",
       "      <td>0</td>\n",
       "      <td>5250</td>\n",
       "      <td>288</td>\n",
       "      <td>624</td>\n",
       "      <td>415</td>\n",
       "      <td>7500000</td>\n",
       "      <td>3.99</td>\n",
       "      <td>1</td>\n",
       "      <td>...</td>\n",
       "      <td>0</td>\n",
       "      <td>0</td>\n",
       "      <td>0</td>\n",
       "      <td>0</td>\n",
       "      <td>0</td>\n",
       "      <td>0</td>\n",
       "      <td>0</td>\n",
       "      <td>0</td>\n",
       "      <td>0</td>\n",
       "      <td>8827</td>\n",
       "    </tr>\n",
       "  </tbody>\n",
       "</table>\n",
       "<p>5 rows × 39 columns</p>\n",
       "</div>"
      ],
      "text/plain": [
       "                        name  genres  achievements  positive_ratings  \\\n",
       "0             Counter-Strike  Action             0            124534   \n",
       "1      Team Fortress Classic  Action             0              3318   \n",
       "2              Day of Defeat  Action             0              3416   \n",
       "3         Deathmatch Classic  Action             0              1273   \n",
       "4  Half-Life: Opposing Force  Action             0              5250   \n",
       "\n",
       "   negative_ratings  average_playtime  median_playtime    owners  price  \\\n",
       "0              3339             17612              317  15000000   7.19   \n",
       "1               633               277               62   7500000   3.99   \n",
       "2               398               187               34   7500000   3.99   \n",
       "3               267               258              184   7500000   3.99   \n",
       "4               288               624              415   7500000   3.99   \n",
       "\n",
       "   Multi-player  ...  SteamVR Collectibles  Online Co-op  Shared/Split Screen  \\\n",
       "0             1  ...                     0             0                    0   \n",
       "1             1  ...                     0             0                    0   \n",
       "2             1  ...                     0             0                    0   \n",
       "3             1  ...                     0             0                    0   \n",
       "4             1  ...                     0             0                    0   \n",
       "\n",
       "   Local Co-op  MMO  VR Support  Mods  Mods (require HL2)  \\\n",
       "0            0    0           0     0                   0   \n",
       "1            0    0           0     0                   0   \n",
       "2            0    0           0     0                   0   \n",
       "3            0    0           0     0                   0   \n",
       "4            0    0           0     0                   0   \n",
       "\n",
       "   Steam Turn Notifications   age  \n",
       "0                         0  8461  \n",
       "1                         0  9041  \n",
       "2                         0  7550  \n",
       "3                         0  8249  \n",
       "4                         0  8827  \n",
       "\n",
       "[5 rows x 39 columns]"
      ]
     },
     "execution_count": 167,
     "metadata": {},
     "output_type": "execute_result"
    }
   ],
   "source": [
    "df.head()"
   ]
  },
  {
   "cell_type": "code",
   "execution_count": null,
   "id": "f97900bf",
   "metadata": {},
   "outputs": [],
   "source": []
  },
  {
   "cell_type": "code",
   "execution_count": null,
   "id": "368367e7",
   "metadata": {},
   "outputs": [],
   "source": []
  },
  {
   "cell_type": "code",
   "execution_count": null,
   "id": "175b7cc1",
   "metadata": {},
   "outputs": [],
   "source": []
  },
  {
   "cell_type": "code",
   "execution_count": null,
   "id": "f79166e7",
   "metadata": {},
   "outputs": [],
   "source": []
  }
 ],
 "metadata": {
  "kernelspec": {
   "display_name": "Python 3 (ipykernel)",
   "language": "python",
   "name": "python3"
  },
  "language_info": {
   "codemirror_mode": {
    "name": "ipython",
    "version": 3
   },
   "file_extension": ".py",
   "mimetype": "text/x-python",
   "name": "python",
   "nbconvert_exporter": "python",
   "pygments_lexer": "ipython3",
   "version": "3.11.5"
  }
 },
 "nbformat": 4,
 "nbformat_minor": 5
}
